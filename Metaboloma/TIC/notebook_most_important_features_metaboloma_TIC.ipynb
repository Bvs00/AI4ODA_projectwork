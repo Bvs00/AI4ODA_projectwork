{
 "cells": [
  {
   "cell_type": "markdown",
   "metadata": {},
   "source": [
    "# Try with only important features"
   ]
  },
  {
   "cell_type": "markdown",
   "metadata": {},
   "source": [
    "### Read Data Set"
   ]
  },
  {
   "cell_type": "code",
   "execution_count": 1,
   "metadata": {},
   "outputs": [
    {
     "data": {
      "text/html": [
       "<div>\n",
       "<style scoped>\n",
       "    .dataframe tbody tr th:only-of-type {\n",
       "        vertical-align: middle;\n",
       "    }\n",
       "\n",
       "    .dataframe tbody tr th {\n",
       "        vertical-align: top;\n",
       "    }\n",
       "\n",
       "    .dataframe thead th {\n",
       "        text-align: right;\n",
       "    }\n",
       "</style>\n",
       "<table border=\"1\" class=\"dataframe\">\n",
       "  <thead>\n",
       "    <tr style=\"text-align: right;\">\n",
       "      <th></th>\n",
       "      <th>Aminooctanoic acid</th>\n",
       "      <th>Androsterone sulfate</th>\n",
       "      <th>Arachidonic acid</th>\n",
       "      <th>Arginine</th>\n",
       "      <th>Asymmetric dimethylarginine</th>\n",
       "      <th>Bilirubin</th>\n",
       "      <th>Biliverdin</th>\n",
       "      <th>CAR 10:0</th>\n",
       "      <th>CAR 10:1</th>\n",
       "      <th>CAR 14:1</th>\n",
       "      <th>...</th>\n",
       "      <th>Paraxanthine</th>\n",
       "      <th>Phenylacetylglutamine</th>\n",
       "      <th>Pregnenolone sulfate</th>\n",
       "      <th>Proline betaine</th>\n",
       "      <th>Proline-hydroxyproline</th>\n",
       "      <th>Pseudouridine</th>\n",
       "      <th>Sphingosine 1-phosphate</th>\n",
       "      <th>Taurine</th>\n",
       "      <th>Tyrosine</th>\n",
       "      <th>Urobilinogen</th>\n",
       "    </tr>\n",
       "  </thead>\n",
       "  <tbody>\n",
       "    <tr>\n",
       "      <th>260522_QC 3uL POS_BA2_1_5281</th>\n",
       "      <td>1724.36</td>\n",
       "      <td>36169.2</td>\n",
       "      <td>1791.64</td>\n",
       "      <td>20815.31</td>\n",
       "      <td>18192.06</td>\n",
       "      <td>2352.46</td>\n",
       "      <td>3163.69</td>\n",
       "      <td>41893.68</td>\n",
       "      <td>20112.96</td>\n",
       "      <td>13712.3</td>\n",
       "      <td>...</td>\n",
       "      <td>25095.15</td>\n",
       "      <td>11855.6</td>\n",
       "      <td>7784.79</td>\n",
       "      <td>63059.26</td>\n",
       "      <td>4441.94</td>\n",
       "      <td>2532.3</td>\n",
       "      <td>370.53</td>\n",
       "      <td>4797.76</td>\n",
       "      <td>1558.59</td>\n",
       "      <td>10739.38</td>\n",
       "    </tr>\n",
       "    <tr>\n",
       "      <th>260522_QC 3uL POS_BA2_1_5282</th>\n",
       "      <td>2069.33</td>\n",
       "      <td>NaN</td>\n",
       "      <td>2686.61</td>\n",
       "      <td>18423.92</td>\n",
       "      <td>16191.01</td>\n",
       "      <td>2867.38</td>\n",
       "      <td>2492.91</td>\n",
       "      <td>45853.77</td>\n",
       "      <td>22089.3</td>\n",
       "      <td>13680.64</td>\n",
       "      <td>...</td>\n",
       "      <td>26118.44</td>\n",
       "      <td>12851.29</td>\n",
       "      <td>8463.23</td>\n",
       "      <td>59114.21</td>\n",
       "      <td>4312.64</td>\n",
       "      <td>2706.49</td>\n",
       "      <td>547.05</td>\n",
       "      <td>4898.68</td>\n",
       "      <td>2369.34</td>\n",
       "      <td>10762.16</td>\n",
       "    </tr>\n",
       "    <tr>\n",
       "      <th>260522_QC 3uL POS_BA2_1_5292</th>\n",
       "      <td>2345.91</td>\n",
       "      <td>36445.49</td>\n",
       "      <td>1934.77</td>\n",
       "      <td>18134.45</td>\n",
       "      <td>16500.87</td>\n",
       "      <td>2068.57</td>\n",
       "      <td>2921.83</td>\n",
       "      <td>40248.9</td>\n",
       "      <td>20480.08</td>\n",
       "      <td>14949.6</td>\n",
       "      <td>...</td>\n",
       "      <td>34265.84</td>\n",
       "      <td>16378.96</td>\n",
       "      <td>9249.89</td>\n",
       "      <td>58846.07</td>\n",
       "      <td>4322.24</td>\n",
       "      <td>2988.95</td>\n",
       "      <td>480.28</td>\n",
       "      <td>4262.75</td>\n",
       "      <td>1780.54</td>\n",
       "      <td>10415.68</td>\n",
       "    </tr>\n",
       "    <tr>\n",
       "      <th>260522_QC 3uL POS_BA2_1_5336</th>\n",
       "      <td>2800.96</td>\n",
       "      <td>48072.08</td>\n",
       "      <td>2338.6</td>\n",
       "      <td>NaN</td>\n",
       "      <td>18163.49</td>\n",
       "      <td>1626.92</td>\n",
       "      <td>2426.26</td>\n",
       "      <td>38664.73</td>\n",
       "      <td>19663.5</td>\n",
       "      <td>14294.55</td>\n",
       "      <td>...</td>\n",
       "      <td>32695.32</td>\n",
       "      <td>13010.66</td>\n",
       "      <td>11141.93</td>\n",
       "      <td>68917.94</td>\n",
       "      <td>4249.72</td>\n",
       "      <td>2369.77</td>\n",
       "      <td>604.94</td>\n",
       "      <td>3894.54</td>\n",
       "      <td>1470.27</td>\n",
       "      <td>8576.66</td>\n",
       "    </tr>\n",
       "    <tr>\n",
       "      <th>260522_LC 203_POS_BA3_1_5284</th>\n",
       "      <td>5593.8</td>\n",
       "      <td>8391.23</td>\n",
       "      <td>2555.37</td>\n",
       "      <td>23541.71</td>\n",
       "      <td>25006.24</td>\n",
       "      <td>20973.29</td>\n",
       "      <td>11433.02</td>\n",
       "      <td>101834.45</td>\n",
       "      <td>27948.15</td>\n",
       "      <td>20205.67</td>\n",
       "      <td>...</td>\n",
       "      <td>59383.52</td>\n",
       "      <td>24228.53</td>\n",
       "      <td>2319.81</td>\n",
       "      <td>11698.76</td>\n",
       "      <td>5601.15</td>\n",
       "      <td>2336.02</td>\n",
       "      <td>920.18</td>\n",
       "      <td>4491.4</td>\n",
       "      <td>3273.71</td>\n",
       "      <td>893.61</td>\n",
       "    </tr>\n",
       "    <tr>\n",
       "      <th>...</th>\n",
       "      <td>...</td>\n",
       "      <td>...</td>\n",
       "      <td>...</td>\n",
       "      <td>...</td>\n",
       "      <td>...</td>\n",
       "      <td>...</td>\n",
       "      <td>...</td>\n",
       "      <td>...</td>\n",
       "      <td>...</td>\n",
       "      <td>...</td>\n",
       "      <td>...</td>\n",
       "      <td>...</td>\n",
       "      <td>...</td>\n",
       "      <td>...</td>\n",
       "      <td>...</td>\n",
       "      <td>...</td>\n",
       "      <td>...</td>\n",
       "      <td>...</td>\n",
       "      <td>...</td>\n",
       "      <td>...</td>\n",
       "      <td>...</td>\n",
       "    </tr>\n",
       "    <tr>\n",
       "      <th>260522_HC 019_POS_GE8_1_5367</th>\n",
       "      <td>5082.13</td>\n",
       "      <td>71447.89</td>\n",
       "      <td>2195.48</td>\n",
       "      <td>11581.65</td>\n",
       "      <td>11746.75</td>\n",
       "      <td>2378.9</td>\n",
       "      <td>1772.48</td>\n",
       "      <td>62455.74</td>\n",
       "      <td>40757.8</td>\n",
       "      <td>11739.01</td>\n",
       "      <td>...</td>\n",
       "      <td>95740.05</td>\n",
       "      <td>22130.71</td>\n",
       "      <td>10216.19</td>\n",
       "      <td>16960.19</td>\n",
       "      <td>4379.81</td>\n",
       "      <td>2054.49</td>\n",
       "      <td>1658.98</td>\n",
       "      <td>3282.69</td>\n",
       "      <td>1720.11</td>\n",
       "      <td>1485.28</td>\n",
       "    </tr>\n",
       "    <tr>\n",
       "      <th>260522_HC 020_POS_RA1_1_5368</th>\n",
       "      <td>2560.8</td>\n",
       "      <td>6213.98</td>\n",
       "      <td>2240.19</td>\n",
       "      <td>19817.97</td>\n",
       "      <td>15440.64</td>\n",
       "      <td>3008.33</td>\n",
       "      <td>2334.52</td>\n",
       "      <td>119343.25</td>\n",
       "      <td>55534.63</td>\n",
       "      <td>24819.22</td>\n",
       "      <td>...</td>\n",
       "      <td>43309.66</td>\n",
       "      <td>27068.33</td>\n",
       "      <td>5982.11</td>\n",
       "      <td>8025.66</td>\n",
       "      <td>7901.4</td>\n",
       "      <td>3315.97</td>\n",
       "      <td>981.54</td>\n",
       "      <td>2643.4</td>\n",
       "      <td>2377.65</td>\n",
       "      <td>2736.38</td>\n",
       "    </tr>\n",
       "    <tr>\n",
       "      <th>260522_HC 021_POS_RA7_1_5375</th>\n",
       "      <td>4378.68</td>\n",
       "      <td>NaN</td>\n",
       "      <td>826.61</td>\n",
       "      <td>7058.17</td>\n",
       "      <td>14720.29</td>\n",
       "      <td>5098.76</td>\n",
       "      <td>3060.99</td>\n",
       "      <td>160972.44</td>\n",
       "      <td>40101.87</td>\n",
       "      <td>12816.22</td>\n",
       "      <td>...</td>\n",
       "      <td>31221.78</td>\n",
       "      <td>27424.89</td>\n",
       "      <td>3857.13</td>\n",
       "      <td>74973.58</td>\n",
       "      <td>4896.98</td>\n",
       "      <td>3970.25</td>\n",
       "      <td>766.7</td>\n",
       "      <td>3415.74</td>\n",
       "      <td>2796.12</td>\n",
       "      <td>8934.25</td>\n",
       "    </tr>\n",
       "    <tr>\n",
       "      <th>260522_HC 022_POS_RA8_1_5376</th>\n",
       "      <td>3584.63</td>\n",
       "      <td>106970.46</td>\n",
       "      <td>2322.56</td>\n",
       "      <td>16072.35</td>\n",
       "      <td>15300.35</td>\n",
       "      <td>8262.55</td>\n",
       "      <td>4217.25</td>\n",
       "      <td>75388.84</td>\n",
       "      <td>25210.08</td>\n",
       "      <td>13802.58</td>\n",
       "      <td>...</td>\n",
       "      <td>99036.48</td>\n",
       "      <td>16814.4</td>\n",
       "      <td>10656.49</td>\n",
       "      <td>45065.14</td>\n",
       "      <td>2711.33</td>\n",
       "      <td>2925.63</td>\n",
       "      <td>587.06</td>\n",
       "      <td>4154.92</td>\n",
       "      <td>1176.92</td>\n",
       "      <td>3078.14</td>\n",
       "    </tr>\n",
       "    <tr>\n",
       "      <th>260522_HC 023_POS_RB1_1_5377</th>\n",
       "      <td>4951.34</td>\n",
       "      <td>2153.03</td>\n",
       "      <td>2210.14</td>\n",
       "      <td>15399.16</td>\n",
       "      <td>11328.86</td>\n",
       "      <td>1492.71</td>\n",
       "      <td>883.07</td>\n",
       "      <td>27218.89</td>\n",
       "      <td>15521.81</td>\n",
       "      <td>3820.62</td>\n",
       "      <td>...</td>\n",
       "      <td>10822</td>\n",
       "      <td>8103.98</td>\n",
       "      <td>9143.15</td>\n",
       "      <td>25215.47</td>\n",
       "      <td>4685.3</td>\n",
       "      <td>2824.89</td>\n",
       "      <td>1209.32</td>\n",
       "      <td>3370.63</td>\n",
       "      <td>2494.34</td>\n",
       "      <td>1475.84</td>\n",
       "    </tr>\n",
       "  </tbody>\n",
       "</table>\n",
       "<p>106 rows × 53 columns</p>\n",
       "</div>"
      ],
      "text/plain": [
       "                             Aminooctanoic acid Androsterone sulfate  \\\n",
       "260522_QC 3uL POS_BA2_1_5281            1724.36              36169.2   \n",
       "260522_QC 3uL POS_BA2_1_5282            2069.33                  NaN   \n",
       "260522_QC 3uL POS_BA2_1_5292            2345.91             36445.49   \n",
       "260522_QC 3uL POS_BA2_1_5336            2800.96             48072.08   \n",
       "260522_LC 203_POS_BA3_1_5284             5593.8              8391.23   \n",
       "...                                         ...                  ...   \n",
       "260522_HC 019_POS_GE8_1_5367            5082.13             71447.89   \n",
       "260522_HC 020_POS_RA1_1_5368             2560.8              6213.98   \n",
       "260522_HC 021_POS_RA7_1_5375            4378.68                  NaN   \n",
       "260522_HC 022_POS_RA8_1_5376            3584.63            106970.46   \n",
       "260522_HC 023_POS_RB1_1_5377            4951.34              2153.03   \n",
       "\n",
       "                             Arachidonic acid  Arginine  \\\n",
       "260522_QC 3uL POS_BA2_1_5281          1791.64  20815.31   \n",
       "260522_QC 3uL POS_BA2_1_5282          2686.61  18423.92   \n",
       "260522_QC 3uL POS_BA2_1_5292          1934.77  18134.45   \n",
       "260522_QC 3uL POS_BA2_1_5336           2338.6       NaN   \n",
       "260522_LC 203_POS_BA3_1_5284          2555.37  23541.71   \n",
       "...                                       ...       ...   \n",
       "260522_HC 019_POS_GE8_1_5367          2195.48  11581.65   \n",
       "260522_HC 020_POS_RA1_1_5368          2240.19  19817.97   \n",
       "260522_HC 021_POS_RA7_1_5375           826.61   7058.17   \n",
       "260522_HC 022_POS_RA8_1_5376          2322.56  16072.35   \n",
       "260522_HC 023_POS_RB1_1_5377          2210.14  15399.16   \n",
       "\n",
       "                             Asymmetric dimethylarginine Bilirubin Biliverdin  \\\n",
       "260522_QC 3uL POS_BA2_1_5281                    18192.06   2352.46    3163.69   \n",
       "260522_QC 3uL POS_BA2_1_5282                    16191.01   2867.38    2492.91   \n",
       "260522_QC 3uL POS_BA2_1_5292                    16500.87   2068.57    2921.83   \n",
       "260522_QC 3uL POS_BA2_1_5336                    18163.49   1626.92    2426.26   \n",
       "260522_LC 203_POS_BA3_1_5284                    25006.24  20973.29   11433.02   \n",
       "...                                                  ...       ...        ...   \n",
       "260522_HC 019_POS_GE8_1_5367                    11746.75    2378.9    1772.48   \n",
       "260522_HC 020_POS_RA1_1_5368                    15440.64   3008.33    2334.52   \n",
       "260522_HC 021_POS_RA7_1_5375                    14720.29   5098.76    3060.99   \n",
       "260522_HC 022_POS_RA8_1_5376                    15300.35   8262.55    4217.25   \n",
       "260522_HC 023_POS_RB1_1_5377                    11328.86   1492.71     883.07   \n",
       "\n",
       "                               CAR 10:0  CAR 10:1  CAR 14:1  ... Paraxanthine  \\\n",
       "260522_QC 3uL POS_BA2_1_5281   41893.68  20112.96   13712.3  ...     25095.15   \n",
       "260522_QC 3uL POS_BA2_1_5282   45853.77   22089.3  13680.64  ...     26118.44   \n",
       "260522_QC 3uL POS_BA2_1_5292    40248.9  20480.08   14949.6  ...     34265.84   \n",
       "260522_QC 3uL POS_BA2_1_5336   38664.73   19663.5  14294.55  ...     32695.32   \n",
       "260522_LC 203_POS_BA3_1_5284  101834.45  27948.15  20205.67  ...     59383.52   \n",
       "...                                 ...       ...       ...  ...          ...   \n",
       "260522_HC 019_POS_GE8_1_5367   62455.74   40757.8  11739.01  ...     95740.05   \n",
       "260522_HC 020_POS_RA1_1_5368  119343.25  55534.63  24819.22  ...     43309.66   \n",
       "260522_HC 021_POS_RA7_1_5375  160972.44  40101.87  12816.22  ...     31221.78   \n",
       "260522_HC 022_POS_RA8_1_5376   75388.84  25210.08  13802.58  ...     99036.48   \n",
       "260522_HC 023_POS_RB1_1_5377   27218.89  15521.81   3820.62  ...        10822   \n",
       "\n",
       "                             Phenylacetylglutamine Pregnenolone sulfate  \\\n",
       "260522_QC 3uL POS_BA2_1_5281               11855.6              7784.79   \n",
       "260522_QC 3uL POS_BA2_1_5282              12851.29              8463.23   \n",
       "260522_QC 3uL POS_BA2_1_5292              16378.96              9249.89   \n",
       "260522_QC 3uL POS_BA2_1_5336              13010.66             11141.93   \n",
       "260522_LC 203_POS_BA3_1_5284              24228.53              2319.81   \n",
       "...                                            ...                  ...   \n",
       "260522_HC 019_POS_GE8_1_5367              22130.71             10216.19   \n",
       "260522_HC 020_POS_RA1_1_5368              27068.33              5982.11   \n",
       "260522_HC 021_POS_RA7_1_5375              27424.89              3857.13   \n",
       "260522_HC 022_POS_RA8_1_5376               16814.4             10656.49   \n",
       "260522_HC 023_POS_RB1_1_5377               8103.98              9143.15   \n",
       "\n",
       "                             Proline betaine Proline-hydroxyproline  \\\n",
       "260522_QC 3uL POS_BA2_1_5281        63059.26                4441.94   \n",
       "260522_QC 3uL POS_BA2_1_5282        59114.21                4312.64   \n",
       "260522_QC 3uL POS_BA2_1_5292        58846.07                4322.24   \n",
       "260522_QC 3uL POS_BA2_1_5336        68917.94                4249.72   \n",
       "260522_LC 203_POS_BA3_1_5284        11698.76                5601.15   \n",
       "...                                      ...                    ...   \n",
       "260522_HC 019_POS_GE8_1_5367        16960.19                4379.81   \n",
       "260522_HC 020_POS_RA1_1_5368         8025.66                 7901.4   \n",
       "260522_HC 021_POS_RA7_1_5375        74973.58                4896.98   \n",
       "260522_HC 022_POS_RA8_1_5376        45065.14                2711.33   \n",
       "260522_HC 023_POS_RB1_1_5377        25215.47                 4685.3   \n",
       "\n",
       "                             Pseudouridine Sphingosine 1-phosphate  Taurine  \\\n",
       "260522_QC 3uL POS_BA2_1_5281        2532.3                  370.53  4797.76   \n",
       "260522_QC 3uL POS_BA2_1_5282       2706.49                  547.05  4898.68   \n",
       "260522_QC 3uL POS_BA2_1_5292       2988.95                  480.28  4262.75   \n",
       "260522_QC 3uL POS_BA2_1_5336       2369.77                  604.94  3894.54   \n",
       "260522_LC 203_POS_BA3_1_5284       2336.02                  920.18   4491.4   \n",
       "...                                    ...                     ...      ...   \n",
       "260522_HC 019_POS_GE8_1_5367       2054.49                 1658.98  3282.69   \n",
       "260522_HC 020_POS_RA1_1_5368       3315.97                  981.54   2643.4   \n",
       "260522_HC 021_POS_RA7_1_5375       3970.25                   766.7  3415.74   \n",
       "260522_HC 022_POS_RA8_1_5376       2925.63                  587.06  4154.92   \n",
       "260522_HC 023_POS_RB1_1_5377       2824.89                 1209.32  3370.63   \n",
       "\n",
       "                             Tyrosine Urobilinogen  \n",
       "260522_QC 3uL POS_BA2_1_5281  1558.59     10739.38  \n",
       "260522_QC 3uL POS_BA2_1_5282  2369.34     10762.16  \n",
       "260522_QC 3uL POS_BA2_1_5292  1780.54     10415.68  \n",
       "260522_QC 3uL POS_BA2_1_5336  1470.27      8576.66  \n",
       "260522_LC 203_POS_BA3_1_5284  3273.71       893.61  \n",
       "...                               ...          ...  \n",
       "260522_HC 019_POS_GE8_1_5367  1720.11      1485.28  \n",
       "260522_HC 020_POS_RA1_1_5368  2377.65      2736.38  \n",
       "260522_HC 021_POS_RA7_1_5375  2796.12      8934.25  \n",
       "260522_HC 022_POS_RA8_1_5376  1176.92      3078.14  \n",
       "260522_HC 023_POS_RB1_1_5377  2494.34      1475.84  \n",
       "\n",
       "[106 rows x 53 columns]"
      ]
     },
     "execution_count": 1,
     "metadata": {},
     "output_type": "execute_result"
    }
   ],
   "source": [
    "import pandas as pd\n",
    "import numpy as np\n",
    "\n",
    "data_metaboloma_transpose = pd.read_excel(\"../../DataSet PAscale/Metaboloma.xlsx\")\n",
    "data_metaboloma_transpose\n",
    "\n",
    "data_metaboloma = data_metaboloma_transpose.T\n",
    "\n",
    "data_metaboloma.columns = data_metaboloma_transpose[\"Sample\"]\n",
    "\n",
    "data_metaboloma = data_metaboloma.iloc[1:]\n",
    "\n",
    "data_metaboloma.columns = list(data_metaboloma.columns)\n",
    "\n",
    "df_y_metaboloma = data_metaboloma[\"Label\"].iloc[1:]\n",
    "\n",
    "mz_metaboloma = data_metaboloma.iloc[0:1,1:]\n",
    "\n",
    "df_y_qc_metaboloma = data_metaboloma[\"Label\"].iloc[1:5]\n",
    "\n",
    "df_x_metaboloma = data_metaboloma.iloc[1:,1:]\n",
    "\n",
    "df_qc_metaboloma = data_metaboloma.iloc[1:5]\n",
    "\n",
    "name_samples_metaboloma = df_x_metaboloma.transpose().columns\n",
    "\n",
    "df_x_metaboloma"
   ]
  },
  {
   "cell_type": "markdown",
   "metadata": {},
   "source": [
    "Delete the features less important"
   ]
  },
  {
   "cell_type": "code",
   "execution_count": 3,
   "metadata": {},
   "outputs": [
    {
     "data": {
      "text/html": [
       "<div>\n",
       "<style scoped>\n",
       "    .dataframe tbody tr th:only-of-type {\n",
       "        vertical-align: middle;\n",
       "    }\n",
       "\n",
       "    .dataframe tbody tr th {\n",
       "        vertical-align: top;\n",
       "    }\n",
       "\n",
       "    .dataframe thead th {\n",
       "        text-align: right;\n",
       "    }\n",
       "</style>\n",
       "<table border=\"1\" class=\"dataframe\">\n",
       "  <thead>\n",
       "    <tr style=\"text-align: right;\">\n",
       "      <th></th>\n",
       "      <th>Glycerophosphocholine</th>\n",
       "      <th>Methylpyridonecarboxamide</th>\n",
       "      <th>Hydroxyanthranilic acid</th>\n",
       "      <th>CAR 6:0</th>\n",
       "      <th>CAR 10:0</th>\n",
       "      <th>FA 18:1+1O</th>\n",
       "      <th>CAR 10:1</th>\n",
       "      <th>CAR 8:0</th>\n",
       "      <th>Arachidonic acid</th>\n",
       "      <th>Taurine</th>\n",
       "      <th>Biliverdin</th>\n",
       "      <th>Indoxyl sulfate</th>\n",
       "      <th>Dodecenoylcarnitine</th>\n",
       "      <th>Aminooctanoic acid</th>\n",
       "      <th>Deoxycholic acid glycine conjugate</th>\n",
       "    </tr>\n",
       "  </thead>\n",
       "  <tbody>\n",
       "    <tr>\n",
       "      <th>m/z measured</th>\n",
       "      <td>258.11014</td>\n",
       "      <td>153.06585</td>\n",
       "      <td>154.05006</td>\n",
       "      <td>260.18546</td>\n",
       "      <td>316.24831</td>\n",
       "      <td>295.22836</td>\n",
       "      <td>314.23275</td>\n",
       "      <td>288.21724</td>\n",
       "      <td>303.23318</td>\n",
       "      <td>124.00733</td>\n",
       "      <td>583.25559</td>\n",
       "      <td>212.00253</td>\n",
       "      <td>342.26504</td>\n",
       "      <td>160.13322</td>\n",
       "      <td>448.30692</td>\n",
       "    </tr>\n",
       "  </tbody>\n",
       "</table>\n",
       "</div>"
      ],
      "text/plain": [
       "             Glycerophosphocholine Methylpyridonecarboxamide  \\\n",
       "m/z measured             258.11014                 153.06585   \n",
       "\n",
       "             Hydroxyanthranilic acid    CAR 6:0   CAR 10:0 FA 18:1+1O  \\\n",
       "m/z measured               154.05006  260.18546  316.24831  295.22836   \n",
       "\n",
       "               CAR 10:1    CAR 8:0 Arachidonic acid    Taurine Biliverdin  \\\n",
       "m/z measured  314.23275  288.21724        303.23318  124.00733  583.25559   \n",
       "\n",
       "             Indoxyl sulfate Dodecenoylcarnitine  Aminooctanoic acid  \\\n",
       "m/z measured       212.00253            342.26504          160.13322   \n",
       "\n",
       "             Deoxycholic acid glycine conjugate  \n",
       "m/z measured                          448.30692  "
      ]
     },
     "execution_count": 3,
     "metadata": {},
     "output_type": "execute_result"
    }
   ],
   "source": [
    "most_important_features = (pd.read_excel(\"most_important_features_tic.xlsx\")).drop(columns=\"Unnamed: 0\")\n",
    "\n",
    "df_x_metaboloma = df_x_metaboloma[most_important_features[\"Features\"]]\n",
    "\n",
    "mz_metaboloma = mz_metaboloma[most_important_features[\"Features\"]]\n",
    "mz_metaboloma"
   ]
  },
  {
   "cell_type": "code",
   "execution_count": null,
   "metadata": {},
   "outputs": [
    {
     "data": {
      "text/plain": [
       "17"
      ]
     },
     "execution_count": 3,
     "metadata": {},
     "output_type": "execute_result"
    }
   ],
   "source": [
    "num_features = len(mz_metaboloma.columns)\n",
    "num_features"
   ]
  },
  {
   "cell_type": "code",
   "execution_count": null,
   "metadata": {},
   "outputs": [],
   "source": [
    "# color mapping to use in plot\n",
    "color_mapping = {\n",
    "    'LC': 'red',\n",
    "    'MC': 'green',\n",
    "    'HC' : 'orange',\n",
    "    'QC' : 'purple'\n",
    "}\n",
    "\n",
    "colors = [color_mapping[label] for label in df_y_metaboloma]"
   ]
  },
  {
   "cell_type": "markdown",
   "metadata": {},
   "source": [
    "### View the data"
   ]
  },
  {
   "cell_type": "code",
   "execution_count": null,
   "metadata": {},
   "outputs": [
    {
     "data": {
      "image/png": "[encoded data removed]",
      "text/plain": [
       "<Figure size 640x480 with 1 Axes>"
      ]
     },
     "metadata": {},
     "output_type": "display_data"
    },
    {
     "name": "stdout",
     "output_type": "stream",
     "text": [
      "260522_HC 07_POS_BD8_1_5315    179077.94\n",
      "dtype: object\n"
     ]
    }
   ],
   "source": [
    "import matplotlib.pyplot as plt\n",
    "\n",
    "plt.scatter(mz_metaboloma, df_x_metaboloma.iloc[89:90])\n",
    "plt.xlabel(\"M/Z\")\n",
    "plt.ylabel(\"Intensity\")\n",
    "plt.title(\"Samlple HC 11_M\")\n",
    "plt.show()\n",
    "# axis=1 sono le righe; axis=0 sono le colonne\n",
    "print(df_x_metaboloma[89:90].max(axis=1))\n"
   ]
  },
  {
   "cell_type": "code",
   "execution_count": null,
   "metadata": {},
   "outputs": [
    {
     "name": "stdout",
     "output_type": "stream",
     "text": [
      "CAR 10:0                              0\n",
      "Indoxyl sulfate                       0\n",
      "Aminooctanoic acid                    0\n",
      "Deoxycholic acid glycine conjugate    0\n",
      "Asymmetric dimethylarginine           0\n",
      "Taurine                               0\n",
      "Pseudouridine                         0\n",
      "Biliverdin                            0\n",
      "FA 18:1+1O                            0\n",
      "CAR 8:0                               0\n",
      "Arachidonic acid                      0\n",
      "Hydroxyanthranilic acid               0\n",
      "Glycerophosphocholine                 0\n",
      "CAR 6:0                               0\n",
      "Methylpyridonecarboxamide             0\n",
      "CAR 10:1                              0\n",
      "Dodecenoylcarnitine                   0\n",
      "dtype: int64\n"
     ]
    }
   ],
   "source": [
    "df_x_metaboloma_original = df_x_metaboloma.copy()\n",
    "for column in df_x_metaboloma.columns:\n",
    "    df_x_metaboloma.loc[:,column] = df_x_metaboloma[column].fillna((np.nanmin(df_x_metaboloma[column]))/5)\n",
    "print(df_x_metaboloma.isna().sum().sort_values(ascending=False))"
   ]
  },
  {
   "cell_type": "code",
   "execution_count": null,
   "metadata": {},
   "outputs": [
    {
     "data": {
      "image/png": "[encoded data removed]",
      "text/plain": [
       "<Figure size 640x480 with 1 Axes>"
      ]
     },
     "metadata": {},
     "output_type": "display_data"
    }
   ],
   "source": [
    "from sklearn.decomposition import PCA\n",
    "pca_view = PCA(n_components=2)\n",
    "\n",
    "scores_view = pca_view.fit_transform(df_x_metaboloma,df_y_metaboloma)\n",
    "\n",
    "\n",
    "plt.scatter(scores_view[:, 0], scores_view[:, 1], c=colors)\n",
    "plt.xlabel('x')\n",
    "plt.ylabel('y')\n",
    "plt.legend(handles=[\n",
    "    plt.Line2D([0], [0], marker='o', color='w', label='LC', markerfacecolor='red', markersize=10),\n",
    "    plt.Line2D([0], [0], marker='o', color='w', label='MC', markerfacecolor='green', markersize=10),\n",
    "    plt.Line2D([0], [0], marker='o', color='w', label='HC', markerfacecolor='orange', markersize=10),\n",
    "    plt.Line2D([0], [0], marker='o', color='w', label='QC', markerfacecolor='purple', markersize=10),\n",
    "], title='Legend')\n",
    "plt.title('PCA View')\n",
    "plt.show()\n",
    "\n"
   ]
  },
  {
   "cell_type": "markdown",
   "metadata": {},
   "source": [
    "### TIC Normalization"
   ]
  },
  {
   "cell_type": "code",
   "execution_count": null,
   "metadata": {},
   "outputs": [
    {
     "name": "stdout",
     "output_type": "stream",
     "text": [
      "Hydroxyanthranilic acid               19\n",
      "Deoxycholic acid glycine conjugate    15\n",
      "Taurine                               15\n",
      "Pseudouridine                         12\n",
      "Arachidonic acid                      11\n",
      "FA 18:1+1O                             9\n",
      "Aminooctanoic acid                     9\n",
      "Biliverdin                             7\n",
      "CAR 6:0                                2\n",
      "Dodecenoylcarnitine                    1\n",
      "Indoxyl sulfate                        1\n",
      "CAR 8:0                                1\n",
      "Methylpyridonecarboxamide              1\n",
      "CAR 10:1                               1\n",
      "Glycerophosphocholine                  0\n",
      "Asymmetric dimethylarginine            0\n",
      "CAR 10:0                               0\n",
      "dtype: int64\n"
     ]
    },
    {
     "data": {
      "image/png": "[encoded data removed]",
      "text/plain": [
       "<Figure size 640x480 with 1 Axes>"
      ]
     },
     "metadata": {},
     "output_type": "display_data"
    },
    {
     "data": {
      "text/plain": [
       "260522_HC 07_POS_BD8_1_5315    0.310067\n",
       "dtype: object"
      ]
     },
     "execution_count": 8,
     "metadata": {},
     "output_type": "execute_result"
    }
   ],
   "source": [
    "print(df_x_metaboloma_original.isna().sum().sort_values(ascending=False))\n",
    "\n",
    "tic = df_x_metaboloma_original.sum(axis=1, skipna=True)\n",
    "df_x_metaboloma_tic = df_x_metaboloma.div(tic,axis=0)\n",
    "\n",
    "plt.scatter(mz_metaboloma, df_x_metaboloma_tic.iloc[89:90])\n",
    "plt.xlabel(\"M/Z\")\n",
    "plt.ylabel(\"Intensity\")\n",
    "plt.title(\"Samlple HC 11_M\")\n",
    "plt.show()\n",
    "# axis=1 sono le righe; axis=0 sono le colonne\n",
    "df_x_metaboloma_tic[89:90].max(axis=1)"
   ]
  },
  {
   "cell_type": "markdown",
   "metadata": {},
   "source": [
    "#### View after normalization"
   ]
  },
  {
   "cell_type": "code",
   "execution_count": null,
   "metadata": {},
   "outputs": [
    {
     "data": {
      "image/png": "[encoded data removed]",
      "text/plain": [
       "<Figure size 640x480 with 1 Axes>"
      ]
     },
     "metadata": {},
     "output_type": "display_data"
    }
   ],
   "source": [
    "pca_view = PCA(n_components=2)\n",
    "\n",
    "scores_view = pca_view.fit_transform(df_x_metaboloma_tic,df_y_metaboloma)\n",
    "\n",
    "\n",
    "plt.scatter(scores_view[:, 0], scores_view[:, 1], c=colors)\n",
    "plt.xlabel('x')\n",
    "plt.ylabel('y')\n",
    "plt.legend(handles=[\n",
    "    plt.Line2D([0], [0], marker='o', color='w', label='LC', markerfacecolor='red', markersize=10),\n",
    "    plt.Line2D([0], [0], marker='o', color='w', label='MC', markerfacecolor='green', markersize=10),\n",
    "    plt.Line2D([0], [0], marker='o', color='w', label='HC', markerfacecolor='orange', markersize=10),\n",
    "    plt.Line2D([0], [0], marker='o', color='w', label='QC', markerfacecolor='purple', markersize=10),\n",
    "], title='Legend')\n",
    "plt.title('PCA View')\n",
    "plt.show()"
   ]
  },
  {
   "cell_type": "markdown",
   "metadata": {},
   "source": [
    "#### Drop outlier"
   ]
  },
  {
   "cell_type": "code",
   "execution_count": null,
   "metadata": {},
   "outputs": [],
   "source": [
    "drop = []"
   ]
  },
  {
   "cell_type": "markdown",
   "metadata": {},
   "source": [
    "LC"
   ]
  },
  {
   "cell_type": "code",
   "execution_count": null,
   "metadata": {},
   "outputs": [
    {
     "data": {
      "text/html": [
       "<div>\n",
       "<style scoped>\n",
       "    .dataframe tbody tr th:only-of-type {\n",
       "        vertical-align: middle;\n",
       "    }\n",
       "\n",
       "    .dataframe tbody tr th {\n",
       "        vertical-align: top;\n",
       "    }\n",
       "\n",
       "    .dataframe thead th {\n",
       "        text-align: right;\n",
       "    }\n",
       "</style>\n",
       "<table border=\"1\" class=\"dataframe\">\n",
       "  <thead>\n",
       "    <tr style=\"text-align: right;\">\n",
       "      <th></th>\n",
       "      <th>Sample</th>\n",
       "      <th>outlier</th>\n",
       "    </tr>\n",
       "  </thead>\n",
       "  <tbody>\n",
       "    <tr>\n",
       "      <th>60</th>\n",
       "      <td>260522_LC 431_POS_RB8_1_5384</td>\n",
       "      <td>4.791638</td>\n",
       "    </tr>\n",
       "    <tr>\n",
       "      <th>67</th>\n",
       "      <td>260522_LC 443_POS_RC7_1_5391</td>\n",
       "      <td>4.034261</td>\n",
       "    </tr>\n",
       "    <tr>\n",
       "      <th>5</th>\n",
       "      <td>260522_LC 242_POS_BB3_1_5293</td>\n",
       "      <td>2.682007</td>\n",
       "    </tr>\n",
       "    <tr>\n",
       "      <th>28</th>\n",
       "      <td>260522_LC 350_POS_GA6_1_5330</td>\n",
       "      <td>2.294784</td>\n",
       "    </tr>\n",
       "    <tr>\n",
       "      <th>18</th>\n",
       "      <td>260522_LC 321_POS_BD6_1_5313</td>\n",
       "      <td>2.235557</td>\n",
       "    </tr>\n",
       "    <tr>\n",
       "      <th>...</th>\n",
       "      <td>...</td>\n",
       "      <td>...</td>\n",
       "    </tr>\n",
       "    <tr>\n",
       "      <th>52</th>\n",
       "      <td>260522_LC 408_POS_RA5_1_5373</td>\n",
       "      <td>0.376257</td>\n",
       "    </tr>\n",
       "    <tr>\n",
       "      <th>59</th>\n",
       "      <td>260522_LC 429_POS_RB7_1_5383</td>\n",
       "      <td>0.373878</td>\n",
       "    </tr>\n",
       "    <tr>\n",
       "      <th>2</th>\n",
       "      <td>260522_LC 235b_POS_BA5_1_5286</td>\n",
       "      <td>0.348275</td>\n",
       "    </tr>\n",
       "    <tr>\n",
       "      <th>10</th>\n",
       "      <td>260522_LC 299_POS_BC3_1_5302</td>\n",
       "      <td>0.295760</td>\n",
       "    </tr>\n",
       "    <tr>\n",
       "      <th>23</th>\n",
       "      <td>260522_LC 334_POS_BE6_1_5322</td>\n",
       "      <td>0.216992</td>\n",
       "    </tr>\n",
       "  </tbody>\n",
       "</table>\n",
       "<p>69 rows × 2 columns</p>\n",
       "</div>"
      ],
      "text/plain": [
       "                           Sample   outlier\n",
       "60   260522_LC 431_POS_RB8_1_5384  4.791638\n",
       "67   260522_LC 443_POS_RC7_1_5391  4.034261\n",
       "5    260522_LC 242_POS_BB3_1_5293  2.682007\n",
       "28   260522_LC 350_POS_GA6_1_5330  2.294784\n",
       "18   260522_LC 321_POS_BD6_1_5313  2.235557\n",
       "..                            ...       ...\n",
       "52   260522_LC 408_POS_RA5_1_5373  0.376257\n",
       "59   260522_LC 429_POS_RB7_1_5383  0.373878\n",
       "2   260522_LC 235b_POS_BA5_1_5286  0.348275\n",
       "10   260522_LC 299_POS_BC3_1_5302  0.295760\n",
       "23   260522_LC 334_POS_BE6_1_5322  0.216992\n",
       "\n",
       "[69 rows x 2 columns]"
      ]
     },
     "execution_count": 11,
     "metadata": {},
     "output_type": "execute_result"
    }
   ],
   "source": [
    "## codice prova con la distanza di mahalonobis\n",
    "lc = scores_view[4:73,:]\n",
    "\n",
    "mean_lc = np.mean(lc,axis=0)\n",
    "cov_matrix = np.cov(lc,rowvar=False)\n",
    "\n",
    "mahalanobis_distance_lc = []\n",
    "\n",
    "for point in lc:\n",
    "    diff = point - mean_lc\n",
    "    distance = np.sqrt(np.dot(np.dot(diff, np.linalg.inv(cov_matrix)), diff))\n",
    "    mahalanobis_distance_lc.append(distance)\n",
    "    \n",
    "# print(mahalanobis_distance_lc)\n",
    "\n",
    "outlier_lc = pd.DataFrame({\"Sample\":df_x_metaboloma_tic.index[4:73],\"outlier\":mahalanobis_distance_lc}).sort_values(by=\"outlier\",ascending=False)\n",
    "outlier_lc"
   ]
  },
  {
   "cell_type": "code",
   "execution_count": null,
   "metadata": {},
   "outputs": [
    {
     "data": {
      "text/plain": [
       "5.991464547107979"
      ]
     },
     "execution_count": 12,
     "metadata": {},
     "output_type": "execute_result"
    }
   ],
   "source": [
    "from scipy.stats import chi2\n",
    "\n",
    "alpha = 0.05\n",
    "threshold_distance_mahalanobis = chi2.ppf(1 - alpha, df = 2)\n",
    "threshold_distance_mahalanobis"
   ]
  },
  {
   "cell_type": "code",
   "execution_count": null,
   "metadata": {},
   "outputs": [
    {
     "data": {
      "text/plain": [
       "[]"
      ]
     },
     "execution_count": 13,
     "metadata": {},
     "output_type": "execute_result"
    }
   ],
   "source": [
    "mean_out_lc = outlier_lc[\"outlier\"].mean(axis=0)\n",
    "temp = []\n",
    "for sample,elem in outlier_lc.values:\n",
    "    if elem > threshold_distance_mahalanobis:\n",
    "        drop.append(sample)\n",
    "        temp.append(sample)\n",
    "\n",
    "outlier_lc = outlier_lc.drop(outlier_lc[outlier_lc[\"Sample\"].isin(temp)].index)\n",
    "\n",
    "drop"
   ]
  },
  {
   "cell_type": "markdown",
   "metadata": {},
   "source": [
    "MC"
   ]
  },
  {
   "cell_type": "code",
   "execution_count": null,
   "metadata": {},
   "outputs": [
    {
     "data": {
      "text/html": [
       "<div>\n",
       "<style scoped>\n",
       "    .dataframe tbody tr th:only-of-type {\n",
       "        vertical-align: middle;\n",
       "    }\n",
       "\n",
       "    .dataframe tbody tr th {\n",
       "        vertical-align: top;\n",
       "    }\n",
       "\n",
       "    .dataframe thead th {\n",
       "        text-align: right;\n",
       "    }\n",
       "</style>\n",
       "<table border=\"1\" class=\"dataframe\">\n",
       "  <thead>\n",
       "    <tr style=\"text-align: right;\">\n",
       "      <th></th>\n",
       "      <th>Sample</th>\n",
       "      <th>outlier</th>\n",
       "    </tr>\n",
       "  </thead>\n",
       "  <tbody>\n",
       "    <tr>\n",
       "      <th>9</th>\n",
       "      <td>260522_MC 18_POS_GE7_1_5366</td>\n",
       "      <td>1.975849</td>\n",
       "    </tr>\n",
       "    <tr>\n",
       "      <th>2</th>\n",
       "      <td>260522_MC 09_POS_BC7_1_5306</td>\n",
       "      <td>1.865250</td>\n",
       "    </tr>\n",
       "    <tr>\n",
       "      <th>7</th>\n",
       "      <td>260522_MC 15_POS_GC7_1_5349</td>\n",
       "      <td>1.418016</td>\n",
       "    </tr>\n",
       "    <tr>\n",
       "      <th>0</th>\n",
       "      <td>260522_MC 04_POS_BA7_1_5288</td>\n",
       "      <td>1.394252</td>\n",
       "    </tr>\n",
       "    <tr>\n",
       "      <th>1</th>\n",
       "      <td>260522_MC 05_POS_BB7_1_5298</td>\n",
       "      <td>1.292618</td>\n",
       "    </tr>\n",
       "    <tr>\n",
       "      <th>5</th>\n",
       "      <td>260522_MC 13_POS_GA7_1_5331</td>\n",
       "      <td>1.287014</td>\n",
       "    </tr>\n",
       "    <tr>\n",
       "      <th>6</th>\n",
       "      <td>260522_MC 14_POS_GB7_1_5341</td>\n",
       "      <td>1.267420</td>\n",
       "    </tr>\n",
       "    <tr>\n",
       "      <th>3</th>\n",
       "      <td>260522_MC 10_POS_BD7_1_5314</td>\n",
       "      <td>1.160197</td>\n",
       "    </tr>\n",
       "    <tr>\n",
       "      <th>4</th>\n",
       "      <td>260522_MC 11_POS_BE7_1_5323</td>\n",
       "      <td>0.519354</td>\n",
       "    </tr>\n",
       "    <tr>\n",
       "      <th>8</th>\n",
       "      <td>260522_MC 17_POS_GD7_1_5358</td>\n",
       "      <td>0.335788</td>\n",
       "    </tr>\n",
       "  </tbody>\n",
       "</table>\n",
       "</div>"
      ],
      "text/plain": [
       "                        Sample   outlier\n",
       "9  260522_MC 18_POS_GE7_1_5366  1.975849\n",
       "2  260522_MC 09_POS_BC7_1_5306  1.865250\n",
       "7  260522_MC 15_POS_GC7_1_5349  1.418016\n",
       "0  260522_MC 04_POS_BA7_1_5288  1.394252\n",
       "1  260522_MC 05_POS_BB7_1_5298  1.292618\n",
       "5  260522_MC 13_POS_GA7_1_5331  1.287014\n",
       "6  260522_MC 14_POS_GB7_1_5341  1.267420\n",
       "3  260522_MC 10_POS_BD7_1_5314  1.160197\n",
       "4  260522_MC 11_POS_BE7_1_5323  0.519354\n",
       "8  260522_MC 17_POS_GD7_1_5358  0.335788"
      ]
     },
     "execution_count": 14,
     "metadata": {},
     "output_type": "execute_result"
    }
   ],
   "source": [
    "mc = scores_view[73:83,:]\n",
    "\n",
    "mean_mc = np.mean(mc,axis=0)\n",
    "cov_matrix = np.cov(mc,rowvar=False)\n",
    "\n",
    "mahalanobis_distance_mc = []\n",
    "\n",
    "for point in mc:\n",
    "    diff = point - mean_mc\n",
    "    distance = np.sqrt(np.dot(np.dot(diff, np.linalg.inv(cov_matrix)), diff))\n",
    "    mahalanobis_distance_mc.append(distance)\n",
    "\n",
    "outlier_mc = pd.DataFrame({\"Sample\":df_x_metaboloma_tic.index[73:83],\"outlier\":mahalanobis_distance_mc}).sort_values(by=\"outlier\",ascending=False)\n",
    "outlier_mc"
   ]
  },
  {
   "cell_type": "code",
   "execution_count": null,
   "metadata": {},
   "outputs": [
    {
     "data": {
      "text/plain": [
       "[]"
      ]
     },
     "execution_count": 15,
     "metadata": {},
     "output_type": "execute_result"
    }
   ],
   "source": [
    "mean_out_mc = outlier_mc[\"outlier\"].mean(axis=0)\n",
    "temp = []\n",
    "for sample,elem in outlier_mc.values:\n",
    "    if elem > threshold_distance_mahalanobis:\n",
    "        drop.append(sample)\n",
    "        temp.append(sample)\n",
    "        \n",
    "outlier_mc = outlier_mc.drop(outlier_mc[outlier_mc[\"Sample\"].isin(temp)].index)\n",
    "\n",
    "drop"
   ]
  },
  {
   "cell_type": "markdown",
   "metadata": {},
   "source": [
    "HC"
   ]
  },
  {
   "cell_type": "code",
   "execution_count": null,
   "metadata": {},
   "outputs": [
    {
     "data": {
      "text/html": [
       "<div>\n",
       "<style scoped>\n",
       "    .dataframe tbody tr th:only-of-type {\n",
       "        vertical-align: middle;\n",
       "    }\n",
       "\n",
       "    .dataframe tbody tr th {\n",
       "        vertical-align: top;\n",
       "    }\n",
       "\n",
       "    .dataframe thead th {\n",
       "        text-align: right;\n",
       "    }\n",
       "</style>\n",
       "<table border=\"1\" class=\"dataframe\">\n",
       "  <thead>\n",
       "    <tr style=\"text-align: right;\">\n",
       "      <th></th>\n",
       "      <th>Sample</th>\n",
       "      <th>outlier</th>\n",
       "    </tr>\n",
       "  </thead>\n",
       "  <tbody>\n",
       "    <tr>\n",
       "      <th>1</th>\n",
       "      <td>260522_HC 02_POS_BB1_1_5290</td>\n",
       "      <td>2.375261</td>\n",
       "    </tr>\n",
       "    <tr>\n",
       "      <th>5</th>\n",
       "      <td>260522_HC 06_POS_BD1_1_5308</td>\n",
       "      <td>2.142053</td>\n",
       "    </tr>\n",
       "    <tr>\n",
       "      <th>11</th>\n",
       "      <td>260522_HC 012_POS_GB1_1_5333</td>\n",
       "      <td>2.039593</td>\n",
       "    </tr>\n",
       "    <tr>\n",
       "      <th>2</th>\n",
       "      <td>260522_HC 03_POS_BB8_1_5299</td>\n",
       "      <td>2.023853</td>\n",
       "    </tr>\n",
       "    <tr>\n",
       "      <th>7</th>\n",
       "      <td>260522_HC 08_POS_BE1_1_5316</td>\n",
       "      <td>1.718252</td>\n",
       "    </tr>\n",
       "    <tr>\n",
       "      <th>20</th>\n",
       "      <td>260522_HC 021_POS_RA7_1_5375</td>\n",
       "      <td>1.647301</td>\n",
       "    </tr>\n",
       "    <tr>\n",
       "      <th>9</th>\n",
       "      <td>260522_HC 010_POS_GA1_1_5325</td>\n",
       "      <td>1.526741</td>\n",
       "    </tr>\n",
       "    <tr>\n",
       "      <th>4</th>\n",
       "      <td>260522_HC 05_POS_BC8_1_5307</td>\n",
       "      <td>1.507793</td>\n",
       "    </tr>\n",
       "    <tr>\n",
       "      <th>3</th>\n",
       "      <td>260522_HC 04_POS_BC1_1_5300</td>\n",
       "      <td>1.377768</td>\n",
       "    </tr>\n",
       "    <tr>\n",
       "      <th>19</th>\n",
       "      <td>260522_HC 020_POS_RA1_1_5368</td>\n",
       "      <td>1.352023</td>\n",
       "    </tr>\n",
       "    <tr>\n",
       "      <th>14</th>\n",
       "      <td>260522_HC 015_POS_GC8_1_5350</td>\n",
       "      <td>1.307759</td>\n",
       "    </tr>\n",
       "    <tr>\n",
       "      <th>8</th>\n",
       "      <td>260522_HC 09_POS_BE8_1_5324</td>\n",
       "      <td>1.230852</td>\n",
       "    </tr>\n",
       "    <tr>\n",
       "      <th>22</th>\n",
       "      <td>260522_HC 023_POS_RB1_1_5377</td>\n",
       "      <td>1.194338</td>\n",
       "    </tr>\n",
       "    <tr>\n",
       "      <th>12</th>\n",
       "      <td>260522_HC 013_POS_GB8_1_5342</td>\n",
       "      <td>1.174498</td>\n",
       "    </tr>\n",
       "    <tr>\n",
       "      <th>18</th>\n",
       "      <td>260522_HC 019_POS_GE8_1_5367</td>\n",
       "      <td>1.051715</td>\n",
       "    </tr>\n",
       "    <tr>\n",
       "      <th>15</th>\n",
       "      <td>260522_HC 016_POS_GD1_1_5351</td>\n",
       "      <td>1.009144</td>\n",
       "    </tr>\n",
       "    <tr>\n",
       "      <th>17</th>\n",
       "      <td>260522_HC 018_POS_GE1_1_5360</td>\n",
       "      <td>0.953751</td>\n",
       "    </tr>\n",
       "    <tr>\n",
       "      <th>21</th>\n",
       "      <td>260522_HC 022_POS_RA8_1_5376</td>\n",
       "      <td>0.788950</td>\n",
       "    </tr>\n",
       "    <tr>\n",
       "      <th>6</th>\n",
       "      <td>260522_HC 07_POS_BD8_1_5315</td>\n",
       "      <td>0.775427</td>\n",
       "    </tr>\n",
       "    <tr>\n",
       "      <th>10</th>\n",
       "      <td>260522_HC 011_POS_GA8_1_5332</td>\n",
       "      <td>0.711324</td>\n",
       "    </tr>\n",
       "    <tr>\n",
       "      <th>13</th>\n",
       "      <td>260522_HC 014_POS_GC1_1_5343</td>\n",
       "      <td>0.595539</td>\n",
       "    </tr>\n",
       "    <tr>\n",
       "      <th>16</th>\n",
       "      <td>260522_HC 017_POS_GD8_1_5359</td>\n",
       "      <td>0.459864</td>\n",
       "    </tr>\n",
       "    <tr>\n",
       "      <th>0</th>\n",
       "      <td>260522_HC 01_POS_BA8_1_5289</td>\n",
       "      <td>0.395165</td>\n",
       "    </tr>\n",
       "  </tbody>\n",
       "</table>\n",
       "</div>"
      ],
      "text/plain": [
       "                          Sample   outlier\n",
       "1    260522_HC 02_POS_BB1_1_5290  2.375261\n",
       "5    260522_HC 06_POS_BD1_1_5308  2.142053\n",
       "11  260522_HC 012_POS_GB1_1_5333  2.039593\n",
       "2    260522_HC 03_POS_BB8_1_5299  2.023853\n",
       "7    260522_HC 08_POS_BE1_1_5316  1.718252\n",
       "20  260522_HC 021_POS_RA7_1_5375  1.647301\n",
       "9   260522_HC 010_POS_GA1_1_5325  1.526741\n",
       "4    260522_HC 05_POS_BC8_1_5307  1.507793\n",
       "3    260522_HC 04_POS_BC1_1_5300  1.377768\n",
       "19  260522_HC 020_POS_RA1_1_5368  1.352023\n",
       "14  260522_HC 015_POS_GC8_1_5350  1.307759\n",
       "8    260522_HC 09_POS_BE8_1_5324  1.230852\n",
       "22  260522_HC 023_POS_RB1_1_5377  1.194338\n",
       "12  260522_HC 013_POS_GB8_1_5342  1.174498\n",
       "18  260522_HC 019_POS_GE8_1_5367  1.051715\n",
       "15  260522_HC 016_POS_GD1_1_5351  1.009144\n",
       "17  260522_HC 018_POS_GE1_1_5360  0.953751\n",
       "21  260522_HC 022_POS_RA8_1_5376  0.788950\n",
       "6    260522_HC 07_POS_BD8_1_5315  0.775427\n",
       "10  260522_HC 011_POS_GA8_1_5332  0.711324\n",
       "13  260522_HC 014_POS_GC1_1_5343  0.595539\n",
       "16  260522_HC 017_POS_GD8_1_5359  0.459864\n",
       "0    260522_HC 01_POS_BA8_1_5289  0.395165"
      ]
     },
     "execution_count": 16,
     "metadata": {},
     "output_type": "execute_result"
    }
   ],
   "source": [
    "hc = scores_view[83:106,:]\n",
    "\n",
    "mean_hc = np.mean(hc,axis=0)\n",
    "cov_matrix = np.cov(hc,rowvar=False)\n",
    "\n",
    "mahalanobis_distance_hc = []\n",
    "\n",
    "for point in hc:\n",
    "    diff = point - mean_hc\n",
    "    distance = np.sqrt(np.dot(np.dot(diff, np.linalg.inv(cov_matrix)), diff))\n",
    "    mahalanobis_distance_hc.append(distance)\n",
    "\n",
    "outlier_hc = pd.DataFrame({\"Sample\":df_x_metaboloma_tic.index[83:106],\"outlier\":mahalanobis_distance_hc}).sort_values(by=\"outlier\",ascending=False)\n",
    "outlier_hc"
   ]
  },
  {
   "cell_type": "code",
   "execution_count": null,
   "metadata": {},
   "outputs": [
    {
     "data": {
      "text/plain": [
       "[]"
      ]
     },
     "execution_count": 17,
     "metadata": {},
     "output_type": "execute_result"
    }
   ],
   "source": [
    "mean_out_hc = outlier_hc[\"outlier\"].mean(axis=0)\n",
    "\n",
    "temp = []\n",
    "for sample,elem in outlier_hc.values:\n",
    "    if elem > threshold_distance_mahalanobis:\n",
    "        drop.append(sample)\n",
    "        temp.append(sample)\n",
    "\n",
    "outlier_hc = outlier_hc.drop(outlier_hc[outlier_hc[\"Sample\"].isin(temp)].index) \n",
    "drop"
   ]
  },
  {
   "cell_type": "code",
   "execution_count": null,
   "metadata": {},
   "outputs": [
    {
     "data": {
      "image/png": "[encoded data removed]",
      "text/plain": [
       "<Figure size 640x480 with 1 Axes>"
      ]
     },
     "metadata": {},
     "output_type": "display_data"
    }
   ],
   "source": [
    "df_score_view = pd.DataFrame({\"Sample\":df_x_metaboloma_tic.index,\"Score View X\":scores_view[:,0], \"Score View Y\":scores_view[:,1]})\n",
    "\n",
    "index_drop = df_score_view[df_score_view[\"Sample\"].isin(drop)].index\n",
    "colors_after_drop = np.delete(colors,index_drop)\n",
    "df_score_view = df_score_view.drop(index_drop)\n",
    "df_score_view\n",
    "\n",
    "plt.scatter(df_score_view[\"Score View X\"], df_score_view[\"Score View Y\"], c=colors_after_drop)\n",
    "plt.xlabel('x')\n",
    "plt.ylabel('y')\n",
    "plt.legend(handles=[\n",
    "    plt.Line2D([0], [0], marker='o', color='w', label='LC', markerfacecolor='red', markersize=10),\n",
    "    plt.Line2D([0], [0], marker='o', color='w', label='MC', markerfacecolor='green', markersize=10),\n",
    "    plt.Line2D([0], [0], marker='o', color='w', label='HC', markerfacecolor='orange', markersize=10),\n",
    "    plt.Line2D([0], [0], marker='o', color='w', label='QC', markerfacecolor='purple', markersize=10),\n",
    "], title='Legend')\n",
    "plt.title('PCA View')\n",
    "plt.show()"
   ]
  },
  {
   "cell_type": "markdown",
   "metadata": {},
   "source": [
    "### Split in Train and in Test"
   ]
  },
  {
   "cell_type": "markdown",
   "metadata": {},
   "source": [
    "Choose the train and the test"
   ]
  },
  {
   "cell_type": "code",
   "execution_count": null,
   "metadata": {},
   "outputs": [
    {
     "name": "stdout",
     "output_type": "stream",
     "text": [
      "Label\n",
      "LC    69\n",
      "HC    23\n",
      "MC    10\n",
      "Name: count, dtype: int64\n",
      "Label\n",
      "LC    69\n",
      "HC    23\n",
      "MC    10\n",
      "Name: count, dtype: int64\n"
     ]
    },
    {
     "data": {
      "image/png": "[encoded data removed]",
      "text/plain": [
       "<Figure size 640x480 with 1 Axes>"
      ]
     },
     "metadata": {},
     "output_type": "display_data"
    }
   ],
   "source": [
    "df_x_metaboloma_tic_noqc = df_x_metaboloma_tic.iloc[4:]\n",
    "df_y_metaboloma_noqc = df_y_metaboloma.iloc[4:]\n",
    "\n",
    "print(df_y_metaboloma_noqc.value_counts())\n",
    "\n",
    "x_tic = df_x_metaboloma_tic_noqc.copy()\n",
    "y_tic = df_y_metaboloma_noqc.copy()\n",
    "\n",
    "x_tic = x_tic.drop(drop)\n",
    "y_tic = y_tic.drop(drop)\n",
    "print(y_tic.value_counts())\n",
    "plt.plot(df_y_metaboloma_noqc.value_counts())\n",
    "plt.show()"
   ]
  },
  {
   "cell_type": "markdown",
   "metadata": {},
   "source": [
    "Split the data set in train and in test set"
   ]
  },
  {
   "cell_type": "code",
   "execution_count": null,
   "metadata": {},
   "outputs": [
    {
     "data": {
      "text/plain": [
       "260522_LC 431_POS_RB8_1_5384    LC\n",
       "260522_LC 443_POS_RC7_1_5391    LC\n",
       "260522_LC 242_POS_BB3_1_5293    LC\n",
       "260522_LC 350_POS_GA6_1_5330    LC\n",
       "260522_LC 321_POS_BD6_1_5313    LC\n",
       "                                ..\n",
       "260522_HC 09_POS_BE8_1_5324     HC\n",
       "260522_HC 023_POS_RB1_1_5377    HC\n",
       "260522_HC 013_POS_GB8_1_5342    HC\n",
       "260522_HC 019_POS_GE8_1_5367    HC\n",
       "260522_HC 016_POS_GD1_1_5351    HC\n",
       "Name: Label, Length: 71, dtype: object"
      ]
     },
     "execution_count": 20,
     "metadata": {},
     "output_type": "execute_result"
    }
   ],
   "source": [
    "train_size = 0.7\n",
    "\n",
    "train_size_lc = int(len(outlier_lc)*train_size)\n",
    "train_size_mc = int(len(outlier_mc)*train_size)\n",
    "train_size_hc = int(len(outlier_hc)*train_size)\n",
    "\n",
    "list_train_lc_x = x_tic.loc[outlier_lc[\"Sample\"].iloc[0:train_size_lc]]\n",
    "list_train_lc_y = y_tic.loc[outlier_lc[\"Sample\"].iloc[0:train_size_lc]]\n",
    "\n",
    "list_train_mc_x = x_tic.loc[outlier_mc[\"Sample\"].iloc[0:train_size_mc]]\n",
    "list_train_mc_y = y_tic.loc[outlier_mc[\"Sample\"].iloc[0:train_size_mc]]\n",
    "\n",
    "list_train_hc_x = x_tic.loc[outlier_hc[\"Sample\"].iloc[0:train_size_hc]]\n",
    "list_train_hc_y = y_tic.loc[outlier_hc[\"Sample\"].iloc[0:train_size_hc]]\n",
    "\n",
    "x_train_tic = pd.concat([list_train_lc_x,list_train_mc_x,list_train_hc_x])\n",
    "y_train_tic = pd.concat([list_train_lc_y,list_train_mc_y,list_train_hc_y])\n",
    "y_train_tic"
   ]
  },
  {
   "cell_type": "code",
   "execution_count": null,
   "metadata": {},
   "outputs": [
    {
     "data": {
      "text/plain": [
       "31"
      ]
     },
     "execution_count": 21,
     "metadata": {},
     "output_type": "execute_result"
    }
   ],
   "source": [
    "x_test_tic = x_tic.loc[~x_tic.isin(x_train_tic.to_dict(orient='list')).all(axis=1)]\n",
    "y_test_tic = y_tic[~y_tic.index.isin(y_train_tic.index)]\n",
    "len(y_test_tic)"
   ]
  },
  {
   "cell_type": "code",
   "execution_count": null,
   "metadata": {},
   "outputs": [],
   "source": [
    "name_sample_train_tic = x_train_tic.transpose().columns\n",
    "name_sample_test_tic = x_test_tic.transpose().columns"
   ]
  },
  {
   "cell_type": "markdown",
   "metadata": {},
   "source": [
    "#### Save the mean and standard deviation of the training set"
   ]
  },
  {
   "cell_type": "code",
   "execution_count": null,
   "metadata": {},
   "outputs": [],
   "source": [
    "mean_tic= x_train_tic.mean(axis=0)\n",
    "std_tic = x_train_tic.std(axis=0)"
   ]
  },
  {
   "cell_type": "markdown",
   "metadata": {},
   "source": [
    "### Without PCA"
   ]
  },
  {
   "cell_type": "markdown",
   "metadata": {},
   "source": [
    "Compose Models"
   ]
  },
  {
   "cell_type": "code",
   "execution_count": null,
   "metadata": {},
   "outputs": [],
   "source": [
    "X_w_tic = x_train_tic\n",
    "Y_w_tic = y_train_tic\n",
    "x_test_tic_centered = (x_test_tic.sub(mean_tic,axis=1)).div(std_tic,axis=1)\n",
    "\n",
    "all_performance = []"
   ]
  },
  {
   "cell_type": "markdown",
   "metadata": {},
   "source": [
    "##### Logistic Regression"
   ]
  },
  {
   "cell_type": "code",
   "execution_count": null,
   "metadata": {},
   "outputs": [
    {
     "name": "stderr",
     "output_type": "stream",
     "text": [
      "/Users/bvs/opt/anaconda3/envs/AI4Omics/lib/python3.9/site-packages/sklearn/metrics/_classification.py:2394: UserWarning: y_pred contains classes not in y_true\n",
      "  warnings.warn(\"y_pred contains classes not in y_true\")\n",
      "/Users/bvs/opt/anaconda3/envs/AI4Omics/lib/python3.9/site-packages/sklearn/metrics/_classification.py:2394: UserWarning: y_pred contains classes not in y_true\n",
      "  warnings.warn(\"y_pred contains classes not in y_true\")\n",
      "/Users/bvs/opt/anaconda3/envs/AI4Omics/lib/python3.9/site-packages/sklearn/metrics/_classification.py:2394: UserWarning: y_pred contains classes not in y_true\n",
      "  warnings.warn(\"y_pred contains classes not in y_true\")\n",
      "/Users/bvs/opt/anaconda3/envs/AI4Omics/lib/python3.9/site-packages/sklearn/metrics/_classification.py:2394: UserWarning: y_pred contains classes not in y_true\n",
      "  warnings.warn(\"y_pred contains classes not in y_true\")\n",
      "/Users/bvs/opt/anaconda3/envs/AI4Omics/lib/python3.9/site-packages/sklearn/metrics/_classification.py:2394: UserWarning: y_pred contains classes not in y_true\n",
      "  warnings.warn(\"y_pred contains classes not in y_true\")\n",
      "/Users/bvs/opt/anaconda3/envs/AI4Omics/lib/python3.9/site-packages/sklearn/metrics/_classification.py:2394: UserWarning: y_pred contains classes not in y_true\n",
      "  warnings.warn(\"y_pred contains classes not in y_true\")\n",
      "/Users/bvs/opt/anaconda3/envs/AI4Omics/lib/python3.9/site-packages/sklearn/metrics/_classification.py:2394: UserWarning: y_pred contains classes not in y_true\n",
      "  warnings.warn(\"y_pred contains classes not in y_true\")\n",
      "/Users/bvs/opt/anaconda3/envs/AI4Omics/lib/python3.9/site-packages/sklearn/metrics/_classification.py:2394: UserWarning: y_pred contains classes not in y_true\n",
      "  warnings.warn(\"y_pred contains classes not in y_true\")\n",
      "/Users/bvs/opt/anaconda3/envs/AI4Omics/lib/python3.9/site-packages/sklearn/metrics/_classification.py:2394: UserWarning: y_pred contains classes not in y_true\n",
      "  warnings.warn(\"y_pred contains classes not in y_true\")\n"
     ]
    },
    {
     "name": "stdout",
     "output_type": "stream",
     "text": [
      "L'accuracy è:  85.91549295774648 \n",
      "La balanced_accuracy è:  85.91549295774648\n"
     ]
    },
    {
     "name": "stderr",
     "output_type": "stream",
     "text": [
      "/Users/bvs/opt/anaconda3/envs/AI4Omics/lib/python3.9/site-packages/sklearn/metrics/_classification.py:2394: UserWarning: y_pred contains classes not in y_true\n",
      "  warnings.warn(\"y_pred contains classes not in y_true\")\n"
     ]
    }
   ],
   "source": [
    "from sklearn.model_selection import LeaveOneOut\n",
    "from sklearn.linear_model import LogisticRegression\n",
    "from sklearn import metrics as mt\n",
    "from imblearn.over_sampling import BorderlineSMOTE\n",
    "\n",
    "loo = LeaveOneOut()\n",
    "\n",
    "performance_scores = []\n",
    "performance_scores_balanced = []\n",
    "i = 0\n",
    "# Itera attraverso i fold\n",
    "for train_index, val_index in loo.split(X_w_tic,Y_w_tic):\n",
    "    i+=1\n",
    "    \n",
    "    train_x_temp, test_x_temp = X_w_tic.iloc[train_index],X_w_tic.iloc[val_index]\n",
    "    train_y_temp, test_y_temp = Y_w_tic.iloc[train_index],Y_w_tic.iloc[val_index]\n",
    "    \n",
    "    #ribilanciamento\n",
    "    bls = BorderlineSMOTE(random_state=99)\n",
    "    train_x_temp,train_y_temp = bls.fit_resample(train_x_temp,train_y_temp)\n",
    "\n",
    "    # normalizzazione\n",
    "    mean_tic_temp= train_x_temp.mean(axis=0)\n",
    "    std_tic_temp = train_x_temp.std(axis=0)\n",
    "    train_x_temp = (train_x_temp.sub(mean_tic_temp,axis=1)).div(std_tic_temp,axis=1)\n",
    "\n",
    "    test_x_temp = (test_x_temp.sub(mean_tic_temp,axis=1)).div(std_tic_temp,axis=1)\n",
    "    \n",
    "    lm = LogisticRegression(penalty=None,class_weight='balanced', multi_class='auto',max_iter=10000, n_jobs=4, solver='newton-cg') # penalty{‘l1’, ‘l2’, ‘elasticnet’, None}; multi_class{‘auto’, ‘ovr’, ‘multinomial’}\n",
    "    \n",
    "    lm.fit(train_x_temp, train_y_temp)\n",
    "    \n",
    "    predicted_y_temp = lm.predict(test_x_temp)\n",
    "\n",
    "    # Calcola e memorizza la misura delle prestazioni (es. accuratezza)\n",
    "    accuracy_temp = np.round(mt.accuracy_score(test_y_temp.values,predicted_y_temp)*100,2)\n",
    "    performance_scores.append(accuracy_temp)\n",
    "    balanced_accuracy_temp = np.round(mt.balanced_accuracy_score(test_y_temp.values,predicted_y_temp)*100,2)\n",
    "    performance_scores_balanced.append(balanced_accuracy_temp)\n",
    "    \n",
    "mean_accuracy_temp = sum(performance_scores)/i\n",
    "mean_accuracy_balanced_temp = sum(performance_scores_balanced)/i\n",
    "\n",
    "print(\"L'accuracy è: \", mean_accuracy_temp, \"\\nLa balanced_accuracy è: \", mean_accuracy_balanced_temp)\n",
    "\n",
    "all_performance = [{\"TIC-SUM\":{\n",
    "    \"LogisticRegression_Validation\": {\n",
    "        \"BorderlineSMOTE\": mean_accuracy_balanced_temp\n",
    "    }\n",
    "}}]"
   ]
  },
  {
   "cell_type": "markdown",
   "metadata": {},
   "source": [
    "Try on test"
   ]
  },
  {
   "cell_type": "code",
   "execution_count": null,
   "metadata": {},
   "outputs": [
    {
     "data": {
      "text/plain": [
       "93.65"
      ]
     },
     "execution_count": 40,
     "metadata": {},
     "output_type": "execute_result"
    }
   ],
   "source": [
    "predicted_y_test = lm.predict(x_test_tic_centered)\n",
    "balanced_accuracy = np.round(mt.balanced_accuracy_score(y_test_tic,predicted_y_test)*100,2)\n",
    "all_performance[0][\"TIC-SUM\"][\"LogisticRegression_Test\"]= {\"BorderlineSMOTE\":balanced_accuracy}\n",
    "balanced_accuracy"
   ]
  },
  {
   "cell_type": "markdown",
   "metadata": {},
   "source": [
    "Show the error in Logistic Regression"
   ]
  },
  {
   "cell_type": "code",
   "execution_count": null,
   "metadata": {},
   "outputs": [
    {
     "name": "stdout",
     "output_type": "stream",
     "text": [
      "Gli errori vengono commessi sul campione:  [ 8 11 12 21]\n"
     ]
    },
    {
     "data": {
      "image/png": "[encoded data removed]",
      "text/plain": [
       "<Figure size 640x480 with 1 Axes>"
      ]
     },
     "metadata": {},
     "output_type": "display_data"
    }
   ],
   "source": [
    "show_error_lr = pd.DataFrame({\"Predict\":predicted_y_test, \"Real\":y_test_tic})\n",
    "errors_name = show_error_lr[show_error_lr[\"Predict\"] != show_error_lr[\"Real\"]].index\n",
    "errors_name\n",
    "\n",
    "df_score_view_noqc = df_score_view.drop([0,1,2,3])\n",
    "\n",
    "error_index = (df_score_view_noqc[df_score_view_noqc[\"Sample\"].isin(errors_name)].index) - 4\n",
    "print(\"Gli errori vengono commessi sul campione: \",error_index.values)\n",
    "colors_with_error = colors_after_drop.copy()\n",
    "colors_with_error = np.delete(colors_with_error,[0,1,2,3])\n",
    "colors_with_error[error_index] = \"black\"\n",
    "\n",
    "plt.scatter(df_score_view_noqc[\"Score View X\"], df_score_view_noqc[\"Score View Y\"], c=colors_with_error)\n",
    "plt.xlabel('x')\n",
    "plt.ylabel('y')\n",
    "plt.legend(handles=[\n",
    "    plt.Line2D([0], [0], marker='o', color='w', label='LC', markerfacecolor='red', markersize=10),\n",
    "    plt.Line2D([0], [0], marker='o', color='w', label='MC', markerfacecolor='green', markersize=10),\n",
    "    plt.Line2D([0], [0], marker='o', color='w', label='HC', markerfacecolor='orange', markersize=10),\n",
    "], title='Legend')\n",
    "plt.title('PCA View')\n",
    "plt.show()"
   ]
  },
  {
   "cell_type": "markdown",
   "metadata": {},
   "source": [
    "##### SVM"
   ]
  },
  {
   "cell_type": "code",
   "execution_count": null,
   "metadata": {},
   "outputs": [
    {
     "name": "stderr",
     "output_type": "stream",
     "text": [
      "/Users/bvs/opt/anaconda3/envs/AI4Omics/lib/python3.9/site-packages/sklearn/metrics/_classification.py:2394: UserWarning: y_pred contains classes not in y_true\n",
      "  warnings.warn(\"y_pred contains classes not in y_true\")\n",
      "/Users/bvs/opt/anaconda3/envs/AI4Omics/lib/python3.9/site-packages/sklearn/metrics/_classification.py:2394: UserWarning: y_pred contains classes not in y_true\n",
      "  warnings.warn(\"y_pred contains classes not in y_true\")\n",
      "/Users/bvs/opt/anaconda3/envs/AI4Omics/lib/python3.9/site-packages/sklearn/metrics/_classification.py:2394: UserWarning: y_pred contains classes not in y_true\n",
      "  warnings.warn(\"y_pred contains classes not in y_true\")\n",
      "/Users/bvs/opt/anaconda3/envs/AI4Omics/lib/python3.9/site-packages/sklearn/metrics/_classification.py:2394: UserWarning: y_pred contains classes not in y_true\n",
      "  warnings.warn(\"y_pred contains classes not in y_true\")\n"
     ]
    },
    {
     "name": "stdout",
     "output_type": "stream",
     "text": [
      "L'accuracy è:  94.36619718309859 %\n",
      "La balanced_accuracy è:  94.36619718309859 %\n"
     ]
    }
   ],
   "source": [
    "from sklearn.model_selection import LeaveOneOut\n",
    "from sklearn.svm import SVC\n",
    "from sklearn import metrics as mt\n",
    "from imblearn.over_sampling import BorderlineSMOTE\n",
    "\n",
    "loo = LeaveOneOut()\n",
    "\n",
    "model_svc = SVC(C=1.0,kernel=\"linear\", gamma=\"scale\")\n",
    "\n",
    "performance_scores = []\n",
    "performance_scores_balanced = []\n",
    "i = 0\n",
    "# Itera attraverso i fold\n",
    "for train_index, val_index in loo.split(X_w_tic):\n",
    "    i+=1\n",
    "    train_x_temp, test_x_temp = X_w_tic.iloc[train_index],X_w_tic.iloc[val_index]\n",
    "    train_y_temp, test_y_temp = Y_w_tic.iloc[train_index],Y_w_tic.iloc[val_index]\n",
    "    \n",
    "    # balancing\n",
    "    train_x_temp,train_y_temp = BorderlineSMOTE(random_state=99).fit_resample(train_x_temp,train_y_temp)\n",
    "    \n",
    "    # normalization\n",
    "    mean_tic_temp= train_x_temp.mean(axis=0)\n",
    "    std_tic_temp = train_x_temp.std(axis=0)\n",
    "    train_x_temp = (train_x_temp.sub(mean_tic_temp,axis=1)).div(std_tic_temp,axis=1)\n",
    "\n",
    "    test_x_temp = (test_x_temp.sub(mean_tic_temp,axis=1)).div(std_tic_temp,axis=1)\n",
    "    \n",
    "    \n",
    "    model_svc.fit(train_x_temp,train_y_temp)\n",
    "    \n",
    "    predicted_y_temp = model_svc.predict(test_x_temp)\n",
    "    \n",
    "    accuracy_temp = np.round(mt.accuracy_score(test_y_temp,predicted_y_temp)*100,2)\n",
    "    performance_scores.append(accuracy_temp)\n",
    "    balanced_accuracy_temp = np.round(mt.balanced_accuracy_score(test_y_temp,predicted_y_temp)*100,2)\n",
    "    performance_scores_balanced.append(balanced_accuracy_temp)\n",
    "    \n",
    "mean_accuracy_temp = sum(performance_scores)/i\n",
    "mean_accuracy_balanced_temp = sum(performance_scores_balanced)/i\n",
    "\n",
    "print(\"L'accuracy è: \", mean_accuracy_temp, \"%\\nLa balanced_accuracy è: \", mean_accuracy_balanced_temp,\"%\")\n",
    "\n",
    "all_performance[0][\"TIC-SUM\"][\"SVM_Validation\"]= {\"BorderlineSMOTE\":mean_accuracy_balanced_temp}"
   ]
  },
  {
   "cell_type": "markdown",
   "metadata": {},
   "source": [
    "Try on Test"
   ]
  },
  {
   "cell_type": "code",
   "execution_count": null,
   "metadata": {},
   "outputs": [
    {
     "data": {
      "text/plain": [
       "93.65"
      ]
     },
     "execution_count": 43,
     "metadata": {},
     "output_type": "execute_result"
    }
   ],
   "source": [
    "predicted_y_test = model_svc.predict(x_test_tic_centered)\n",
    "balanced_accuracy = np.round(mt.balanced_accuracy_score(y_test_tic,predicted_y_test)*100,2)\n",
    "all_performance[0][\"TIC-SUM\"][\"SVM_Test\"]= {\"BorderlineSMOTE\":balanced_accuracy}\n",
    "balanced_accuracy"
   ]
  },
  {
   "cell_type": "markdown",
   "metadata": {},
   "source": [
    "Show the error in SVM"
   ]
  },
  {
   "cell_type": "code",
   "execution_count": null,
   "metadata": {},
   "outputs": [
    {
     "name": "stdout",
     "output_type": "stream",
     "text": [
      "Gli errori vengono commessi sul campione:  [11 12 21 39]\n"
     ]
    },
    {
     "data": {
      "image/png": "[encoded data removed]",
      "text/plain": [
       "<Figure size 640x480 with 1 Axes>"
      ]
     },
     "metadata": {},
     "output_type": "display_data"
    }
   ],
   "source": [
    "show_error_svm = pd.DataFrame({\"Predict\":predicted_y_test, \"Real\":y_test_tic})\n",
    "errors_name = show_error_svm[show_error_svm[\"Predict\"] != show_error_svm[\"Real\"]].index\n",
    "errors_name\n",
    "\n",
    "df_score_view_noqc = df_score_view.drop([0,1,2,3])\n",
    "\n",
    "error_index = (df_score_view_noqc[df_score_view_noqc[\"Sample\"].isin(errors_name)].index) - 4\n",
    "print(\"Gli errori vengono commessi sul campione: \",error_index.values)\n",
    "colors_with_error = colors_after_drop.copy()\n",
    "colors_with_error = np.delete(colors_with_error,[0,1,2,3])\n",
    "colors_with_error[error_index] = \"black\"\n",
    "\n",
    "plt.scatter(df_score_view_noqc[\"Score View X\"], df_score_view_noqc[\"Score View Y\"], c=colors_with_error)\n",
    "plt.xlabel('x')\n",
    "plt.ylabel('y')\n",
    "plt.legend(handles=[\n",
    "    plt.Line2D([0], [0], marker='o', color='w', label='LC', markerfacecolor='red', markersize=10),\n",
    "    plt.Line2D([0], [0], marker='o', color='w', label='MC', markerfacecolor='green', markersize=10),\n",
    "    plt.Line2D([0], [0], marker='o', color='w', label='HC', markerfacecolor='orange', markersize=10),\n",
    "], title='Legend')\n",
    "plt.title('PCA View')\n",
    "plt.show()"
   ]
  },
  {
   "cell_type": "markdown",
   "metadata": {},
   "source": [
    "##### Random Forest"
   ]
  },
  {
   "cell_type": "code",
   "execution_count": null,
   "metadata": {},
   "outputs": [
    {
     "name": "stderr",
     "output_type": "stream",
     "text": [
      "/Users/bvs/opt/anaconda3/envs/AI4Omics/lib/python3.9/site-packages/sklearn/metrics/_classification.py:2394: UserWarning: y_pred contains classes not in y_true\n",
      "  warnings.warn(\"y_pred contains classes not in y_true\")\n",
      "/Users/bvs/opt/anaconda3/envs/AI4Omics/lib/python3.9/site-packages/sklearn/metrics/_classification.py:2394: UserWarning: y_pred contains classes not in y_true\n",
      "  warnings.warn(\"y_pred contains classes not in y_true\")\n",
      "/Users/bvs/opt/anaconda3/envs/AI4Omics/lib/python3.9/site-packages/sklearn/metrics/_classification.py:2394: UserWarning: y_pred contains classes not in y_true\n",
      "  warnings.warn(\"y_pred contains classes not in y_true\")\n",
      "/Users/bvs/opt/anaconda3/envs/AI4Omics/lib/python3.9/site-packages/sklearn/metrics/_classification.py:2394: UserWarning: y_pred contains classes not in y_true\n",
      "  warnings.warn(\"y_pred contains classes not in y_true\")\n",
      "/Users/bvs/opt/anaconda3/envs/AI4Omics/lib/python3.9/site-packages/sklearn/metrics/_classification.py:2394: UserWarning: y_pred contains classes not in y_true\n",
      "  warnings.warn(\"y_pred contains classes not in y_true\")\n"
     ]
    },
    {
     "name": "stdout",
     "output_type": "stream",
     "text": [
      "L'accuracy è:  92.95774647887323 %\n",
      "La balanced_accuracy è:  92.95774647887323 %\n"
     ]
    }
   ],
   "source": [
    "from sklearn.ensemble import RandomForestClassifier\n",
    "from sklearn import metrics as mt\n",
    "from sklearn.model_selection import LeaveOneOut\n",
    "from imblearn.over_sampling import BorderlineSMOTE\n",
    "\n",
    "loo = LeaveOneOut()\n",
    "\n",
    "rf_model = RandomForestClassifier(n_estimators=200, random_state=3, max_depth=22, n_jobs=4)\n",
    "\n",
    "performance_scores = []\n",
    "performance_scores_balanced = []\n",
    "i = 0\n",
    "\n",
    "for train_index, val_index in loo.split(X_w_tic):\n",
    "    i+=1\n",
    "    train_x_temp, test_x_temp = X_w_tic.iloc[train_index],X_w_tic.iloc[val_index]\n",
    "    train_y_temp, test_y_temp = Y_w_tic.iloc[train_index],Y_w_tic.iloc[val_index]\n",
    "    \n",
    "    train_x_temp,train_y_temp = BorderlineSMOTE(random_state=99).fit_resample(train_x_temp,train_y_temp)\n",
    "    \n",
    "    # normalizzazione\n",
    "    mean_tic_temp = train_x_temp.mean(axis=0)\n",
    "    std_tic_temp = train_x_temp.std(axis=0)\n",
    "    train_x_temp = (train_x_temp.sub(mean_tic_temp,axis=1)).div(std_tic_temp,axis=1)\n",
    "\n",
    "    test_x_temp = (test_x_temp.sub(mean_tic_temp,axis=1)).div(std_tic_temp,axis=1)\n",
    "    \n",
    "    \n",
    "    rf_model.fit(train_x_temp, train_y_temp)\n",
    "    predicted_y_temp = rf_model.predict(test_x_temp)\n",
    "    \n",
    "    accuracy_temp = np.round(mt.accuracy_score(test_y_temp,predicted_y_temp)*100,2)\n",
    "    performance_scores.append(accuracy_temp)\n",
    "    balanced_accuracy_temp = np.round(mt.balanced_accuracy_score(test_y_temp,predicted_y_temp)*100,2)\n",
    "    performance_scores_balanced.append(balanced_accuracy_temp)\n",
    "    \n",
    "mean_accuracy_temp = sum(performance_scores)/i\n",
    "mean_accuracy_balanced_temp = sum(performance_scores_balanced)/i\n",
    "\n",
    "print(\"L'accuracy è: \", mean_accuracy_temp, \"%\\nLa balanced_accuracy è: \", mean_accuracy_balanced_temp,\"%\")\n",
    "\n",
    "all_performance[0][\"TIC-SUM\"][\"RandomForests_Validation\"]= {\"BorderlineSMOTE\":mean_accuracy_balanced_temp}"
   ]
  },
  {
   "cell_type": "markdown",
   "metadata": {},
   "source": [
    "Try on Test"
   ]
  },
  {
   "cell_type": "code",
   "execution_count": null,
   "metadata": {},
   "outputs": [
    {
     "data": {
      "text/plain": [
       "93.65"
      ]
     },
     "execution_count": 46,
     "metadata": {},
     "output_type": "execute_result"
    }
   ],
   "source": [
    "predicted_y_test = rf_model.predict(x_test_tic_centered)\n",
    "balanced_accuracy = np.round(mt.balanced_accuracy_score(y_test_tic,predicted_y_test)*100,2)\n",
    "all_performance[0][\"TIC-SUM\"][\"RandomForests_Test\"]= {\"BorderlineSMOTE\":balanced_accuracy}\n",
    "balanced_accuracy"
   ]
  },
  {
   "cell_type": "markdown",
   "metadata": {},
   "source": [
    "Show the error in Random Forest"
   ]
  },
  {
   "cell_type": "code",
   "execution_count": null,
   "metadata": {},
   "outputs": [
    {
     "name": "stdout",
     "output_type": "stream",
     "text": [
      "Gli errori vengono commessi sul campione:  [21 95]\n"
     ]
    },
    {
     "data": {
      "image/png": "[encoded data removed]",
      "text/plain": [
       "<Figure size 640x480 with 1 Axes>"
      ]
     },
     "metadata": {},
     "output_type": "display_data"
    }
   ],
   "source": [
    "show_error_rf = pd.DataFrame({\"Predict\":predicted_y_test, \"Real\":y_test_tic})\n",
    "errors_name = show_error_rf[show_error_rf[\"Predict\"] != show_error_rf[\"Real\"]].index\n",
    "errors_name\n",
    "\n",
    "df_score_view_noqc = df_score_view.drop([0,1,2,3])\n",
    "\n",
    "error_index = (df_score_view_noqc[df_score_view_noqc[\"Sample\"].isin(errors_name)].index) - 4\n",
    "print(\"Gli errori vengono commessi sul campione: \",error_index.values)\n",
    "colors_with_error = colors_after_drop.copy()\n",
    "colors_with_error = np.delete(colors_with_error,[0,1,2,3])\n",
    "colors_with_error[error_index] = \"black\"\n",
    "\n",
    "plt.scatter(df_score_view_noqc[\"Score View X\"], df_score_view_noqc[\"Score View Y\"], c=colors_with_error)\n",
    "plt.xlabel('x')\n",
    "plt.ylabel('y')\n",
    "plt.legend(handles=[\n",
    "    plt.Line2D([0], [0], marker='o', color='w', label='LC', markerfacecolor='red', markersize=10),\n",
    "    plt.Line2D([0], [0], marker='o', color='w', label='MC', markerfacecolor='green', markersize=10),\n",
    "    plt.Line2D([0], [0], marker='o', color='w', label='HC', markerfacecolor='orange', markersize=10),\n",
    "], title='Legend')\n",
    "plt.title('PCA View')\n",
    "plt.show()"
   ]
  },
  {
   "cell_type": "markdown",
   "metadata": {},
   "source": [
    "### Write on file"
   ]
  },
  {
   "cell_type": "code",
   "execution_count": null,
   "metadata": {},
   "outputs": [],
   "source": [
    "import json\n",
    "file_path = \"output_metaboloma_models.txt\"\n",
    "with open(file_path, \"a\") as file:\n",
    "    json.dump(all_performance, file, indent=4)"
   ]
  }
 ],
 "metadata": {
  "kernelspec": {
   "display_name": "AI4Omics",
   "language": "python",
   "name": "python3"
  },
  "language_info": {
   "codemirror_mode": {
    "name": "ipython",
    "version": 3
   },
   "file_extension": ".py",
   "mimetype": "text/x-python",
   "name": "python",
   "nbconvert_exporter": "python",
   "pygments_lexer": "ipython3",
   "version": "3.9.18"
  }
 },
 "nbformat": 4,
 "nbformat_minor": 2
}
