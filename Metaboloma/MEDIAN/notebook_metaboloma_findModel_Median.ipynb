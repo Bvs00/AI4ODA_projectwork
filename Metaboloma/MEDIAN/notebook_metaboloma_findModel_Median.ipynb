{
 "cells": [
  {
   "cell_type": "markdown",
   "metadata": {},
   "source": [
    "# Project Work - Try with Median - Metaboloma\n",
    "This project is composed from two dataset:\n",
    "- Lipidoma\n",
    "- Metaboloma\n",
    "\n",
    "The aim of this project is identify bio-markers that allow to distinguish the evolution of pathology (HCV). We have 3 several class of patient:\n",
    "- LC: Hepatocellular carcinoma\n",
    "- HC: Hepatitis C virus\n",
    "- MC: Mixed Cryoglobulinemia disease"
   ]
  },
  {
   "cell_type": "markdown",
   "metadata": {},
   "source": [
    "## Read Data Set"
   ]
  },
  {
   "cell_type": "code",
   "execution_count": 1,
   "metadata": {},
   "outputs": [
    {
     "data": {
      "text/html": [
       "<div>\n",
       "<style scoped>\n",
       "    .dataframe tbody tr th:only-of-type {\n",
       "        vertical-align: middle;\n",
       "    }\n",
       "\n",
       "    .dataframe tbody tr th {\n",
       "        vertical-align: top;\n",
       "    }\n",
       "\n",
       "    .dataframe thead th {\n",
       "        text-align: right;\n",
       "    }\n",
       "</style>\n",
       "<table border=\"1\" class=\"dataframe\">\n",
       "  <thead>\n",
       "    <tr style=\"text-align: right;\">\n",
       "      <th></th>\n",
       "      <th>Aminooctanoic acid</th>\n",
       "      <th>Androsterone sulfate</th>\n",
       "      <th>Arachidonic acid</th>\n",
       "      <th>Arginine</th>\n",
       "      <th>Asymmetric dimethylarginine</th>\n",
       "      <th>Bilirubin</th>\n",
       "      <th>Biliverdin</th>\n",
       "      <th>CAR 10:0</th>\n",
       "      <th>CAR 10:1</th>\n",
       "      <th>CAR 14:1</th>\n",
       "      <th>...</th>\n",
       "      <th>Paraxanthine</th>\n",
       "      <th>Phenylacetylglutamine</th>\n",
       "      <th>Pregnenolone sulfate</th>\n",
       "      <th>Proline betaine</th>\n",
       "      <th>Proline-hydroxyproline</th>\n",
       "      <th>Pseudouridine</th>\n",
       "      <th>Sphingosine 1-phosphate</th>\n",
       "      <th>Taurine</th>\n",
       "      <th>Tyrosine</th>\n",
       "      <th>Urobilinogen</th>\n",
       "    </tr>\n",
       "  </thead>\n",
       "  <tbody>\n",
       "    <tr>\n",
       "      <th>260522_QC 3uL POS_BA2_1_5281</th>\n",
       "      <td>1724.36</td>\n",
       "      <td>36169.2</td>\n",
       "      <td>1791.64</td>\n",
       "      <td>20815.31</td>\n",
       "      <td>18192.06</td>\n",
       "      <td>2352.46</td>\n",
       "      <td>3163.69</td>\n",
       "      <td>41893.68</td>\n",
       "      <td>20112.96</td>\n",
       "      <td>13712.3</td>\n",
       "      <td>...</td>\n",
       "      <td>25095.15</td>\n",
       "      <td>11855.6</td>\n",
       "      <td>7784.79</td>\n",
       "      <td>63059.26</td>\n",
       "      <td>4441.94</td>\n",
       "      <td>2532.3</td>\n",
       "      <td>370.53</td>\n",
       "      <td>4797.76</td>\n",
       "      <td>1558.59</td>\n",
       "      <td>10739.38</td>\n",
       "    </tr>\n",
       "    <tr>\n",
       "      <th>260522_QC 3uL POS_BA2_1_5282</th>\n",
       "      <td>2069.33</td>\n",
       "      <td>NaN</td>\n",
       "      <td>2686.61</td>\n",
       "      <td>18423.92</td>\n",
       "      <td>16191.01</td>\n",
       "      <td>2867.38</td>\n",
       "      <td>2492.91</td>\n",
       "      <td>45853.77</td>\n",
       "      <td>22089.3</td>\n",
       "      <td>13680.64</td>\n",
       "      <td>...</td>\n",
       "      <td>26118.44</td>\n",
       "      <td>12851.29</td>\n",
       "      <td>8463.23</td>\n",
       "      <td>59114.21</td>\n",
       "      <td>4312.64</td>\n",
       "      <td>2706.49</td>\n",
       "      <td>547.05</td>\n",
       "      <td>4898.68</td>\n",
       "      <td>2369.34</td>\n",
       "      <td>10762.16</td>\n",
       "    </tr>\n",
       "    <tr>\n",
       "      <th>260522_QC 3uL POS_BA2_1_5292</th>\n",
       "      <td>2345.91</td>\n",
       "      <td>36445.49</td>\n",
       "      <td>1934.77</td>\n",
       "      <td>18134.45</td>\n",
       "      <td>16500.87</td>\n",
       "      <td>2068.57</td>\n",
       "      <td>2921.83</td>\n",
       "      <td>40248.9</td>\n",
       "      <td>20480.08</td>\n",
       "      <td>14949.6</td>\n",
       "      <td>...</td>\n",
       "      <td>34265.84</td>\n",
       "      <td>16378.96</td>\n",
       "      <td>9249.89</td>\n",
       "      <td>58846.07</td>\n",
       "      <td>4322.24</td>\n",
       "      <td>2988.95</td>\n",
       "      <td>480.28</td>\n",
       "      <td>4262.75</td>\n",
       "      <td>1780.54</td>\n",
       "      <td>10415.68</td>\n",
       "    </tr>\n",
       "    <tr>\n",
       "      <th>260522_QC 3uL POS_BA2_1_5336</th>\n",
       "      <td>2800.96</td>\n",
       "      <td>48072.08</td>\n",
       "      <td>2338.6</td>\n",
       "      <td>NaN</td>\n",
       "      <td>18163.49</td>\n",
       "      <td>1626.92</td>\n",
       "      <td>2426.26</td>\n",
       "      <td>38664.73</td>\n",
       "      <td>19663.5</td>\n",
       "      <td>14294.55</td>\n",
       "      <td>...</td>\n",
       "      <td>32695.32</td>\n",
       "      <td>13010.66</td>\n",
       "      <td>11141.93</td>\n",
       "      <td>68917.94</td>\n",
       "      <td>4249.72</td>\n",
       "      <td>2369.77</td>\n",
       "      <td>604.94</td>\n",
       "      <td>3894.54</td>\n",
       "      <td>1470.27</td>\n",
       "      <td>8576.66</td>\n",
       "    </tr>\n",
       "    <tr>\n",
       "      <th>260522_LC 203_POS_BA3_1_5284</th>\n",
       "      <td>5593.8</td>\n",
       "      <td>8391.23</td>\n",
       "      <td>2555.37</td>\n",
       "      <td>23541.71</td>\n",
       "      <td>25006.24</td>\n",
       "      <td>20973.29</td>\n",
       "      <td>11433.02</td>\n",
       "      <td>101834.45</td>\n",
       "      <td>27948.15</td>\n",
       "      <td>20205.67</td>\n",
       "      <td>...</td>\n",
       "      <td>59383.52</td>\n",
       "      <td>24228.53</td>\n",
       "      <td>2319.81</td>\n",
       "      <td>11698.76</td>\n",
       "      <td>5601.15</td>\n",
       "      <td>2336.02</td>\n",
       "      <td>920.18</td>\n",
       "      <td>4491.4</td>\n",
       "      <td>3273.71</td>\n",
       "      <td>893.61</td>\n",
       "    </tr>\n",
       "    <tr>\n",
       "      <th>...</th>\n",
       "      <td>...</td>\n",
       "      <td>...</td>\n",
       "      <td>...</td>\n",
       "      <td>...</td>\n",
       "      <td>...</td>\n",
       "      <td>...</td>\n",
       "      <td>...</td>\n",
       "      <td>...</td>\n",
       "      <td>...</td>\n",
       "      <td>...</td>\n",
       "      <td>...</td>\n",
       "      <td>...</td>\n",
       "      <td>...</td>\n",
       "      <td>...</td>\n",
       "      <td>...</td>\n",
       "      <td>...</td>\n",
       "      <td>...</td>\n",
       "      <td>...</td>\n",
       "      <td>...</td>\n",
       "      <td>...</td>\n",
       "      <td>...</td>\n",
       "    </tr>\n",
       "    <tr>\n",
       "      <th>260522_HC 019_POS_GE8_1_5367</th>\n",
       "      <td>5082.13</td>\n",
       "      <td>71447.89</td>\n",
       "      <td>2195.48</td>\n",
       "      <td>11581.65</td>\n",
       "      <td>11746.75</td>\n",
       "      <td>2378.9</td>\n",
       "      <td>1772.48</td>\n",
       "      <td>62455.74</td>\n",
       "      <td>40757.8</td>\n",
       "      <td>11739.01</td>\n",
       "      <td>...</td>\n",
       "      <td>95740.05</td>\n",
       "      <td>22130.71</td>\n",
       "      <td>10216.19</td>\n",
       "      <td>16960.19</td>\n",
       "      <td>4379.81</td>\n",
       "      <td>2054.49</td>\n",
       "      <td>1658.98</td>\n",
       "      <td>3282.69</td>\n",
       "      <td>1720.11</td>\n",
       "      <td>1485.28</td>\n",
       "    </tr>\n",
       "    <tr>\n",
       "      <th>260522_HC 020_POS_RA1_1_5368</th>\n",
       "      <td>2560.8</td>\n",
       "      <td>6213.98</td>\n",
       "      <td>2240.19</td>\n",
       "      <td>19817.97</td>\n",
       "      <td>15440.64</td>\n",
       "      <td>3008.33</td>\n",
       "      <td>2334.52</td>\n",
       "      <td>119343.25</td>\n",
       "      <td>55534.63</td>\n",
       "      <td>24819.22</td>\n",
       "      <td>...</td>\n",
       "      <td>43309.66</td>\n",
       "      <td>27068.33</td>\n",
       "      <td>5982.11</td>\n",
       "      <td>8025.66</td>\n",
       "      <td>7901.4</td>\n",
       "      <td>3315.97</td>\n",
       "      <td>981.54</td>\n",
       "      <td>2643.4</td>\n",
       "      <td>2377.65</td>\n",
       "      <td>2736.38</td>\n",
       "    </tr>\n",
       "    <tr>\n",
       "      <th>260522_HC 021_POS_RA7_1_5375</th>\n",
       "      <td>4378.68</td>\n",
       "      <td>NaN</td>\n",
       "      <td>826.61</td>\n",
       "      <td>7058.17</td>\n",
       "      <td>14720.29</td>\n",
       "      <td>5098.76</td>\n",
       "      <td>3060.99</td>\n",
       "      <td>160972.44</td>\n",
       "      <td>40101.87</td>\n",
       "      <td>12816.22</td>\n",
       "      <td>...</td>\n",
       "      <td>31221.78</td>\n",
       "      <td>27424.89</td>\n",
       "      <td>3857.13</td>\n",
       "      <td>74973.58</td>\n",
       "      <td>4896.98</td>\n",
       "      <td>3970.25</td>\n",
       "      <td>766.7</td>\n",
       "      <td>3415.74</td>\n",
       "      <td>2796.12</td>\n",
       "      <td>8934.25</td>\n",
       "    </tr>\n",
       "    <tr>\n",
       "      <th>260522_HC 022_POS_RA8_1_5376</th>\n",
       "      <td>3584.63</td>\n",
       "      <td>106970.46</td>\n",
       "      <td>2322.56</td>\n",
       "      <td>16072.35</td>\n",
       "      <td>15300.35</td>\n",
       "      <td>8262.55</td>\n",
       "      <td>4217.25</td>\n",
       "      <td>75388.84</td>\n",
       "      <td>25210.08</td>\n",
       "      <td>13802.58</td>\n",
       "      <td>...</td>\n",
       "      <td>99036.48</td>\n",
       "      <td>16814.4</td>\n",
       "      <td>10656.49</td>\n",
       "      <td>45065.14</td>\n",
       "      <td>2711.33</td>\n",
       "      <td>2925.63</td>\n",
       "      <td>587.06</td>\n",
       "      <td>4154.92</td>\n",
       "      <td>1176.92</td>\n",
       "      <td>3078.14</td>\n",
       "    </tr>\n",
       "    <tr>\n",
       "      <th>260522_HC 023_POS_RB1_1_5377</th>\n",
       "      <td>4951.34</td>\n",
       "      <td>2153.03</td>\n",
       "      <td>2210.14</td>\n",
       "      <td>15399.16</td>\n",
       "      <td>11328.86</td>\n",
       "      <td>1492.71</td>\n",
       "      <td>883.07</td>\n",
       "      <td>27218.89</td>\n",
       "      <td>15521.81</td>\n",
       "      <td>3820.62</td>\n",
       "      <td>...</td>\n",
       "      <td>10822</td>\n",
       "      <td>8103.98</td>\n",
       "      <td>9143.15</td>\n",
       "      <td>25215.47</td>\n",
       "      <td>4685.3</td>\n",
       "      <td>2824.89</td>\n",
       "      <td>1209.32</td>\n",
       "      <td>3370.63</td>\n",
       "      <td>2494.34</td>\n",
       "      <td>1475.84</td>\n",
       "    </tr>\n",
       "  </tbody>\n",
       "</table>\n",
       "<p>106 rows × 53 columns</p>\n",
       "</div>"
      ],
      "text/plain": [
       "                             Aminooctanoic acid Androsterone sulfate  \\\n",
       "260522_QC 3uL POS_BA2_1_5281            1724.36              36169.2   \n",
       "260522_QC 3uL POS_BA2_1_5282            2069.33                  NaN   \n",
       "260522_QC 3uL POS_BA2_1_5292            2345.91             36445.49   \n",
       "260522_QC 3uL POS_BA2_1_5336            2800.96             48072.08   \n",
       "260522_LC 203_POS_BA3_1_5284             5593.8              8391.23   \n",
       "...                                         ...                  ...   \n",
       "260522_HC 019_POS_GE8_1_5367            5082.13             71447.89   \n",
       "260522_HC 020_POS_RA1_1_5368             2560.8              6213.98   \n",
       "260522_HC 021_POS_RA7_1_5375            4378.68                  NaN   \n",
       "260522_HC 022_POS_RA8_1_5376            3584.63            106970.46   \n",
       "260522_HC 023_POS_RB1_1_5377            4951.34              2153.03   \n",
       "\n",
       "                             Arachidonic acid  Arginine  \\\n",
       "260522_QC 3uL POS_BA2_1_5281          1791.64  20815.31   \n",
       "260522_QC 3uL POS_BA2_1_5282          2686.61  18423.92   \n",
       "260522_QC 3uL POS_BA2_1_5292          1934.77  18134.45   \n",
       "260522_QC 3uL POS_BA2_1_5336           2338.6       NaN   \n",
       "260522_LC 203_POS_BA3_1_5284          2555.37  23541.71   \n",
       "...                                       ...       ...   \n",
       "260522_HC 019_POS_GE8_1_5367          2195.48  11581.65   \n",
       "260522_HC 020_POS_RA1_1_5368          2240.19  19817.97   \n",
       "260522_HC 021_POS_RA7_1_5375           826.61   7058.17   \n",
       "260522_HC 022_POS_RA8_1_5376          2322.56  16072.35   \n",
       "260522_HC 023_POS_RB1_1_5377          2210.14  15399.16   \n",
       "\n",
       "                             Asymmetric dimethylarginine Bilirubin Biliverdin  \\\n",
       "260522_QC 3uL POS_BA2_1_5281                    18192.06   2352.46    3163.69   \n",
       "260522_QC 3uL POS_BA2_1_5282                    16191.01   2867.38    2492.91   \n",
       "260522_QC 3uL POS_BA2_1_5292                    16500.87   2068.57    2921.83   \n",
       "260522_QC 3uL POS_BA2_1_5336                    18163.49   1626.92    2426.26   \n",
       "260522_LC 203_POS_BA3_1_5284                    25006.24  20973.29   11433.02   \n",
       "...                                                  ...       ...        ...   \n",
       "260522_HC 019_POS_GE8_1_5367                    11746.75    2378.9    1772.48   \n",
       "260522_HC 020_POS_RA1_1_5368                    15440.64   3008.33    2334.52   \n",
       "260522_HC 021_POS_RA7_1_5375                    14720.29   5098.76    3060.99   \n",
       "260522_HC 022_POS_RA8_1_5376                    15300.35   8262.55    4217.25   \n",
       "260522_HC 023_POS_RB1_1_5377                    11328.86   1492.71     883.07   \n",
       "\n",
       "                               CAR 10:0  CAR 10:1  CAR 14:1  ... Paraxanthine  \\\n",
       "260522_QC 3uL POS_BA2_1_5281   41893.68  20112.96   13712.3  ...     25095.15   \n",
       "260522_QC 3uL POS_BA2_1_5282   45853.77   22089.3  13680.64  ...     26118.44   \n",
       "260522_QC 3uL POS_BA2_1_5292    40248.9  20480.08   14949.6  ...     34265.84   \n",
       "260522_QC 3uL POS_BA2_1_5336   38664.73   19663.5  14294.55  ...     32695.32   \n",
       "260522_LC 203_POS_BA3_1_5284  101834.45  27948.15  20205.67  ...     59383.52   \n",
       "...                                 ...       ...       ...  ...          ...   \n",
       "260522_HC 019_POS_GE8_1_5367   62455.74   40757.8  11739.01  ...     95740.05   \n",
       "260522_HC 020_POS_RA1_1_5368  119343.25  55534.63  24819.22  ...     43309.66   \n",
       "260522_HC 021_POS_RA7_1_5375  160972.44  40101.87  12816.22  ...     31221.78   \n",
       "260522_HC 022_POS_RA8_1_5376   75388.84  25210.08  13802.58  ...     99036.48   \n",
       "260522_HC 023_POS_RB1_1_5377   27218.89  15521.81   3820.62  ...        10822   \n",
       "\n",
       "                             Phenylacetylglutamine Pregnenolone sulfate  \\\n",
       "260522_QC 3uL POS_BA2_1_5281               11855.6              7784.79   \n",
       "260522_QC 3uL POS_BA2_1_5282              12851.29              8463.23   \n",
       "260522_QC 3uL POS_BA2_1_5292              16378.96              9249.89   \n",
       "260522_QC 3uL POS_BA2_1_5336              13010.66             11141.93   \n",
       "260522_LC 203_POS_BA3_1_5284              24228.53              2319.81   \n",
       "...                                            ...                  ...   \n",
       "260522_HC 019_POS_GE8_1_5367              22130.71             10216.19   \n",
       "260522_HC 020_POS_RA1_1_5368              27068.33              5982.11   \n",
       "260522_HC 021_POS_RA7_1_5375              27424.89              3857.13   \n",
       "260522_HC 022_POS_RA8_1_5376               16814.4             10656.49   \n",
       "260522_HC 023_POS_RB1_1_5377               8103.98              9143.15   \n",
       "\n",
       "                             Proline betaine Proline-hydroxyproline  \\\n",
       "260522_QC 3uL POS_BA2_1_5281        63059.26                4441.94   \n",
       "260522_QC 3uL POS_BA2_1_5282        59114.21                4312.64   \n",
       "260522_QC 3uL POS_BA2_1_5292        58846.07                4322.24   \n",
       "260522_QC 3uL POS_BA2_1_5336        68917.94                4249.72   \n",
       "260522_LC 203_POS_BA3_1_5284        11698.76                5601.15   \n",
       "...                                      ...                    ...   \n",
       "260522_HC 019_POS_GE8_1_5367        16960.19                4379.81   \n",
       "260522_HC 020_POS_RA1_1_5368         8025.66                 7901.4   \n",
       "260522_HC 021_POS_RA7_1_5375        74973.58                4896.98   \n",
       "260522_HC 022_POS_RA8_1_5376        45065.14                2711.33   \n",
       "260522_HC 023_POS_RB1_1_5377        25215.47                 4685.3   \n",
       "\n",
       "                             Pseudouridine Sphingosine 1-phosphate  Taurine  \\\n",
       "260522_QC 3uL POS_BA2_1_5281        2532.3                  370.53  4797.76   \n",
       "260522_QC 3uL POS_BA2_1_5282       2706.49                  547.05  4898.68   \n",
       "260522_QC 3uL POS_BA2_1_5292       2988.95                  480.28  4262.75   \n",
       "260522_QC 3uL POS_BA2_1_5336       2369.77                  604.94  3894.54   \n",
       "260522_LC 203_POS_BA3_1_5284       2336.02                  920.18   4491.4   \n",
       "...                                    ...                     ...      ...   \n",
       "260522_HC 019_POS_GE8_1_5367       2054.49                 1658.98  3282.69   \n",
       "260522_HC 020_POS_RA1_1_5368       3315.97                  981.54   2643.4   \n",
       "260522_HC 021_POS_RA7_1_5375       3970.25                   766.7  3415.74   \n",
       "260522_HC 022_POS_RA8_1_5376       2925.63                  587.06  4154.92   \n",
       "260522_HC 023_POS_RB1_1_5377       2824.89                 1209.32  3370.63   \n",
       "\n",
       "                             Tyrosine Urobilinogen  \n",
       "260522_QC 3uL POS_BA2_1_5281  1558.59     10739.38  \n",
       "260522_QC 3uL POS_BA2_1_5282  2369.34     10762.16  \n",
       "260522_QC 3uL POS_BA2_1_5292  1780.54     10415.68  \n",
       "260522_QC 3uL POS_BA2_1_5336  1470.27      8576.66  \n",
       "260522_LC 203_POS_BA3_1_5284  3273.71       893.61  \n",
       "...                               ...          ...  \n",
       "260522_HC 019_POS_GE8_1_5367  1720.11      1485.28  \n",
       "260522_HC 020_POS_RA1_1_5368  2377.65      2736.38  \n",
       "260522_HC 021_POS_RA7_1_5375  2796.12      8934.25  \n",
       "260522_HC 022_POS_RA8_1_5376  1176.92      3078.14  \n",
       "260522_HC 023_POS_RB1_1_5377  2494.34      1475.84  \n",
       "\n",
       "[106 rows x 53 columns]"
      ]
     },
     "execution_count": 1,
     "metadata": {},
     "output_type": "execute_result"
    }
   ],
   "source": [
    "import pandas as pd\n",
    "import numpy as np\n",
    "\n",
    "data_metaboloma_transpose = pd.read_excel(\"../../DataSet PAscale/Metaboloma.xlsx\")\n",
    "data_metaboloma_transpose\n",
    "\n",
    "data_metaboloma = data_metaboloma_transpose.T\n",
    "\n",
    "data_metaboloma.columns = data_metaboloma_transpose[\"Sample\"]\n",
    "\n",
    "data_metaboloma = data_metaboloma.iloc[1:]\n",
    "\n",
    "data_metaboloma.columns = list(data_metaboloma.columns)\n",
    "\n",
    "df_y_metaboloma = data_metaboloma[\"Label\"].iloc[1:]\n",
    "\n",
    "mz_metaboloma = data_metaboloma.iloc[0:1,1:]\n",
    "\n",
    "df_y_qc_metaboloma = data_metaboloma[\"Label\"].iloc[1:5]\n",
    "\n",
    "df_x_metaboloma = data_metaboloma.iloc[1:,1:]\n",
    "\n",
    "df_qc_metaboloma = data_metaboloma.iloc[1:5]\n",
    "\n",
    "name_samples_metaboloma = df_x_metaboloma.transpose().columns\n",
    "\n",
    "df_x_metaboloma"
   ]
  },
  {
   "cell_type": "markdown",
   "metadata": {},
   "source": [
    "Choose colors for each class"
   ]
  },
  {
   "cell_type": "code",
   "execution_count": 2,
   "metadata": {},
   "outputs": [],
   "source": [
    "# color mapping to use in plot\n",
    "color_mapping = {\n",
    "    'LC': 'red',\n",
    "    'MC': 'green',\n",
    "    'HC' : 'orange',\n",
    "    'QC' : 'purple'\n",
    "}\n",
    "\n",
    "colors = [color_mapping[label] for label in df_y_metaboloma]"
   ]
  },
  {
   "cell_type": "markdown",
   "metadata": {},
   "source": [
    "## View the data"
   ]
  },
  {
   "cell_type": "code",
   "execution_count": 3,
   "metadata": {},
   "outputs": [
    {
     "data": {
      "image/png": "[encoded data removed]",
      "text/plain": [
       "<Figure size 640x480 with 1 Axes>"
      ]
     },
     "metadata": {},
     "output_type": "display_data"
    },
    {
     "name": "stdout",
     "output_type": "stream",
     "text": [
      "260522_HC 07_POS_BD8_1_5315    268301.44\n",
      "dtype: object\n"
     ]
    }
   ],
   "source": [
    "import matplotlib.pyplot as plt\n",
    "\n",
    "plt.scatter(mz_metaboloma, df_x_metaboloma.iloc[89:90])\n",
    "plt.xlabel(\"M/Z\")\n",
    "plt.ylabel(\"Intensity\")\n",
    "plt.title(\"260522_HC 07_POS_BD8_1_5315\")\n",
    "plt.show()\n",
    "# axis=1 sono le righe; axis=0 sono le colonne\n",
    "print(df_x_metaboloma[89:90].max(axis=1))\n"
   ]
  },
  {
   "cell_type": "markdown",
   "metadata": {},
   "source": [
    "Save a copy of original dataset and after we filled the Nan value"
   ]
  },
  {
   "cell_type": "code",
   "execution_count": 4,
   "metadata": {},
   "outputs": [
    {
     "name": "stdout",
     "output_type": "stream",
     "text": [
      "Aminooctanoic acid                    0\n",
      "Dehydroepiandrosterone sulfate        0\n",
      "Dodecenoylcarnitine                   0\n",
      "FA 18:1+1O                            0\n",
      "Glycerophosphocholine                 0\n",
      "Histidine                             0\n",
      "Homoarginine                          0\n",
      "Hydroperoxylinoleic acid              0\n",
      "Hydroxyanthranilic acid               0\n",
      "Hydroxypregnenolone sulfate           0\n",
      "INDOLE-ACETALDEHYDE                   0\n",
      "Indoxyl sulfate                       0\n",
      "Isoleucylproline                      0\n",
      "Methylguanine                         0\n",
      "Methylhistidine                       0\n",
      "Methylpyridonecarboxamide             0\n",
      "Paraxanthine                          0\n",
      "Phenylacetylglutamine                 0\n",
      "Pregnenolone sulfate                  0\n",
      "Proline betaine                       0\n",
      "Proline-hydroxyproline                0\n",
      "Pseudouridine                         0\n",
      "Sphingosine 1-phosphate               0\n",
      "Taurine                               0\n",
      "Tyrosine                              0\n",
      "Deoxycholic acid glycine conjugate    0\n",
      "Cresol sulfate                        0\n",
      "Androsterone sulfate                  0\n",
      "Carnitine                             0\n",
      "Arachidonic acid                      0\n",
      "Arginine                              0\n",
      "Asymmetric dimethylarginine           0\n",
      "Bilirubin                             0\n",
      "Biliverdin                            0\n",
      "CAR 10:0                              0\n",
      "CAR 10:1                              0\n",
      "CAR 14:1                              0\n",
      "CAR 16:1_A                            0\n",
      "CAR 16:1_B                            0\n",
      "CAR 16:2                              0\n",
      "CAR 18:1_A                            0\n",
      "CAR 18:1_B                            0\n",
      "CAR 2:0                               0\n",
      "CAR 3:0                               0\n",
      "CAR 4:0                               0\n",
      "CAR 5:0                               0\n",
      "CAR 5:1;O2                            0\n",
      "CAR 5:1                               0\n",
      "CAR 6:0                               0\n",
      "CAR 8:0                               0\n",
      "CAR 8:1                               0\n",
      "CAR 9:0                               0\n",
      "Urobilinogen                          0\n",
      "dtype: int64\n"
     ]
    }
   ],
   "source": [
    "df_x_metaboloma_original = df_x_metaboloma.copy()\n",
    "for column in df_x_metaboloma.columns:\n",
    "    df_x_metaboloma.loc[:,column] = df_x_metaboloma[column].fillna((np.nanmin(df_x_metaboloma[column]))/5)\n",
    "print(df_x_metaboloma.isna().sum().sort_values(ascending=False))"
   ]
  },
  {
   "cell_type": "markdown",
   "metadata": {},
   "source": [
    "View the data in a bidimensional space, thanks to PCA"
   ]
  },
  {
   "cell_type": "code",
   "execution_count": 5,
   "metadata": {},
   "outputs": [
    {
     "data": {
      "image/png": "[encoded data removed]",
      "text/plain": [
       "<Figure size 640x480 with 1 Axes>"
      ]
     },
     "metadata": {},
     "output_type": "display_data"
    }
   ],
   "source": [
    "from sklearn.decomposition import PCA\n",
    "pca_view = PCA(n_components=2)\n",
    "\n",
    "scores_view = pca_view.fit_transform(df_x_metaboloma,df_y_metaboloma)\n",
    "\n",
    "\n",
    "plt.scatter(scores_view[:, 0], scores_view[:, 1], c=colors)\n",
    "plt.xlabel('x')\n",
    "plt.ylabel('y')\n",
    "plt.legend(handles=[\n",
    "    plt.Line2D([0], [0], marker='o', color='w', label='LC', markerfacecolor='red', markersize=10),\n",
    "    plt.Line2D([0], [0], marker='o', color='w', label='MC', markerfacecolor='green', markersize=10),\n",
    "    plt.Line2D([0], [0], marker='o', color='w', label='HC', markerfacecolor='orange', markersize=10),\n",
    "    plt.Line2D([0], [0], marker='o', color='w', label='QC', markerfacecolor='purple', markersize=10),\n",
    "], title='Legend')\n",
    "plt.title('PCA View')\n",
    "plt.show()\n",
    "\n"
   ]
  },
  {
   "cell_type": "markdown",
   "metadata": {},
   "source": [
    "LDA\n",
    "\n",
    "Using also LDA to view the data in a bidimensional space, to see the effect of this further method."
   ]
  },
  {
   "cell_type": "code",
   "execution_count": 6,
   "metadata": {},
   "outputs": [
    {
     "data": {
      "image/png": "[encoded data removed]",
      "text/plain": [
       "<Figure size 640x480 with 1 Axes>"
      ]
     },
     "metadata": {},
     "output_type": "display_data"
    }
   ],
   "source": [
    "from sklearn.discriminant_analysis import LinearDiscriminantAnalysis as LDA\n",
    "\n",
    "lda_fit_median = LDA(n_components=2)\n",
    "lda_scores = lda_fit_median.fit_transform(df_x_metaboloma,df_y_metaboloma)\n",
    "\n",
    "plt.scatter(lda_scores[:, 0], lda_scores[:, 1], c=colors)\n",
    "plt.xlabel('x')\n",
    "plt.ylabel('y')\n",
    "plt.legend(handles=[\n",
    "    plt.Line2D([0], [0], marker='o', color='w', label='LC', markerfacecolor='red', markersize=10),\n",
    "    plt.Line2D([0], [0], marker='o', color='w', label='MC', markerfacecolor='green', markersize=10),\n",
    "    plt.Line2D([0], [0], marker='o', color='w', label='HC', markerfacecolor='orange', markersize=10),\n",
    "    plt.Line2D([0], [0], marker='o', color='w', label='QC', markerfacecolor='purple', markersize=10),\n",
    "], title='Legend')\n",
    "plt.title('LDA View')\n",
    "plt.show()"
   ]
  },
  {
   "cell_type": "markdown",
   "metadata": {},
   "source": [
    "## Median Normalization\n",
    "\n",
    "We find the median value in the original dataset, before to fill the Nan value"
   ]
  },
  {
   "cell_type": "code",
   "execution_count": 7,
   "metadata": {},
   "outputs": [
    {
     "data": {
      "image/png": "[encoded data removed]",
      "text/plain": [
       "<Figure size 640x480 with 1 Axes>"
      ]
     },
     "metadata": {},
     "output_type": "display_data"
    },
    {
     "data": {
      "text/plain": [
       "260522_HC 07_POS_BD8_1_5315    27.10759\n",
       "dtype: object"
      ]
     },
     "execution_count": 7,
     "metadata": {},
     "output_type": "execute_result"
    }
   ],
   "source": [
    "median_original = df_x_metaboloma_original.median(axis=1, skipna=True)\n",
    "df_x_metaboloma_median = df_x_metaboloma.div(median_original,axis=0)\n",
    "\n",
    "plt.scatter(mz_metaboloma, df_x_metaboloma_median.iloc[89:90])\n",
    "plt.xlabel(\"M/Z\")\n",
    "plt.ylabel(\"Intensity\")\n",
    "plt.title(\"Samlple HC 11_M\")\n",
    "plt.show()\n",
    "# axis=1 sono le righe; axis=0 sono le colonne\n",
    "df_x_metaboloma_median[89:90].max(axis=1)"
   ]
  },
  {
   "cell_type": "markdown",
   "metadata": {},
   "source": [
    "View after normalization"
   ]
  },
  {
   "cell_type": "code",
   "execution_count": 8,
   "metadata": {},
   "outputs": [
    {
     "data": {
      "image/png": "[encoded data removed]",
      "text/plain": [
       "<Figure size 640x480 with 1 Axes>"
      ]
     },
     "metadata": {},
     "output_type": "display_data"
    }
   ],
   "source": [
    "pca_view = PCA(n_components=2)\n",
    "\n",
    "scores_view = pca_view.fit_transform(df_x_metaboloma_median,df_y_metaboloma)\n",
    "\n",
    "\n",
    "plt.scatter(scores_view[:, 0], scores_view[:, 1], c=colors)\n",
    "plt.xlabel('x')\n",
    "plt.ylabel('y')\n",
    "plt.legend(handles=[\n",
    "    plt.Line2D([0], [0], marker='o', color='w', label='LC', markerfacecolor='red', markersize=10),\n",
    "    plt.Line2D([0], [0], marker='o', color='w', label='MC', markerfacecolor='green', markersize=10),\n",
    "    plt.Line2D([0], [0], marker='o', color='w', label='HC', markerfacecolor='orange', markersize=10),\n",
    "    plt.Line2D([0], [0], marker='o', color='w', label='QC', markerfacecolor='purple', markersize=10),\n",
    "], title='Legend')\n",
    "plt.title('PCA View')\n",
    "plt.show()"
   ]
  },
  {
   "cell_type": "markdown",
   "metadata": {},
   "source": [
    "After this visualization, I could just stop here because the Quality Control samples are most near to LC and HC samples and for this reason I could say that this normalization is not enough right."
   ]
  },
  {
   "cell_type": "markdown",
   "metadata": {},
   "source": [
    "LDA"
   ]
  },
  {
   "cell_type": "code",
   "execution_count": 9,
   "metadata": {},
   "outputs": [
    {
     "data": {
      "image/png": "[encoded data removed]",
      "text/plain": [
       "<Figure size 640x480 with 1 Axes>"
      ]
     },
     "metadata": {},
     "output_type": "display_data"
    }
   ],
   "source": [
    "lda_fit_tic = LDA(n_components=2)\n",
    "lda_scores = lda_fit_tic.fit_transform(df_x_metaboloma_median,df_y_metaboloma)\n",
    "\n",
    "plt.scatter(lda_scores[:, 0], lda_scores[:, 1], c=colors)\n",
    "plt.xlabel('x')\n",
    "plt.ylabel('y')\n",
    "plt.legend(handles=[\n",
    "    plt.Line2D([0], [0], marker='o', color='w', label='LC', markerfacecolor='red', markersize=10),\n",
    "    plt.Line2D([0], [0], marker='o', color='w', label='MC', markerfacecolor='green', markersize=10),\n",
    "    plt.Line2D([0], [0], marker='o', color='w', label='HC', markerfacecolor='orange', markersize=10),\n",
    "    plt.Line2D([0], [0], marker='o', color='w', label='QC', markerfacecolor='purple', markersize=10),\n",
    "], title='Legend')\n",
    "plt.title('LDA View')\n",
    "plt.show()"
   ]
  },
  {
   "cell_type": "markdown",
   "metadata": {},
   "source": [
    "Also LDA return the same result"
   ]
  },
  {
   "cell_type": "markdown",
   "metadata": {},
   "source": [
    "## Drop Outlier"
   ]
  },
  {
   "cell_type": "code",
   "execution_count": 10,
   "metadata": {},
   "outputs": [],
   "source": [
    "drop = []"
   ]
  },
  {
   "cell_type": "markdown",
   "metadata": {},
   "source": [
    "LC"
   ]
  },
  {
   "cell_type": "code",
   "execution_count": 11,
   "metadata": {},
   "outputs": [
    {
     "data": {
      "text/html": [
       "<div>\n",
       "<style scoped>\n",
       "    .dataframe tbody tr th:only-of-type {\n",
       "        vertical-align: middle;\n",
       "    }\n",
       "\n",
       "    .dataframe tbody tr th {\n",
       "        vertical-align: top;\n",
       "    }\n",
       "\n",
       "    .dataframe thead th {\n",
       "        text-align: right;\n",
       "    }\n",
       "</style>\n",
       "<table border=\"1\" class=\"dataframe\">\n",
       "  <thead>\n",
       "    <tr style=\"text-align: right;\">\n",
       "      <th></th>\n",
       "      <th>Sample</th>\n",
       "      <th>outlier</th>\n",
       "    </tr>\n",
       "  </thead>\n",
       "  <tbody>\n",
       "    <tr>\n",
       "      <th>67</th>\n",
       "      <td>260522_LC 443_POS_RC7_1_5391</td>\n",
       "      <td>5.652574</td>\n",
       "    </tr>\n",
       "    <tr>\n",
       "      <th>34</th>\n",
       "      <td>260522_LC 365_POS_GC2_1_5344</td>\n",
       "      <td>3.268460</td>\n",
       "    </tr>\n",
       "    <tr>\n",
       "      <th>29</th>\n",
       "      <td>260522_LC 351_POS_GB2_1_5334</td>\n",
       "      <td>3.173164</td>\n",
       "    </tr>\n",
       "    <tr>\n",
       "      <th>60</th>\n",
       "      <td>260522_LC 431_POS_RB8_1_5384</td>\n",
       "      <td>2.679423</td>\n",
       "    </tr>\n",
       "    <tr>\n",
       "      <th>28</th>\n",
       "      <td>260522_LC 350_POS_GA6_1_5330</td>\n",
       "      <td>2.341467</td>\n",
       "    </tr>\n",
       "    <tr>\n",
       "      <th>...</th>\n",
       "      <td>...</td>\n",
       "      <td>...</td>\n",
       "    </tr>\n",
       "    <tr>\n",
       "      <th>51</th>\n",
       "      <td>260522_LC 399_POS_RA4_1_5372</td>\n",
       "      <td>0.282470</td>\n",
       "    </tr>\n",
       "    <tr>\n",
       "      <th>9</th>\n",
       "      <td>260522_LC 270_POS_BC2_1_5301</td>\n",
       "      <td>0.255224</td>\n",
       "    </tr>\n",
       "    <tr>\n",
       "      <th>12</th>\n",
       "      <td>260522_LC 306_POS_BC5_1_5304</td>\n",
       "      <td>0.210954</td>\n",
       "    </tr>\n",
       "    <tr>\n",
       "      <th>25</th>\n",
       "      <td>260522_LC 341_POS_GA3_1_5327</td>\n",
       "      <td>0.076484</td>\n",
       "    </tr>\n",
       "    <tr>\n",
       "      <th>24</th>\n",
       "      <td>260522_LC 339_POS_GA2_1_5326</td>\n",
       "      <td>0.015738</td>\n",
       "    </tr>\n",
       "  </tbody>\n",
       "</table>\n",
       "<p>69 rows × 2 columns</p>\n",
       "</div>"
      ],
      "text/plain": [
       "                          Sample   outlier\n",
       "67  260522_LC 443_POS_RC7_1_5391  5.652574\n",
       "34  260522_LC 365_POS_GC2_1_5344  3.268460\n",
       "29  260522_LC 351_POS_GB2_1_5334  3.173164\n",
       "60  260522_LC 431_POS_RB8_1_5384  2.679423\n",
       "28  260522_LC 350_POS_GA6_1_5330  2.341467\n",
       "..                           ...       ...\n",
       "51  260522_LC 399_POS_RA4_1_5372  0.282470\n",
       "9   260522_LC 270_POS_BC2_1_5301  0.255224\n",
       "12  260522_LC 306_POS_BC5_1_5304  0.210954\n",
       "25  260522_LC 341_POS_GA3_1_5327  0.076484\n",
       "24  260522_LC 339_POS_GA2_1_5326  0.015738\n",
       "\n",
       "[69 rows x 2 columns]"
      ]
     },
     "execution_count": 11,
     "metadata": {},
     "output_type": "execute_result"
    }
   ],
   "source": [
    "## codice prova con la distanza di mahalonobis\n",
    "lc = scores_view[4:73,:]\n",
    "\n",
    "mean_lc = np.mean(lc,axis=0)\n",
    "cov_matrix = np.cov(lc,rowvar=False)\n",
    "\n",
    "mahalanobis_distance_lc = []\n",
    "\n",
    "for point in lc:\n",
    "    diff = point - mean_lc\n",
    "    distance = np.sqrt(np.dot(np.dot(diff, np.linalg.inv(cov_matrix)), diff))\n",
    "    mahalanobis_distance_lc.append(distance)\n",
    "    \n",
    "# print(mahalanobis_distance_lc)\n",
    "\n",
    "outlier_lc = pd.DataFrame({\"Sample\":df_x_metaboloma_median.index[4:73],\"outlier\":mahalanobis_distance_lc}).sort_values(by=\"outlier\",ascending=False)\n",
    "outlier_lc"
   ]
  },
  {
   "cell_type": "code",
   "execution_count": 12,
   "metadata": {},
   "outputs": [
    {
     "data": {
      "text/plain": [
       "5.991464547107979"
      ]
     },
     "execution_count": 12,
     "metadata": {},
     "output_type": "execute_result"
    }
   ],
   "source": [
    "from scipy.stats import chi2\n",
    "\n",
    "alpha = 0.05\n",
    "threshold_distance_mahalanobis = chi2.ppf(1 - alpha, df = 2)\n",
    "threshold_distance_mahalanobis"
   ]
  },
  {
   "cell_type": "code",
   "execution_count": 13,
   "metadata": {},
   "outputs": [
    {
     "data": {
      "text/plain": [
       "[]"
      ]
     },
     "execution_count": 13,
     "metadata": {},
     "output_type": "execute_result"
    }
   ],
   "source": [
    "mean_out_lc = outlier_lc[\"outlier\"].mean(axis=0)\n",
    "temp = []\n",
    "for sample,elem in outlier_lc.values:\n",
    "    if elem > threshold_distance_mahalanobis:\n",
    "        drop.append(sample)\n",
    "        temp.append(sample)\n",
    "\n",
    "outlier_lc = outlier_lc.drop(outlier_lc[outlier_lc[\"Sample\"].isin(temp)].index)        \n",
    "\n",
    "drop"
   ]
  },
  {
   "cell_type": "markdown",
   "metadata": {},
   "source": [
    "MC"
   ]
  },
  {
   "cell_type": "code",
   "execution_count": 14,
   "metadata": {},
   "outputs": [
    {
     "data": {
      "text/html": [
       "<div>\n",
       "<style scoped>\n",
       "    .dataframe tbody tr th:only-of-type {\n",
       "        vertical-align: middle;\n",
       "    }\n",
       "\n",
       "    .dataframe tbody tr th {\n",
       "        vertical-align: top;\n",
       "    }\n",
       "\n",
       "    .dataframe thead th {\n",
       "        text-align: right;\n",
       "    }\n",
       "</style>\n",
       "<table border=\"1\" class=\"dataframe\">\n",
       "  <thead>\n",
       "    <tr style=\"text-align: right;\">\n",
       "      <th></th>\n",
       "      <th>Sample</th>\n",
       "      <th>outlier</th>\n",
       "    </tr>\n",
       "  </thead>\n",
       "  <tbody>\n",
       "    <tr>\n",
       "      <th>0</th>\n",
       "      <td>260522_MC 04_POS_BA7_1_5288</td>\n",
       "      <td>1.866906</td>\n",
       "    </tr>\n",
       "    <tr>\n",
       "      <th>8</th>\n",
       "      <td>260522_MC 17_POS_GD7_1_5358</td>\n",
       "      <td>1.597644</td>\n",
       "    </tr>\n",
       "    <tr>\n",
       "      <th>9</th>\n",
       "      <td>260522_MC 18_POS_GE7_1_5366</td>\n",
       "      <td>1.498989</td>\n",
       "    </tr>\n",
       "    <tr>\n",
       "      <th>2</th>\n",
       "      <td>260522_MC 09_POS_BC7_1_5306</td>\n",
       "      <td>1.487457</td>\n",
       "    </tr>\n",
       "    <tr>\n",
       "      <th>5</th>\n",
       "      <td>260522_MC 13_POS_GA7_1_5331</td>\n",
       "      <td>1.348237</td>\n",
       "    </tr>\n",
       "    <tr>\n",
       "      <th>1</th>\n",
       "      <td>260522_MC 05_POS_BB7_1_5298</td>\n",
       "      <td>1.322657</td>\n",
       "    </tr>\n",
       "    <tr>\n",
       "      <th>7</th>\n",
       "      <td>260522_MC 15_POS_GC7_1_5349</td>\n",
       "      <td>1.235609</td>\n",
       "    </tr>\n",
       "    <tr>\n",
       "      <th>6</th>\n",
       "      <td>260522_MC 14_POS_GB7_1_5341</td>\n",
       "      <td>1.028275</td>\n",
       "    </tr>\n",
       "    <tr>\n",
       "      <th>3</th>\n",
       "      <td>260522_MC 10_POS_BD7_1_5314</td>\n",
       "      <td>0.919059</td>\n",
       "    </tr>\n",
       "    <tr>\n",
       "      <th>4</th>\n",
       "      <td>260522_MC 11_POS_BE7_1_5323</td>\n",
       "      <td>0.711889</td>\n",
       "    </tr>\n",
       "  </tbody>\n",
       "</table>\n",
       "</div>"
      ],
      "text/plain": [
       "                        Sample   outlier\n",
       "0  260522_MC 04_POS_BA7_1_5288  1.866906\n",
       "8  260522_MC 17_POS_GD7_1_5358  1.597644\n",
       "9  260522_MC 18_POS_GE7_1_5366  1.498989\n",
       "2  260522_MC 09_POS_BC7_1_5306  1.487457\n",
       "5  260522_MC 13_POS_GA7_1_5331  1.348237\n",
       "1  260522_MC 05_POS_BB7_1_5298  1.322657\n",
       "7  260522_MC 15_POS_GC7_1_5349  1.235609\n",
       "6  260522_MC 14_POS_GB7_1_5341  1.028275\n",
       "3  260522_MC 10_POS_BD7_1_5314  0.919059\n",
       "4  260522_MC 11_POS_BE7_1_5323  0.711889"
      ]
     },
     "execution_count": 14,
     "metadata": {},
     "output_type": "execute_result"
    }
   ],
   "source": [
    "mc = scores_view[73:83,:]\n",
    "\n",
    "mean_mc = np.mean(mc,axis=0)\n",
    "cov_matrix = np.cov(mc,rowvar=False)\n",
    "\n",
    "mahalanobis_distance_mc = []\n",
    "\n",
    "for point in mc:\n",
    "    diff = point - mean_mc\n",
    "    distance = np.sqrt(np.dot(np.dot(diff, np.linalg.inv(cov_matrix)), diff))\n",
    "    mahalanobis_distance_mc.append(distance)\n",
    "    \n",
    "# print(mahalanobis_distance_mc)\n",
    "\n",
    "outlier_mc = pd.DataFrame({\"Sample\":df_x_metaboloma_median.index[73:83],\"outlier\":mahalanobis_distance_mc}).sort_values(by=\"outlier\",ascending=False)\n",
    "outlier_mc"
   ]
  },
  {
   "cell_type": "code",
   "execution_count": 15,
   "metadata": {},
   "outputs": [
    {
     "data": {
      "text/plain": [
       "[]"
      ]
     },
     "execution_count": 15,
     "metadata": {},
     "output_type": "execute_result"
    }
   ],
   "source": [
    "mean_out_mc = outlier_mc[\"outlier\"].mean(axis=0)\n",
    "temp = []\n",
    "for sample,elem in outlier_mc.values:\n",
    "    if elem > threshold_distance_mahalanobis:\n",
    "        drop.append(sample)\n",
    "        temp.append(sample)\n",
    "        \n",
    "outlier_mc = outlier_mc.drop(outlier_mc[outlier_mc[\"Sample\"].isin(temp)].index)\n",
    "\n",
    "drop"
   ]
  },
  {
   "cell_type": "markdown",
   "metadata": {},
   "source": [
    "HC"
   ]
  },
  {
   "cell_type": "code",
   "execution_count": 16,
   "metadata": {},
   "outputs": [
    {
     "data": {
      "text/html": [
       "<div>\n",
       "<style scoped>\n",
       "    .dataframe tbody tr th:only-of-type {\n",
       "        vertical-align: middle;\n",
       "    }\n",
       "\n",
       "    .dataframe tbody tr th {\n",
       "        vertical-align: top;\n",
       "    }\n",
       "\n",
       "    .dataframe thead th {\n",
       "        text-align: right;\n",
       "    }\n",
       "</style>\n",
       "<table border=\"1\" class=\"dataframe\">\n",
       "  <thead>\n",
       "    <tr style=\"text-align: right;\">\n",
       "      <th></th>\n",
       "      <th>Sample</th>\n",
       "      <th>outlier</th>\n",
       "    </tr>\n",
       "  </thead>\n",
       "  <tbody>\n",
       "    <tr>\n",
       "      <th>7</th>\n",
       "      <td>260522_HC 08_POS_BE1_1_5316</td>\n",
       "      <td>3.408756</td>\n",
       "    </tr>\n",
       "    <tr>\n",
       "      <th>1</th>\n",
       "      <td>260522_HC 02_POS_BB1_1_5290</td>\n",
       "      <td>1.937382</td>\n",
       "    </tr>\n",
       "    <tr>\n",
       "      <th>22</th>\n",
       "      <td>260522_HC 023_POS_RB1_1_5377</td>\n",
       "      <td>1.711246</td>\n",
       "    </tr>\n",
       "    <tr>\n",
       "      <th>5</th>\n",
       "      <td>260522_HC 06_POS_BD1_1_5308</td>\n",
       "      <td>1.686164</td>\n",
       "    </tr>\n",
       "    <tr>\n",
       "      <th>19</th>\n",
       "      <td>260522_HC 020_POS_RA1_1_5368</td>\n",
       "      <td>1.682996</td>\n",
       "    </tr>\n",
       "    <tr>\n",
       "      <th>2</th>\n",
       "      <td>260522_HC 03_POS_BB8_1_5299</td>\n",
       "      <td>1.651962</td>\n",
       "    </tr>\n",
       "    <tr>\n",
       "      <th>10</th>\n",
       "      <td>260522_HC 011_POS_GA8_1_5332</td>\n",
       "      <td>1.582883</td>\n",
       "    </tr>\n",
       "    <tr>\n",
       "      <th>16</th>\n",
       "      <td>260522_HC 017_POS_GD8_1_5359</td>\n",
       "      <td>1.537972</td>\n",
       "    </tr>\n",
       "    <tr>\n",
       "      <th>11</th>\n",
       "      <td>260522_HC 012_POS_GB1_1_5333</td>\n",
       "      <td>1.320638</td>\n",
       "    </tr>\n",
       "    <tr>\n",
       "      <th>4</th>\n",
       "      <td>260522_HC 05_POS_BC8_1_5307</td>\n",
       "      <td>1.320473</td>\n",
       "    </tr>\n",
       "    <tr>\n",
       "      <th>21</th>\n",
       "      <td>260522_HC 022_POS_RA8_1_5376</td>\n",
       "      <td>1.296890</td>\n",
       "    </tr>\n",
       "    <tr>\n",
       "      <th>20</th>\n",
       "      <td>260522_HC 021_POS_RA7_1_5375</td>\n",
       "      <td>1.080912</td>\n",
       "    </tr>\n",
       "    <tr>\n",
       "      <th>17</th>\n",
       "      <td>260522_HC 018_POS_GE1_1_5360</td>\n",
       "      <td>1.036189</td>\n",
       "    </tr>\n",
       "    <tr>\n",
       "      <th>15</th>\n",
       "      <td>260522_HC 016_POS_GD1_1_5351</td>\n",
       "      <td>1.011481</td>\n",
       "    </tr>\n",
       "    <tr>\n",
       "      <th>8</th>\n",
       "      <td>260522_HC 09_POS_BE8_1_5324</td>\n",
       "      <td>0.899564</td>\n",
       "    </tr>\n",
       "    <tr>\n",
       "      <th>12</th>\n",
       "      <td>260522_HC 013_POS_GB8_1_5342</td>\n",
       "      <td>0.893047</td>\n",
       "    </tr>\n",
       "    <tr>\n",
       "      <th>14</th>\n",
       "      <td>260522_HC 015_POS_GC8_1_5350</td>\n",
       "      <td>0.826943</td>\n",
       "    </tr>\n",
       "    <tr>\n",
       "      <th>0</th>\n",
       "      <td>260522_HC 01_POS_BA8_1_5289</td>\n",
       "      <td>0.774178</td>\n",
       "    </tr>\n",
       "    <tr>\n",
       "      <th>9</th>\n",
       "      <td>260522_HC 010_POS_GA1_1_5325</td>\n",
       "      <td>0.653397</td>\n",
       "    </tr>\n",
       "    <tr>\n",
       "      <th>3</th>\n",
       "      <td>260522_HC 04_POS_BC1_1_5300</td>\n",
       "      <td>0.613349</td>\n",
       "    </tr>\n",
       "    <tr>\n",
       "      <th>13</th>\n",
       "      <td>260522_HC 014_POS_GC1_1_5343</td>\n",
       "      <td>0.493911</td>\n",
       "    </tr>\n",
       "    <tr>\n",
       "      <th>18</th>\n",
       "      <td>260522_HC 019_POS_GE8_1_5367</td>\n",
       "      <td>0.226231</td>\n",
       "    </tr>\n",
       "    <tr>\n",
       "      <th>6</th>\n",
       "      <td>260522_HC 07_POS_BD8_1_5315</td>\n",
       "      <td>0.010052</td>\n",
       "    </tr>\n",
       "  </tbody>\n",
       "</table>\n",
       "</div>"
      ],
      "text/plain": [
       "                          Sample   outlier\n",
       "7    260522_HC 08_POS_BE1_1_5316  3.408756\n",
       "1    260522_HC 02_POS_BB1_1_5290  1.937382\n",
       "22  260522_HC 023_POS_RB1_1_5377  1.711246\n",
       "5    260522_HC 06_POS_BD1_1_5308  1.686164\n",
       "19  260522_HC 020_POS_RA1_1_5368  1.682996\n",
       "2    260522_HC 03_POS_BB8_1_5299  1.651962\n",
       "10  260522_HC 011_POS_GA8_1_5332  1.582883\n",
       "16  260522_HC 017_POS_GD8_1_5359  1.537972\n",
       "11  260522_HC 012_POS_GB1_1_5333  1.320638\n",
       "4    260522_HC 05_POS_BC8_1_5307  1.320473\n",
       "21  260522_HC 022_POS_RA8_1_5376  1.296890\n",
       "20  260522_HC 021_POS_RA7_1_5375  1.080912\n",
       "17  260522_HC 018_POS_GE1_1_5360  1.036189\n",
       "15  260522_HC 016_POS_GD1_1_5351  1.011481\n",
       "8    260522_HC 09_POS_BE8_1_5324  0.899564\n",
       "12  260522_HC 013_POS_GB8_1_5342  0.893047\n",
       "14  260522_HC 015_POS_GC8_1_5350  0.826943\n",
       "0    260522_HC 01_POS_BA8_1_5289  0.774178\n",
       "9   260522_HC 010_POS_GA1_1_5325  0.653397\n",
       "3    260522_HC 04_POS_BC1_1_5300  0.613349\n",
       "13  260522_HC 014_POS_GC1_1_5343  0.493911\n",
       "18  260522_HC 019_POS_GE8_1_5367  0.226231\n",
       "6    260522_HC 07_POS_BD8_1_5315  0.010052"
      ]
     },
     "execution_count": 16,
     "metadata": {},
     "output_type": "execute_result"
    }
   ],
   "source": [
    "hc = scores_view[83:106,:]\n",
    "\n",
    "mean_hc = np.mean(hc,axis=0)\n",
    "cov_matrix = np.cov(hc,rowvar=False)\n",
    "\n",
    "mahalanobis_distance_hc = []\n",
    "\n",
    "for point in hc:\n",
    "    diff = point - mean_hc\n",
    "    distance = np.sqrt(np.dot(np.dot(diff, np.linalg.inv(cov_matrix)), diff))\n",
    "    mahalanobis_distance_hc.append(distance)\n",
    "    \n",
    "# print(mahalanobis_distance_hc)\n",
    "\n",
    "outlier_hc = pd.DataFrame({\"Sample\":df_x_metaboloma_median.index[83:106],\"outlier\":mahalanobis_distance_hc}).sort_values(by=\"outlier\",ascending=False)\n",
    "outlier_hc"
   ]
  },
  {
   "cell_type": "code",
   "execution_count": 17,
   "metadata": {},
   "outputs": [
    {
     "data": {
      "text/plain": [
       "[]"
      ]
     },
     "execution_count": 17,
     "metadata": {},
     "output_type": "execute_result"
    }
   ],
   "source": [
    "mean_out_hc = outlier_hc[\"outlier\"].mean(axis=0)\n",
    "\n",
    "temp = []\n",
    "for sample,elem in outlier_hc.values:\n",
    "    if elem > threshold_distance_mahalanobis:\n",
    "        drop.append(sample)\n",
    "        temp.append(sample)\n",
    "\n",
    "outlier_hc = outlier_hc.drop(outlier_hc[outlier_hc[\"Sample\"].isin(temp)].index) \n",
    "drop"
   ]
  },
  {
   "cell_type": "markdown",
   "metadata": {},
   "source": [
    "Delete and Visualization of new data"
   ]
  },
  {
   "cell_type": "code",
   "execution_count": 18,
   "metadata": {},
   "outputs": [
    {
     "data": {
      "image/png": "[encoded data removed]",
      "text/plain": [
       "<Figure size 640x480 with 1 Axes>"
      ]
     },
     "metadata": {},
     "output_type": "display_data"
    }
   ],
   "source": [
    "df_score_view = pd.DataFrame({\"Sample\":df_x_metaboloma_median.index,\"Score View X\":scores_view[:,0], \"Score View Y\":scores_view[:,1]})\n",
    "\n",
    "index_drop = df_score_view[df_score_view[\"Sample\"].isin(drop)].index\n",
    "colors_after_drop = np.delete(colors,index_drop)\n",
    "df_score_view = df_score_view.drop(index_drop)\n",
    "df_score_view\n",
    "\n",
    "plt.scatter(df_score_view[\"Score View X\"], df_score_view[\"Score View Y\"], c=colors_after_drop)\n",
    "plt.xlabel('x')\n",
    "plt.ylabel('y')\n",
    "plt.legend(handles=[\n",
    "    plt.Line2D([0], [0], marker='o', color='w', label='LC', markerfacecolor='red', markersize=10),\n",
    "    plt.Line2D([0], [0], marker='o', color='w', label='MC', markerfacecolor='green', markersize=10),\n",
    "    plt.Line2D([0], [0], marker='o', color='w', label='HC', markerfacecolor='orange', markersize=10),\n",
    "    plt.Line2D([0], [0], marker='o', color='w', label='QC', markerfacecolor='purple', markersize=10),\n",
    "], title='Legend')\n",
    "plt.title('PCA View')\n",
    "plt.show()"
   ]
  },
  {
   "cell_type": "markdown",
   "metadata": {},
   "source": [
    "## Split in Train and in Test"
   ]
  },
  {
   "cell_type": "code",
   "execution_count": 19,
   "metadata": {},
   "outputs": [
    {
     "name": "stdout",
     "output_type": "stream",
     "text": [
      "Label\n",
      "LC    69\n",
      "HC    23\n",
      "MC    10\n",
      "Name: count, dtype: int64\n",
      "Label\n",
      "LC    69\n",
      "HC    23\n",
      "MC    10\n",
      "Name: count, dtype: int64\n"
     ]
    },
    {
     "data": {
      "image/png": "[encoded data removed]",
      "text/plain": [
       "<Figure size 640x480 with 1 Axes>"
      ]
     },
     "metadata": {},
     "output_type": "display_data"
    }
   ],
   "source": [
    "df_x_metaboloma_median_noqc = df_x_metaboloma_median.iloc[4:]\n",
    "df_y_metaboloma_noqc = df_y_metaboloma.iloc[4:]\n",
    "\n",
    "print(df_y_metaboloma_noqc.value_counts())\n",
    "\n",
    "x_median = df_x_metaboloma_median_noqc.copy()\n",
    "y_median = df_y_metaboloma_noqc.copy()\n",
    "\n",
    "x_median = x_median.drop(drop)\n",
    "y_median = y_median.drop(drop)\n",
    "print(y_median.value_counts())\n",
    "plt.plot(df_y_metaboloma_noqc.value_counts())\n",
    "plt.show()"
   ]
  },
  {
   "cell_type": "markdown",
   "metadata": {},
   "source": [
    "##### Division in test and train"
   ]
  },
  {
   "cell_type": "code",
   "execution_count": 20,
   "metadata": {},
   "outputs": [
    {
     "data": {
      "text/plain": [
       "260522_LC 443_POS_RC7_1_5391    LC\n",
       "260522_LC 365_POS_GC2_1_5344    LC\n",
       "260522_LC 351_POS_GB2_1_5334    LC\n",
       "260522_LC 431_POS_RB8_1_5384    LC\n",
       "260522_LC 350_POS_GA6_1_5330    LC\n",
       "                                ..\n",
       "260522_HC 021_POS_RA7_1_5375    HC\n",
       "260522_HC 018_POS_GE1_1_5360    HC\n",
       "260522_HC 016_POS_GD1_1_5351    HC\n",
       "260522_HC 09_POS_BE8_1_5324     HC\n",
       "260522_HC 013_POS_GB8_1_5342    HC\n",
       "Name: Label, Length: 71, dtype: object"
      ]
     },
     "execution_count": 20,
     "metadata": {},
     "output_type": "execute_result"
    }
   ],
   "source": [
    "train_size = 0.7\n",
    "\n",
    "train_size_lc = int(len(outlier_lc)*train_size)\n",
    "train_size_mc = int(len(outlier_mc)*train_size)\n",
    "train_size_hc = int(len(outlier_hc)*train_size)\n",
    "\n",
    "list_train_lc_x = x_median.loc[outlier_lc[\"Sample\"].iloc[0:train_size_lc]]\n",
    "list_train_lc_y = y_median.loc[outlier_lc[\"Sample\"].iloc[0:train_size_lc]]\n",
    "\n",
    "list_train_mc_x = x_median.loc[outlier_mc[\"Sample\"].iloc[0:train_size_mc]]\n",
    "list_train_mc_y = y_median.loc[outlier_mc[\"Sample\"].iloc[0:train_size_mc]]\n",
    "\n",
    "list_train_hc_x = x_median.loc[outlier_hc[\"Sample\"].iloc[0:train_size_hc]]\n",
    "list_train_hc_y = y_median.loc[outlier_hc[\"Sample\"].iloc[0:train_size_hc]]\n",
    "\n",
    "x_train_median = pd.concat([list_train_lc_x,list_train_mc_x,list_train_hc_x])\n",
    "y_train_median = pd.concat([list_train_lc_y,list_train_mc_y,list_train_hc_y])\n",
    "y_train_median"
   ]
  },
  {
   "cell_type": "code",
   "execution_count": 21,
   "metadata": {},
   "outputs": [
    {
     "data": {
      "text/plain": [
       "31"
      ]
     },
     "execution_count": 21,
     "metadata": {},
     "output_type": "execute_result"
    }
   ],
   "source": [
    "x_test_median = x_median.loc[~x_median.isin(x_train_median.to_dict(orient='list')).all(axis=1)]\n",
    "y_test_median = y_median[~y_median.index.isin(y_train_median.index)]\n",
    "len(y_test_median)"
   ]
  },
  {
   "cell_type": "code",
   "execution_count": 22,
   "metadata": {},
   "outputs": [],
   "source": [
    "name_sample_train_median = x_train_median.transpose().columns\n",
    "name_sample_test_median = x_test_median.transpose().columns"
   ]
  },
  {
   "cell_type": "markdown",
   "metadata": {},
   "source": [
    "#### Save the mean and standard deviation of the training set"
   ]
  },
  {
   "cell_type": "code",
   "execution_count": 23,
   "metadata": {},
   "outputs": [],
   "source": [
    "mean_median= x_train_median.mean(axis=0)\n",
    "std_median = x_train_median.std(axis=0)"
   ]
  },
  {
   "cell_type": "markdown",
   "metadata": {},
   "source": [
    "Show the split in train and test set"
   ]
  },
  {
   "cell_type": "code",
   "execution_count": 24,
   "metadata": {},
   "outputs": [
    {
     "data": {
      "image/png": "[encoded data removed]",
      "text/plain": [
       "<Figure size 1500x500 with 3 Axes>"
      ]
     },
     "metadata": {},
     "output_type": "display_data"
    }
   ],
   "source": [
    "lc_2_dim = PCA(n_components=2).fit_transform(x_median.loc[outlier_lc[\"Sample\"]])\n",
    "mc_2_dim = PCA(n_components=2).fit_transform(x_median.loc[outlier_mc[\"Sample\"]])\n",
    "hc_2_dim = PCA(n_components=2).fit_transform(x_median.loc[outlier_hc[\"Sample\"]])\n",
    "\n",
    "lc_color = ['red'] * train_size_lc + ['black'] * (len(lc_2_dim) - train_size_lc)\n",
    "mc_color = ['red'] * train_size_mc + ['black'] * (len(mc_2_dim) - train_size_mc)\n",
    "hc_color = ['red'] * train_size_hc + ['black'] * (len(hc_2_dim) - train_size_hc)\n",
    "\n",
    "\n",
    "fig, axs = plt.subplots(1,3,figsize=(15,5))\n",
    "axs[0].scatter(lc_2_dim[:,0],lc_2_dim[:,1],c=lc_color)\n",
    "axs[0].legend(handles=[plt.Line2D([], [], color='red', marker='o', linestyle='None', label='Train'),\n",
    "                    plt.Line2D([], [], color='black', marker='o', linestyle='None', label='Test')])\n",
    "axs[0].set_title(\"LC\")\n",
    "\n",
    "axs[1].scatter(hc_2_dim[:,0],hc_2_dim[:,1],c=hc_color)\n",
    "axs[1].legend(handles=[plt.Line2D([], [], color='red', marker='o', linestyle='None', label='Train'),\n",
    "                    plt.Line2D([], [], color='black', marker='o', linestyle='None', label='Test')])\n",
    "axs[1].set_title(\"HC\")\n",
    "\n",
    "axs[2].scatter(mc_2_dim[:,0],mc_2_dim[:,1],c=mc_color)\n",
    "axs[2].legend(handles=[plt.Line2D([], [], color='red', marker='o', linestyle='None', label='Train'),\n",
    "                    plt.Line2D([], [], color='black', marker='o', linestyle='None', label='Test')])\n",
    "axs[2].set_title(\"MC\")\n",
    "\n",
    "plt.tight_layout()\n",
    "plt.show()"
   ]
  },
  {
   "cell_type": "markdown",
   "metadata": {},
   "source": [
    "## Dimensionality Reduction"
   ]
  },
  {
   "cell_type": "markdown",
   "metadata": {},
   "source": [
    "#### Elbow Graph"
   ]
  },
  {
   "cell_type": "code",
   "execution_count": 25,
   "metadata": {},
   "outputs": [],
   "source": [
    "from sklearn.decomposition import PCA\n",
    "\n",
    "varianza_spiegata_median = []\n",
    "n_componenti_median = np.arange(1, min(x_train_median.shape[0],x_train_median.shape[1]))\n",
    "\n",
    "for n in n_componenti_median:\n",
    "    pca_elbow = PCA(n_components=n)\n",
    "    pca_elbow.fit(x_train_median)\n",
    "    varianza_spiegata_median.append(np.sum(pca_elbow.explained_variance_ratio_))"
   ]
  },
  {
   "cell_type": "markdown",
   "metadata": {},
   "source": [
    "Find the maximum distance between rope and elbow graph"
   ]
  },
  {
   "cell_type": "code",
   "execution_count": 26,
   "metadata": {},
   "outputs": [
    {
     "data": {
      "image/png": "[encoded data removed]",
      "text/plain": [
       "<Figure size 800x600 with 1 Axes>"
      ]
     },
     "metadata": {},
     "output_type": "display_data"
    }
   ],
   "source": [
    "from scipy.spatial.distance import euclidean\n",
    "\n",
    "points = np.array(list(zip(n_componenti_median,varianza_spiegata_median)))\n",
    "points\n",
    "\n",
    "first_point = points[0]\n",
    "last_point = points[-1]\n",
    "\n",
    "chord_length = euclidean(first_point, last_point)\n",
    "distances = []\n",
    "for point in points:\n",
    "    distance = np.abs(np.cross(last_point - first_point, first_point - point)) / chord_length\n",
    "    distances.append(distance)\n",
    "\n",
    "max_distance_index = np.argmax(distances)\n",
    "points[max_distance_index][0]\n",
    "num_components_pca = int(points[max_distance_index][0])\n",
    "num_components_pca\n",
    "\n",
    "plt.figure(figsize=(8, 6))\n",
    "plt.plot(n_componenti_median, varianza_spiegata_median, marker='o')\n",
    "plt.plot([1,len(varianza_spiegata_median)],[varianza_spiegata_median[0],varianza_spiegata_median[-1]], linestyle='--', label=\"Rope\")\n",
    "plt.plot(points[max_distance_index][0],points[max_distance_index][1], marker='o', markersize=8, color=\"red\", label=\"Optimal Components\")\n",
    "plt.xlabel('# of principal components')\n",
    "plt.ylabel('Explained Variance')\n",
    "plt.title('Elbow Graph')\n",
    "plt.grid(True)\n",
    "plt.show()"
   ]
  },
  {
   "cell_type": "markdown",
   "metadata": {},
   "source": [
    "#### PCA"
   ]
  },
  {
   "cell_type": "code",
   "execution_count": 27,
   "metadata": {},
   "outputs": [
    {
     "data": {
      "text/plain": [
       "array([[-4.37225315e+00, -1.29571063e+01, -2.31654909e+01,\n",
       "        -5.59316165e+00, -5.64396001e+00, -1.58264017e+00,\n",
       "        -3.39775056e-01,  1.55357004e+00],\n",
       "       [-4.33058621e+01,  5.79808654e+01,  8.92079458e+00,\n",
       "        -1.09284456e+00,  3.52310310e+00,  6.21707215e+00,\n",
       "        -2.06168663e+00, -4.16571631e+00],\n",
       "       [-3.48318510e+01,  5.73660441e+01,  1.68709096e+01,\n",
       "         9.07274980e+00,  5.92992107e-01,  2.33260645e+00,\n",
       "         8.35053981e+00, -8.35084480e+00],\n",
       "       [-2.99074333e+01, -2.63599402e+01,  1.91783892e+01,\n",
       "         3.23463460e+01,  1.11230609e+01,  1.05229624e+01,\n",
       "        -5.90752359e+00, -1.27643300e+01],\n",
       "       [-2.33409852e+01, -8.21313862e+00,  2.19842217e+01,\n",
       "        -2.07865350e+01, -1.14123178e+00,  2.65268978e+00,\n",
       "        -1.28048329e+01, -7.93219123e-01],\n",
       "       [-3.98510492e+01,  4.51371734e+01,  1.31482034e+01,\n",
       "        -5.90180294e+00, -6.18139679e+00,  4.76613443e+00,\n",
       "         5.26654719e+00, -1.35175560e+00],\n",
       "       [-3.45714995e+01, -2.45414859e+01,  5.36086304e+00,\n",
       "         1.20228303e+01, -8.72475763e+00,  2.87062783e+01,\n",
       "        -9.09224915e+00,  4.00018216e+00],\n",
       "       [-2.59556343e+01,  1.66590348e+01,  1.41800651e+01,\n",
       "        -7.28593812e+00, -2.43397436e+00,  1.01413617e+01,\n",
       "        -4.61165176e+00,  1.87447798e+00],\n",
       "       [-2.93437748e+01,  2.24231187e+01, -1.09198747e+00,\n",
       "        -6.08830989e+00,  1.47077237e+00,  2.63135507e+00,\n",
       "        -4.36705971e+00,  2.34210121e+00],\n",
       "       [-3.55086933e+01, -2.28591253e+01, -1.01394052e+01,\n",
       "         7.09811988e+00, -1.94352900e+00,  8.58042796e+00,\n",
       "        -7.05070869e+00, -3.12657336e+00],\n",
       "       [-4.27618512e+01, -4.49625725e+00, -1.11394327e+01,\n",
       "         8.01297538e+00,  8.60403376e+00, -2.39251159e+00,\n",
       "        -1.05869783e+01,  2.63529729e-01],\n",
       "       [-3.41957250e+01, -2.30708382e+01, -1.36269024e+01,\n",
       "         7.99650480e+00,  6.71695345e-01,  5.44549765e-01,\n",
       "        -5.20153050e+00, -6.10657165e+00],\n",
       "       [-3.85742098e+01, -2.21115601e+01, -2.27999082e+01,\n",
       "        -2.37708492e+00, -3.78150064e+00, -2.77901734e+00,\n",
       "         3.39236444e+00, -4.23415672e+00],\n",
       "       [-2.75473602e+01, -7.59050108e+00, -8.17885813e+00,\n",
       "        -5.46326528e-01, -8.80719188e-01, -5.55965195e+00,\n",
       "         1.82615741e+00,  6.58084570e+00],\n",
       "       [-3.77774832e+01, -1.98726315e+01, -2.09259254e+01,\n",
       "        -3.56016125e+00, -3.07847668e+00, -2.79607348e+00,\n",
       "        -6.92227500e-01, -3.03952506e+00],\n",
       "       [-3.94200169e+01,  2.60819412e+01,  1.58043021e-01,\n",
       "         3.62764994e+00,  6.89785633e+00,  9.99560737e-01,\n",
       "        -1.80875401e+00, -4.08472585e+00],\n",
       "       [-4.26101315e+01,  1.57772629e+01, -9.09570495e-01,\n",
       "        -4.36437568e+00,  5.37092553e+00, -8.11991098e+00,\n",
       "        -1.21012993e+00,  1.11918498e+00],\n",
       "       [-2.80508694e+01,  2.34074926e+00, -8.56810563e+00,\n",
       "         4.49544853e+00, -6.15244567e+00,  2.51996039e+00,\n",
       "         3.60136100e+00, -1.35292516e-02],\n",
       "       [-2.81010222e+01, -1.03331155e+01, -9.64843662e+00,\n",
       "         2.20489684e-01, -1.98597760e+01,  2.62259039e+01,\n",
       "         1.11091762e+01,  8.34708750e+00],\n",
       "       [-3.90661128e+01, -1.25315587e+01, -1.37835542e+01,\n",
       "        -6.76920424e-01,  1.61526765e+00, -1.00828358e+01,\n",
       "         1.06527247e+00, -2.89541348e+00],\n",
       "       [-3.08668641e+01,  1.86772793e+01,  9.69404832e+00,\n",
       "        -1.19598868e+01, -5.26654623e+00, -7.96262749e+00,\n",
       "         4.43938153e+00, -1.69859600e+00],\n",
       "       [-3.07826108e+01, -1.85056927e-01,  2.32503699e+01,\n",
       "         4.32696497e+00,  2.92284757e+00, -5.01310760e+00,\n",
       "         1.23873727e+00, -5.87214407e+00],\n",
       "       [-3.97442116e+01,  1.84797543e+01, -6.87920109e+00,\n",
       "         3.87789640e-01,  3.60560586e+00, -3.17968248e-01,\n",
       "        -4.11770393e+00, -1.54268992e+00],\n",
       "       [-4.08407257e+01,  1.92501333e+01,  3.42250956e+00,\n",
       "         8.37229570e+00, -3.85019027e+00,  4.11205412e+00,\n",
       "         9.32711818e+00,  1.61843655e+00],\n",
       "       [-3.58840147e+01,  2.21505717e+01, -1.12676385e+00,\n",
       "        -6.47154756e+00, -3.56110969e+00,  5.19359920e+00,\n",
       "         2.55998230e-01,  4.69998043e-01],\n",
       "       [-4.02464621e+01,  1.48963035e+01, -9.14128507e+00,\n",
       "        -3.35015962e+00,  2.55987590e+00, -6.38781913e-01,\n",
       "        -4.72131224e+00, -2.93104533e+00],\n",
       "       [-3.65390429e+01,  1.92907401e+01, -5.71082938e+00,\n",
       "        -2.99917096e+00, -3.94145343e+00,  9.04829324e-01,\n",
       "         2.69493934e+00, -1.43339187e+00],\n",
       "       [-3.46857203e+01,  2.16787779e+01,  2.86849640e+00,\n",
       "         5.89586181e+00, -1.03844370e+00,  4.75746611e+00,\n",
       "        -5.71470766e-01,  2.39321364e+00],\n",
       "       [-4.07484815e+01,  1.62484031e+01,  4.65486246e+00,\n",
       "        -3.60187509e+00, -2.56296037e+00, -5.20842169e+00,\n",
       "         5.81698037e+00, -5.50953846e-01],\n",
       "       [-3.52196058e+01, -1.23056822e+01, -8.63645042e+00,\n",
       "         1.92722223e+00,  1.24940407e+00, -7.05616781e+00,\n",
       "         3.27092462e-01, -4.63139455e+00],\n",
       "       [-3.35296650e+01, -1.84687900e+01, -2.15816961e+01,\n",
       "        -5.68855346e-01, -2.80833845e+00, -1.13765642e+00,\n",
       "        -2.04860530e+00, -2.51129845e+00],\n",
       "       [-3.95564137e+01, -5.49926043e+00, -1.51179409e+01,\n",
       "         2.31068394e+00, -1.54041137e+00,  4.71212621e+00,\n",
       "        -4.85704987e+00, -3.18146070e+00],\n",
       "       [-3.96493302e+01, -2.59422433e+00, -1.24868308e+01,\n",
       "        -5.86915263e+00,  3.56327701e-01, -1.09264401e+01,\n",
       "         3.07344338e+00, -1.85553294e+00],\n",
       "       [-4.03014036e+01,  4.58422770e+00, -1.28769821e+01,\n",
       "        -5.82160783e+00,  1.11262923e+00, -2.26596319e+00,\n",
       "        -3.45516296e+00, -4.58252618e+00],\n",
       "       [-4.01493909e+01,  4.26334301e+00, -1.32052745e+01,\n",
       "        -2.38527083e+00, -1.92983712e+00,  3.84338122e-01,\n",
       "         9.23815776e-01,  2.16656288e-01],\n",
       "       [-3.53402245e+01,  2.08861828e+01,  3.65773825e+00,\n",
       "         2.54049669e+00,  8.49972306e+00,  2.55650446e+00,\n",
       "        -1.37481082e+01,  2.87978329e+00],\n",
       "       [-3.73499844e+01, -5.42704521e+00, -7.87987876e+00,\n",
       "         6.19211050e+00,  5.88299034e+00, -8.66470358e-01,\n",
       "        -6.34763803e+00, -1.47143656e+00],\n",
       "       [-3.05547721e+01,  4.43218228e+00, -2.55872079e+00,\n",
       "         9.61950770e+00,  3.17261229e+00,  5.85378135e+00,\n",
       "        -1.67796246e+00,  1.38596638e+01],\n",
       "       [-3.97332444e+01,  3.29295816e+00, -1.26447660e+01,\n",
       "         8.62059815e-01,  1.54219363e+00, -8.74305510e-01,\n",
       "         3.44954932e-01, -3.01852203e+00],\n",
       "       [-3.97439298e+01,  4.23682689e+00, -1.45968759e+01,\n",
       "        -2.55608676e+00, -1.29691315e-01, -5.05133716e+00,\n",
       "        -4.73684740e-02, -3.61333422e+00],\n",
       "       [-3.96184954e+01,  3.83244052e+00, -7.72847610e+00,\n",
       "         6.53552507e+00,  1.17030434e+00, -7.56591786e+00,\n",
       "         3.79645201e+00, -7.94828824e+00],\n",
       "       [-3.49327796e+01, -6.07141096e-01,  9.47791225e+00,\n",
       "        -1.51570273e+01,  2.55196840e+00, -2.84262507e+00,\n",
       "        -8.41685431e+00, -4.52812673e-01],\n",
       "       [-3.49316600e+01,  1.50114148e+01, -4.04375062e+00,\n",
       "        -9.63823078e+00, -2.28925289e+00,  9.80250311e-01,\n",
       "        -1.58655897e+00, -2.49814097e+00],\n",
       "       [-3.93672427e+01,  1.52895640e+00, -1.52686097e+01,\n",
       "        -2.27703985e+00, -3.64250942e+00, -7.29553566e+00,\n",
       "         4.47847041e+00, -3.05235680e+00],\n",
       "       [-3.50738444e+01, -1.19279506e+01, -1.51016055e+01,\n",
       "        -1.26478541e+00, -1.43775640e+01,  1.77200319e+01,\n",
       "         8.26911088e+00,  7.20888007e+00],\n",
       "       [-3.91104272e+01,  1.34106832e+00, -1.42323709e+01,\n",
       "        -4.02576895e-02,  2.68586711e+00, -3.24317027e+00,\n",
       "        -3.37865640e+00, -3.95248133e+00],\n",
       "       [-3.11115331e+01,  1.48187519e+00, -8.25355911e+00,\n",
       "         7.72806227e+00,  4.90737242e+00, -2.83762909e-01,\n",
       "        -2.74642364e+00, -1.57303720e+00],\n",
       "       [-3.23842185e+01,  6.54977604e+00, -1.13637703e+01,\n",
       "        -4.31287198e+00, -1.10446451e+00, -9.97103136e-01,\n",
       "        -1.02842582e+00,  7.82138826e-01],\n",
       "       [ 4.67103281e+02,  1.83741613e+01, -1.66790984e+01,\n",
       "        -4.90881274e+00, -5.02678380e+00,  9.02045014e+00,\n",
       "        -1.09530938e+01,  5.19565276e+00],\n",
       "       [ 3.83791858e+02, -2.53778896e+00,  1.17540698e+01,\n",
       "        -1.08803323e+01,  2.32747481e+01,  1.13165808e+01,\n",
       "         3.92658108e+00,  2.28588929e+00],\n",
       "       [ 4.46692582e+02,  9.85844911e+00,  2.41491221e+01,\n",
       "         3.15643198e+01, -3.46210732e+01, -2.56596594e+01,\n",
       "        -8.14039632e+00, -2.13248453e+00],\n",
       "       [ 1.40391120e+02, -1.32903730e+01, -1.66030723e+01,\n",
       "         6.21683698e+00,  1.05727042e+01, -5.66725673e+00,\n",
       "         1.49383339e+01, -8.11493673e+00],\n",
       "       [ 2.85863842e+02, -1.05602544e+01,  3.01856102e+00,\n",
       "        -6.23746026e+00,  3.50054346e+01,  1.14960045e+01,\n",
       "         1.32058546e+01, -5.79799156e+00],\n",
       "       [ 2.09796009e+02, -2.28860403e+00, -2.72165190e+01,\n",
       "        -9.52966999e+00, -7.10635163e+00, -5.14984932e+00,\n",
       "        -3.89440730e+00,  1.04983748e+00],\n",
       "       [ 1.80545439e+02, -1.36149133e+01, -1.12836673e+01,\n",
       "        -2.05306810e+01, -4.21865407e+00,  6.56206992e+00,\n",
       "         7.11861490e+00,  7.97230378e-01],\n",
       "       [-2.15689847e+01, -3.55715538e+01,  5.98885579e+01,\n",
       "        -1.49847381e+01,  2.07797394e+00, -8.60406205e+00,\n",
       "        -2.26648958e+00, -6.59855756e+00],\n",
       "       [-1.40899913e+01, -2.44932442e+01,  1.62146022e+01,\n",
       "        -2.50547948e+01, -5.30770954e+00, -1.44917608e+01,\n",
       "         9.07797763e-01,  9.83442649e-01],\n",
       "       [-1.73580167e+01, -6.63216661e+00,  1.54879531e+01,\n",
       "         1.12931382e+00,  7.75405360e-02,  3.01431063e+00,\n",
       "        -1.79713292e+00,  4.82297153e-01],\n",
       "       [-3.53151217e+01,  4.62203160e+00,  7.77750370e+00,\n",
       "         1.13418364e+00,  1.27426703e+01, -1.56576771e+01,\n",
       "         1.74563901e+00,  2.89220321e+01],\n",
       "       [-3.58999359e+01, -1.22770516e+00, -1.18088490e+00,\n",
       "         1.38591646e+01,  1.12171744e+01, -2.14120154e+00,\n",
       "        -4.99798404e+00,  1.11011047e+01],\n",
       "       [-1.81946922e+01, -1.60971423e+01, -7.84151005e+00,\n",
       "         5.98882912e-01, -4.93349612e+00, -6.88727684e+00,\n",
       "         3.71820471e+00, -2.16882273e+00],\n",
       "       [-1.68475813e+01, -9.54861921e+00,  2.80911849e+01,\n",
       "         1.25549783e+01, -9.47437749e+00,  5.63444436e-01,\n",
       "         1.33706888e+01,  1.77713063e+00],\n",
       "       [-3.13536587e+01, -2.32735123e+01,  2.02732348e+01,\n",
       "        -1.01604869e+01, -2.97611906e+00,  7.38726006e+00,\n",
       "        -6.04375464e+00,  2.37877085e+00],\n",
       "       [-1.92158272e+01, -1.27495133e+01,  9.80454824e+00,\n",
       "         2.33402008e+01, -2.95970701e+00,  1.15172542e+01,\n",
       "         5.83798229e+00, -5.05484170e+00],\n",
       "       [-2.26871410e+01, -8.62136414e+00, -8.41059451e-01,\n",
       "        -2.82601804e+00, -5.64011755e+00, -3.92082715e+00,\n",
       "         4.78894787e+00,  5.33924282e+00],\n",
       "       [-3.54807702e+01, -1.38081111e+01,  1.17901279e+00,\n",
       "        -1.33798303e+00,  4.01607385e+00, -7.78201951e+00,\n",
       "         2.36980478e-01, -2.23680923e-01],\n",
       "       [-3.40336798e+01, -9.56358220e+00,  6.71122493e+00,\n",
       "         3.13445009e+01,  1.42736907e+01, -8.44475751e+00,\n",
       "         2.77807134e+00,  1.35598180e+01],\n",
       "       [-3.33818726e+01, -4.57675105e+00,  1.34301846e+01,\n",
       "         5.36161841e+00,  1.06790084e+00, -1.25906171e+01,\n",
       "         1.01226011e+01,  3.63310051e+00],\n",
       "       [-3.35322432e+01, -1.46652205e+01,  3.17585527e+00,\n",
       "        -8.25972915e+00,  8.67705195e-01, -7.46961605e+00,\n",
       "         1.15705684e+00,  7.15334295e+00],\n",
       "       [-3.14945519e+01, -9.60999539e+00,  2.84028137e+01,\n",
       "        -5.25878169e+00,  5.42373754e+00,  2.36871210e+00,\n",
       "        -6.29081205e+00, -4.63750789e-01],\n",
       "       [-2.66399473e+01, -1.40512227e+01,  3.98731710e+01,\n",
       "        -1.21789195e+01, -1.25778532e+01,  1.00646539e+01,\n",
       "         5.41721177e+00, -3.15770468e-01]])"
      ]
     },
     "execution_count": 27,
     "metadata": {},
     "output_type": "execute_result"
    }
   ],
   "source": [
    "pca_median = PCA(n_components=num_components_pca)\n",
    "x_train_median_pca = pca_median.fit(x_train_median).transform(x_train_median)\n",
    "x_train_median_pca"
   ]
  },
  {
   "cell_type": "markdown",
   "metadata": {},
   "source": [
    "## Try different models"
   ]
  },
  {
   "cell_type": "code",
   "execution_count": 28,
   "metadata": {},
   "outputs": [
    {
     "data": {
      "text/html": [
       "<div>\n",
       "<style scoped>\n",
       "    .dataframe tbody tr th:only-of-type {\n",
       "        vertical-align: middle;\n",
       "    }\n",
       "\n",
       "    .dataframe tbody tr th {\n",
       "        vertical-align: top;\n",
       "    }\n",
       "\n",
       "    .dataframe thead th {\n",
       "        text-align: right;\n",
       "    }\n",
       "</style>\n",
       "<table border=\"1\" class=\"dataframe\">\n",
       "  <thead>\n",
       "    <tr style=\"text-align: right;\">\n",
       "      <th></th>\n",
       "      <th>PC1</th>\n",
       "      <th>PC2</th>\n",
       "      <th>PC3</th>\n",
       "      <th>PC4</th>\n",
       "      <th>PC5</th>\n",
       "      <th>PC6</th>\n",
       "      <th>PC7</th>\n",
       "      <th>PC8</th>\n",
       "    </tr>\n",
       "  </thead>\n",
       "  <tbody>\n",
       "    <tr>\n",
       "      <th>260522_LC 443_POS_RC7_1_5391</th>\n",
       "      <td>-4.372253</td>\n",
       "      <td>-12.957106</td>\n",
       "      <td>-23.165491</td>\n",
       "      <td>-5.593162</td>\n",
       "      <td>-5.643960</td>\n",
       "      <td>-1.582640</td>\n",
       "      <td>-0.339775</td>\n",
       "      <td>1.553570</td>\n",
       "    </tr>\n",
       "    <tr>\n",
       "      <th>260522_LC 365_POS_GC2_1_5344</th>\n",
       "      <td>-43.305862</td>\n",
       "      <td>57.980865</td>\n",
       "      <td>8.920795</td>\n",
       "      <td>-1.092845</td>\n",
       "      <td>3.523103</td>\n",
       "      <td>6.217072</td>\n",
       "      <td>-2.061687</td>\n",
       "      <td>-4.165716</td>\n",
       "    </tr>\n",
       "    <tr>\n",
       "      <th>260522_LC 351_POS_GB2_1_5334</th>\n",
       "      <td>-34.831851</td>\n",
       "      <td>57.366044</td>\n",
       "      <td>16.870910</td>\n",
       "      <td>9.072750</td>\n",
       "      <td>0.592992</td>\n",
       "      <td>2.332606</td>\n",
       "      <td>8.350540</td>\n",
       "      <td>-8.350845</td>\n",
       "    </tr>\n",
       "    <tr>\n",
       "      <th>260522_LC 431_POS_RB8_1_5384</th>\n",
       "      <td>-29.907433</td>\n",
       "      <td>-26.359940</td>\n",
       "      <td>19.178389</td>\n",
       "      <td>32.346346</td>\n",
       "      <td>11.123061</td>\n",
       "      <td>10.522962</td>\n",
       "      <td>-5.907524</td>\n",
       "      <td>-12.764330</td>\n",
       "    </tr>\n",
       "    <tr>\n",
       "      <th>260522_LC 350_POS_GA6_1_5330</th>\n",
       "      <td>-23.340985</td>\n",
       "      <td>-8.213139</td>\n",
       "      <td>21.984222</td>\n",
       "      <td>-20.786535</td>\n",
       "      <td>-1.141232</td>\n",
       "      <td>2.652690</td>\n",
       "      <td>-12.804833</td>\n",
       "      <td>-0.793219</td>\n",
       "    </tr>\n",
       "    <tr>\n",
       "      <th>...</th>\n",
       "      <td>...</td>\n",
       "      <td>...</td>\n",
       "      <td>...</td>\n",
       "      <td>...</td>\n",
       "      <td>...</td>\n",
       "      <td>...</td>\n",
       "      <td>...</td>\n",
       "      <td>...</td>\n",
       "    </tr>\n",
       "    <tr>\n",
       "      <th>260522_HC 021_POS_RA7_1_5375</th>\n",
       "      <td>-34.033680</td>\n",
       "      <td>-9.563582</td>\n",
       "      <td>6.711225</td>\n",
       "      <td>31.344501</td>\n",
       "      <td>14.273691</td>\n",
       "      <td>-8.444758</td>\n",
       "      <td>2.778071</td>\n",
       "      <td>13.559818</td>\n",
       "    </tr>\n",
       "    <tr>\n",
       "      <th>260522_HC 018_POS_GE1_1_5360</th>\n",
       "      <td>-33.381873</td>\n",
       "      <td>-4.576751</td>\n",
       "      <td>13.430185</td>\n",
       "      <td>5.361618</td>\n",
       "      <td>1.067901</td>\n",
       "      <td>-12.590617</td>\n",
       "      <td>10.122601</td>\n",
       "      <td>3.633101</td>\n",
       "    </tr>\n",
       "    <tr>\n",
       "      <th>260522_HC 016_POS_GD1_1_5351</th>\n",
       "      <td>-33.532243</td>\n",
       "      <td>-14.665220</td>\n",
       "      <td>3.175855</td>\n",
       "      <td>-8.259729</td>\n",
       "      <td>0.867705</td>\n",
       "      <td>-7.469616</td>\n",
       "      <td>1.157057</td>\n",
       "      <td>7.153343</td>\n",
       "    </tr>\n",
       "    <tr>\n",
       "      <th>260522_HC 09_POS_BE8_1_5324</th>\n",
       "      <td>-31.494552</td>\n",
       "      <td>-9.609995</td>\n",
       "      <td>28.402814</td>\n",
       "      <td>-5.258782</td>\n",
       "      <td>5.423738</td>\n",
       "      <td>2.368712</td>\n",
       "      <td>-6.290812</td>\n",
       "      <td>-0.463751</td>\n",
       "    </tr>\n",
       "    <tr>\n",
       "      <th>260522_HC 013_POS_GB8_1_5342</th>\n",
       "      <td>-26.639947</td>\n",
       "      <td>-14.051223</td>\n",
       "      <td>39.873171</td>\n",
       "      <td>-12.178920</td>\n",
       "      <td>-12.577853</td>\n",
       "      <td>10.064654</td>\n",
       "      <td>5.417212</td>\n",
       "      <td>-0.315770</td>\n",
       "    </tr>\n",
       "  </tbody>\n",
       "</table>\n",
       "<p>71 rows × 8 columns</p>\n",
       "</div>"
      ],
      "text/plain": [
       "                                    PC1        PC2        PC3        PC4  \\\n",
       "260522_LC 443_POS_RC7_1_5391  -4.372253 -12.957106 -23.165491  -5.593162   \n",
       "260522_LC 365_POS_GC2_1_5344 -43.305862  57.980865   8.920795  -1.092845   \n",
       "260522_LC 351_POS_GB2_1_5334 -34.831851  57.366044  16.870910   9.072750   \n",
       "260522_LC 431_POS_RB8_1_5384 -29.907433 -26.359940  19.178389  32.346346   \n",
       "260522_LC 350_POS_GA6_1_5330 -23.340985  -8.213139  21.984222 -20.786535   \n",
       "...                                 ...        ...        ...        ...   \n",
       "260522_HC 021_POS_RA7_1_5375 -34.033680  -9.563582   6.711225  31.344501   \n",
       "260522_HC 018_POS_GE1_1_5360 -33.381873  -4.576751  13.430185   5.361618   \n",
       "260522_HC 016_POS_GD1_1_5351 -33.532243 -14.665220   3.175855  -8.259729   \n",
       "260522_HC 09_POS_BE8_1_5324  -31.494552  -9.609995  28.402814  -5.258782   \n",
       "260522_HC 013_POS_GB8_1_5342 -26.639947 -14.051223  39.873171 -12.178920   \n",
       "\n",
       "                                    PC5        PC6        PC7        PC8  \n",
       "260522_LC 443_POS_RC7_1_5391  -5.643960  -1.582640  -0.339775   1.553570  \n",
       "260522_LC 365_POS_GC2_1_5344   3.523103   6.217072  -2.061687  -4.165716  \n",
       "260522_LC 351_POS_GB2_1_5334   0.592992   2.332606   8.350540  -8.350845  \n",
       "260522_LC 431_POS_RB8_1_5384  11.123061  10.522962  -5.907524 -12.764330  \n",
       "260522_LC 350_POS_GA6_1_5330  -1.141232   2.652690 -12.804833  -0.793219  \n",
       "...                                 ...        ...        ...        ...  \n",
       "260522_HC 021_POS_RA7_1_5375  14.273691  -8.444758   2.778071  13.559818  \n",
       "260522_HC 018_POS_GE1_1_5360   1.067901 -12.590617  10.122601   3.633101  \n",
       "260522_HC 016_POS_GD1_1_5351   0.867705  -7.469616   1.157057   7.153343  \n",
       "260522_HC 09_POS_BE8_1_5324    5.423738   2.368712  -6.290812  -0.463751  \n",
       "260522_HC 013_POS_GB8_1_5342 -12.577853  10.064654   5.417212  -0.315770  \n",
       "\n",
       "[71 rows x 8 columns]"
      ]
     },
     "execution_count": 28,
     "metadata": {},
     "output_type": "execute_result"
    }
   ],
   "source": [
    "X_w_median = pd.DataFrame(x_train_median_pca)\n",
    "Y_w_median = y_train_median\n",
    "\n",
    "X_w_median.columns = [f'PC{i+1}' for i in range(X_w_median.shape[1])]\n",
    "X_w_median = X_w_median.transpose()\n",
    "X_w_median.columns = name_sample_train_median\n",
    "X_w_median = X_w_median.transpose()\n",
    "\n",
    "all_performance = []\n",
    "\n",
    "X_w_median"
   ]
  },
  {
   "cell_type": "markdown",
   "metadata": {},
   "source": [
    "Prepare Test"
   ]
  },
  {
   "cell_type": "code",
   "execution_count": 29,
   "metadata": {},
   "outputs": [],
   "source": [
    "# autoscaling on test set\n",
    "x_test_median_centered = (x_test_median.sub(mean_median,axis=1)).div(std_median,axis=1)\n",
    "x_test_median_centered_pca = pca_median.transform(x_test_median_centered)\n",
    "\n",
    "x_test_median_centered_pca = pd.DataFrame(x_test_median_centered_pca)\n",
    "x_test_median_centered_pca.columns = [f'PC{i+1}' for i in range(x_test_median_centered_pca.shape[1])]\n",
    "x_test_median_centered_pca = x_test_median_centered_pca.transpose()\n",
    "x_test_median_centered_pca.columns = name_sample_test_median\n",
    "x_test_median_centered_pca = x_test_median_centered_pca.transpose()"
   ]
  },
  {
   "cell_type": "markdown",
   "metadata": {},
   "source": [
    "### Try a Logistic Regression"
   ]
  },
  {
   "cell_type": "code",
   "execution_count": 30,
   "metadata": {},
   "outputs": [
    {
     "name": "stderr",
     "output_type": "stream",
     "text": [
      "/Users/bvs/opt/anaconda3/envs/AI4Omics/lib/python3.9/site-packages/sklearn/metrics/_classification.py:2394: UserWarning: y_pred contains classes not in y_true\n",
      "  warnings.warn(\"y_pred contains classes not in y_true\")\n",
      "/Users/bvs/opt/anaconda3/envs/AI4Omics/lib/python3.9/site-packages/sklearn/metrics/_classification.py:2394: UserWarning: y_pred contains classes not in y_true\n",
      "  warnings.warn(\"y_pred contains classes not in y_true\")\n",
      "/Users/bvs/opt/anaconda3/envs/AI4Omics/lib/python3.9/site-packages/sklearn/metrics/_classification.py:2394: UserWarning: y_pred contains classes not in y_true\n",
      "  warnings.warn(\"y_pred contains classes not in y_true\")\n",
      "/Users/bvs/opt/anaconda3/envs/AI4Omics/lib/python3.9/site-packages/sklearn/metrics/_classification.py:2394: UserWarning: y_pred contains classes not in y_true\n",
      "  warnings.warn(\"y_pred contains classes not in y_true\")\n",
      "/Users/bvs/opt/anaconda3/envs/AI4Omics/lib/python3.9/site-packages/sklearn/metrics/_classification.py:2394: UserWarning: y_pred contains classes not in y_true\n",
      "  warnings.warn(\"y_pred contains classes not in y_true\")\n",
      "/Users/bvs/opt/anaconda3/envs/AI4Omics/lib/python3.9/site-packages/sklearn/metrics/_classification.py:2394: UserWarning: y_pred contains classes not in y_true\n",
      "  warnings.warn(\"y_pred contains classes not in y_true\")\n",
      "/Users/bvs/opt/anaconda3/envs/AI4Omics/lib/python3.9/site-packages/sklearn/metrics/_classification.py:2394: UserWarning: y_pred contains classes not in y_true\n",
      "  warnings.warn(\"y_pred contains classes not in y_true\")\n",
      "/Users/bvs/opt/anaconda3/envs/AI4Omics/lib/python3.9/site-packages/sklearn/metrics/_classification.py:2394: UserWarning: y_pred contains classes not in y_true\n",
      "  warnings.warn(\"y_pred contains classes not in y_true\")\n",
      "/Users/bvs/opt/anaconda3/envs/AI4Omics/lib/python3.9/site-packages/sklearn/metrics/_classification.py:2394: UserWarning: y_pred contains classes not in y_true\n",
      "  warnings.warn(\"y_pred contains classes not in y_true\")\n",
      "/Users/bvs/opt/anaconda3/envs/AI4Omics/lib/python3.9/site-packages/sklearn/metrics/_classification.py:2394: UserWarning: y_pred contains classes not in y_true\n",
      "  warnings.warn(\"y_pred contains classes not in y_true\")\n",
      "/Users/bvs/opt/anaconda3/envs/AI4Omics/lib/python3.9/site-packages/sklearn/metrics/_classification.py:2394: UserWarning: y_pred contains classes not in y_true\n",
      "  warnings.warn(\"y_pred contains classes not in y_true\")\n"
     ]
    },
    {
     "name": "stdout",
     "output_type": "stream",
     "text": [
      "L'accuracy è:  84.50704225352112 \n",
      "La balanced_accuracy è:  84.50704225352112\n"
     ]
    }
   ],
   "source": [
    "from sklearn.model_selection import LeaveOneOut\n",
    "from sklearn.linear_model import LogisticRegression\n",
    "from sklearn import metrics as mt\n",
    "from imblearn.over_sampling import BorderlineSMOTE\n",
    "\n",
    "\n",
    "loo = LeaveOneOut()\n",
    "\n",
    "performance_scores = []\n",
    "performance_scores_balanced = []\n",
    "i = 0\n",
    "# Itera attraverso i fold\n",
    "for train_index, val_index in loo.split(X_w_median):\n",
    "    i+=1\n",
    "    \n",
    "    train_x_temp, test_x_temp = X_w_median.iloc[train_index],X_w_median.iloc[val_index]\n",
    "    train_y_temp, test_y_temp = Y_w_median.iloc[train_index],Y_w_median.iloc[val_index]\n",
    "    \n",
    "    # print(\"FOLD %d\" %i)\n",
    "    #ribilanciamento\n",
    "    bls = BorderlineSMOTE(random_state=99)\n",
    "    train_x_temp,train_y_temp = bls.fit_resample(train_x_temp,train_y_temp)\n",
    "    # print(train_y_temp.value_counts())\n",
    "\n",
    "    # normalizzazione\n",
    "    mean_median_temp= train_x_temp.mean(axis=0)\n",
    "    std_median_temp = train_x_temp.std(axis=0)\n",
    "    train_x_temp = (train_x_temp.sub(mean_median_temp,axis=1)).div(std_median_temp,axis=1)\n",
    "\n",
    "    test_x_temp = (test_x_temp.sub(mean_median_temp,axis=1)).div(std_median_temp,axis=1)\n",
    "    \n",
    "    lm = LogisticRegression(penalty=None, class_weight='balanced', multi_class='auto',max_iter=10000, n_jobs=4, solver='newton-cg') # penalty{‘l1’, ‘l2’, ‘elasmediannet’, None}; multi_class{‘auto’, ‘ovr’, ‘multinomial’}\n",
    "    \n",
    "    lm.fit(train_x_temp, train_y_temp)\n",
    "    \n",
    "    predicted_y_temp = lm.predict(test_x_temp)\n",
    "\n",
    "    # Calcola e memorizza la misura delle prestazioni (es. accuratezza)\n",
    "    accuracy_temp = np.round(mt.accuracy_score(test_y_temp.values,predicted_y_temp)*100,2)\n",
    "    performance_scores.append(accuracy_temp)\n",
    "    balanced_accuracy_temp = np.round(mt.balanced_accuracy_score(test_y_temp.values,predicted_y_temp)*100,2)\n",
    "    performance_scores_balanced.append(balanced_accuracy_temp)\n",
    "    \n",
    "mean_accuracy_temp = sum(performance_scores)/i\n",
    "mean_accuracy_balanced_temp = sum(performance_scores_balanced)/i\n",
    "\n",
    "print(\"L'accuracy è: \", mean_accuracy_temp, \"\\nLa balanced_accuracy è: \", mean_accuracy_balanced_temp)\n",
    "\n",
    "all_performance = [{\"Median\":{\n",
    "    \"LogisticRegression_Validation\": {\n",
    "        \"BorderlineSMOTE\": mean_accuracy_balanced_temp\n",
    "    }\n",
    "}}]"
   ]
  },
  {
   "cell_type": "markdown",
   "metadata": {},
   "source": [
    "##### Try on test set"
   ]
  },
  {
   "cell_type": "code",
   "execution_count": 31,
   "metadata": {},
   "outputs": [
    {
     "data": {
      "text/plain": [
       "33.33"
      ]
     },
     "execution_count": 31,
     "metadata": {},
     "output_type": "execute_result"
    }
   ],
   "source": [
    "predicted_y_test = lm.predict(x_test_median_centered_pca)\n",
    "balanced_accuracy = np.round(mt.balanced_accuracy_score(y_test_median,predicted_y_test)*100,2)\n",
    "all_performance[0][\"Median\"][\"LogistcRegression_Test\"]= {\"BorderlineSMOTE\":balanced_accuracy}\n",
    "balanced_accuracy"
   ]
  },
  {
   "cell_type": "markdown",
   "metadata": {},
   "source": [
    "Show the error in Logistic Regression"
   ]
  },
  {
   "cell_type": "code",
   "execution_count": 32,
   "metadata": {},
   "outputs": [
    {
     "name": "stdout",
     "output_type": "stream",
     "text": [
      "The errors were made on:  [72 73 75 79 82 85 88 92 93 97]\n"
     ]
    },
    {
     "data": {
      "image/png": "[encoded data removed]",
      "text/plain": [
       "<Figure size 640x480 with 1 Axes>"
      ]
     },
     "metadata": {},
     "output_type": "display_data"
    }
   ],
   "source": [
    "show_error_lr = pd.DataFrame({\"Predict\":predicted_y_test, \"Real\":y_test_median})\n",
    "errors_name = show_error_lr[show_error_lr[\"Predict\"] != show_error_lr[\"Real\"]].index\n",
    "errors_name\n",
    "\n",
    "df_score_view_noqc = df_score_view.drop([0,1,2,3])\n",
    "\n",
    "error_index = (df_score_view_noqc[df_score_view_noqc[\"Sample\"].isin(errors_name)].index) - 4\n",
    "print(\"The errors were made on: \",error_index.values)\n",
    "colors_with_error = colors_after_drop.copy()\n",
    "colors_with_error = np.delete(colors_with_error,[0,1,2,3])\n",
    "colors_with_error[error_index] = \"black\"\n",
    "\n",
    "plt.scatter(df_score_view_noqc[\"Score View X\"], df_score_view_noqc[\"Score View Y\"], c=colors_with_error)\n",
    "plt.xlabel('x')\n",
    "plt.ylabel('y')\n",
    "plt.legend(handles=[\n",
    "    plt.Line2D([0], [0], marker='o', color='w', label='LC', markerfacecolor='red', markersize=10),\n",
    "    plt.Line2D([0], [0], marker='o', color='w', label='MC', markerfacecolor='green', markersize=10),\n",
    "    plt.Line2D([0], [0], marker='o', color='w', label='HC', markerfacecolor='orange', markersize=10),\n",
    "], title='Legend')\n",
    "plt.title('Logistic Regression Error')\n",
    "plt.show()"
   ]
  },
  {
   "cell_type": "markdown",
   "metadata": {},
   "source": [
    "### SVM"
   ]
  },
  {
   "cell_type": "code",
   "execution_count": 33,
   "metadata": {},
   "outputs": [
    {
     "name": "stderr",
     "output_type": "stream",
     "text": [
      "/Users/bvs/opt/anaconda3/envs/AI4Omics/lib/python3.9/site-packages/sklearn/metrics/_classification.py:2394: UserWarning: y_pred contains classes not in y_true\n",
      "  warnings.warn(\"y_pred contains classes not in y_true\")\n",
      "/Users/bvs/opt/anaconda3/envs/AI4Omics/lib/python3.9/site-packages/sklearn/metrics/_classification.py:2394: UserWarning: y_pred contains classes not in y_true\n",
      "  warnings.warn(\"y_pred contains classes not in y_true\")\n",
      "/Users/bvs/opt/anaconda3/envs/AI4Omics/lib/python3.9/site-packages/sklearn/metrics/_classification.py:2394: UserWarning: y_pred contains classes not in y_true\n",
      "  warnings.warn(\"y_pred contains classes not in y_true\")\n",
      "/Users/bvs/opt/anaconda3/envs/AI4Omics/lib/python3.9/site-packages/sklearn/metrics/_classification.py:2394: UserWarning: y_pred contains classes not in y_true\n",
      "  warnings.warn(\"y_pred contains classes not in y_true\")\n",
      "/Users/bvs/opt/anaconda3/envs/AI4Omics/lib/python3.9/site-packages/sklearn/metrics/_classification.py:2394: UserWarning: y_pred contains classes not in y_true\n",
      "  warnings.warn(\"y_pred contains classes not in y_true\")\n",
      "/Users/bvs/opt/anaconda3/envs/AI4Omics/lib/python3.9/site-packages/sklearn/metrics/_classification.py:2394: UserWarning: y_pred contains classes not in y_true\n",
      "  warnings.warn(\"y_pred contains classes not in y_true\")\n",
      "/Users/bvs/opt/anaconda3/envs/AI4Omics/lib/python3.9/site-packages/sklearn/metrics/_classification.py:2394: UserWarning: y_pred contains classes not in y_true\n",
      "  warnings.warn(\"y_pred contains classes not in y_true\")\n",
      "/Users/bvs/opt/anaconda3/envs/AI4Omics/lib/python3.9/site-packages/sklearn/metrics/_classification.py:2394: UserWarning: y_pred contains classes not in y_true\n",
      "  warnings.warn(\"y_pred contains classes not in y_true\")\n"
     ]
    },
    {
     "name": "stdout",
     "output_type": "stream",
     "text": [
      "L'accuracy è:  87.32394366197182 %\n",
      "La balanced_accuracy è:  87.32394366197182 %\n"
     ]
    },
    {
     "name": "stderr",
     "output_type": "stream",
     "text": [
      "/Users/bvs/opt/anaconda3/envs/AI4Omics/lib/python3.9/site-packages/sklearn/metrics/_classification.py:2394: UserWarning: y_pred contains classes not in y_true\n",
      "  warnings.warn(\"y_pred contains classes not in y_true\")\n"
     ]
    }
   ],
   "source": [
    "from sklearn.model_selection import LeaveOneOut\n",
    "from sklearn.svm import SVC\n",
    "from sklearn import metrics as mt\n",
    "from imblearn.over_sampling import BorderlineSMOTE\n",
    "\n",
    "loo = LeaveOneOut()\n",
    "\n",
    "performance_scores = []\n",
    "performance_scores_balanced = []\n",
    "i = 0\n",
    "# Itera attraverso i fold\n",
    "for train_index, val_index in loo.split(X_w_median):\n",
    "    i+=1\n",
    "    train_x_temp, test_x_temp = X_w_median.iloc[train_index],X_w_median.iloc[val_index]\n",
    "    train_y_temp, test_y_temp = Y_w_median.iloc[train_index],Y_w_median.iloc[val_index]\n",
    "    \n",
    "    # balancing\n",
    "    train_x_temp,train_y_temp = BorderlineSMOTE(random_state=99).fit_resample(train_x_temp,train_y_temp)\n",
    "    \n",
    "   \n",
    "    # normalization\n",
    "    mean_median_temp= train_x_temp.mean(axis=0)\n",
    "    std_median_temp = train_x_temp.std(axis=0)\n",
    "    train_x_temp = (train_x_temp.sub(mean_median_temp,axis=1)).div(std_median_temp,axis=1)\n",
    "\n",
    "    test_x_temp = (test_x_temp.sub(mean_median_temp,axis=1)).div(std_median_temp,axis=1)\n",
    "    \n",
    "    model_svc = SVC(C=1.0, kernel = \"linear\", gamma = \"scale\")\n",
    "    model_svc.fit(train_x_temp,train_y_temp)\n",
    "    \n",
    "    predicted_y_temp = model_svc.predict(test_x_temp)\n",
    "    \n",
    "    accuracy_temp = np.round(mt.accuracy_score(test_y_temp,predicted_y_temp)*100,2)\n",
    "    performance_scores.append(accuracy_temp)\n",
    "    balanced_accuracy_temp = np.round(mt.balanced_accuracy_score(test_y_temp,predicted_y_temp)*100,2)\n",
    "    performance_scores_balanced.append(balanced_accuracy_temp)\n",
    "    \n",
    "mean_accuracy_temp = sum(performance_scores)/i\n",
    "mean_accuracy_balanced_temp = sum(performance_scores_balanced)/i\n",
    "\n",
    "print(\"L'accuracy è: \", mean_accuracy_temp, \"%\\nLa balanced_accuracy è: \", mean_accuracy_balanced_temp,\"%\")\n",
    "\n",
    "all_performance[0][\"Median\"][\"SVM_Validation\"]= {\"BorderlineSMOTE\":mean_accuracy_balanced_temp}"
   ]
  },
  {
   "cell_type": "markdown",
   "metadata": {},
   "source": [
    "##### Try on Test"
   ]
  },
  {
   "cell_type": "code",
   "execution_count": 34,
   "metadata": {},
   "outputs": [
    {
     "data": {
      "text/plain": [
       "33.33"
      ]
     },
     "execution_count": 34,
     "metadata": {},
     "output_type": "execute_result"
    }
   ],
   "source": [
    "predicted_y_test = model_svc.predict(x_test_median_centered_pca)\n",
    "balanced_accuracy = np.round(mt.balanced_accuracy_score(y_test_median,predicted_y_test)*100,2)\n",
    "all_performance[0][\"Median\"][\"SVM_Test\"]= {\"BorderlineSMOTE\":balanced_accuracy}\n",
    "balanced_accuracy"
   ]
  },
  {
   "cell_type": "markdown",
   "metadata": {},
   "source": [
    "Show the error in SVM"
   ]
  },
  {
   "cell_type": "code",
   "execution_count": 35,
   "metadata": {},
   "outputs": [
    {
     "name": "stdout",
     "output_type": "stream",
     "text": [
      "The errors were made on:  [72 73 75 79 82 85 88 92 93 97]\n"
     ]
    },
    {
     "data": {
      "image/png": "[encoded data removed]",
      "text/plain": [
       "<Figure size 640x480 with 1 Axes>"
      ]
     },
     "metadata": {},
     "output_type": "display_data"
    }
   ],
   "source": [
    "show_error_svm = pd.DataFrame({\"Predict\":predicted_y_test, \"Real\":y_test_median})\n",
    "errors_name = show_error_svm[show_error_svm[\"Predict\"] != show_error_svm[\"Real\"]].index\n",
    "errors_name\n",
    "\n",
    "df_score_view_noqc = df_score_view.drop([0,1,2,3])\n",
    "\n",
    "error_index = (df_score_view_noqc[df_score_view_noqc[\"Sample\"].isin(errors_name)].index) - 4\n",
    "print(\"The errors were made on: \",error_index.values)\n",
    "colors_with_error = colors_after_drop.copy()\n",
    "colors_with_error = np.delete(colors_with_error,[0,1,2,3])\n",
    "colors_with_error[error_index] = \"black\"\n",
    "\n",
    "plt.scatter(df_score_view_noqc[\"Score View X\"], df_score_view_noqc[\"Score View Y\"], c=colors_with_error)\n",
    "plt.xlabel('x')\n",
    "plt.ylabel('y')\n",
    "plt.legend(handles=[\n",
    "    plt.Line2D([0], [0], marker='o', color='w', label='LC', markerfacecolor='red', markersize=10),\n",
    "    plt.Line2D([0], [0], marker='o', color='w', label='MC', markerfacecolor='green', markersize=10),\n",
    "    plt.Line2D([0], [0], marker='o', color='w', label='HC', markerfacecolor='orange', markersize=10),\n",
    "], title='Legend')\n",
    "plt.title('SVM Error')\n",
    "plt.show()"
   ]
  },
  {
   "cell_type": "markdown",
   "metadata": {},
   "source": [
    "### Random Forest"
   ]
  },
  {
   "cell_type": "code",
   "execution_count": 36,
   "metadata": {},
   "outputs": [
    {
     "name": "stderr",
     "output_type": "stream",
     "text": [
      "/Users/bvs/opt/anaconda3/envs/AI4Omics/lib/python3.9/site-packages/sklearn/metrics/_classification.py:2394: UserWarning: y_pred contains classes not in y_true\n",
      "  warnings.warn(\"y_pred contains classes not in y_true\")\n",
      "/Users/bvs/opt/anaconda3/envs/AI4Omics/lib/python3.9/site-packages/sklearn/metrics/_classification.py:2394: UserWarning: y_pred contains classes not in y_true\n",
      "  warnings.warn(\"y_pred contains classes not in y_true\")\n",
      "/Users/bvs/opt/anaconda3/envs/AI4Omics/lib/python3.9/site-packages/sklearn/metrics/_classification.py:2394: UserWarning: y_pred contains classes not in y_true\n",
      "  warnings.warn(\"y_pred contains classes not in y_true\")\n",
      "/Users/bvs/opt/anaconda3/envs/AI4Omics/lib/python3.9/site-packages/sklearn/metrics/_classification.py:2394: UserWarning: y_pred contains classes not in y_true\n",
      "  warnings.warn(\"y_pred contains classes not in y_true\")\n",
      "/Users/bvs/opt/anaconda3/envs/AI4Omics/lib/python3.9/site-packages/sklearn/metrics/_classification.py:2394: UserWarning: y_pred contains classes not in y_true\n",
      "  warnings.warn(\"y_pred contains classes not in y_true\")\n",
      "/Users/bvs/opt/anaconda3/envs/AI4Omics/lib/python3.9/site-packages/sklearn/metrics/_classification.py:2394: UserWarning: y_pred contains classes not in y_true\n",
      "  warnings.warn(\"y_pred contains classes not in y_true\")\n",
      "/Users/bvs/opt/anaconda3/envs/AI4Omics/lib/python3.9/site-packages/sklearn/metrics/_classification.py:2394: UserWarning: y_pred contains classes not in y_true\n",
      "  warnings.warn(\"y_pred contains classes not in y_true\")\n",
      "/Users/bvs/opt/anaconda3/envs/AI4Omics/lib/python3.9/site-packages/sklearn/metrics/_classification.py:2394: UserWarning: y_pred contains classes not in y_true\n",
      "  warnings.warn(\"y_pred contains classes not in y_true\")\n",
      "/Users/bvs/opt/anaconda3/envs/AI4Omics/lib/python3.9/site-packages/sklearn/metrics/_classification.py:2394: UserWarning: y_pred contains classes not in y_true\n",
      "  warnings.warn(\"y_pred contains classes not in y_true\")\n",
      "/Users/bvs/opt/anaconda3/envs/AI4Omics/lib/python3.9/site-packages/sklearn/metrics/_classification.py:2394: UserWarning: y_pred contains classes not in y_true\n",
      "  warnings.warn(\"y_pred contains classes not in y_true\")\n"
     ]
    },
    {
     "name": "stdout",
     "output_type": "stream",
     "text": [
      "L'accuracy è:  85.91549295774648 %\n",
      "La balanced_accuracy è:  85.91549295774648 %\n"
     ]
    }
   ],
   "source": [
    "from sklearn.ensemble import RandomForestClassifier\n",
    "from sklearn import metrics as mt\n",
    "from sklearn.model_selection import LeaveOneOut\n",
    "from imblearn.over_sampling import BorderlineSMOTE\n",
    "\n",
    "loo = LeaveOneOut()\n",
    "\n",
    "performance_scores = []\n",
    "performance_scores_balanced = []\n",
    "i = 0\n",
    "\n",
    "for train_index, val_index in loo.split(X_w_median):\n",
    "    i+=1\n",
    "    train_x_temp, test_x_temp = X_w_median.iloc[train_index],X_w_median.iloc[val_index]\n",
    "    train_y_temp, test_y_temp = Y_w_median.iloc[train_index],Y_w_median.iloc[val_index]\n",
    "    \n",
    "    train_x_temp,train_y_temp = BorderlineSMOTE(random_state=99).fit_resample(train_x_temp,train_y_temp)\n",
    "    # print(train_y_temp.value_counts())\n",
    "    # normalizzazione\n",
    "    mean_median_temp = train_x_temp.mean(axis=0)\n",
    "    std_median_temp = train_x_temp.std(axis=0)\n",
    "    train_x_temp = (train_x_temp.sub(mean_median_temp,axis=1)).div(std_median_temp,axis=1)\n",
    "\n",
    "    test_x_temp = (test_x_temp.sub(mean_median_temp,axis=1)).div(std_median_temp,axis=1)\n",
    "    \n",
    "    # print(\"FOLD %d\" %i)\n",
    "    \n",
    "    rf_model = RandomForestClassifier(n_estimators=200, random_state=3, max_depth=22, n_jobs=4)\n",
    "    rf_model.fit(train_x_temp, train_y_temp)\n",
    "    predicted_y_temp = rf_model.predict(test_x_temp)\n",
    "    \n",
    "    accuracy_temp = np.round(mt.accuracy_score(test_y_temp,predicted_y_temp)*100,2)\n",
    "    performance_scores.append(accuracy_temp)\n",
    "    balanced_accuracy_temp = np.round(mt.balanced_accuracy_score(test_y_temp,predicted_y_temp)*100,2)\n",
    "    performance_scores_balanced.append(balanced_accuracy_temp)\n",
    "    \n",
    "mean_accuracy_temp = sum(performance_scores)/i\n",
    "mean_accuracy_balanced_temp = sum(performance_scores_balanced)/i\n",
    "\n",
    "print(\"L'accuracy è: \", mean_accuracy_temp, \"%\\nLa balanced_accuracy è: \", mean_accuracy_balanced_temp,\"%\")\n",
    "\n",
    "all_performance[0][\"Median\"][\"RandomForests_Validation\"]= {\"BorderlineSMOTE\":mean_accuracy_balanced_temp}\n",
    "\n"
   ]
  },
  {
   "cell_type": "markdown",
   "metadata": {},
   "source": [
    "##### Try on Test"
   ]
  },
  {
   "cell_type": "code",
   "execution_count": 37,
   "metadata": {},
   "outputs": [
    {
     "data": {
      "text/plain": [
       "33.33"
      ]
     },
     "execution_count": 37,
     "metadata": {},
     "output_type": "execute_result"
    }
   ],
   "source": [
    "predicted_y_test = rf_model.predict(x_test_median_centered_pca)\n",
    "balanced_accuracy = np.round(mt.balanced_accuracy_score(y_test_median,predicted_y_test)*100,2)\n",
    "all_performance[0][\"Median\"][\"RandomForests_Test\"]= {\"BorderlineSMOTE\":balanced_accuracy}\n",
    "balanced_accuracy"
   ]
  },
  {
   "cell_type": "code",
   "execution_count": 38,
   "metadata": {},
   "outputs": [
    {
     "name": "stdout",
     "output_type": "stream",
     "text": [
      "Gli errori vengono commessi sul campione:  [72 73 75 79 82 85 88 92 93 97]\n"
     ]
    },
    {
     "data": {
      "image/png": "[encoded data removed]",
      "text/plain": [
       "<Figure size 640x480 with 1 Axes>"
      ]
     },
     "metadata": {},
     "output_type": "display_data"
    }
   ],
   "source": [
    "show_error_rf = pd.DataFrame({\"Predict\":predicted_y_test, \"Real\":y_test_median})\n",
    "errors_name = show_error_rf[show_error_rf[\"Predict\"] != show_error_rf[\"Real\"]].index\n",
    "errors_name\n",
    "\n",
    "df_score_view_noqc = df_score_view.drop([0,1,2,3])\n",
    "\n",
    "len(df_score_view_noqc)\n",
    "\n",
    "df_score_view_noqc\n",
    "\n",
    "error_index = (df_score_view_noqc[df_score_view_noqc[\"Sample\"].isin(errors_name)].index) - 4\n",
    "print(\"Gli errori vengono commessi sul campione: \",error_index.values)\n",
    "colors_with_error = colors_after_drop.copy()\n",
    "colors_with_error = np.delete(colors_with_error,[0,1,2,3])\n",
    "len(colors_with_error)\n",
    "colors_with_error[error_index] = \"black\"\n",
    "\n",
    "plt.scatter(df_score_view_noqc[\"Score View X\"], df_score_view_noqc[\"Score View Y\"], c=colors_with_error)\n",
    "plt.xlabel('x')\n",
    "plt.ylabel('y')\n",
    "plt.legend(handles=[\n",
    "    plt.Line2D([0], [0], marker='o', color='w', label='LC', markerfacecolor='red', markersize=10),\n",
    "    plt.Line2D([0], [0], marker='o', color='w', label='MC', markerfacecolor='green', markersize=10),\n",
    "    plt.Line2D([0], [0], marker='o', color='w', label='HC', markerfacecolor='orange', markersize=10),\n",
    "], title='Legend')\n",
    "plt.title(\"Random Forest Error\")\n",
    "plt.show()"
   ]
  },
  {
   "cell_type": "markdown",
   "metadata": {},
   "source": [
    "## Write on file"
   ]
  },
  {
   "cell_type": "code",
   "execution_count": 39,
   "metadata": {},
   "outputs": [],
   "source": [
    "import json\n",
    "file_path = \"output_metaboloma_models.txt\"\n",
    "with open(file_path, \"a\") as file:\n",
    "    json.dump(all_performance, file, indent=4)"
   ]
  }
 ],
 "metadata": {
  "kernelspec": {
   "display_name": "AI4Omics",
   "language": "python",
   "name": "python3"
  },
  "language_info": {
   "codemirror_mode": {
    "name": "ipython",
    "version": 3
   },
   "file_extension": ".py",
   "mimetype": "text/x-python",
   "name": "python",
   "nbconvert_exporter": "python",
   "pygments_lexer": "ipython3",
   "version": "3.9.18"
  }
 },
 "nbformat": 4,
 "nbformat_minor": 2
}
