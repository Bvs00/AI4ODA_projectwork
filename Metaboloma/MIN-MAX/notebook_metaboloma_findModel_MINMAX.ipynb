{
 "cells": [
  {
   "cell_type": "markdown",
   "metadata": {},
   "source": [
    "# Project Work - Try with Min and Max\n",
    "This project is composed from two dataset:\n",
    "- Lipidoma\n",
    "- Metaboloma\n",
    "\n",
    "The aim of this project is identify bio-markers that allow to distinguish the evolution of pathology (HCV). We have 3 several class of patient:\n",
    "- LC: Hepatocellular carcinoma\n",
    "- HC: Hepatitis C virus\n",
    "- MC: Mixed Cryoglobulinemia disease"
   ]
  },
  {
   "cell_type": "markdown",
   "metadata": {},
   "source": [
    "## Metaboloma"
   ]
  },
  {
   "cell_type": "markdown",
   "metadata": {},
   "source": [
    "### Read Data Set"
   ]
  },
  {
   "cell_type": "code",
   "execution_count": 2,
   "metadata": {},
   "outputs": [
    {
     "data": {
      "text/html": [
       "<div>\n",
       "<style scoped>\n",
       "    .dataframe tbody tr th:only-of-type {\n",
       "        vertical-align: middle;\n",
       "    }\n",
       "\n",
       "    .dataframe tbody tr th {\n",
       "        vertical-align: top;\n",
       "    }\n",
       "\n",
       "    .dataframe thead th {\n",
       "        text-align: right;\n",
       "    }\n",
       "</style>\n",
       "<table border=\"1\" class=\"dataframe\">\n",
       "  <thead>\n",
       "    <tr style=\"text-align: right;\">\n",
       "      <th></th>\n",
       "      <th>Aminooctanoic acid</th>\n",
       "      <th>Androsterone sulfate</th>\n",
       "      <th>Arachidonic acid</th>\n",
       "      <th>Arginine</th>\n",
       "      <th>Asymmetric dimethylarginine</th>\n",
       "      <th>Bilirubin</th>\n",
       "      <th>Biliverdin</th>\n",
       "      <th>CAR 10:0</th>\n",
       "      <th>CAR 10:1</th>\n",
       "      <th>CAR 14:1</th>\n",
       "      <th>...</th>\n",
       "      <th>Paraxanthine</th>\n",
       "      <th>Phenylacetylglutamine</th>\n",
       "      <th>Pregnenolone sulfate</th>\n",
       "      <th>Proline betaine</th>\n",
       "      <th>Proline-hydroxyproline</th>\n",
       "      <th>Pseudouridine</th>\n",
       "      <th>Sphingosine 1-phosphate</th>\n",
       "      <th>Taurine</th>\n",
       "      <th>Tyrosine</th>\n",
       "      <th>Urobilinogen</th>\n",
       "    </tr>\n",
       "  </thead>\n",
       "  <tbody>\n",
       "    <tr>\n",
       "      <th>260522_QC 3uL POS_BA2_1_5281</th>\n",
       "      <td>1724.36</td>\n",
       "      <td>36169.2</td>\n",
       "      <td>1791.64</td>\n",
       "      <td>20815.31</td>\n",
       "      <td>18192.06</td>\n",
       "      <td>2352.46</td>\n",
       "      <td>3163.69</td>\n",
       "      <td>41893.68</td>\n",
       "      <td>20112.96</td>\n",
       "      <td>13712.3</td>\n",
       "      <td>...</td>\n",
       "      <td>25095.15</td>\n",
       "      <td>11855.6</td>\n",
       "      <td>7784.79</td>\n",
       "      <td>63059.26</td>\n",
       "      <td>4441.94</td>\n",
       "      <td>2532.3</td>\n",
       "      <td>370.53</td>\n",
       "      <td>4797.76</td>\n",
       "      <td>1558.59</td>\n",
       "      <td>10739.38</td>\n",
       "    </tr>\n",
       "    <tr>\n",
       "      <th>260522_QC 3uL POS_BA2_1_5282</th>\n",
       "      <td>2069.33</td>\n",
       "      <td>NaN</td>\n",
       "      <td>2686.61</td>\n",
       "      <td>18423.92</td>\n",
       "      <td>16191.01</td>\n",
       "      <td>2867.38</td>\n",
       "      <td>2492.91</td>\n",
       "      <td>45853.77</td>\n",
       "      <td>22089.3</td>\n",
       "      <td>13680.64</td>\n",
       "      <td>...</td>\n",
       "      <td>26118.44</td>\n",
       "      <td>12851.29</td>\n",
       "      <td>8463.23</td>\n",
       "      <td>59114.21</td>\n",
       "      <td>4312.64</td>\n",
       "      <td>2706.49</td>\n",
       "      <td>547.05</td>\n",
       "      <td>4898.68</td>\n",
       "      <td>2369.34</td>\n",
       "      <td>10762.16</td>\n",
       "    </tr>\n",
       "    <tr>\n",
       "      <th>260522_QC 3uL POS_BA2_1_5292</th>\n",
       "      <td>2345.91</td>\n",
       "      <td>36445.49</td>\n",
       "      <td>1934.77</td>\n",
       "      <td>18134.45</td>\n",
       "      <td>16500.87</td>\n",
       "      <td>2068.57</td>\n",
       "      <td>2921.83</td>\n",
       "      <td>40248.9</td>\n",
       "      <td>20480.08</td>\n",
       "      <td>14949.6</td>\n",
       "      <td>...</td>\n",
       "      <td>34265.84</td>\n",
       "      <td>16378.96</td>\n",
       "      <td>9249.89</td>\n",
       "      <td>58846.07</td>\n",
       "      <td>4322.24</td>\n",
       "      <td>2988.95</td>\n",
       "      <td>480.28</td>\n",
       "      <td>4262.75</td>\n",
       "      <td>1780.54</td>\n",
       "      <td>10415.68</td>\n",
       "    </tr>\n",
       "    <tr>\n",
       "      <th>260522_QC 3uL POS_BA2_1_5336</th>\n",
       "      <td>2800.96</td>\n",
       "      <td>48072.08</td>\n",
       "      <td>2338.6</td>\n",
       "      <td>NaN</td>\n",
       "      <td>18163.49</td>\n",
       "      <td>1626.92</td>\n",
       "      <td>2426.26</td>\n",
       "      <td>38664.73</td>\n",
       "      <td>19663.5</td>\n",
       "      <td>14294.55</td>\n",
       "      <td>...</td>\n",
       "      <td>32695.32</td>\n",
       "      <td>13010.66</td>\n",
       "      <td>11141.93</td>\n",
       "      <td>68917.94</td>\n",
       "      <td>4249.72</td>\n",
       "      <td>2369.77</td>\n",
       "      <td>604.94</td>\n",
       "      <td>3894.54</td>\n",
       "      <td>1470.27</td>\n",
       "      <td>8576.66</td>\n",
       "    </tr>\n",
       "    <tr>\n",
       "      <th>260522_LC 203_POS_BA3_1_5284</th>\n",
       "      <td>5593.8</td>\n",
       "      <td>8391.23</td>\n",
       "      <td>2555.37</td>\n",
       "      <td>23541.71</td>\n",
       "      <td>25006.24</td>\n",
       "      <td>20973.29</td>\n",
       "      <td>11433.02</td>\n",
       "      <td>101834.45</td>\n",
       "      <td>27948.15</td>\n",
       "      <td>20205.67</td>\n",
       "      <td>...</td>\n",
       "      <td>59383.52</td>\n",
       "      <td>24228.53</td>\n",
       "      <td>2319.81</td>\n",
       "      <td>11698.76</td>\n",
       "      <td>5601.15</td>\n",
       "      <td>2336.02</td>\n",
       "      <td>920.18</td>\n",
       "      <td>4491.4</td>\n",
       "      <td>3273.71</td>\n",
       "      <td>893.61</td>\n",
       "    </tr>\n",
       "    <tr>\n",
       "      <th>...</th>\n",
       "      <td>...</td>\n",
       "      <td>...</td>\n",
       "      <td>...</td>\n",
       "      <td>...</td>\n",
       "      <td>...</td>\n",
       "      <td>...</td>\n",
       "      <td>...</td>\n",
       "      <td>...</td>\n",
       "      <td>...</td>\n",
       "      <td>...</td>\n",
       "      <td>...</td>\n",
       "      <td>...</td>\n",
       "      <td>...</td>\n",
       "      <td>...</td>\n",
       "      <td>...</td>\n",
       "      <td>...</td>\n",
       "      <td>...</td>\n",
       "      <td>...</td>\n",
       "      <td>...</td>\n",
       "      <td>...</td>\n",
       "      <td>...</td>\n",
       "    </tr>\n",
       "    <tr>\n",
       "      <th>260522_HC 019_POS_GE8_1_5367</th>\n",
       "      <td>5082.13</td>\n",
       "      <td>71447.89</td>\n",
       "      <td>2195.48</td>\n",
       "      <td>11581.65</td>\n",
       "      <td>11746.75</td>\n",
       "      <td>2378.9</td>\n",
       "      <td>1772.48</td>\n",
       "      <td>62455.74</td>\n",
       "      <td>40757.8</td>\n",
       "      <td>11739.01</td>\n",
       "      <td>...</td>\n",
       "      <td>95740.05</td>\n",
       "      <td>22130.71</td>\n",
       "      <td>10216.19</td>\n",
       "      <td>16960.19</td>\n",
       "      <td>4379.81</td>\n",
       "      <td>2054.49</td>\n",
       "      <td>1658.98</td>\n",
       "      <td>3282.69</td>\n",
       "      <td>1720.11</td>\n",
       "      <td>1485.28</td>\n",
       "    </tr>\n",
       "    <tr>\n",
       "      <th>260522_HC 020_POS_RA1_1_5368</th>\n",
       "      <td>2560.8</td>\n",
       "      <td>6213.98</td>\n",
       "      <td>2240.19</td>\n",
       "      <td>19817.97</td>\n",
       "      <td>15440.64</td>\n",
       "      <td>3008.33</td>\n",
       "      <td>2334.52</td>\n",
       "      <td>119343.25</td>\n",
       "      <td>55534.63</td>\n",
       "      <td>24819.22</td>\n",
       "      <td>...</td>\n",
       "      <td>43309.66</td>\n",
       "      <td>27068.33</td>\n",
       "      <td>5982.11</td>\n",
       "      <td>8025.66</td>\n",
       "      <td>7901.4</td>\n",
       "      <td>3315.97</td>\n",
       "      <td>981.54</td>\n",
       "      <td>2643.4</td>\n",
       "      <td>2377.65</td>\n",
       "      <td>2736.38</td>\n",
       "    </tr>\n",
       "    <tr>\n",
       "      <th>260522_HC 021_POS_RA7_1_5375</th>\n",
       "      <td>4378.68</td>\n",
       "      <td>NaN</td>\n",
       "      <td>826.61</td>\n",
       "      <td>7058.17</td>\n",
       "      <td>14720.29</td>\n",
       "      <td>5098.76</td>\n",
       "      <td>3060.99</td>\n",
       "      <td>160972.44</td>\n",
       "      <td>40101.87</td>\n",
       "      <td>12816.22</td>\n",
       "      <td>...</td>\n",
       "      <td>31221.78</td>\n",
       "      <td>27424.89</td>\n",
       "      <td>3857.13</td>\n",
       "      <td>74973.58</td>\n",
       "      <td>4896.98</td>\n",
       "      <td>3970.25</td>\n",
       "      <td>766.7</td>\n",
       "      <td>3415.74</td>\n",
       "      <td>2796.12</td>\n",
       "      <td>8934.25</td>\n",
       "    </tr>\n",
       "    <tr>\n",
       "      <th>260522_HC 022_POS_RA8_1_5376</th>\n",
       "      <td>3584.63</td>\n",
       "      <td>106970.46</td>\n",
       "      <td>2322.56</td>\n",
       "      <td>16072.35</td>\n",
       "      <td>15300.35</td>\n",
       "      <td>8262.55</td>\n",
       "      <td>4217.25</td>\n",
       "      <td>75388.84</td>\n",
       "      <td>25210.08</td>\n",
       "      <td>13802.58</td>\n",
       "      <td>...</td>\n",
       "      <td>99036.48</td>\n",
       "      <td>16814.4</td>\n",
       "      <td>10656.49</td>\n",
       "      <td>45065.14</td>\n",
       "      <td>2711.33</td>\n",
       "      <td>2925.63</td>\n",
       "      <td>587.06</td>\n",
       "      <td>4154.92</td>\n",
       "      <td>1176.92</td>\n",
       "      <td>3078.14</td>\n",
       "    </tr>\n",
       "    <tr>\n",
       "      <th>260522_HC 023_POS_RB1_1_5377</th>\n",
       "      <td>4951.34</td>\n",
       "      <td>2153.03</td>\n",
       "      <td>2210.14</td>\n",
       "      <td>15399.16</td>\n",
       "      <td>11328.86</td>\n",
       "      <td>1492.71</td>\n",
       "      <td>883.07</td>\n",
       "      <td>27218.89</td>\n",
       "      <td>15521.81</td>\n",
       "      <td>3820.62</td>\n",
       "      <td>...</td>\n",
       "      <td>10822</td>\n",
       "      <td>8103.98</td>\n",
       "      <td>9143.15</td>\n",
       "      <td>25215.47</td>\n",
       "      <td>4685.3</td>\n",
       "      <td>2824.89</td>\n",
       "      <td>1209.32</td>\n",
       "      <td>3370.63</td>\n",
       "      <td>2494.34</td>\n",
       "      <td>1475.84</td>\n",
       "    </tr>\n",
       "  </tbody>\n",
       "</table>\n",
       "<p>106 rows × 53 columns</p>\n",
       "</div>"
      ],
      "text/plain": [
       "                             Aminooctanoic acid Androsterone sulfate  \\\n",
       "260522_QC 3uL POS_BA2_1_5281            1724.36              36169.2   \n",
       "260522_QC 3uL POS_BA2_1_5282            2069.33                  NaN   \n",
       "260522_QC 3uL POS_BA2_1_5292            2345.91             36445.49   \n",
       "260522_QC 3uL POS_BA2_1_5336            2800.96             48072.08   \n",
       "260522_LC 203_POS_BA3_1_5284             5593.8              8391.23   \n",
       "...                                         ...                  ...   \n",
       "260522_HC 019_POS_GE8_1_5367            5082.13             71447.89   \n",
       "260522_HC 020_POS_RA1_1_5368             2560.8              6213.98   \n",
       "260522_HC 021_POS_RA7_1_5375            4378.68                  NaN   \n",
       "260522_HC 022_POS_RA8_1_5376            3584.63            106970.46   \n",
       "260522_HC 023_POS_RB1_1_5377            4951.34              2153.03   \n",
       "\n",
       "                             Arachidonic acid  Arginine  \\\n",
       "260522_QC 3uL POS_BA2_1_5281          1791.64  20815.31   \n",
       "260522_QC 3uL POS_BA2_1_5282          2686.61  18423.92   \n",
       "260522_QC 3uL POS_BA2_1_5292          1934.77  18134.45   \n",
       "260522_QC 3uL POS_BA2_1_5336           2338.6       NaN   \n",
       "260522_LC 203_POS_BA3_1_5284          2555.37  23541.71   \n",
       "...                                       ...       ...   \n",
       "260522_HC 019_POS_GE8_1_5367          2195.48  11581.65   \n",
       "260522_HC 020_POS_RA1_1_5368          2240.19  19817.97   \n",
       "260522_HC 021_POS_RA7_1_5375           826.61   7058.17   \n",
       "260522_HC 022_POS_RA8_1_5376          2322.56  16072.35   \n",
       "260522_HC 023_POS_RB1_1_5377          2210.14  15399.16   \n",
       "\n",
       "                             Asymmetric dimethylarginine Bilirubin Biliverdin  \\\n",
       "260522_QC 3uL POS_BA2_1_5281                    18192.06   2352.46    3163.69   \n",
       "260522_QC 3uL POS_BA2_1_5282                    16191.01   2867.38    2492.91   \n",
       "260522_QC 3uL POS_BA2_1_5292                    16500.87   2068.57    2921.83   \n",
       "260522_QC 3uL POS_BA2_1_5336                    18163.49   1626.92    2426.26   \n",
       "260522_LC 203_POS_BA3_1_5284                    25006.24  20973.29   11433.02   \n",
       "...                                                  ...       ...        ...   \n",
       "260522_HC 019_POS_GE8_1_5367                    11746.75    2378.9    1772.48   \n",
       "260522_HC 020_POS_RA1_1_5368                    15440.64   3008.33    2334.52   \n",
       "260522_HC 021_POS_RA7_1_5375                    14720.29   5098.76    3060.99   \n",
       "260522_HC 022_POS_RA8_1_5376                    15300.35   8262.55    4217.25   \n",
       "260522_HC 023_POS_RB1_1_5377                    11328.86   1492.71     883.07   \n",
       "\n",
       "                               CAR 10:0  CAR 10:1  CAR 14:1  ... Paraxanthine  \\\n",
       "260522_QC 3uL POS_BA2_1_5281   41893.68  20112.96   13712.3  ...     25095.15   \n",
       "260522_QC 3uL POS_BA2_1_5282   45853.77   22089.3  13680.64  ...     26118.44   \n",
       "260522_QC 3uL POS_BA2_1_5292    40248.9  20480.08   14949.6  ...     34265.84   \n",
       "260522_QC 3uL POS_BA2_1_5336   38664.73   19663.5  14294.55  ...     32695.32   \n",
       "260522_LC 203_POS_BA3_1_5284  101834.45  27948.15  20205.67  ...     59383.52   \n",
       "...                                 ...       ...       ...  ...          ...   \n",
       "260522_HC 019_POS_GE8_1_5367   62455.74   40757.8  11739.01  ...     95740.05   \n",
       "260522_HC 020_POS_RA1_1_5368  119343.25  55534.63  24819.22  ...     43309.66   \n",
       "260522_HC 021_POS_RA7_1_5375  160972.44  40101.87  12816.22  ...     31221.78   \n",
       "260522_HC 022_POS_RA8_1_5376   75388.84  25210.08  13802.58  ...     99036.48   \n",
       "260522_HC 023_POS_RB1_1_5377   27218.89  15521.81   3820.62  ...        10822   \n",
       "\n",
       "                             Phenylacetylglutamine Pregnenolone sulfate  \\\n",
       "260522_QC 3uL POS_BA2_1_5281               11855.6              7784.79   \n",
       "260522_QC 3uL POS_BA2_1_5282              12851.29              8463.23   \n",
       "260522_QC 3uL POS_BA2_1_5292              16378.96              9249.89   \n",
       "260522_QC 3uL POS_BA2_1_5336              13010.66             11141.93   \n",
       "260522_LC 203_POS_BA3_1_5284              24228.53              2319.81   \n",
       "...                                            ...                  ...   \n",
       "260522_HC 019_POS_GE8_1_5367              22130.71             10216.19   \n",
       "260522_HC 020_POS_RA1_1_5368              27068.33              5982.11   \n",
       "260522_HC 021_POS_RA7_1_5375              27424.89              3857.13   \n",
       "260522_HC 022_POS_RA8_1_5376               16814.4             10656.49   \n",
       "260522_HC 023_POS_RB1_1_5377               8103.98              9143.15   \n",
       "\n",
       "                             Proline betaine Proline-hydroxyproline  \\\n",
       "260522_QC 3uL POS_BA2_1_5281        63059.26                4441.94   \n",
       "260522_QC 3uL POS_BA2_1_5282        59114.21                4312.64   \n",
       "260522_QC 3uL POS_BA2_1_5292        58846.07                4322.24   \n",
       "260522_QC 3uL POS_BA2_1_5336        68917.94                4249.72   \n",
       "260522_LC 203_POS_BA3_1_5284        11698.76                5601.15   \n",
       "...                                      ...                    ...   \n",
       "260522_HC 019_POS_GE8_1_5367        16960.19                4379.81   \n",
       "260522_HC 020_POS_RA1_1_5368         8025.66                 7901.4   \n",
       "260522_HC 021_POS_RA7_1_5375        74973.58                4896.98   \n",
       "260522_HC 022_POS_RA8_1_5376        45065.14                2711.33   \n",
       "260522_HC 023_POS_RB1_1_5377        25215.47                 4685.3   \n",
       "\n",
       "                             Pseudouridine Sphingosine 1-phosphate  Taurine  \\\n",
       "260522_QC 3uL POS_BA2_1_5281        2532.3                  370.53  4797.76   \n",
       "260522_QC 3uL POS_BA2_1_5282       2706.49                  547.05  4898.68   \n",
       "260522_QC 3uL POS_BA2_1_5292       2988.95                  480.28  4262.75   \n",
       "260522_QC 3uL POS_BA2_1_5336       2369.77                  604.94  3894.54   \n",
       "260522_LC 203_POS_BA3_1_5284       2336.02                  920.18   4491.4   \n",
       "...                                    ...                     ...      ...   \n",
       "260522_HC 019_POS_GE8_1_5367       2054.49                 1658.98  3282.69   \n",
       "260522_HC 020_POS_RA1_1_5368       3315.97                  981.54   2643.4   \n",
       "260522_HC 021_POS_RA7_1_5375       3970.25                   766.7  3415.74   \n",
       "260522_HC 022_POS_RA8_1_5376       2925.63                  587.06  4154.92   \n",
       "260522_HC 023_POS_RB1_1_5377       2824.89                 1209.32  3370.63   \n",
       "\n",
       "                             Tyrosine Urobilinogen  \n",
       "260522_QC 3uL POS_BA2_1_5281  1558.59     10739.38  \n",
       "260522_QC 3uL POS_BA2_1_5282  2369.34     10762.16  \n",
       "260522_QC 3uL POS_BA2_1_5292  1780.54     10415.68  \n",
       "260522_QC 3uL POS_BA2_1_5336  1470.27      8576.66  \n",
       "260522_LC 203_POS_BA3_1_5284  3273.71       893.61  \n",
       "...                               ...          ...  \n",
       "260522_HC 019_POS_GE8_1_5367  1720.11      1485.28  \n",
       "260522_HC 020_POS_RA1_1_5368  2377.65      2736.38  \n",
       "260522_HC 021_POS_RA7_1_5375  2796.12      8934.25  \n",
       "260522_HC 022_POS_RA8_1_5376  1176.92      3078.14  \n",
       "260522_HC 023_POS_RB1_1_5377  2494.34      1475.84  \n",
       "\n",
       "[106 rows x 53 columns]"
      ]
     },
     "execution_count": 2,
     "metadata": {},
     "output_type": "execute_result"
    }
   ],
   "source": [
    "import pandas as pd\n",
    "import numpy as np\n",
    "\n",
    "data_metaboloma_transpose = pd.read_excel(\"../../DataSet PAscale/Metaboloma.xlsx\")\n",
    "data_metaboloma_transpose\n",
    "\n",
    "data_metaboloma = data_metaboloma_transpose.T\n",
    "\n",
    "data_metaboloma.columns = data_metaboloma_transpose[\"Sample\"]\n",
    "\n",
    "data_metaboloma = data_metaboloma.iloc[1:]\n",
    "\n",
    "data_metaboloma.columns = list(data_metaboloma.columns)\n",
    "\n",
    "df_y_metaboloma = data_metaboloma[\"Label\"].iloc[1:]\n",
    "\n",
    "mz_metaboloma = data_metaboloma.iloc[0:1,1:]\n",
    "\n",
    "df_y_qc_metaboloma = data_metaboloma[\"Label\"].iloc[1:5]\n",
    "\n",
    "df_x_metaboloma = data_metaboloma.iloc[1:,1:]\n",
    "\n",
    "df_qc_metaboloma = data_metaboloma.iloc[1:5]\n",
    "\n",
    "name_samples_metaboloma = df_x_metaboloma.transpose().columns\n",
    "\n",
    "df_x_metaboloma"
   ]
  },
  {
   "cell_type": "markdown",
   "metadata": {},
   "source": [
    "Set colors for each class in the dataset"
   ]
  },
  {
   "cell_type": "code",
   "execution_count": 3,
   "metadata": {},
   "outputs": [],
   "source": [
    "# color mapping to use in plot\n",
    "color_mapping = {\n",
    "    'LC': 'red',\n",
    "    'MC': 'green',\n",
    "    'HC' : 'orange',\n",
    "    'QC' : 'purple'\n",
    "}\n",
    "\n",
    "colors = [color_mapping[label] for label in df_y_metaboloma]"
   ]
  },
  {
   "cell_type": "markdown",
   "metadata": {},
   "source": [
    "### View the data"
   ]
  },
  {
   "cell_type": "code",
   "execution_count": 4,
   "metadata": {},
   "outputs": [
    {
     "data": {
      "image/png": "[encoded data removed]",
      "text/plain": [
       "<Figure size 640x480 with 1 Axes>"
      ]
     },
     "metadata": {},
     "output_type": "display_data"
    },
    {
     "name": "stdout",
     "output_type": "stream",
     "text": [
      "260522_HC 07_POS_BD8_1_5315    268301.44\n",
      "dtype: object\n"
     ]
    }
   ],
   "source": [
    "import matplotlib.pyplot as plt\n",
    "\n",
    "plt.scatter(mz_metaboloma, df_x_metaboloma.iloc[89:90])\n",
    "plt.xlabel(\"M/Z\")\n",
    "plt.ylabel(\"Intensity\")\n",
    "plt.title(\"Samlple HC 11_M\")\n",
    "plt.show()\n",
    "# axis=1 sono le righe; axis=0 sono le colonne\n",
    "print(df_x_metaboloma[89:90].max(axis=1))\n"
   ]
  },
  {
   "cell_type": "markdown",
   "metadata": {},
   "source": [
    "Copy the original dataset in another variable because on the dataset we fill the Nan value."
   ]
  },
  {
   "cell_type": "code",
   "execution_count": 5,
   "metadata": {},
   "outputs": [
    {
     "name": "stdout",
     "output_type": "stream",
     "text": [
      "Aminooctanoic acid                    0\n",
      "Dehydroepiandrosterone sulfate        0\n",
      "Dodecenoylcarnitine                   0\n",
      "FA 18:1+1O                            0\n",
      "Glycerophosphocholine                 0\n",
      "Histidine                             0\n",
      "Homoarginine                          0\n",
      "Hydroperoxylinoleic acid              0\n",
      "Hydroxyanthranilic acid               0\n",
      "Hydroxypregnenolone sulfate           0\n",
      "INDOLE-ACETALDEHYDE                   0\n",
      "Indoxyl sulfate                       0\n",
      "Isoleucylproline                      0\n",
      "Methylguanine                         0\n",
      "Methylhistidine                       0\n",
      "Methylpyridonecarboxamide             0\n",
      "Paraxanthine                          0\n",
      "Phenylacetylglutamine                 0\n",
      "Pregnenolone sulfate                  0\n",
      "Proline betaine                       0\n",
      "Proline-hydroxyproline                0\n",
      "Pseudouridine                         0\n",
      "Sphingosine 1-phosphate               0\n",
      "Taurine                               0\n",
      "Tyrosine                              0\n",
      "Deoxycholic acid glycine conjugate    0\n",
      "Cresol sulfate                        0\n",
      "Androsterone sulfate                  0\n",
      "Carnitine                             0\n",
      "Arachidonic acid                      0\n",
      "Arginine                              0\n",
      "Asymmetric dimethylarginine           0\n",
      "Bilirubin                             0\n",
      "Biliverdin                            0\n",
      "CAR 10:0                              0\n",
      "CAR 10:1                              0\n",
      "CAR 14:1                              0\n",
      "CAR 16:1_A                            0\n",
      "CAR 16:1_B                            0\n",
      "CAR 16:2                              0\n",
      "CAR 18:1_A                            0\n",
      "CAR 18:1_B                            0\n",
      "CAR 2:0                               0\n",
      "CAR 3:0                               0\n",
      "CAR 4:0                               0\n",
      "CAR 5:0                               0\n",
      "CAR 5:1;O2                            0\n",
      "CAR 5:1                               0\n",
      "CAR 6:0                               0\n",
      "CAR 8:0                               0\n",
      "CAR 8:1                               0\n",
      "CAR 9:0                               0\n",
      "Urobilinogen                          0\n",
      "dtype: int64\n"
     ]
    }
   ],
   "source": [
    "df_x_metaboloma_original = df_x_metaboloma.copy()\n",
    "for column in df_x_metaboloma.columns:\n",
    "    df_x_metaboloma.loc[:,column] = df_x_metaboloma[column].fillna((np.nanmin(df_x_metaboloma[column]))/5)\n",
    "print(df_x_metaboloma.isna().sum().sort_values(ascending=False))"
   ]
  },
  {
   "cell_type": "markdown",
   "metadata": {},
   "source": [
    "View the whole dataset in a bidimensional space, thanks to PCA"
   ]
  },
  {
   "cell_type": "code",
   "execution_count": 6,
   "metadata": {},
   "outputs": [
    {
     "data": {
      "image/png": "[encoded data removed]",
      "text/plain": [
       "<Figure size 640x480 with 1 Axes>"
      ]
     },
     "metadata": {},
     "output_type": "display_data"
    }
   ],
   "source": [
    "from sklearn.decomposition import PCA\n",
    "pca_view = PCA(n_components=2)\n",
    "\n",
    "scores_view = pca_view.fit_transform(df_x_metaboloma,df_y_metaboloma)\n",
    "\n",
    "\n",
    "plt.scatter(scores_view[:, 0], scores_view[:, 1], c=colors)\n",
    "plt.xlabel('x')\n",
    "plt.ylabel('y')\n",
    "plt.legend(handles=[\n",
    "    plt.Line2D([0], [0], marker='o', color='w', label='LC', markerfacecolor='red', markersize=10),\n",
    "    plt.Line2D([0], [0], marker='o', color='w', label='MC', markerfacecolor='green', markersize=10),\n",
    "    plt.Line2D([0], [0], marker='o', color='w', label='HC', markerfacecolor='orange', markersize=10),\n",
    "    plt.Line2D([0], [0], marker='o', color='w', label='QC', markerfacecolor='purple', markersize=10),\n",
    "], title='Legend')\n",
    "plt.title('PCA View')\n",
    "plt.show()"
   ]
  },
  {
   "cell_type": "markdown",
   "metadata": {},
   "source": [
    "LDA\n",
    "\n",
    "Using also LDA to view the data in a bidimensional space, to see the effect of this further method."
   ]
  },
  {
   "cell_type": "code",
   "execution_count": 7,
   "metadata": {},
   "outputs": [
    {
     "data": {
      "image/png": "[encoded data removed]",
      "text/plain": [
       "<Figure size 640x480 with 1 Axes>"
      ]
     },
     "metadata": {},
     "output_type": "display_data"
    }
   ],
   "source": [
    "from sklearn.discriminant_analysis import LinearDiscriminantAnalysis as LDA\n",
    "\n",
    "lda_fit_minmax = LDA(n_components=2)\n",
    "lda_scores = lda_fit_minmax.fit_transform(df_x_metaboloma,df_y_metaboloma)\n",
    "\n",
    "plt.scatter(lda_scores[:, 0], lda_scores[:, 1], c=colors)\n",
    "plt.xlabel('x')\n",
    "plt.ylabel('y')\n",
    "plt.legend(handles=[\n",
    "    plt.Line2D([0], [0], marker='o', color='w', label='LC', markerfacecolor='red', markersize=10),\n",
    "    plt.Line2D([0], [0], marker='o', color='w', label='MC', markerfacecolor='green', markersize=10),\n",
    "    plt.Line2D([0], [0], marker='o', color='w', label='HC', markerfacecolor='orange', markersize=10),\n",
    "    plt.Line2D([0], [0], marker='o', color='w', label='QC', markerfacecolor='purple', markersize=10),\n",
    "], title='Legend')\n",
    "plt.title('LDA View')\n",
    "plt.show()"
   ]
  },
  {
   "cell_type": "markdown",
   "metadata": {},
   "source": [
    "### MIN-MAX Normalization\n",
    "$$ normalized\\_value = \\frac {value - min\\_value}{max\\_value - min\\_value}$$"
   ]
  },
  {
   "cell_type": "code",
   "execution_count": 8,
   "metadata": {},
   "outputs": [
    {
     "data": {
      "image/png": "[encoded data removed]",
      "text/plain": [
       "<Figure size 640x480 with 1 Axes>"
      ]
     },
     "metadata": {},
     "output_type": "display_data"
    },
    {
     "data": {
      "text/plain": [
       "260522_HC 07_POS_BD8_1_5315    1.0\n",
       "dtype: object"
      ]
     },
     "execution_count": 8,
     "metadata": {},
     "output_type": "execute_result"
    }
   ],
   "source": [
    "min = df_x_metaboloma_original.min(axis=1,skipna=True)\n",
    "max = df_x_metaboloma_original.max(axis=1,skipna=True)\n",
    "df_minus_min = df_x_metaboloma.sub(min,axis=0)\n",
    "max_minus_min = max.sub(min,axis=0)\n",
    "\n",
    "df_x_metaboloma_minmax = df_minus_min.div(max_minus_min,axis=0)\n",
    "\n",
    "\n",
    "plt.scatter(mz_metaboloma, df_x_metaboloma_minmax.iloc[89:90])\n",
    "plt.xlabel(\"M/Z\")\n",
    "plt.ylabel(\"Intensity\")\n",
    "plt.title(\"Samlple HC 11_M\")\n",
    "plt.show()\n",
    "# axis=1 sono le righe; axis=0 sono le colonne\n",
    "df_x_metaboloma_minmax[89:90].max(axis=1)"
   ]
  },
  {
   "cell_type": "markdown",
   "metadata": {},
   "source": [
    "#### View after normalization"
   ]
  },
  {
   "cell_type": "code",
   "execution_count": 9,
   "metadata": {},
   "outputs": [
    {
     "data": {
      "image/png": "[encoded data removed]",
      "text/plain": [
       "<Figure size 640x480 with 1 Axes>"
      ]
     },
     "metadata": {},
     "output_type": "display_data"
    }
   ],
   "source": [
    "pca_view = PCA(n_components=2)\n",
    "\n",
    "scores_view = pca_view.fit_transform(df_x_metaboloma_minmax,df_y_metaboloma)\n",
    "\n",
    "\n",
    "plt.scatter(scores_view[:, 0], scores_view[:, 1], c=colors)\n",
    "plt.xlabel('x')\n",
    "plt.ylabel('y')\n",
    "plt.legend(handles=[\n",
    "    plt.Line2D([0], [0], marker='o', color='w', label='LC', markerfacecolor='red', markersize=10),\n",
    "    plt.Line2D([0], [0], marker='o', color='w', label='MC', markerfacecolor='green', markersize=10),\n",
    "    plt.Line2D([0], [0], marker='o', color='w', label='HC', markerfacecolor='orange', markersize=10),\n",
    "    plt.Line2D([0], [0], marker='o', color='w', label='QC', markerfacecolor='purple', markersize=10),\n",
    "], title='Legend')\n",
    "plt.title('PCA View')\n",
    "plt.show()"
   ]
  },
  {
   "cell_type": "markdown",
   "metadata": {},
   "source": [
    "LDA"
   ]
  },
  {
   "cell_type": "code",
   "execution_count": 10,
   "metadata": {},
   "outputs": [
    {
     "data": {
      "image/png": "[encoded data removed]",
      "text/plain": [
       "<Figure size 640x480 with 1 Axes>"
      ]
     },
     "metadata": {},
     "output_type": "display_data"
    }
   ],
   "source": [
    "lda_fit_minmax = LDA(n_components=2)\n",
    "lda_scores = lda_fit_minmax.fit_transform(df_x_metaboloma_minmax,df_y_metaboloma)\n",
    "\n",
    "plt.scatter(lda_scores[:, 0], lda_scores[:, 1], c=colors)\n",
    "plt.xlabel('x')\n",
    "plt.ylabel('y')\n",
    "plt.legend(handles=[\n",
    "    plt.Line2D([0], [0], marker='o', color='w', label='LC', markerfacecolor='red', markersize=10),\n",
    "    plt.Line2D([0], [0], marker='o', color='w', label='MC', markerfacecolor='green', markersize=10),\n",
    "    plt.Line2D([0], [0], marker='o', color='w', label='HC', markerfacecolor='orange', markersize=10),\n",
    "    plt.Line2D([0], [0], marker='o', color='w', label='QC', markerfacecolor='purple', markersize=10),\n",
    "], title='Legend')\n",
    "plt.title('LDA View')\n",
    "plt.show()"
   ]
  },
  {
   "cell_type": "markdown",
   "metadata": {},
   "source": [
    "After the analisys of those visualization, we can say that this normalization is complaiant to our dataset"
   ]
  },
  {
   "cell_type": "markdown",
   "metadata": {},
   "source": [
    "#### Drop outlier\n",
    "For each class in data set, we search the possible presence of outliers and in these case we delete them.\n",
    "\n",
    "We use the Mahalanobis distance to search the possible outliers"
   ]
  },
  {
   "cell_type": "code",
   "execution_count": 11,
   "metadata": {},
   "outputs": [],
   "source": [
    "drop = []"
   ]
  },
  {
   "cell_type": "markdown",
   "metadata": {},
   "source": [
    "LC"
   ]
  },
  {
   "cell_type": "code",
   "execution_count": 12,
   "metadata": {},
   "outputs": [
    {
     "data": {
      "text/html": [
       "<div>\n",
       "<style scoped>\n",
       "    .dataframe tbody tr th:only-of-type {\n",
       "        vertical-align: middle;\n",
       "    }\n",
       "\n",
       "    .dataframe tbody tr th {\n",
       "        vertical-align: top;\n",
       "    }\n",
       "\n",
       "    .dataframe thead th {\n",
       "        text-align: right;\n",
       "    }\n",
       "</style>\n",
       "<table border=\"1\" class=\"dataframe\">\n",
       "  <thead>\n",
       "    <tr style=\"text-align: right;\">\n",
       "      <th></th>\n",
       "      <th>Sample</th>\n",
       "      <th>outlier</th>\n",
       "    </tr>\n",
       "  </thead>\n",
       "  <tbody>\n",
       "    <tr>\n",
       "      <th>67</th>\n",
       "      <td>260522_LC 443_POS_RC7_1_5391</td>\n",
       "      <td>5.974217</td>\n",
       "    </tr>\n",
       "    <tr>\n",
       "      <th>60</th>\n",
       "      <td>260522_LC 431_POS_RB8_1_5384</td>\n",
       "      <td>3.041632</td>\n",
       "    </tr>\n",
       "    <tr>\n",
       "      <th>62</th>\n",
       "      <td>260522_LC 435_POS_RC2_1_5386</td>\n",
       "      <td>2.489844</td>\n",
       "    </tr>\n",
       "    <tr>\n",
       "      <th>28</th>\n",
       "      <td>260522_LC 350_POS_GA6_1_5330</td>\n",
       "      <td>2.365612</td>\n",
       "    </tr>\n",
       "    <tr>\n",
       "      <th>18</th>\n",
       "      <td>260522_LC 321_POS_BD6_1_5313</td>\n",
       "      <td>2.360089</td>\n",
       "    </tr>\n",
       "    <tr>\n",
       "      <th>...</th>\n",
       "      <td>...</td>\n",
       "      <td>...</td>\n",
       "    </tr>\n",
       "    <tr>\n",
       "      <th>32</th>\n",
       "      <td>260522_LC 357_POS_GB5_1_5339</td>\n",
       "      <td>0.291417</td>\n",
       "    </tr>\n",
       "    <tr>\n",
       "      <th>31</th>\n",
       "      <td>260522_LC 356_POS_GB4_1_5338</td>\n",
       "      <td>0.259327</td>\n",
       "    </tr>\n",
       "    <tr>\n",
       "      <th>52</th>\n",
       "      <td>260522_LC 408_POS_RA5_1_5373</td>\n",
       "      <td>0.255192</td>\n",
       "    </tr>\n",
       "    <tr>\n",
       "      <th>49</th>\n",
       "      <td>260522_LC 396_POS_RA2_1_5369</td>\n",
       "      <td>0.232882</td>\n",
       "    </tr>\n",
       "    <tr>\n",
       "      <th>11</th>\n",
       "      <td>260522_LC 304_POS_BC4_1_5303</td>\n",
       "      <td>0.168319</td>\n",
       "    </tr>\n",
       "  </tbody>\n",
       "</table>\n",
       "<p>69 rows × 2 columns</p>\n",
       "</div>"
      ],
      "text/plain": [
       "                          Sample   outlier\n",
       "67  260522_LC 443_POS_RC7_1_5391  5.974217\n",
       "60  260522_LC 431_POS_RB8_1_5384  3.041632\n",
       "62  260522_LC 435_POS_RC2_1_5386  2.489844\n",
       "28  260522_LC 350_POS_GA6_1_5330  2.365612\n",
       "18  260522_LC 321_POS_BD6_1_5313  2.360089\n",
       "..                           ...       ...\n",
       "32  260522_LC 357_POS_GB5_1_5339  0.291417\n",
       "31  260522_LC 356_POS_GB4_1_5338  0.259327\n",
       "52  260522_LC 408_POS_RA5_1_5373  0.255192\n",
       "49  260522_LC 396_POS_RA2_1_5369  0.232882\n",
       "11  260522_LC 304_POS_BC4_1_5303  0.168319\n",
       "\n",
       "[69 rows x 2 columns]"
      ]
     },
     "execution_count": 12,
     "metadata": {},
     "output_type": "execute_result"
    }
   ],
   "source": [
    "## codice prova con la distanza di mahalonobis\n",
    "lc = scores_view[4:73,:]\n",
    "\n",
    "mean_lc = np.mean(lc,axis=0)\n",
    "cov_matrix = np.cov(lc,rowvar=False)\n",
    "\n",
    "mahalanobis_distance_lc = []\n",
    "\n",
    "for point in lc:\n",
    "    diff = point - mean_lc\n",
    "    distance = np.sqrt(np.dot(np.dot(diff, np.linalg.inv(cov_matrix)), diff))\n",
    "    mahalanobis_distance_lc.append(distance)\n",
    "    \n",
    "# print(mahalanobis_distance_lc)\n",
    "\n",
    "outlier_lc = pd.DataFrame({\"Sample\":df_x_metaboloma_minmax.index[4:73],\"outlier\":mahalanobis_distance_lc}).sort_values(by=\"outlier\",ascending=False)\n",
    "outlier_lc"
   ]
  },
  {
   "cell_type": "markdown",
   "metadata": {},
   "source": [
    "The Mahalanobis' distance distribution is a chi-quadro distribution. So, we use a quantile of this distribution. We choose a confidence value of ´95%´."
   ]
  },
  {
   "cell_type": "code",
   "execution_count": 13,
   "metadata": {},
   "outputs": [
    {
     "data": {
      "text/plain": [
       "5.991464547107979"
      ]
     },
     "execution_count": 13,
     "metadata": {},
     "output_type": "execute_result"
    }
   ],
   "source": [
    "from scipy.stats import chi2\n",
    "\n",
    "alpha = 0.05\n",
    "threshold_distance_mahalanobis = chi2.ppf(1 - alpha, df = 2)\n",
    "threshold_distance_mahalanobis"
   ]
  },
  {
   "cell_type": "markdown",
   "metadata": {},
   "source": [
    "We delete the samples that are above this threshold"
   ]
  },
  {
   "cell_type": "code",
   "execution_count": 14,
   "metadata": {},
   "outputs": [
    {
     "data": {
      "text/plain": [
       "[]"
      ]
     },
     "execution_count": 14,
     "metadata": {},
     "output_type": "execute_result"
    }
   ],
   "source": [
    "mean_out_lc = outlier_lc[\"outlier\"].mean(axis=0)\n",
    "temp = []\n",
    "for sample,elem in outlier_lc.values:\n",
    "    if elem > threshold_distance_mahalanobis:\n",
    "        drop.append(sample)\n",
    "        temp.append(sample)\n",
    "\n",
    "outlier_lc = outlier_lc.drop(outlier_lc[outlier_lc[\"Sample\"].isin(temp)].index)\n",
    "\n",
    "drop"
   ]
  },
  {
   "cell_type": "markdown",
   "metadata": {},
   "source": [
    "MC"
   ]
  },
  {
   "cell_type": "code",
   "execution_count": 15,
   "metadata": {},
   "outputs": [
    {
     "data": {
      "text/html": [
       "<div>\n",
       "<style scoped>\n",
       "    .dataframe tbody tr th:only-of-type {\n",
       "        vertical-align: middle;\n",
       "    }\n",
       "\n",
       "    .dataframe tbody tr th {\n",
       "        vertical-align: top;\n",
       "    }\n",
       "\n",
       "    .dataframe thead th {\n",
       "        text-align: right;\n",
       "    }\n",
       "</style>\n",
       "<table border=\"1\" class=\"dataframe\">\n",
       "  <thead>\n",
       "    <tr style=\"text-align: right;\">\n",
       "      <th></th>\n",
       "      <th>Sample</th>\n",
       "      <th>outlier</th>\n",
       "    </tr>\n",
       "  </thead>\n",
       "  <tbody>\n",
       "    <tr>\n",
       "      <th>5</th>\n",
       "      <td>260522_MC 13_POS_GA7_1_5331</td>\n",
       "      <td>2.020048</td>\n",
       "    </tr>\n",
       "    <tr>\n",
       "      <th>0</th>\n",
       "      <td>260522_MC 04_POS_BA7_1_5288</td>\n",
       "      <td>1.597182</td>\n",
       "    </tr>\n",
       "    <tr>\n",
       "      <th>1</th>\n",
       "      <td>260522_MC 05_POS_BB7_1_5298</td>\n",
       "      <td>1.585036</td>\n",
       "    </tr>\n",
       "    <tr>\n",
       "      <th>2</th>\n",
       "      <td>260522_MC 09_POS_BC7_1_5306</td>\n",
       "      <td>1.375157</td>\n",
       "    </tr>\n",
       "    <tr>\n",
       "      <th>8</th>\n",
       "      <td>260522_MC 17_POS_GD7_1_5358</td>\n",
       "      <td>1.356116</td>\n",
       "    </tr>\n",
       "    <tr>\n",
       "      <th>6</th>\n",
       "      <td>260522_MC 14_POS_GB7_1_5341</td>\n",
       "      <td>1.353043</td>\n",
       "    </tr>\n",
       "    <tr>\n",
       "      <th>9</th>\n",
       "      <td>260522_MC 18_POS_GE7_1_5366</td>\n",
       "      <td>1.270108</td>\n",
       "    </tr>\n",
       "    <tr>\n",
       "      <th>3</th>\n",
       "      <td>260522_MC 10_POS_BD7_1_5314</td>\n",
       "      <td>0.842577</td>\n",
       "    </tr>\n",
       "    <tr>\n",
       "      <th>7</th>\n",
       "      <td>260522_MC 15_POS_GC7_1_5349</td>\n",
       "      <td>0.789374</td>\n",
       "    </tr>\n",
       "    <tr>\n",
       "      <th>4</th>\n",
       "      <td>260522_MC 11_POS_BE7_1_5323</td>\n",
       "      <td>0.590785</td>\n",
       "    </tr>\n",
       "  </tbody>\n",
       "</table>\n",
       "</div>"
      ],
      "text/plain": [
       "                        Sample   outlier\n",
       "5  260522_MC 13_POS_GA7_1_5331  2.020048\n",
       "0  260522_MC 04_POS_BA7_1_5288  1.597182\n",
       "1  260522_MC 05_POS_BB7_1_5298  1.585036\n",
       "2  260522_MC 09_POS_BC7_1_5306  1.375157\n",
       "8  260522_MC 17_POS_GD7_1_5358  1.356116\n",
       "6  260522_MC 14_POS_GB7_1_5341  1.353043\n",
       "9  260522_MC 18_POS_GE7_1_5366  1.270108\n",
       "3  260522_MC 10_POS_BD7_1_5314  0.842577\n",
       "7  260522_MC 15_POS_GC7_1_5349  0.789374\n",
       "4  260522_MC 11_POS_BE7_1_5323  0.590785"
      ]
     },
     "execution_count": 15,
     "metadata": {},
     "output_type": "execute_result"
    }
   ],
   "source": [
    "mc = scores_view[73:83,:]\n",
    "\n",
    "mean_mc = np.mean(mc,axis=0)\n",
    "cov_matrix = np.cov(mc,rowvar=False)\n",
    "\n",
    "mahalanobis_distance_mc = []\n",
    "\n",
    "for point in mc:\n",
    "    diff = point - mean_mc\n",
    "    distance = np.sqrt(np.dot(np.dot(diff, np.linalg.inv(cov_matrix)), diff))\n",
    "    mahalanobis_distance_mc.append(distance)\n",
    "\n",
    "outlier_mc = pd.DataFrame({\"Sample\":df_x_metaboloma_minmax.index[73:83],\"outlier\":mahalanobis_distance_mc}).sort_values(by=\"outlier\",ascending=False)\n",
    "outlier_mc"
   ]
  },
  {
   "cell_type": "code",
   "execution_count": 16,
   "metadata": {},
   "outputs": [
    {
     "data": {
      "text/plain": [
       "[]"
      ]
     },
     "execution_count": 16,
     "metadata": {},
     "output_type": "execute_result"
    }
   ],
   "source": [
    "mean_out_mc = outlier_mc[\"outlier\"].mean(axis=0)\n",
    "temp = []\n",
    "for sample,elem in outlier_mc.values:\n",
    "    if elem > threshold_distance_mahalanobis:\n",
    "        drop.append(sample)\n",
    "        temp.append(sample)\n",
    "        \n",
    "outlier_mc = outlier_mc.drop(outlier_mc[outlier_mc[\"Sample\"].isin(temp)].index)\n",
    "\n",
    "drop"
   ]
  },
  {
   "cell_type": "markdown",
   "metadata": {},
   "source": [
    "HC"
   ]
  },
  {
   "cell_type": "code",
   "execution_count": 17,
   "metadata": {},
   "outputs": [
    {
     "data": {
      "text/html": [
       "<div>\n",
       "<style scoped>\n",
       "    .dataframe tbody tr th:only-of-type {\n",
       "        vertical-align: middle;\n",
       "    }\n",
       "\n",
       "    .dataframe tbody tr th {\n",
       "        vertical-align: top;\n",
       "    }\n",
       "\n",
       "    .dataframe thead th {\n",
       "        text-align: right;\n",
       "    }\n",
       "</style>\n",
       "<table border=\"1\" class=\"dataframe\">\n",
       "  <thead>\n",
       "    <tr style=\"text-align: right;\">\n",
       "      <th></th>\n",
       "      <th>Sample</th>\n",
       "      <th>outlier</th>\n",
       "    </tr>\n",
       "  </thead>\n",
       "  <tbody>\n",
       "    <tr>\n",
       "      <th>1</th>\n",
       "      <td>260522_HC 02_POS_BB1_1_5290</td>\n",
       "      <td>2.518980</td>\n",
       "    </tr>\n",
       "    <tr>\n",
       "      <th>19</th>\n",
       "      <td>260522_HC 020_POS_RA1_1_5368</td>\n",
       "      <td>2.505496</td>\n",
       "    </tr>\n",
       "    <tr>\n",
       "      <th>5</th>\n",
       "      <td>260522_HC 06_POS_BD1_1_5308</td>\n",
       "      <td>2.295684</td>\n",
       "    </tr>\n",
       "    <tr>\n",
       "      <th>2</th>\n",
       "      <td>260522_HC 03_POS_BB8_1_5299</td>\n",
       "      <td>2.138223</td>\n",
       "    </tr>\n",
       "    <tr>\n",
       "      <th>9</th>\n",
       "      <td>260522_HC 010_POS_GA1_1_5325</td>\n",
       "      <td>2.060775</td>\n",
       "    </tr>\n",
       "    <tr>\n",
       "      <th>20</th>\n",
       "      <td>260522_HC 021_POS_RA7_1_5375</td>\n",
       "      <td>1.569489</td>\n",
       "    </tr>\n",
       "    <tr>\n",
       "      <th>7</th>\n",
       "      <td>260522_HC 08_POS_BE1_1_5316</td>\n",
       "      <td>1.566522</td>\n",
       "    </tr>\n",
       "    <tr>\n",
       "      <th>3</th>\n",
       "      <td>260522_HC 04_POS_BC1_1_5300</td>\n",
       "      <td>1.377262</td>\n",
       "    </tr>\n",
       "    <tr>\n",
       "      <th>14</th>\n",
       "      <td>260522_HC 015_POS_GC8_1_5350</td>\n",
       "      <td>1.293878</td>\n",
       "    </tr>\n",
       "    <tr>\n",
       "      <th>6</th>\n",
       "      <td>260522_HC 07_POS_BD8_1_5315</td>\n",
       "      <td>1.186084</td>\n",
       "    </tr>\n",
       "    <tr>\n",
       "      <th>17</th>\n",
       "      <td>260522_HC 018_POS_GE1_1_5360</td>\n",
       "      <td>1.039164</td>\n",
       "    </tr>\n",
       "    <tr>\n",
       "      <th>16</th>\n",
       "      <td>260522_HC 017_POS_GD8_1_5359</td>\n",
       "      <td>0.898688</td>\n",
       "    </tr>\n",
       "    <tr>\n",
       "      <th>10</th>\n",
       "      <td>260522_HC 011_POS_GA8_1_5332</td>\n",
       "      <td>0.890335</td>\n",
       "    </tr>\n",
       "    <tr>\n",
       "      <th>11</th>\n",
       "      <td>260522_HC 012_POS_GB1_1_5333</td>\n",
       "      <td>0.873243</td>\n",
       "    </tr>\n",
       "    <tr>\n",
       "      <th>8</th>\n",
       "      <td>260522_HC 09_POS_BE8_1_5324</td>\n",
       "      <td>0.844146</td>\n",
       "    </tr>\n",
       "    <tr>\n",
       "      <th>21</th>\n",
       "      <td>260522_HC 022_POS_RA8_1_5376</td>\n",
       "      <td>0.776383</td>\n",
       "    </tr>\n",
       "    <tr>\n",
       "      <th>15</th>\n",
       "      <td>260522_HC 016_POS_GD1_1_5351</td>\n",
       "      <td>0.705697</td>\n",
       "    </tr>\n",
       "    <tr>\n",
       "      <th>12</th>\n",
       "      <td>260522_HC 013_POS_GB8_1_5342</td>\n",
       "      <td>0.692004</td>\n",
       "    </tr>\n",
       "    <tr>\n",
       "      <th>0</th>\n",
       "      <td>260522_HC 01_POS_BA8_1_5289</td>\n",
       "      <td>0.652113</td>\n",
       "    </tr>\n",
       "    <tr>\n",
       "      <th>18</th>\n",
       "      <td>260522_HC 019_POS_GE8_1_5367</td>\n",
       "      <td>0.605157</td>\n",
       "    </tr>\n",
       "    <tr>\n",
       "      <th>4</th>\n",
       "      <td>260522_HC 05_POS_BC8_1_5307</td>\n",
       "      <td>0.549484</td>\n",
       "    </tr>\n",
       "    <tr>\n",
       "      <th>13</th>\n",
       "      <td>260522_HC 014_POS_GC1_1_5343</td>\n",
       "      <td>0.541696</td>\n",
       "    </tr>\n",
       "    <tr>\n",
       "      <th>22</th>\n",
       "      <td>260522_HC 023_POS_RB1_1_5377</td>\n",
       "      <td>0.520958</td>\n",
       "    </tr>\n",
       "  </tbody>\n",
       "</table>\n",
       "</div>"
      ],
      "text/plain": [
       "                          Sample   outlier\n",
       "1    260522_HC 02_POS_BB1_1_5290  2.518980\n",
       "19  260522_HC 020_POS_RA1_1_5368  2.505496\n",
       "5    260522_HC 06_POS_BD1_1_5308  2.295684\n",
       "2    260522_HC 03_POS_BB8_1_5299  2.138223\n",
       "9   260522_HC 010_POS_GA1_1_5325  2.060775\n",
       "20  260522_HC 021_POS_RA7_1_5375  1.569489\n",
       "7    260522_HC 08_POS_BE1_1_5316  1.566522\n",
       "3    260522_HC 04_POS_BC1_1_5300  1.377262\n",
       "14  260522_HC 015_POS_GC8_1_5350  1.293878\n",
       "6    260522_HC 07_POS_BD8_1_5315  1.186084\n",
       "17  260522_HC 018_POS_GE1_1_5360  1.039164\n",
       "16  260522_HC 017_POS_GD8_1_5359  0.898688\n",
       "10  260522_HC 011_POS_GA8_1_5332  0.890335\n",
       "11  260522_HC 012_POS_GB1_1_5333  0.873243\n",
       "8    260522_HC 09_POS_BE8_1_5324  0.844146\n",
       "21  260522_HC 022_POS_RA8_1_5376  0.776383\n",
       "15  260522_HC 016_POS_GD1_1_5351  0.705697\n",
       "12  260522_HC 013_POS_GB8_1_5342  0.692004\n",
       "0    260522_HC 01_POS_BA8_1_5289  0.652113\n",
       "18  260522_HC 019_POS_GE8_1_5367  0.605157\n",
       "4    260522_HC 05_POS_BC8_1_5307  0.549484\n",
       "13  260522_HC 014_POS_GC1_1_5343  0.541696\n",
       "22  260522_HC 023_POS_RB1_1_5377  0.520958"
      ]
     },
     "execution_count": 17,
     "metadata": {},
     "output_type": "execute_result"
    }
   ],
   "source": [
    "hc = scores_view[83:106,:]\n",
    "\n",
    "mean_hc = np.mean(hc,axis=0)\n",
    "cov_matrix = np.cov(hc,rowvar=False)\n",
    "\n",
    "mahalanobis_distance_hc = []\n",
    "\n",
    "for point in hc:\n",
    "    diff = point - mean_hc\n",
    "    distance = np.sqrt(np.dot(np.dot(diff, np.linalg.inv(cov_matrix)), diff))\n",
    "    mahalanobis_distance_hc.append(distance)\n",
    "\n",
    "outlier_hc = pd.DataFrame({\"Sample\":df_x_metaboloma_minmax.index[83:106],\"outlier\":mahalanobis_distance_hc}).sort_values(by=\"outlier\",ascending=False)\n",
    "outlier_hc"
   ]
  },
  {
   "cell_type": "code",
   "execution_count": 18,
   "metadata": {},
   "outputs": [
    {
     "data": {
      "text/plain": [
       "[]"
      ]
     },
     "execution_count": 18,
     "metadata": {},
     "output_type": "execute_result"
    }
   ],
   "source": [
    "mean_out_hc = outlier_hc[\"outlier\"].mean(axis=0)\n",
    "\n",
    "temp = []\n",
    "for sample,elem in outlier_hc.values:\n",
    "    if elem > threshold_distance_mahalanobis:\n",
    "        drop.append(sample)\n",
    "        temp.append(sample)\n",
    "\n",
    "outlier_hc = outlier_hc.drop(outlier_hc[outlier_hc[\"Sample\"].isin(temp)].index) \n",
    "drop"
   ]
  },
  {
   "cell_type": "markdown",
   "metadata": {},
   "source": [
    "View the data after drop the outlier"
   ]
  },
  {
   "cell_type": "code",
   "execution_count": 19,
   "metadata": {},
   "outputs": [
    {
     "data": {
      "image/png": "[encoded data removed]",
      "text/plain": [
       "<Figure size 640x480 with 1 Axes>"
      ]
     },
     "metadata": {},
     "output_type": "display_data"
    }
   ],
   "source": [
    "df_score_view = pd.DataFrame({\"Sample\":df_x_metaboloma_minmax.index,\"Score View X\":scores_view[:,0], \"Score View Y\":scores_view[:,1]})\n",
    "\n",
    "index_drop = df_score_view[df_score_view[\"Sample\"].isin(drop)].index\n",
    "colors_after_drop = np.delete(colors,index_drop)\n",
    "df_score_view = df_score_view.drop(index_drop)\n",
    "df_score_view\n",
    "\n",
    "plt.scatter(df_score_view[\"Score View X\"], df_score_view[\"Score View Y\"], c=colors_after_drop)\n",
    "plt.xlabel('x')\n",
    "plt.ylabel('y')\n",
    "plt.legend(handles=[\n",
    "    plt.Line2D([0], [0], marker='o', color='w', label='LC', markerfacecolor='red', markersize=10),\n",
    "    plt.Line2D([0], [0], marker='o', color='w', label='MC', markerfacecolor='green', markersize=10),\n",
    "    plt.Line2D([0], [0], marker='o', color='w', label='HC', markerfacecolor='orange', markersize=10),\n",
    "    plt.Line2D([0], [0], marker='o', color='w', label='QC', markerfacecolor='purple', markersize=10),\n",
    "], title='Legend')\n",
    "plt.title('PCA View')\n",
    "plt.show()"
   ]
  },
  {
   "cell_type": "markdown",
   "metadata": {},
   "source": [
    "### Split in Train and in Test"
   ]
  },
  {
   "cell_type": "markdown",
   "metadata": {},
   "source": [
    "First of all, we create the dataframe without the Quality Control samples, and show the distribution of samples for class."
   ]
  },
  {
   "cell_type": "code",
   "execution_count": 20,
   "metadata": {},
   "outputs": [
    {
     "name": "stdout",
     "output_type": "stream",
     "text": [
      "Label\n",
      "LC    69\n",
      "HC    23\n",
      "MC    10\n",
      "Name: count, dtype: int64\n",
      "Label\n",
      "LC    69\n",
      "HC    23\n",
      "MC    10\n",
      "Name: count, dtype: int64\n"
     ]
    },
    {
     "data": {
      "image/png": "[encoded data removed]",
      "text/plain": [
       "<Figure size 640x480 with 1 Axes>"
      ]
     },
     "metadata": {},
     "output_type": "display_data"
    }
   ],
   "source": [
    "df_x_metaboloma_minmax_noqc = df_x_metaboloma_minmax.iloc[4:]\n",
    "df_y_metaboloma_noqc = df_y_metaboloma.iloc[4:]\n",
    "\n",
    "print(df_y_metaboloma_noqc.value_counts())\n",
    "\n",
    "x_minmax = df_x_metaboloma_minmax_noqc.copy()\n",
    "y_minmax = df_y_metaboloma_noqc.copy()\n",
    "\n",
    "x_minmax = x_minmax.drop(drop)\n",
    "y_minmax = y_minmax.drop(drop)\n",
    "print(y_minmax.value_counts())\n",
    "plt.plot(df_y_metaboloma_noqc.value_counts())\n",
    "plt.show()"
   ]
  },
  {
   "cell_type": "markdown",
   "metadata": {},
   "source": [
    "Split the data set in train and in test set. We choose a 70% to train and 30% to test set. \n",
    "\n",
    "In training set we put the samples that have bigger mahalanobis distance."
   ]
  },
  {
   "cell_type": "code",
   "execution_count": 21,
   "metadata": {},
   "outputs": [
    {
     "data": {
      "text/plain": [
       "260522_LC 443_POS_RC7_1_5391    LC\n",
       "260522_LC 431_POS_RB8_1_5384    LC\n",
       "260522_LC 435_POS_RC2_1_5386    LC\n",
       "260522_LC 350_POS_GA6_1_5330    LC\n",
       "260522_LC 321_POS_BD6_1_5313    LC\n",
       "                                ..\n",
       "260522_HC 017_POS_GD8_1_5359    HC\n",
       "260522_HC 011_POS_GA8_1_5332    HC\n",
       "260522_HC 012_POS_GB1_1_5333    HC\n",
       "260522_HC 09_POS_BE8_1_5324     HC\n",
       "260522_HC 022_POS_RA8_1_5376    HC\n",
       "Name: Label, Length: 71, dtype: object"
      ]
     },
     "execution_count": 21,
     "metadata": {},
     "output_type": "execute_result"
    }
   ],
   "source": [
    "train_size = 0.7\n",
    "\n",
    "train_size_lc = int(len(outlier_lc)*train_size)\n",
    "train_size_mc = int(len(outlier_mc)*train_size)\n",
    "train_size_hc = int(len(outlier_hc)*train_size)\n",
    "\n",
    "list_train_lc_x = x_minmax.loc[outlier_lc[\"Sample\"].iloc[0:train_size_lc]]\n",
    "list_train_lc_y = y_minmax.loc[outlier_lc[\"Sample\"].iloc[0:train_size_lc]]\n",
    "\n",
    "list_train_mc_x = x_minmax.loc[outlier_mc[\"Sample\"].iloc[0:train_size_mc]]\n",
    "list_train_mc_y = y_minmax.loc[outlier_mc[\"Sample\"].iloc[0:train_size_mc]]\n",
    "\n",
    "list_train_hc_x = x_minmax.loc[outlier_hc[\"Sample\"].iloc[0:train_size_hc]]\n",
    "list_train_hc_y = y_minmax.loc[outlier_hc[\"Sample\"].iloc[0:train_size_hc]]\n",
    "\n",
    "x_train_minmax = pd.concat([list_train_lc_x,list_train_mc_x,list_train_hc_x])\n",
    "y_train_minmax = pd.concat([list_train_lc_y,list_train_mc_y,list_train_hc_y])\n",
    "y_train_minmax"
   ]
  },
  {
   "cell_type": "code",
   "execution_count": 22,
   "metadata": {},
   "outputs": [
    {
     "data": {
      "text/plain": [
       "31"
      ]
     },
     "execution_count": 22,
     "metadata": {},
     "output_type": "execute_result"
    }
   ],
   "source": [
    "x_test_minmax = x_minmax.loc[~x_minmax.isin(x_train_minmax.to_dict(orient='list')).all(axis=1)]\n",
    "y_test_minmax = y_minmax[~y_minmax.index.isin(y_train_minmax.index)]\n",
    "len(y_test_minmax)"
   ]
  },
  {
   "cell_type": "code",
   "execution_count": 23,
   "metadata": {},
   "outputs": [],
   "source": [
    "name_sample_train_minmax = x_train_minmax.transpose().columns\n",
    "name_sample_test_minmax = x_test_minmax.transpose().columns"
   ]
  },
  {
   "cell_type": "markdown",
   "metadata": {},
   "source": [
    "#### Save the mean and standard deviation of the training set"
   ]
  },
  {
   "cell_type": "code",
   "execution_count": 24,
   "metadata": {},
   "outputs": [],
   "source": [
    "mean_minmax= x_train_minmax.mean(axis=0)\n",
    "std_minmax = x_train_minmax.std(axis=0)"
   ]
  },
  {
   "cell_type": "markdown",
   "metadata": {},
   "source": [
    "### Dimensionality reduction"
   ]
  },
  {
   "cell_type": "markdown",
   "metadata": {},
   "source": [
    "#### Elbow Graph\n",
    "In this way we can choose the number of principal components to have a determinant explained variance."
   ]
  },
  {
   "cell_type": "code",
   "execution_count": 25,
   "metadata": {},
   "outputs": [
    {
     "data": {
      "image/png": "[encoded data removed]",
      "text/plain": [
       "<Figure size 800x600 with 1 Axes>"
      ]
     },
     "metadata": {},
     "output_type": "display_data"
    }
   ],
   "source": [
    "from sklearn.decomposition import PCA\n",
    "\n",
    "varianza_spiegata_minmax = []\n",
    "n_componenti_minmax = np.arange(1, 53)\n",
    "\n",
    "for n in n_componenti_minmax:\n",
    "    pca_elbow = PCA(n_components=n)\n",
    "    pca_elbow.fit(x_train_minmax)\n",
    "    varianza_spiegata_minmax.append(np.sum(pca_elbow.explained_variance_ratio_))\n",
    "\n",
    "plt.figure(figsize=(8, 6))\n",
    "plt.plot(n_componenti_minmax, varianza_spiegata_minmax, marker='o')\n",
    "plt.xlabel('# of principal components')\n",
    "plt.ylabel('Explained Variance')\n",
    "plt.title('Elbow Graph')\n",
    "plt.grid(True)\n",
    "plt.show()"
   ]
  },
  {
   "cell_type": "markdown",
   "metadata": {},
   "source": [
    "#### PCA"
   ]
  },
  {
   "cell_type": "code",
   "execution_count": 26,
   "metadata": {},
   "outputs": [
    {
     "data": {
      "text/plain": [
       "array([[ 7.33986509e-01,  3.65934808e-01, -8.37755444e-02,\n",
       "        -2.98219479e-02, -2.75856727e-01,  8.05500985e-02,\n",
       "        -1.25769467e-01, -7.78510211e-02,  8.87247744e-02,\n",
       "        -2.11704871e-02],\n",
       "       [-4.90745716e-01,  5.22371082e-01, -5.99010799e-01,\n",
       "         1.64669478e-01,  5.57021424e-01, -1.59120533e-01,\n",
       "         1.94743758e-01, -1.54755118e-01,  3.25570119e-02,\n",
       "         1.72892002e-02],\n",
       "       [-3.50510564e-01,  4.20128714e-01, -6.31064619e-01,\n",
       "        -1.16112299e-01,  2.08995808e-01, -2.09805148e-02,\n",
       "        -1.98805390e-01,  1.47309669e-01, -4.07579682e-02,\n",
       "        -7.94862060e-02],\n",
       "       [-1.84446550e-01,  3.19792643e-01,  4.95371270e-01,\n",
       "        -3.24909566e-01,  1.85142489e-01,  1.25056331e-01,\n",
       "        -1.80963669e-01,  1.46484762e-01,  2.53889294e-01,\n",
       "        -6.24479877e-02],\n",
       "       [-4.30264478e-01,  1.12328819e-01,  1.96336334e-01,\n",
       "         1.10627828e-01,  1.34419135e-01, -1.85628292e-01,\n",
       "         6.79987236e-02,  8.96766233e-02,  1.72617740e-01,\n",
       "        -1.70525437e-01],\n",
       "       [-4.27833709e-01,  7.91189483e-02, -1.34695178e-02,\n",
       "         1.11918214e-01, -6.04829130e-02, -2.51940863e-01,\n",
       "        -1.32453937e-01,  7.06413462e-02,  4.17063949e-02,\n",
       "         2.33988635e-01],\n",
       "       [ 2.78120871e-01,  1.32104884e-02, -3.29982208e-01,\n",
       "        -5.10667185e-01, -1.89794763e-01,  3.45552205e-02,\n",
       "         1.96159743e-01,  1.75672061e-02, -5.20465049e-04,\n",
       "         8.27872160e-02],\n",
       "       [-3.60837719e-01, -9.68993280e-02,  6.87748409e-02,\n",
       "         1.20446738e-01, -1.19392560e-01, -1.27201941e-01,\n",
       "         5.96594470e-03,  1.32394661e-01, -2.08722828e-02,\n",
       "         1.52590700e-01],\n",
       "       [-1.96862066e-01,  2.81799750e-01, -5.40548260e-01,\n",
       "        -3.52563278e-01,  2.23300841e-01,  1.03910113e-01,\n",
       "        -1.07736420e-01,  1.38169153e-01, -8.41049397e-02,\n",
       "        -1.87717344e-02],\n",
       "       [-2.85655608e-01,  1.27078719e-01,  4.87724653e-02,\n",
       "         1.09536140e-01, -5.19195643e-01,  1.52630135e-01,\n",
       "        -1.21275244e-01, -4.34138187e-02,  6.31639302e-02,\n",
       "        -2.05596529e-01],\n",
       "       [ 1.33753377e-01,  1.13355875e-01, -3.17602992e-01,\n",
       "        -4.27430896e-01, -1.60561856e-01, -4.28855469e-03,\n",
       "         4.26493213e-01, -5.06297017e-02,  9.95035166e-02,\n",
       "        -5.13520108e-02],\n",
       "       [ 2.99940396e-02,  1.64401664e-01, -3.73282121e-01,\n",
       "        -2.94419932e-01, -2.04756189e-01,  8.94167837e-02,\n",
       "        -1.06612073e-01,  7.11757458e-03,  4.45750982e-02,\n",
       "        -7.80008788e-02],\n",
       "       [ 2.72627252e-01, -5.68745228e-01,  1.22382451e-01,\n",
       "         4.30898447e-02,  1.82356070e-01, -5.06948328e-02,\n",
       "         5.82680265e-02, -4.25660896e-02, -2.15429905e-02,\n",
       "        -3.28534017e-02],\n",
       "       [-1.08958545e-01,  2.47951732e-01, -5.04828767e-01,\n",
       "        -4.92219594e-01,  2.20794687e-01,  1.37780317e-01,\n",
       "        -5.02473424e-02,  1.57787970e-01, -2.10727628e-01,\n",
       "        -1.10038509e-03],\n",
       "       [ 2.41246816e-01, -6.99653884e-02, -3.24199705e-01,\n",
       "        -5.19850436e-01, -2.06519921e-01,  7.64802307e-02,\n",
       "         2.28104165e-01,  7.36762672e-03, -3.56162332e-02,\n",
       "         8.96677573e-02],\n",
       "       [-2.41385328e-01, -3.34381908e-01, -2.21131485e-01,\n",
       "         1.85732880e-01,  2.92392283e-01,  2.32549646e-01,\n",
       "        -2.03147040e-01,  1.09077517e-01, -1.96334394e-01,\n",
       "        -1.97945768e-03],\n",
       "       [ 2.19527356e-01, -4.83017754e-01,  8.10601486e-02,\n",
       "         1.25357631e-01,  1.13598481e-01, -1.76035260e-01,\n",
       "         9.89066790e-02, -2.85600586e-02,  3.18393500e-02,\n",
       "        -7.60235475e-02],\n",
       "       [-1.90429425e-01, -4.69776122e-02,  4.60508032e-01,\n",
       "        -1.88422242e-01,  1.64632053e-01,  1.35971443e-01,\n",
       "        -4.98382538e-02,  1.59357872e-01,  3.11813993e-01,\n",
       "        -3.24354554e-02],\n",
       "       [-2.91370614e-02,  1.04237876e-01, -2.18486294e-01,\n",
       "        -4.18562861e-01, -1.56320291e-01,  5.41116277e-02,\n",
       "         3.94982872e-02,  8.10642279e-02, -1.45988010e-02,\n",
       "        -1.38393027e-02],\n",
       "       [ 1.87457709e-01, -4.81666454e-01,  9.57315463e-02,\n",
       "         4.39484899e-03,  1.38432930e-01, -8.74449278e-04,\n",
       "        -2.97747744e-02, -4.14746069e-02, -2.33878147e-02,\n",
       "         2.91252438e-02],\n",
       "       [-2.52521080e-01, -1.72794060e-01, -1.73367473e-01,\n",
       "         1.21898148e-01,  1.73847160e-01,  6.93621294e-02,\n",
       "        -1.72113653e-01,  2.06360381e-02,  8.47034795e-04,\n",
       "         1.39412220e-01],\n",
       "       [ 1.91028195e-01, -4.89002544e-01,  1.74317665e-01,\n",
       "        -4.35277627e-02,  6.06402818e-02, -1.07307816e-01,\n",
       "         5.11438497e-02,  5.71530809e-02, -1.24472947e-02,\n",
       "        -7.51196876e-02],\n",
       "       [ 1.62513781e-01, -4.81734321e-01,  4.92303249e-02,\n",
       "         5.78210629e-02,  1.27634462e-01,  1.22348929e-02,\n",
       "        -2.07569186e-02, -1.97097636e-02, -3.43324584e-02,\n",
       "        -1.73799589e-02],\n",
       "       [ 1.50645732e-01, -4.66108957e-01,  4.95965732e-02,\n",
       "         1.02933612e-01,  1.68795809e-01, -1.73703485e-02,\n",
       "         1.10833352e-01, -1.31439604e-01,  7.18033874e-02,\n",
       "        -4.62521208e-02],\n",
       "       [ 1.78364356e-01, -4.50145838e-01,  8.60684093e-02,\n",
       "        -3.93317068e-02, -2.88367384e-02, -8.42274616e-02,\n",
       "         1.23627265e-03,  8.83705170e-03, -2.88749666e-03,\n",
       "        -5.88566309e-02],\n",
       "       [ 1.36160704e-01, -4.54597298e-01,  6.36699895e-02,\n",
       "         7.41465964e-03,  8.54537702e-03, -6.61647497e-02,\n",
       "        -8.75982658e-03,  2.20564154e-02, -4.11050619e-02,\n",
       "        -3.48768407e-02],\n",
       "       [-2.50095163e-02, -4.22511285e-01, -5.44624549e-02,\n",
       "         6.99145084e-03, -5.83746904e-02, -1.41706996e-01,\n",
       "         1.23188287e-01,  2.75933426e-02, -2.03364951e-02,\n",
       "        -1.41352086e-02],\n",
       "       [-1.96195106e-01, -9.15895011e-02,  2.19320651e-01,\n",
       "         9.71728190e-02,  5.50981322e-02, -1.18392649e-01,\n",
       "        -1.69910529e-01,  7.05554722e-02, -1.83480400e-01,\n",
       "        -9.82555882e-03],\n",
       "       [ 1.34075028e-01, -4.36926648e-01,  1.08036392e-01,\n",
       "        -7.84643915e-02,  1.01672565e-01,  1.15229736e-02,\n",
       "        -9.15502660e-03, -6.28102533e-02,  1.04443970e-02,\n",
       "        -7.48741418e-02],\n",
       "       [ 1.93902332e-01, -3.51292974e-01,  1.55068435e-01,\n",
       "         1.74051541e-02,  1.47526567e-02,  2.34513599e-02,\n",
       "        -9.28034276e-02, -1.41057498e-01, -1.16789288e-02,\n",
       "         2.37879986e-02],\n",
       "       [ 7.60205685e-02, -4.43187812e-01, -2.35782697e-04,\n",
       "        -1.08481636e-01, -8.02104868e-02,  1.01518541e-02,\n",
       "         4.08766512e-02, -6.21819667e-02,  6.79386759e-03,\n",
       "        -3.45959811e-02],\n",
       "       [-1.97519907e-01, -1.85466262e-01, -2.07727428e-01,\n",
       "         1.13489103e-01, -2.25914689e-01,  2.26865133e-01,\n",
       "        -8.31511481e-02, -1.36457996e-01,  3.43626239e-02,\n",
       "         4.51637181e-02],\n",
       "       [ 1.60602850e-01, -4.22312751e-01,  1.28269587e-01,\n",
       "        -9.96653808e-02,  1.37421000e-04, -4.21251762e-02,\n",
       "        -2.44870226e-02, -1.98235010e-02,  3.89442000e-02,\n",
       "         3.00249727e-02],\n",
       "       [ 7.52758586e-02, -4.47907004e-01,  2.30858590e-01,\n",
       "         9.71126802e-02,  1.15058735e-01,  5.69470707e-02,\n",
       "         1.12542216e-01,  5.14104596e-02, -8.19126373e-03,\n",
       "        -6.73273396e-02],\n",
       "       [ 9.87329830e-02, -4.35337465e-01,  7.33223371e-02,\n",
       "        -1.43207884e-04, -1.48481140e-01, -1.90802047e-01,\n",
       "        -1.64876909e-03,  1.23948860e-01, -9.75890436e-02,\n",
       "        -1.04454120e-02],\n",
       "       [-1.89154709e-01, -2.07900540e-01, -2.72873355e-01,\n",
       "         1.35155793e-01, -6.47257894e-03,  1.02573073e-01,\n",
       "        -6.59128885e-02, -9.67827367e-02,  4.98120124e-02,\n",
       "        -9.43463905e-02],\n",
       "       [ 1.30448567e-01, -1.21117050e-01, -2.68930714e-01,\n",
       "        -3.79061942e-01, -3.11374577e-01,  1.64347560e-01,\n",
       "         1.51171283e-01, -4.71850647e-02,  3.46338319e-03,\n",
       "        -6.23982758e-03],\n",
       "       [-1.77014143e-01, -1.85355449e-01, -2.21910890e-01,\n",
       "         1.26166387e-02, -4.17441876e-02,  2.06870707e-02,\n",
       "        -1.35602653e-01, -3.69021672e-02,  2.29129892e-02,\n",
       "         1.07122978e-02],\n",
       "       [ 1.72548013e-01, -3.77392094e-01,  2.00799993e-01,\n",
       "        -1.04067826e-01,  2.73086475e-02, -4.64545117e-02,\n",
       "        -4.58992681e-02, -3.00521057e-02,  6.29296302e-02,\n",
       "         1.33439940e-02],\n",
       "       [ 5.19885571e-02, -4.12707678e-01, -4.29125243e-02,\n",
       "        -3.98186165e-03,  2.47349243e-02, -5.06118307e-02,\n",
       "         6.90668852e-02, -1.23129224e-01,  6.07907390e-02,\n",
       "         7.41933019e-02],\n",
       "       [-9.39053673e-02, -3.04947488e-01, -2.80296670e-01,\n",
       "        -2.24719581e-01,  4.61760395e-02,  2.39927190e-02,\n",
       "        -1.87535559e-01, -6.40596003e-03, -2.98215763e-02,\n",
       "        -6.16743358e-02],\n",
       "       [ 1.15654323e-02, -3.90852180e-01,  2.11350046e-01,\n",
       "         7.41847869e-03,  4.44077567e-03, -1.34092660e-01,\n",
       "         7.11797622e-02,  1.12391724e-01, -6.92227223e-02,\n",
       "        -5.86063066e-03],\n",
       "       [ 7.61814960e-02, -3.94525469e-01, -1.10745635e-02,\n",
       "         4.05345961e-02,  9.49408391e-02, -2.46698282e-02,\n",
       "        -5.58590698e-02, -5.46237783e-02, -1.02343297e-02,\n",
       "         5.62982500e-02],\n",
       "       [ 1.31305510e-01, -3.89690186e-01,  1.44960636e-01,\n",
       "        -3.79042096e-02, -6.97116631e-02, -9.41258438e-03,\n",
       "        -2.45279117e-02, -2.98718924e-02,  2.99820015e-03,\n",
       "         7.71233354e-02],\n",
       "       [ 5.83107841e-03, -3.74533118e-01, -9.39348204e-02,\n",
       "        -9.44390976e-02, -5.65835142e-02, -4.53571932e-02,\n",
       "        -5.52094149e-02, -4.28702058e-02, -2.41147621e-02,\n",
       "         3.74407326e-02],\n",
       "       [-2.37050405e-02, -3.66629151e-01, -3.79924096e-02,\n",
       "         1.74690454e-01,  7.64761685e-02, -2.38619684e-01,\n",
       "         8.32285480e-02,  7.54938309e-02, -1.82546899e-02,\n",
       "        -9.94591149e-02],\n",
       "       [ 5.37116885e-02, -3.74353972e-01, -1.55419533e-02,\n",
       "         4.00486535e-02,  1.51471567e-02, -3.77877070e-02,\n",
       "        -6.66315679e-02,  3.60824725e-02, -5.53077165e-02,\n",
       "        -5.89167704e-02],\n",
       "       [ 1.33581326e-01, -3.29275262e-01,  8.98100782e-02,\n",
       "        -2.68447871e-02, -1.14118303e-01, -2.93742341e-02,\n",
       "        -1.43481455e-01, -5.34237662e-02,  2.07442240e-02,\n",
       "         1.40185600e-01],\n",
       "       [ 1.03903740e+00,  5.37112559e-01, -2.42769666e-02,\n",
       "         2.30326220e-01,  7.98242331e-02,  3.04943834e-02,\n",
       "        -1.68259320e-02, -1.13489009e-02, -7.30927000e-03,\n",
       "         1.14705573e-02],\n",
       "       [ 1.10858150e+00,  4.73347126e-01, -3.08387750e-02,\n",
       "         2.00090123e-01,  5.37656798e-02,  3.53997991e-02,\n",
       "        -3.65595086e-02, -1.15682311e-02, -1.82535423e-02,\n",
       "         1.89536931e-02],\n",
       "       [ 1.11358895e+00,  4.65714783e-01, -1.77620345e-02,\n",
       "         1.87219878e-01,  2.89702055e-02,  3.35007389e-02,\n",
       "        -2.67886598e-02, -8.88285706e-03, -1.52753172e-02,\n",
       "         2.53756125e-02],\n",
       "       [ 1.03371890e+00,  5.13558637e-01, -7.00554185e-02,\n",
       "         2.57722917e-01,  2.93876768e-02, -2.84705138e-02,\n",
       "         1.45947327e-02,  1.84267222e-03,  4.27423156e-04,\n",
       "         2.51687364e-02],\n",
       "       [ 1.04794342e+00,  5.25282058e-01, -6.37599482e-03,\n",
       "         2.09023408e-01,  6.87601818e-02,  3.46663364e-02,\n",
       "        -2.08248784e-02, -3.95662545e-03,  1.06395582e-02,\n",
       "         4.63685094e-02],\n",
       "       [ 1.07108180e+00,  4.84085389e-01, -2.15577338e-02,\n",
       "         2.17930309e-01,  1.58867220e-02, -2.90175654e-02,\n",
       "         1.85316807e-02, -9.71440335e-03,  1.11544114e-02,\n",
       "        -9.33387459e-03],\n",
       "       [ 1.03738703e+00,  5.12562798e-01, -3.23762678e-02,\n",
       "         2.39931929e-01,  4.92347312e-02, -2.33857904e-02,\n",
       "        -7.35064343e-03,  3.07707176e-02, -1.65145654e-02,\n",
       "        -5.48536439e-03],\n",
       "       [ 1.55617144e-02,  8.01470809e-01,  7.74702293e-01,\n",
       "        -1.73483521e-01, -8.91684435e-02, -5.41451691e-02,\n",
       "         4.67705052e-02, -6.55545391e-02, -2.14388798e-01,\n",
       "        -3.72227929e-02],\n",
       "       [-3.68091422e-01, -1.58296582e-01, -2.16615200e-01,\n",
       "         3.52909455e-01, -1.78429585e-02,  3.16818923e-01,\n",
       "         2.60669555e-02, -1.08010694e-01,  2.77692133e-02,\n",
       "         8.23559569e-03],\n",
       "       [-3.42526228e-01, -1.53262597e-01,  3.10587223e-01,\n",
       "         4.27812162e-01, -2.89558220e-01,  4.86659211e-01,\n",
       "         2.23862106e-01,  4.79627072e-02, -1.17278641e-01,\n",
       "         9.64528412e-02],\n",
       "       [-1.53387312e-02,  5.77703636e-01, -2.03726528e-02,\n",
       "         7.53438686e-02, -4.06091674e-01, -2.48950748e-01,\n",
       "        -1.78072592e-01,  7.21445663e-02,  1.00795441e-01,\n",
       "        -1.69854419e-03],\n",
       "       [-1.01485961e+00,  4.95585677e-01, -3.03137755e-01,\n",
       "         2.26779200e-01,  1.67710693e-01,  2.36259354e-02,\n",
       "        -8.20184639e-03, -2.34122688e-01,  1.53186034e-01,\n",
       "        -6.82654082e-02],\n",
       "       [-9.33769491e-01,  1.66838166e-01, -5.72053719e-01,\n",
       "         8.49198906e-01, -1.47283009e-01,  2.34469689e-01,\n",
       "         1.98947656e-01,  1.41300259e-01, -8.36778687e-02,\n",
       "        -6.08159197e-02],\n",
       "       [-2.63993574e-01,  7.24166284e-01,  4.85400840e-01,\n",
       "        -1.39779063e-01,  4.01016504e-01, -8.05663044e-02,\n",
       "         3.20811147e-01, -3.49292303e-03, -1.57922853e-01,\n",
       "        -8.99184972e-02],\n",
       "       [-1.34553180e-01,  3.72562200e-01,  4.88361508e-01,\n",
       "         1.00438543e-02,  1.10282473e-01,  4.57082729e-01,\n",
       "         9.79709119e-02,  2.98416497e-01,  1.85319800e-01,\n",
       "         4.94559871e-02],\n",
       "       [-3.33980968e-01,  1.02857617e-01,  3.84331416e-01,\n",
       "        -6.00265571e-02, -5.77081669e-03,  2.01408392e-01,\n",
       "        -1.19435237e-01, -7.26668250e-02, -4.36810156e-02,\n",
       "        -2.63766858e-02],\n",
       "       [-6.24876502e-01,  5.39330121e-01,  6.30732612e-01,\n",
       "        -9.11456300e-02, -2.09125935e-01,  4.50978603e-02,\n",
       "        -9.21536999e-02, -2.87490482e-01, -1.62341746e-01,\n",
       "        -1.67703472e-01],\n",
       "       [-5.80879367e-01,  1.09773809e-01,  2.25136891e-01,\n",
       "         2.64334303e-01, -2.22959310e-01, -2.39376420e-01,\n",
       "         1.61625397e-01,  2.88385569e-01,  6.55768918e-02,\n",
       "         1.02954991e-01],\n",
       "       [-5.47461307e-01,  5.69806421e-01,  2.61202227e-01,\n",
       "        -4.70394138e-01,  1.40717763e-01,  6.30144134e-02,\n",
       "        -3.43260169e-02, -7.05134918e-02, -1.26260869e-01,\n",
       "         1.25692040e-01],\n",
       "       [-6.18581338e-01,  5.39660259e-01, -3.06339562e-02,\n",
       "         6.66894688e-02, -3.44106596e-01, -4.36551044e-01,\n",
       "        -7.93055470e-02,  1.23929345e-01, -1.12580392e-01,\n",
       "        -7.85061243e-02],\n",
       "       [-3.38263564e-01,  4.06468817e-01, -5.28999559e-01,\n",
       "         4.19554311e-02, -7.46514120e-02, -3.02937141e-01,\n",
       "         2.63049752e-02, -1.30689743e-01,  1.95295484e-01,\n",
       "         4.43173189e-02],\n",
       "       [-6.69886893e-01,  3.36376489e-01,  3.50558902e-01,\n",
       "        -1.20690203e-01,  2.09019223e-01, -1.89354198e-02,\n",
       "        -2.47970772e-02, -1.28121822e-01,  1.59766720e-01,\n",
       "         1.53529436e-01],\n",
       "       [-6.48944878e-01,  2.47432432e-01,  2.49068673e-01,\n",
       "         1.05344397e-01, -4.98076319e-02, -8.38073594e-02,\n",
       "         4.86196444e-02, -1.94815164e-01, -9.42161353e-02,\n",
       "         1.99984964e-01]])"
      ]
     },
     "execution_count": 26,
     "metadata": {},
     "output_type": "execute_result"
    }
   ],
   "source": [
    "pca_minmax = PCA(n_components=10)\n",
    "x_train_minmax_pca = pca_minmax.fit(x_train_minmax).transform(x_train_minmax)\n",
    "x_train_minmax_pca"
   ]
  },
  {
   "cell_type": "markdown",
   "metadata": {},
   "source": [
    "### Compose to Models"
   ]
  },
  {
   "cell_type": "markdown",
   "metadata": {},
   "source": [
    "Train"
   ]
  },
  {
   "cell_type": "code",
   "execution_count": 27,
   "metadata": {},
   "outputs": [],
   "source": [
    "X_w_minmax = pd.DataFrame(x_train_minmax_pca)\n",
    "Y_w_minmax = y_train_minmax\n",
    "\n",
    "X_w_minmax.columns = [f'PC{i+1}' for i in range(X_w_minmax.shape[1])]\n",
    "X_w_minmax = X_w_minmax.transpose()\n",
    "X_w_minmax.columns = name_sample_train_minmax\n",
    "X_w_minmax = X_w_minmax.transpose()\n",
    "\n",
    "all_performance = []"
   ]
  },
  {
   "cell_type": "markdown",
   "metadata": {},
   "source": [
    "Test"
   ]
  },
  {
   "cell_type": "code",
   "execution_count": 28,
   "metadata": {},
   "outputs": [],
   "source": [
    "# autoscaling on test set\n",
    "x_test_minmax_centered = (x_test_minmax.sub(mean_minmax,axis=1)).div(std_minmax,axis=1)\n",
    "x_test_minmax_centered_pca = pca_minmax.transform(x_test_minmax_centered)\n",
    "\n",
    "x_test_minmax_centered_pca = pd.DataFrame(x_test_minmax_centered_pca)\n",
    "x_test_minmax_centered_pca.columns = [f'PC{i+1}' for i in range(x_test_minmax_centered_pca.shape[1])]\n",
    "x_test_minmax_centered_pca = x_test_minmax_centered_pca.transpose()\n",
    "x_test_minmax_centered_pca.columns = name_sample_test_minmax\n",
    "x_test_minmax_centered_pca = x_test_minmax_centered_pca.transpose()"
   ]
  },
  {
   "cell_type": "markdown",
   "metadata": {},
   "source": [
    "### Logistic Regression"
   ]
  },
  {
   "cell_type": "code",
   "execution_count": 29,
   "metadata": {},
   "outputs": [
    {
     "name": "stderr",
     "output_type": "stream",
     "text": [
      "/Users/bvs/opt/anaconda3/envs/AI4Omics/lib/python3.9/site-packages/sklearn/metrics/_classification.py:2394: UserWarning: y_pred contains classes not in y_true\n",
      "  warnings.warn(\"y_pred contains classes not in y_true\")\n",
      "/Users/bvs/opt/anaconda3/envs/AI4Omics/lib/python3.9/site-packages/sklearn/metrics/_classification.py:2394: UserWarning: y_pred contains classes not in y_true\n",
      "  warnings.warn(\"y_pred contains classes not in y_true\")\n",
      "/Users/bvs/opt/anaconda3/envs/AI4Omics/lib/python3.9/site-packages/sklearn/metrics/_classification.py:2394: UserWarning: y_pred contains classes not in y_true\n",
      "  warnings.warn(\"y_pred contains classes not in y_true\")\n",
      "/Users/bvs/opt/anaconda3/envs/AI4Omics/lib/python3.9/site-packages/sklearn/metrics/_classification.py:2394: UserWarning: y_pred contains classes not in y_true\n",
      "  warnings.warn(\"y_pred contains classes not in y_true\")\n",
      "/Users/bvs/opt/anaconda3/envs/AI4Omics/lib/python3.9/site-packages/sklearn/metrics/_classification.py:2394: UserWarning: y_pred contains classes not in y_true\n",
      "  warnings.warn(\"y_pred contains classes not in y_true\")\n",
      "/Users/bvs/opt/anaconda3/envs/AI4Omics/lib/python3.9/site-packages/sklearn/metrics/_classification.py:2394: UserWarning: y_pred contains classes not in y_true\n",
      "  warnings.warn(\"y_pred contains classes not in y_true\")\n",
      "/Users/bvs/opt/anaconda3/envs/AI4Omics/lib/python3.9/site-packages/sklearn/metrics/_classification.py:2394: UserWarning: y_pred contains classes not in y_true\n",
      "  warnings.warn(\"y_pred contains classes not in y_true\")\n",
      "/Users/bvs/opt/anaconda3/envs/AI4Omics/lib/python3.9/site-packages/sklearn/metrics/_classification.py:2394: UserWarning: y_pred contains classes not in y_true\n",
      "  warnings.warn(\"y_pred contains classes not in y_true\")\n",
      "/Users/bvs/opt/anaconda3/envs/AI4Omics/lib/python3.9/site-packages/sklearn/metrics/_classification.py:2394: UserWarning: y_pred contains classes not in y_true\n",
      "  warnings.warn(\"y_pred contains classes not in y_true\")\n"
     ]
    },
    {
     "name": "stdout",
     "output_type": "stream",
     "text": [
      "L'accuracy è:  87.32394366197182 \n",
      "La balanced_accuracy è:  87.32394366197182\n"
     ]
    }
   ],
   "source": [
    "from sklearn.model_selection import LeaveOneOut\n",
    "from sklearn.linear_model import LogisticRegression\n",
    "from sklearn import metrics as mt\n",
    "from imblearn.over_sampling import BorderlineSMOTE\n",
    "\n",
    "loo = LeaveOneOut()\n",
    "\n",
    "performance_scores = []\n",
    "performance_scores_balanced = []\n",
    "i = 0\n",
    "# Itera attraverso i fold\n",
    "for train_index, val_index in loo.split(X_w_minmax,Y_w_minmax):\n",
    "    i+=1\n",
    "    \n",
    "    train_x_temp, test_x_temp = X_w_minmax.iloc[train_index],X_w_minmax.iloc[val_index]\n",
    "    train_y_temp, test_y_temp = Y_w_minmax.iloc[train_index],Y_w_minmax.iloc[val_index]\n",
    "    \n",
    "    #ribilanciamento\n",
    "    bls = BorderlineSMOTE(random_state=99)\n",
    "    train_x_temp,train_y_temp = bls.fit_resample(train_x_temp,train_y_temp)\n",
    "\n",
    "    # normalizzazione\n",
    "    mean_minmax_temp= train_x_temp.mean(axis=0)\n",
    "    std_minmax_temp = train_x_temp.std(axis=0)\n",
    "    train_x_temp = (train_x_temp.sub(mean_minmax_temp,axis=1)).div(std_minmax_temp,axis=1)\n",
    "\n",
    "    test_x_temp = (test_x_temp.sub(mean_minmax_temp,axis=1)).div(std_minmax_temp,axis=1)\n",
    "    \n",
    "    lm = LogisticRegression(penalty=None,class_weight='balanced', multi_class='auto',max_iter=10000, n_jobs=4, solver='saga') # penalty{‘l1’, ‘l2’, ‘elasticnet’, None}; multi_class{‘auto’, ‘ovr’, ‘multinomial’}\n",
    "    \n",
    "    lm.fit(train_x_temp, train_y_temp)\n",
    "    \n",
    "    predicted_y_temp = lm.predict(test_x_temp)\n",
    "\n",
    "    # Calcola e memorizza la misura delle prestazioni (es. accuratezza)\n",
    "    accuracy_temp = np.round(mt.accuracy_score(test_y_temp.values,predicted_y_temp)*100,2)\n",
    "    performance_scores.append(accuracy_temp)\n",
    "    balanced_accuracy_temp = np.round(mt.balanced_accuracy_score(test_y_temp.values,predicted_y_temp)*100,2)\n",
    "    performance_scores_balanced.append(balanced_accuracy_temp)\n",
    "    \n",
    "mean_accuracy_temp = sum(performance_scores)/i\n",
    "mean_accuracy_balanced_temp = sum(performance_scores_balanced)/i\n",
    "\n",
    "print(\"L'accuracy è: \", mean_accuracy_temp, \"\\nLa balanced_accuracy è: \", mean_accuracy_balanced_temp)\n",
    "\n",
    "all_performance = [{\"MIN-MAX\":{\n",
    "    \"LogisticRegression_Validation\": {\n",
    "        \"BorderlineSMOTE\": mean_accuracy_balanced_temp\n",
    "    }\n",
    "}}]"
   ]
  },
  {
   "cell_type": "markdown",
   "metadata": {},
   "source": [
    "##### Try on test set"
   ]
  },
  {
   "cell_type": "code",
   "execution_count": 30,
   "metadata": {},
   "outputs": [
    {
     "data": {
      "text/plain": [
       "100.0"
      ]
     },
     "execution_count": 30,
     "metadata": {},
     "output_type": "execute_result"
    }
   ],
   "source": [
    "predicted_y_test = lm.predict(x_test_minmax_centered_pca)\n",
    "balanced_accuracy = np.round(mt.balanced_accuracy_score(y_test_minmax,predicted_y_test)*100,2)\n",
    "all_performance[0][\"MIN-MAX\"][\"LogisticRegression_Test\"]= {\"BorderlineSMOTE\":balanced_accuracy}\n",
    "balanced_accuracy"
   ]
  },
  {
   "cell_type": "markdown",
   "metadata": {},
   "source": [
    "Show the error in Logistic Regression"
   ]
  },
  {
   "cell_type": "code",
   "execution_count": 31,
   "metadata": {},
   "outputs": [
    {
     "name": "stdout",
     "output_type": "stream",
     "text": [
      "The errors were made on:  []\n"
     ]
    },
    {
     "data": {
      "image/png": "[encoded data removed]",
      "text/plain": [
       "<Figure size 640x480 with 1 Axes>"
      ]
     },
     "metadata": {},
     "output_type": "display_data"
    }
   ],
   "source": [
    "show_error_lr = pd.DataFrame({\"Predict\":predicted_y_test, \"Real\":y_test_minmax})\n",
    "errors_name = show_error_lr[show_error_lr[\"Predict\"] != show_error_lr[\"Real\"]].index\n",
    "errors_name\n",
    "\n",
    "df_score_view_noqc = df_score_view.drop([0,1,2,3])\n",
    "\n",
    "error_index = (df_score_view_noqc[df_score_view_noqc[\"Sample\"].isin(errors_name)].index) - 4\n",
    "print(\"The errors were made on: \",error_index.values)\n",
    "colors_with_error = colors_after_drop.copy()\n",
    "colors_with_error = np.delete(colors_with_error,[0,1,2,3])\n",
    "colors_with_error[error_index] = \"black\"\n",
    "\n",
    "plt.scatter(df_score_view_noqc[\"Score View X\"], df_score_view_noqc[\"Score View Y\"], c=colors_with_error)\n",
    "plt.xlabel('x')\n",
    "plt.ylabel('y')\n",
    "plt.legend(handles=[\n",
    "    plt.Line2D([0], [0], marker='o', color='w', label='LC', markerfacecolor='red', markersize=10),\n",
    "    plt.Line2D([0], [0], marker='o', color='w', label='MC', markerfacecolor='green', markersize=10),\n",
    "    plt.Line2D([0], [0], marker='o', color='w', label='HC', markerfacecolor='orange', markersize=10),\n",
    "], title='Legend')\n",
    "plt.title('PCA View')\n",
    "plt.show()"
   ]
  },
  {
   "cell_type": "markdown",
   "metadata": {},
   "source": [
    "### SVM"
   ]
  },
  {
   "cell_type": "code",
   "execution_count": 32,
   "metadata": {},
   "outputs": [
    {
     "name": "stderr",
     "output_type": "stream",
     "text": [
      "/Users/bvs/opt/anaconda3/envs/AI4Omics/lib/python3.9/site-packages/sklearn/metrics/_classification.py:2394: UserWarning: y_pred contains classes not in y_true\n",
      "  warnings.warn(\"y_pred contains classes not in y_true\")\n",
      "/Users/bvs/opt/anaconda3/envs/AI4Omics/lib/python3.9/site-packages/sklearn/metrics/_classification.py:2394: UserWarning: y_pred contains classes not in y_true\n",
      "  warnings.warn(\"y_pred contains classes not in y_true\")\n",
      "/Users/bvs/opt/anaconda3/envs/AI4Omics/lib/python3.9/site-packages/sklearn/metrics/_classification.py:2394: UserWarning: y_pred contains classes not in y_true\n",
      "  warnings.warn(\"y_pred contains classes not in y_true\")\n",
      "/Users/bvs/opt/anaconda3/envs/AI4Omics/lib/python3.9/site-packages/sklearn/metrics/_classification.py:2394: UserWarning: y_pred contains classes not in y_true\n",
      "  warnings.warn(\"y_pred contains classes not in y_true\")\n",
      "/Users/bvs/opt/anaconda3/envs/AI4Omics/lib/python3.9/site-packages/sklearn/metrics/_classification.py:2394: UserWarning: y_pred contains classes not in y_true\n",
      "  warnings.warn(\"y_pred contains classes not in y_true\")\n",
      "/Users/bvs/opt/anaconda3/envs/AI4Omics/lib/python3.9/site-packages/sklearn/metrics/_classification.py:2394: UserWarning: y_pred contains classes not in y_true\n",
      "  warnings.warn(\"y_pred contains classes not in y_true\")\n",
      "/Users/bvs/opt/anaconda3/envs/AI4Omics/lib/python3.9/site-packages/sklearn/metrics/_classification.py:2394: UserWarning: y_pred contains classes not in y_true\n",
      "  warnings.warn(\"y_pred contains classes not in y_true\")\n",
      "/Users/bvs/opt/anaconda3/envs/AI4Omics/lib/python3.9/site-packages/sklearn/metrics/_classification.py:2394: UserWarning: y_pred contains classes not in y_true\n",
      "  warnings.warn(\"y_pred contains classes not in y_true\")\n",
      "/Users/bvs/opt/anaconda3/envs/AI4Omics/lib/python3.9/site-packages/sklearn/metrics/_classification.py:2394: UserWarning: y_pred contains classes not in y_true\n",
      "  warnings.warn(\"y_pred contains classes not in y_true\")\n",
      "/Users/bvs/opt/anaconda3/envs/AI4Omics/lib/python3.9/site-packages/sklearn/metrics/_classification.py:2394: UserWarning: y_pred contains classes not in y_true\n",
      "  warnings.warn(\"y_pred contains classes not in y_true\")\n"
     ]
    },
    {
     "name": "stdout",
     "output_type": "stream",
     "text": [
      "L'accuracy è:  85.91549295774648 %\n",
      "La balanced_accuracy è:  85.91549295774648 %\n"
     ]
    }
   ],
   "source": [
    "from sklearn.model_selection import LeaveOneOut\n",
    "from sklearn.svm import SVC\n",
    "from sklearn import metrics as mt\n",
    "from imblearn.over_sampling import BorderlineSMOTE\n",
    "\n",
    "loo = LeaveOneOut()\n",
    "\n",
    "performance_scores = []\n",
    "performance_scores_balanced = []\n",
    "i = 0\n",
    "# Itera attraverso i fold\n",
    "for train_index, val_index in loo.split(X_w_minmax):\n",
    "    i+=1\n",
    "    train_x_temp, test_x_temp = X_w_minmax.iloc[train_index],X_w_minmax.iloc[val_index]\n",
    "    train_y_temp, test_y_temp = Y_w_minmax.iloc[train_index],Y_w_minmax.iloc[val_index]\n",
    "    \n",
    "    # balancing\n",
    "    train_x_temp,train_y_temp = BorderlineSMOTE(random_state=99).fit_resample(train_x_temp,train_y_temp)\n",
    "    \n",
    "    # normalization\n",
    "    mean_minmax_temp= train_x_temp.mean(axis=0)\n",
    "    std_minmax_temp = train_x_temp.std(axis=0)\n",
    "    train_x_temp = (train_x_temp.sub(mean_minmax_temp,axis=1)).div(std_minmax_temp,axis=1)\n",
    "\n",
    "    test_x_temp = (test_x_temp.sub(mean_minmax_temp,axis=1)).div(std_minmax_temp,axis=1)\n",
    "    \n",
    "    model_svc = SVC(C=1.0,kernel=\"linear\", gamma=\"scale\")\n",
    "    model_svc.fit(train_x_temp,train_y_temp)\n",
    "    \n",
    "    predicted_y_temp = model_svc.predict(test_x_temp)\n",
    "    \n",
    "    accuracy_temp = np.round(mt.accuracy_score(test_y_temp,predicted_y_temp)*100,2)\n",
    "    performance_scores.append(accuracy_temp)\n",
    "    balanced_accuracy_temp = np.round(mt.balanced_accuracy_score(test_y_temp,predicted_y_temp)*100,2)\n",
    "    performance_scores_balanced.append(balanced_accuracy_temp)\n",
    "    \n",
    "mean_accuracy_temp = sum(performance_scores)/i\n",
    "mean_accuracy_balanced_temp = sum(performance_scores_balanced)/i\n",
    "\n",
    "print(\"L'accuracy è: \", mean_accuracy_temp, \"%\\nLa balanced_accuracy è: \", mean_accuracy_balanced_temp,\"%\")\n",
    "\n",
    "all_performance[0][\"MIN-MAX\"][\"SVM_Validation\"]= {\"BorderlineSMOTE\":mean_accuracy_balanced_temp}"
   ]
  },
  {
   "cell_type": "markdown",
   "metadata": {},
   "source": [
    "##### Try on Test"
   ]
  },
  {
   "cell_type": "code",
   "execution_count": 33,
   "metadata": {},
   "outputs": [
    {
     "data": {
      "text/plain": [
       "100.0"
      ]
     },
     "execution_count": 33,
     "metadata": {},
     "output_type": "execute_result"
    }
   ],
   "source": [
    "predicted_y_test = model_svc.predict(x_test_minmax_centered_pca)\n",
    "balanced_accuracy = np.round(mt.balanced_accuracy_score(y_test_minmax,predicted_y_test)*100,2)\n",
    "all_performance[0][\"MIN-MAX\"][\"SVM_Test\"]= {\"BorderlineSMOTE\":balanced_accuracy}\n",
    "balanced_accuracy"
   ]
  },
  {
   "cell_type": "markdown",
   "metadata": {},
   "source": [
    "Show the error in SVM"
   ]
  },
  {
   "cell_type": "code",
   "execution_count": 34,
   "metadata": {},
   "outputs": [
    {
     "name": "stdout",
     "output_type": "stream",
     "text": [
      "The errors were made on:  []\n"
     ]
    },
    {
     "data": {
      "image/png": "[encoded data removed]",
      "text/plain": [
       "<Figure size 640x480 with 1 Axes>"
      ]
     },
     "metadata": {},
     "output_type": "display_data"
    }
   ],
   "source": [
    "show_error_svm = pd.DataFrame({\"Predict\":predicted_y_test, \"Real\":y_test_minmax})\n",
    "errors_name = show_error_svm[show_error_svm[\"Predict\"] != show_error_svm[\"Real\"]].index\n",
    "errors_name\n",
    "\n",
    "df_score_view_noqc = df_score_view.drop([0,1,2,3])\n",
    "\n",
    "error_index = (df_score_view_noqc[df_score_view_noqc[\"Sample\"].isin(errors_name)].index) - 4\n",
    "print(\"The errors were made on: \",error_index.values)\n",
    "colors_with_error = colors_after_drop.copy()\n",
    "colors_with_error = np.delete(colors_with_error,[0,1,2,3])\n",
    "colors_with_error[error_index] = \"black\"\n",
    "\n",
    "plt.scatter(df_score_view_noqc[\"Score View X\"], df_score_view_noqc[\"Score View Y\"], c=colors_with_error)\n",
    "plt.xlabel('x')\n",
    "plt.ylabel('y')\n",
    "plt.legend(handles=[\n",
    "    plt.Line2D([0], [0], marker='o', color='w', label='LC', markerfacecolor='red', markersize=10),\n",
    "    plt.Line2D([0], [0], marker='o', color='w', label='MC', markerfacecolor='green', markersize=10),\n",
    "    plt.Line2D([0], [0], marker='o', color='w', label='HC', markerfacecolor='orange', markersize=10),\n",
    "], title='Legend')\n",
    "plt.title('PCA View')\n",
    "plt.show()"
   ]
  },
  {
   "cell_type": "markdown",
   "metadata": {},
   "source": [
    "### Random Forest"
   ]
  },
  {
   "cell_type": "code",
   "execution_count": 35,
   "metadata": {},
   "outputs": [
    {
     "name": "stderr",
     "output_type": "stream",
     "text": [
      "/Users/bvs/opt/anaconda3/envs/AI4Omics/lib/python3.9/site-packages/sklearn/metrics/_classification.py:2394: UserWarning: y_pred contains classes not in y_true\n",
      "  warnings.warn(\"y_pred contains classes not in y_true\")\n",
      "/Users/bvs/opt/anaconda3/envs/AI4Omics/lib/python3.9/site-packages/sklearn/metrics/_classification.py:2394: UserWarning: y_pred contains classes not in y_true\n",
      "  warnings.warn(\"y_pred contains classes not in y_true\")\n",
      "/Users/bvs/opt/anaconda3/envs/AI4Omics/lib/python3.9/site-packages/sklearn/metrics/_classification.py:2394: UserWarning: y_pred contains classes not in y_true\n",
      "  warnings.warn(\"y_pred contains classes not in y_true\")\n",
      "/Users/bvs/opt/anaconda3/envs/AI4Omics/lib/python3.9/site-packages/sklearn/metrics/_classification.py:2394: UserWarning: y_pred contains classes not in y_true\n",
      "  warnings.warn(\"y_pred contains classes not in y_true\")\n",
      "/Users/bvs/opt/anaconda3/envs/AI4Omics/lib/python3.9/site-packages/sklearn/metrics/_classification.py:2394: UserWarning: y_pred contains classes not in y_true\n",
      "  warnings.warn(\"y_pred contains classes not in y_true\")\n",
      "/Users/bvs/opt/anaconda3/envs/AI4Omics/lib/python3.9/site-packages/sklearn/metrics/_classification.py:2394: UserWarning: y_pred contains classes not in y_true\n",
      "  warnings.warn(\"y_pred contains classes not in y_true\")\n",
      "/Users/bvs/opt/anaconda3/envs/AI4Omics/lib/python3.9/site-packages/sklearn/metrics/_classification.py:2394: UserWarning: y_pred contains classes not in y_true\n",
      "  warnings.warn(\"y_pred contains classes not in y_true\")\n",
      "/Users/bvs/opt/anaconda3/envs/AI4Omics/lib/python3.9/site-packages/sklearn/metrics/_classification.py:2394: UserWarning: y_pred contains classes not in y_true\n",
      "  warnings.warn(\"y_pred contains classes not in y_true\")\n",
      "/Users/bvs/opt/anaconda3/envs/AI4Omics/lib/python3.9/site-packages/sklearn/metrics/_classification.py:2394: UserWarning: y_pred contains classes not in y_true\n",
      "  warnings.warn(\"y_pred contains classes not in y_true\")\n",
      "/Users/bvs/opt/anaconda3/envs/AI4Omics/lib/python3.9/site-packages/sklearn/metrics/_classification.py:2394: UserWarning: y_pred contains classes not in y_true\n",
      "  warnings.warn(\"y_pred contains classes not in y_true\")\n"
     ]
    },
    {
     "name": "stdout",
     "output_type": "stream",
     "text": [
      "L'accuracy è:  85.91549295774648 %\n",
      "La balanced_accuracy è:  85.91549295774648 %\n"
     ]
    }
   ],
   "source": [
    "from sklearn.ensemble import RandomForestClassifier\n",
    "from sklearn import metrics as mt\n",
    "from sklearn.model_selection import LeaveOneOut\n",
    "from imblearn.over_sampling import BorderlineSMOTE\n",
    "\n",
    "loo = LeaveOneOut()\n",
    "\n",
    "performance_scores = []\n",
    "performance_scores_balanced = []\n",
    "i = 0\n",
    "\n",
    "for train_index, val_index in loo.split(X_w_minmax):\n",
    "    i+=1\n",
    "    train_x_temp, test_x_temp = X_w_minmax.iloc[train_index],X_w_minmax.iloc[val_index]\n",
    "    train_y_temp, test_y_temp = Y_w_minmax.iloc[train_index],Y_w_minmax.iloc[val_index]\n",
    "    \n",
    "    train_x_temp,train_y_temp = BorderlineSMOTE(random_state=99).fit_resample(train_x_temp,train_y_temp)\n",
    "    \n",
    "    # normalizzazione\n",
    "    mean_minmax_temp = train_x_temp.mean(axis=0)\n",
    "    std_minmax_temp = train_x_temp.std(axis=0)\n",
    "    train_x_temp = (train_x_temp.sub(mean_minmax_temp,axis=1)).div(std_minmax_temp,axis=1)\n",
    "\n",
    "    test_x_temp = (test_x_temp.sub(mean_minmax_temp,axis=1)).div(std_minmax_temp,axis=1)\n",
    "    \n",
    "    rf_model = RandomForestClassifier(n_estimators=200, random_state=3, max_depth=22, n_jobs=4)\n",
    "    rf_model.fit(train_x_temp, train_y_temp)\n",
    "    predicted_y_temp = rf_model.predict(test_x_temp)\n",
    "    \n",
    "    accuracy_temp = np.round(mt.accuracy_score(test_y_temp,predicted_y_temp)*100,2)\n",
    "    performance_scores.append(accuracy_temp)\n",
    "    balanced_accuracy_temp = np.round(mt.balanced_accuracy_score(test_y_temp,predicted_y_temp)*100,2)\n",
    "    performance_scores_balanced.append(balanced_accuracy_temp)\n",
    "    \n",
    "mean_accuracy_temp = sum(performance_scores)/i\n",
    "mean_accuracy_balanced_temp = sum(performance_scores_balanced)/i\n",
    "\n",
    "print(\"L'accuracy è: \", mean_accuracy_temp, \"%\\nLa balanced_accuracy è: \", mean_accuracy_balanced_temp,\"%\")\n",
    "\n",
    "all_performance[0][\"MIN-MAX\"][\"RandomForests_Validation\"]= {\"BorderlineSMOTE\":mean_accuracy_balanced_temp}"
   ]
  },
  {
   "cell_type": "markdown",
   "metadata": {},
   "source": [
    "##### Try on Test"
   ]
  },
  {
   "cell_type": "code",
   "execution_count": 36,
   "metadata": {},
   "outputs": [
    {
     "data": {
      "text/plain": [
       "100.0"
      ]
     },
     "execution_count": 36,
     "metadata": {},
     "output_type": "execute_result"
    }
   ],
   "source": [
    "predicted_y_test = rf_model.predict(x_test_minmax_centered_pca)\n",
    "balanced_accuracy = np.round(mt.balanced_accuracy_score(y_test_minmax,predicted_y_test)*100,2)\n",
    "all_performance[0][\"MIN-MAX\"][\"RandomForests_Test\"]= {\"BorderlineSMOTE\":balanced_accuracy}\n",
    "balanced_accuracy"
   ]
  },
  {
   "cell_type": "markdown",
   "metadata": {},
   "source": [
    "Show the error in Random Forest"
   ]
  },
  {
   "cell_type": "code",
   "execution_count": 37,
   "metadata": {},
   "outputs": [
    {
     "name": "stdout",
     "output_type": "stream",
     "text": [
      "The errors were made on:  []\n"
     ]
    },
    {
     "data": {
      "image/png": "[encoded data removed]",
      "text/plain": [
       "<Figure size 640x480 with 1 Axes>"
      ]
     },
     "metadata": {},
     "output_type": "display_data"
    }
   ],
   "source": [
    "show_error_rf = pd.DataFrame({\"Predict\":predicted_y_test, \"Real\":y_test_minmax})\n",
    "errors_name = show_error_rf[show_error_rf[\"Predict\"] != show_error_rf[\"Real\"]].index\n",
    "errors_name\n",
    "\n",
    "df_score_view_noqc = df_score_view.drop([0,1,2,3])\n",
    "\n",
    "error_index = (df_score_view_noqc[df_score_view_noqc[\"Sample\"].isin(errors_name)].index) - 4\n",
    "print(\"The errors were made on: \",error_index.values)\n",
    "colors_with_error = colors_after_drop.copy()\n",
    "colors_with_error = np.delete(colors_with_error,[0,1,2,3])\n",
    "colors_with_error[error_index] = \"black\"\n",
    "\n",
    "plt.scatter(df_score_view_noqc[\"Score View X\"], df_score_view_noqc[\"Score View Y\"], c=colors_with_error)\n",
    "plt.xlabel('x')\n",
    "plt.ylabel('y')\n",
    "plt.legend(handles=[\n",
    "    plt.Line2D([0], [0], marker='o', color='w', label='LC', markerfacecolor='red', markersize=10),\n",
    "    plt.Line2D([0], [0], marker='o', color='w', label='MC', markerfacecolor='green', markersize=10),\n",
    "    plt.Line2D([0], [0], marker='o', color='w', label='HC', markerfacecolor='orange', markersize=10),\n",
    "], title='Legend')\n",
    "plt.title('PCA View')\n",
    "plt.show()"
   ]
  },
  {
   "cell_type": "markdown",
   "metadata": {},
   "source": [
    "### Write on file"
   ]
  },
  {
   "cell_type": "code",
   "execution_count": 38,
   "metadata": {},
   "outputs": [],
   "source": [
    "import json\n",
    "file_path = \"output_metaboloma_models.txt\"\n",
    "with open(file_path, \"a\") as file:\n",
    "    json.dump(all_performance, file, indent=4)"
   ]
  }
 ],
 "metadata": {
  "kernelspec": {
   "display_name": "AI4Omics",
   "language": "python",
   "name": "python3"
  },
  "language_info": {
   "codemirror_mode": {
    "name": "ipython",
    "version": 3
   },
   "file_extension": ".py",
   "mimetype": "text/x-python",
   "name": "python",
   "nbconvert_exporter": "python",
   "pygments_lexer": "ipython3",
   "version": "3.9.18"
  }
 },
 "nbformat": 4,
 "nbformat_minor": 2
}
