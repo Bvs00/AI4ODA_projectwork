{
 "cells": [
  {
   "cell_type": "markdown",
   "metadata": {},
   "source": [
    "# Project Work\n",
    "This project is composed from two dataset:\n",
    "- Lipidoma\n",
    "- Metaboloma\n",
    "\n",
    "The aim of this project is identify bio-markers that allow to distinguish the evolution of pathology (HCV). We have 3 several class of patient:\n",
    "- LC: Hepatocellular carcinoma\n",
    "- HC: Hepatitis C virus\n",
    "- MC: Mixed Cryoglobulinemia disease"
   ]
  },
  {
   "cell_type": "markdown",
   "metadata": {},
   "source": [
    "## Read data set \n",
    "On the raw we have the features, while on the column we have the samples.\n",
    "\n",
    "However, I set the features on the column and the samples on the raw."
   ]
  },
  {
   "cell_type": "code",
   "execution_count": 79,
   "metadata": {},
   "outputs": [
    {
     "data": {
      "text/html": [
       "<div>\n",
       "<style scoped>\n",
       "    .dataframe tbody tr th:only-of-type {\n",
       "        vertical-align: middle;\n",
       "    }\n",
       "\n",
       "    .dataframe tbody tr th {\n",
       "        vertical-align: top;\n",
       "    }\n",
       "\n",
       "    .dataframe thead th {\n",
       "        text-align: right;\n",
       "    }\n",
       "</style>\n",
       "<table border=\"1\" class=\"dataframe\">\n",
       "  <thead>\n",
       "    <tr style=\"text-align: right;\">\n",
       "      <th></th>\n",
       "      <th>CE 16:0</th>\n",
       "      <th>CE 16:1</th>\n",
       "      <th>CE 18:1</th>\n",
       "      <th>CE 18:2</th>\n",
       "      <th>CE 20:3</th>\n",
       "      <th>CE 20:4</th>\n",
       "      <th>CE 20:5</th>\n",
       "      <th>Cer 16:1;2O/22:0</th>\n",
       "      <th>Cer 18:1;2O/22:0</th>\n",
       "      <th>Cer 18:1;2O/23:0</th>\n",
       "      <th>...</th>\n",
       "      <th>TG 18:1_18:1_20:1</th>\n",
       "      <th>TG 18:1_18:1_20:4</th>\n",
       "      <th>TG 18:1_18:2_18:2</th>\n",
       "      <th>TG 18:1_18:2_20:4</th>\n",
       "      <th>TG 18:1_18:2_22:0</th>\n",
       "      <th>TG 18:1_18:2_24:0</th>\n",
       "      <th>TG 18:2_18:2_18:2</th>\n",
       "      <th>TG 18:2_18:2_20:0</th>\n",
       "      <th>TG 18:2_18:2_22:0</th>\n",
       "      <th>TG O-18:1_16:0_18:1</th>\n",
       "    </tr>\n",
       "  </thead>\n",
       "  <tbody>\n",
       "    <tr>\n",
       "      <th>150522_QC 2_POS_RD3_1_4915</th>\n",
       "      <td>0.330046</td>\n",
       "      <td>0.280519</td>\n",
       "      <td>2.540679</td>\n",
       "      <td>10.640863</td>\n",
       "      <td>0.560636</td>\n",
       "      <td>2.403751</td>\n",
       "      <td>0.157257</td>\n",
       "      <td>0.009157</td>\n",
       "      <td>0.049669</td>\n",
       "      <td>0.045704</td>\n",
       "      <td>...</td>\n",
       "      <td>0.048419</td>\n",
       "      <td>0.216057</td>\n",
       "      <td>0.374602</td>\n",
       "      <td>0.128683</td>\n",
       "      <td>0.006091</td>\n",
       "      <td>0.00187</td>\n",
       "      <td>0.11348</td>\n",
       "      <td>0.081128</td>\n",
       "      <td>0.0079</td>\n",
       "      <td>0.005323</td>\n",
       "    </tr>\n",
       "    <tr>\n",
       "      <th>150522_QC 2_POS_RD3_1_4916</th>\n",
       "      <td>NaN</td>\n",
       "      <td>0.451638</td>\n",
       "      <td>NaN</td>\n",
       "      <td>12.096138</td>\n",
       "      <td>0.600185</td>\n",
       "      <td>3.066643</td>\n",
       "      <td>0.16019</td>\n",
       "      <td>0.011156</td>\n",
       "      <td>0.052369</td>\n",
       "      <td>0.053336</td>\n",
       "      <td>...</td>\n",
       "      <td>0.048786</td>\n",
       "      <td>0.238226</td>\n",
       "      <td>0.371836</td>\n",
       "      <td>0.143209</td>\n",
       "      <td>0.006248</td>\n",
       "      <td>0.002391</td>\n",
       "      <td>0.113523</td>\n",
       "      <td>0.088165</td>\n",
       "      <td>0.007748</td>\n",
       "      <td>NaN</td>\n",
       "    </tr>\n",
       "    <tr>\n",
       "      <th>150522_QC_POS_BA2_1_4678</th>\n",
       "      <td>0.217226</td>\n",
       "      <td>0.660418</td>\n",
       "      <td>2.188865</td>\n",
       "      <td>19.737975</td>\n",
       "      <td>0.902996</td>\n",
       "      <td>5.096119</td>\n",
       "      <td>0.375479</td>\n",
       "      <td>0.008749</td>\n",
       "      <td>0.04877</td>\n",
       "      <td>0.041709</td>\n",
       "      <td>...</td>\n",
       "      <td>NaN</td>\n",
       "      <td>0.194203</td>\n",
       "      <td>0.425828</td>\n",
       "      <td>0.150387</td>\n",
       "      <td>0.00583</td>\n",
       "      <td>0.001822</td>\n",
       "      <td>0.129144</td>\n",
       "      <td>0.077688</td>\n",
       "      <td>0.004856</td>\n",
       "      <td>0.006641</td>\n",
       "    </tr>\n",
       "    <tr>\n",
       "      <th>150522_QC_POS_BA2_1_4679</th>\n",
       "      <td>0.24431</td>\n",
       "      <td>0.395862</td>\n",
       "      <td>2.374355</td>\n",
       "      <td>10.277491</td>\n",
       "      <td>0.48138</td>\n",
       "      <td>2.38088</td>\n",
       "      <td>0.174221</td>\n",
       "      <td>0.007789</td>\n",
       "      <td>0.043779</td>\n",
       "      <td>0.041169</td>\n",
       "      <td>...</td>\n",
       "      <td>0.052236</td>\n",
       "      <td>0.202469</td>\n",
       "      <td>0.413477</td>\n",
       "      <td>0.141975</td>\n",
       "      <td>0.006259</td>\n",
       "      <td>0.002188</td>\n",
       "      <td>0.123501</td>\n",
       "      <td>0.063008</td>\n",
       "      <td>0.005009</td>\n",
       "      <td>0.00864</td>\n",
       "    </tr>\n",
       "    <tr>\n",
       "      <th>150522_QC_POS_BA2_1_4680</th>\n",
       "      <td>0.259228</td>\n",
       "      <td>0.343388</td>\n",
       "      <td>2.191119</td>\n",
       "      <td>9.896434</td>\n",
       "      <td>0.421994</td>\n",
       "      <td>2.144002</td>\n",
       "      <td>0.084034</td>\n",
       "      <td>0.006702</td>\n",
       "      <td>0.038995</td>\n",
       "      <td>0.038542</td>\n",
       "      <td>...</td>\n",
       "      <td>0.051265</td>\n",
       "      <td>0.206049</td>\n",
       "      <td>0.424743</td>\n",
       "      <td>0.146191</td>\n",
       "      <td>0.006052</td>\n",
       "      <td>0.00197</td>\n",
       "      <td>0.12741</td>\n",
       "      <td>0.100133</td>\n",
       "      <td>0.004539</td>\n",
       "      <td>0.00772</td>\n",
       "    </tr>\n",
       "    <tr>\n",
       "      <th>...</th>\n",
       "      <td>...</td>\n",
       "      <td>...</td>\n",
       "      <td>...</td>\n",
       "      <td>...</td>\n",
       "      <td>...</td>\n",
       "      <td>...</td>\n",
       "      <td>...</td>\n",
       "      <td>...</td>\n",
       "      <td>...</td>\n",
       "      <td>...</td>\n",
       "      <td>...</td>\n",
       "      <td>...</td>\n",
       "      <td>...</td>\n",
       "      <td>...</td>\n",
       "      <td>...</td>\n",
       "      <td>...</td>\n",
       "      <td>...</td>\n",
       "      <td>...</td>\n",
       "      <td>...</td>\n",
       "      <td>...</td>\n",
       "      <td>...</td>\n",
       "    </tr>\n",
       "    <tr>\n",
       "      <th>HC 19_M</th>\n",
       "      <td>0.321473</td>\n",
       "      <td>0.369594</td>\n",
       "      <td>2.94805</td>\n",
       "      <td>24.193067</td>\n",
       "      <td>0.864314</td>\n",
       "      <td>5.183349</td>\n",
       "      <td>0.565892</td>\n",
       "      <td>0.023624</td>\n",
       "      <td>0.112769</td>\n",
       "      <td>0.097707</td>\n",
       "      <td>...</td>\n",
       "      <td>0.030067</td>\n",
       "      <td>0.232738</td>\n",
       "      <td>0.719923</td>\n",
       "      <td>0.154853</td>\n",
       "      <td>0.005753</td>\n",
       "      <td>0.00163</td>\n",
       "      <td>0.175301</td>\n",
       "      <td>0.055449</td>\n",
       "      <td>0.006507</td>\n",
       "      <td>0.007088</td>\n",
       "    </tr>\n",
       "    <tr>\n",
       "      <th>HC 21_M</th>\n",
       "      <td>0.261614</td>\n",
       "      <td>0.480679</td>\n",
       "      <td>2.599515</td>\n",
       "      <td>10.807497</td>\n",
       "      <td>0.660797</td>\n",
       "      <td>1.732404</td>\n",
       "      <td>0.084998</td>\n",
       "      <td>0.012143</td>\n",
       "      <td>0.041101</td>\n",
       "      <td>0.036411</td>\n",
       "      <td>...</td>\n",
       "      <td>0.050221</td>\n",
       "      <td>0.155939</td>\n",
       "      <td>0.292474</td>\n",
       "      <td>0.079288</td>\n",
       "      <td>0.007948</td>\n",
       "      <td>0.001621</td>\n",
       "      <td>0.080277</td>\n",
       "      <td>0.083346</td>\n",
       "      <td>0.004616</td>\n",
       "      <td>0.007494</td>\n",
       "    </tr>\n",
       "    <tr>\n",
       "      <th>HC 22_M</th>\n",
       "      <td>0.312295</td>\n",
       "      <td>0.505954</td>\n",
       "      <td>4.053028</td>\n",
       "      <td>17.093651</td>\n",
       "      <td>0.837622</td>\n",
       "      <td>3.822791</td>\n",
       "      <td>0.515278</td>\n",
       "      <td>0.013383</td>\n",
       "      <td>0.064994</td>\n",
       "      <td>0.068863</td>\n",
       "      <td>...</td>\n",
       "      <td>0.03194</td>\n",
       "      <td>0.171667</td>\n",
       "      <td>0.266106</td>\n",
       "      <td>0.175584</td>\n",
       "      <td>0.003274</td>\n",
       "      <td>0.001061</td>\n",
       "      <td>0.042257</td>\n",
       "      <td>0.049565</td>\n",
       "      <td>0.00582</td>\n",
       "      <td>0.003099</td>\n",
       "    </tr>\n",
       "    <tr>\n",
       "      <th>HC 20_M</th>\n",
       "      <td>0.317264</td>\n",
       "      <td>0.396458</td>\n",
       "      <td>2.96421</td>\n",
       "      <td>11.487462</td>\n",
       "      <td>0.614516</td>\n",
       "      <td>2.62753</td>\n",
       "      <td>0.117277</td>\n",
       "      <td>0.009959</td>\n",
       "      <td>0.057988</td>\n",
       "      <td>0.054172</td>\n",
       "      <td>...</td>\n",
       "      <td>0.036462</td>\n",
       "      <td>0.269189</td>\n",
       "      <td>0.609648</td>\n",
       "      <td>0.154819</td>\n",
       "      <td>0.00536</td>\n",
       "      <td>0.00192</td>\n",
       "      <td>0.17339</td>\n",
       "      <td>0.09585</td>\n",
       "      <td>0.004326</td>\n",
       "      <td>0.002696</td>\n",
       "    </tr>\n",
       "    <tr>\n",
       "      <th>HC 23_M</th>\n",
       "      <td>0.323352</td>\n",
       "      <td>0.297391</td>\n",
       "      <td>2.741365</td>\n",
       "      <td>13.345181</td>\n",
       "      <td>0.644761</td>\n",
       "      <td>3.709066</td>\n",
       "      <td>0.58215</td>\n",
       "      <td>0.015872</td>\n",
       "      <td>0.071321</td>\n",
       "      <td>0.085209</td>\n",
       "      <td>...</td>\n",
       "      <td>0.074729</td>\n",
       "      <td>0.443789</td>\n",
       "      <td>0.949301</td>\n",
       "      <td>0.291876</td>\n",
       "      <td>0.01041</td>\n",
       "      <td>0.002837</td>\n",
       "      <td>0.10714</td>\n",
       "      <td>0.118712</td>\n",
       "      <td>0.006411</td>\n",
       "      <td>0.027753</td>\n",
       "    </tr>\n",
       "  </tbody>\n",
       "</table>\n",
       "<p>109 rows × 226 columns</p>\n",
       "</div>"
      ],
      "text/plain": [
       "                             CE 16:0   CE 16:1   CE 18:1    CE 18:2   CE 20:3  \\\n",
       "150522_QC 2_POS_RD3_1_4915  0.330046  0.280519  2.540679  10.640863  0.560636   \n",
       "150522_QC 2_POS_RD3_1_4916       NaN  0.451638       NaN  12.096138  0.600185   \n",
       "150522_QC_POS_BA2_1_4678    0.217226  0.660418  2.188865  19.737975  0.902996   \n",
       "150522_QC_POS_BA2_1_4679     0.24431  0.395862  2.374355  10.277491   0.48138   \n",
       "150522_QC_POS_BA2_1_4680    0.259228  0.343388  2.191119   9.896434  0.421994   \n",
       "...                              ...       ...       ...        ...       ...   \n",
       "HC 19_M                     0.321473  0.369594   2.94805  24.193067  0.864314   \n",
       "HC 21_M                     0.261614  0.480679  2.599515  10.807497  0.660797   \n",
       "HC 22_M                     0.312295  0.505954  4.053028  17.093651  0.837622   \n",
       "HC 20_M                     0.317264  0.396458   2.96421  11.487462  0.614516   \n",
       "HC 23_M                     0.323352  0.297391  2.741365  13.345181  0.644761   \n",
       "\n",
       "                             CE 20:4   CE 20:5 Cer 16:1;2O/22:0  \\\n",
       "150522_QC 2_POS_RD3_1_4915  2.403751  0.157257         0.009157   \n",
       "150522_QC 2_POS_RD3_1_4916  3.066643   0.16019         0.011156   \n",
       "150522_QC_POS_BA2_1_4678    5.096119  0.375479         0.008749   \n",
       "150522_QC_POS_BA2_1_4679     2.38088  0.174221         0.007789   \n",
       "150522_QC_POS_BA2_1_4680    2.144002  0.084034         0.006702   \n",
       "...                              ...       ...              ...   \n",
       "HC 19_M                     5.183349  0.565892         0.023624   \n",
       "HC 21_M                     1.732404  0.084998         0.012143   \n",
       "HC 22_M                     3.822791  0.515278         0.013383   \n",
       "HC 20_M                      2.62753  0.117277         0.009959   \n",
       "HC 23_M                     3.709066   0.58215         0.015872   \n",
       "\n",
       "                           Cer 18:1;2O/22:0 Cer 18:1;2O/23:0  ...  \\\n",
       "150522_QC 2_POS_RD3_1_4915         0.049669         0.045704  ...   \n",
       "150522_QC 2_POS_RD3_1_4916         0.052369         0.053336  ...   \n",
       "150522_QC_POS_BA2_1_4678            0.04877         0.041709  ...   \n",
       "150522_QC_POS_BA2_1_4679           0.043779         0.041169  ...   \n",
       "150522_QC_POS_BA2_1_4680           0.038995         0.038542  ...   \n",
       "...                                     ...              ...  ...   \n",
       "HC 19_M                            0.112769         0.097707  ...   \n",
       "HC 21_M                            0.041101         0.036411  ...   \n",
       "HC 22_M                            0.064994         0.068863  ...   \n",
       "HC 20_M                            0.057988         0.054172  ...   \n",
       "HC 23_M                            0.071321         0.085209  ...   \n",
       "\n",
       "                           TG 18:1_18:1_20:1 TG 18:1_18:1_20:4  \\\n",
       "150522_QC 2_POS_RD3_1_4915          0.048419          0.216057   \n",
       "150522_QC 2_POS_RD3_1_4916          0.048786          0.238226   \n",
       "150522_QC_POS_BA2_1_4678                 NaN          0.194203   \n",
       "150522_QC_POS_BA2_1_4679            0.052236          0.202469   \n",
       "150522_QC_POS_BA2_1_4680            0.051265          0.206049   \n",
       "...                                      ...               ...   \n",
       "HC 19_M                             0.030067          0.232738   \n",
       "HC 21_M                             0.050221          0.155939   \n",
       "HC 22_M                              0.03194          0.171667   \n",
       "HC 20_M                             0.036462          0.269189   \n",
       "HC 23_M                             0.074729          0.443789   \n",
       "\n",
       "                           TG 18:1_18:2_18:2 TG 18:1_18:2_20:4  \\\n",
       "150522_QC 2_POS_RD3_1_4915          0.374602          0.128683   \n",
       "150522_QC 2_POS_RD3_1_4916          0.371836          0.143209   \n",
       "150522_QC_POS_BA2_1_4678            0.425828          0.150387   \n",
       "150522_QC_POS_BA2_1_4679            0.413477          0.141975   \n",
       "150522_QC_POS_BA2_1_4680            0.424743          0.146191   \n",
       "...                                      ...               ...   \n",
       "HC 19_M                             0.719923          0.154853   \n",
       "HC 21_M                             0.292474          0.079288   \n",
       "HC 22_M                             0.266106          0.175584   \n",
       "HC 20_M                             0.609648          0.154819   \n",
       "HC 23_M                             0.949301          0.291876   \n",
       "\n",
       "                           TG 18:1_18:2_22:0 TG 18:1_18:2_24:0  \\\n",
       "150522_QC 2_POS_RD3_1_4915          0.006091           0.00187   \n",
       "150522_QC 2_POS_RD3_1_4916          0.006248          0.002391   \n",
       "150522_QC_POS_BA2_1_4678             0.00583          0.001822   \n",
       "150522_QC_POS_BA2_1_4679            0.006259          0.002188   \n",
       "150522_QC_POS_BA2_1_4680            0.006052           0.00197   \n",
       "...                                      ...               ...   \n",
       "HC 19_M                             0.005753           0.00163   \n",
       "HC 21_M                             0.007948          0.001621   \n",
       "HC 22_M                             0.003274          0.001061   \n",
       "HC 20_M                              0.00536           0.00192   \n",
       "HC 23_M                              0.01041          0.002837   \n",
       "\n",
       "                           TG 18:2_18:2_18:2 TG 18:2_18:2_20:0  \\\n",
       "150522_QC 2_POS_RD3_1_4915           0.11348          0.081128   \n",
       "150522_QC 2_POS_RD3_1_4916          0.113523          0.088165   \n",
       "150522_QC_POS_BA2_1_4678            0.129144          0.077688   \n",
       "150522_QC_POS_BA2_1_4679            0.123501          0.063008   \n",
       "150522_QC_POS_BA2_1_4680             0.12741          0.100133   \n",
       "...                                      ...               ...   \n",
       "HC 19_M                             0.175301          0.055449   \n",
       "HC 21_M                             0.080277          0.083346   \n",
       "HC 22_M                             0.042257          0.049565   \n",
       "HC 20_M                              0.17339           0.09585   \n",
       "HC 23_M                              0.10714          0.118712   \n",
       "\n",
       "                           TG 18:2_18:2_22:0 TG O-18:1_16:0_18:1  \n",
       "150522_QC 2_POS_RD3_1_4915            0.0079            0.005323  \n",
       "150522_QC 2_POS_RD3_1_4916          0.007748                 NaN  \n",
       "150522_QC_POS_BA2_1_4678            0.004856            0.006641  \n",
       "150522_QC_POS_BA2_1_4679            0.005009             0.00864  \n",
       "150522_QC_POS_BA2_1_4680            0.004539             0.00772  \n",
       "...                                      ...                 ...  \n",
       "HC 19_M                             0.006507            0.007088  \n",
       "HC 21_M                             0.004616            0.007494  \n",
       "HC 22_M                              0.00582            0.003099  \n",
       "HC 20_M                             0.004326            0.002696  \n",
       "HC 23_M                             0.006411            0.027753  \n",
       "\n",
       "[109 rows x 226 columns]"
      ]
     },
     "execution_count": 79,
     "metadata": {},
     "output_type": "execute_result"
    }
   ],
   "source": [
    "import pandas as pd\n",
    "import numpy as np\n",
    "\n",
    "data_lipidoma_transpose = pd.read_excel(\"../DataSet PAscale/Lipidoma.xlsx\")\n",
    "\n",
    "data_lipidoma = data_lipidoma_transpose.T\n",
    "\n",
    "data_lipidoma.columns = data_lipidoma_transpose[\"Name\"]\n",
    "\n",
    "data_lipidoma = data_lipidoma.iloc[1:]\n",
    "\n",
    "data_lipidoma.columns = [\"Label\"] + list(data_lipidoma.columns[1:])\n",
    "\n",
    "df_y_lipidoma = data_lipidoma[\"Label\"].iloc[1:]\n",
    "\n",
    "df_y_qc_lipidoma = data_lipidoma[\"Label\"].iloc[1:8]\n",
    "\n",
    "mz_lipidoma = data_lipidoma.iloc[0:1,1:]\n",
    "\n",
    "df_x_lipidoma = data_lipidoma.iloc[1:,1:]\n",
    "\n",
    "df_qc_lipidoma = data_lipidoma.iloc[1:8,1:]\n",
    "\n",
    "name_samples_lipidoma = df_x_lipidoma.transpose().columns\n",
    "\n",
    "df_x_lipidoma"
   ]
  },
  {
   "cell_type": "markdown",
   "metadata": {},
   "source": [
    "Delete the features less important"
   ]
  },
  {
   "cell_type": "code",
   "execution_count": 80,
   "metadata": {},
   "outputs": [
    {
     "data": {
      "text/html": [
       "<div>\n",
       "<style scoped>\n",
       "    .dataframe tbody tr th:only-of-type {\n",
       "        vertical-align: middle;\n",
       "    }\n",
       "\n",
       "    .dataframe tbody tr th {\n",
       "        vertical-align: top;\n",
       "    }\n",
       "\n",
       "    .dataframe thead th {\n",
       "        text-align: right;\n",
       "    }\n",
       "</style>\n",
       "<table border=\"1\" class=\"dataframe\">\n",
       "  <thead>\n",
       "    <tr style=\"text-align: right;\">\n",
       "      <th></th>\n",
       "      <th>LPC 18:2_A</th>\n",
       "      <th>LPC 20:3</th>\n",
       "      <th>LPC 18:3</th>\n",
       "      <th>LPC 14:0</th>\n",
       "      <th>LPC 18:2_B</th>\n",
       "      <th>PC 16:0_20:4_B</th>\n",
       "      <th>LPC 15:0</th>\n",
       "      <th>PC O-38:5</th>\n",
       "      <th>CE 20:4</th>\n",
       "      <th>PC O-18:1_20:4</th>\n",
       "      <th>LPC 16:1</th>\n",
       "      <th>LPC 17:1</th>\n",
       "    </tr>\n",
       "  </thead>\n",
       "  <tbody>\n",
       "    <tr>\n",
       "      <th>m/z meas.</th>\n",
       "      <td>520.34014</td>\n",
       "      <td>546.355</td>\n",
       "      <td>518.32392</td>\n",
       "      <td>468.30896</td>\n",
       "      <td>564.33085</td>\n",
       "      <td>826.56065</td>\n",
       "      <td>482.32461</td>\n",
       "      <td>794.60455</td>\n",
       "      <td>690.61797</td>\n",
       "      <td>838.59605</td>\n",
       "      <td>494.32466</td>\n",
       "      <td>508.33989</td>\n",
       "    </tr>\n",
       "  </tbody>\n",
       "</table>\n",
       "</div>"
      ],
      "text/plain": [
       "          LPC 18:2_A LPC 20:3   LPC 18:3   LPC 14:0 LPC 18:2_B PC 16:0_20:4_B  \\\n",
       "m/z meas.  520.34014  546.355  518.32392  468.30896  564.33085      826.56065   \n",
       "\n",
       "            LPC 15:0  PC O-38:5    CE 20:4 PC O-18:1_20:4   LPC 16:1  \\\n",
       "m/z meas.  482.32461  794.60455  690.61797      838.59605  494.32466   \n",
       "\n",
       "            LPC 17:1  \n",
       "m/z meas.  508.33989  "
      ]
     },
     "execution_count": 80,
     "metadata": {},
     "output_type": "execute_result"
    }
   ],
   "source": [
    "most_important_features = (pd.read_excel(\"most_important_features.xlsx\")).drop(columns=\"Unnamed: 0\")\n",
    "\n",
    "df_x_lipidoma = df_x_lipidoma[most_important_features[\"Features\"]]\n",
    "\n",
    "mz_lipidoma = mz_lipidoma[most_important_features[\"Features\"]]\n",
    "mz_lipidoma"
   ]
  },
  {
   "cell_type": "code",
   "execution_count": 81,
   "metadata": {},
   "outputs": [],
   "source": [
    "# color mapping to use in plot\n",
    "color_mapping = {\n",
    "    'LC': 'red',\n",
    "    'MC': 'green',\n",
    "    'HC' : 'orange',\n",
    "    'QC' : 'purple'\n",
    "}\n",
    "\n",
    "colors = [color_mapping[label] for label in df_y_lipidoma]"
   ]
  },
  {
   "cell_type": "code",
   "execution_count": 82,
   "metadata": {},
   "outputs": [
    {
     "data": {
      "text/plain": [
       "12"
      ]
     },
     "execution_count": 82,
     "metadata": {},
     "output_type": "execute_result"
    }
   ],
   "source": [
    "num_features = len(mz_lipidoma.columns)\n",
    "num_features"
   ]
  },
  {
   "cell_type": "markdown",
   "metadata": {},
   "source": [
    "## View the data\n",
    "I made a scatter plot with M/Z on the x-axis and intensity on y-axis."
   ]
  },
  {
   "cell_type": "code",
   "execution_count": 83,
   "metadata": {},
   "outputs": [
    {
     "data": {
      "image/png": "[encoded data removed]",
      "text/plain": [
       "<Figure size 640x480 with 1 Axes>"
      ]
     },
     "metadata": {},
     "output_type": "display_data"
    },
    {
     "name": "stdout",
     "output_type": "stream",
     "text": [
      "HC 04_M    2.20783\n",
      "dtype: object\n"
     ]
    }
   ],
   "source": [
    "import matplotlib.pyplot as plt\n",
    "\n",
    "plt.scatter(mz_lipidoma, df_x_lipidoma.iloc[89:90])\n",
    "plt.xlabel(\"M/Z\")\n",
    "plt.ylabel(\"Intensity\")\n",
    "plt.title(\"Samlple HC 04_M\")\n",
    "plt.show()\n",
    "# axis=1 sono le righe; axis=0 sono le colonne\n",
    "print(df_x_lipidoma[89:90].max(axis=1))\n"
   ]
  },
  {
   "cell_type": "code",
   "execution_count": 84,
   "metadata": {},
   "outputs": [
    {
     "name": "stdout",
     "output_type": "stream",
     "text": [
      "LPC 18:2_A        0\n",
      "LPC 20:3          0\n",
      "LPC 18:3          0\n",
      "LPC 14:0          0\n",
      "LPC 18:2_B        0\n",
      "PC 16:0_20:4_B    0\n",
      "LPC 15:0          0\n",
      "PC O-38:5         0\n",
      "CE 20:4           0\n",
      "PC O-18:1_20:4    0\n",
      "LPC 16:1          0\n",
      "LPC 17:1          0\n",
      "dtype: int64\n"
     ]
    }
   ],
   "source": [
    "df_x_lipidoma_original = df_x_lipidoma.copy()\n",
    "for column in df_x_lipidoma.columns:\n",
    "    df_x_lipidoma.loc[:,column] = df_x_lipidoma[column].fillna((np.nanmin(df_x_lipidoma[column]))/5)\n",
    "print(df_x_lipidoma.isna().sum().sort_values(ascending=False))"
   ]
  },
  {
   "cell_type": "code",
   "execution_count": 85,
   "metadata": {},
   "outputs": [
    {
     "data": {
      "image/png": "[encoded data removed]",
      "text/plain": [
       "<Figure size 640x480 with 1 Axes>"
      ]
     },
     "metadata": {},
     "output_type": "display_data"
    }
   ],
   "source": [
    "from sklearn.decomposition import PCA\n",
    "pca_view = PCA(n_components=2)\n",
    "\n",
    "scores_view = pca_view.fit_transform(df_x_lipidoma,df_y_lipidoma)\n",
    "\n",
    "\n",
    "plt.scatter(scores_view[:, 0], scores_view[:, 1], c=colors)\n",
    "plt.xlabel('x')\n",
    "plt.ylabel('y')\n",
    "plt.legend(handles=[\n",
    "    plt.Line2D([0], [0], marker='o', color='w', label='LC', markerfacecolor='red', markersize=10),\n",
    "    plt.Line2D([0], [0], marker='o', color='w', label='MC', markerfacecolor='green', markersize=10),\n",
    "    plt.Line2D([0], [0], marker='o', color='w', label='HC', markerfacecolor='orange', markersize=10),\n",
    "    plt.Line2D([0], [0], marker='o', color='w', label='QC', markerfacecolor='purple', markersize=10),\n",
    "], title='Legend')\n",
    "plt.title('PCA View')\n",
    "plt.show()"
   ]
  },
  {
   "cell_type": "markdown",
   "metadata": {},
   "source": [
    "LDA"
   ]
  },
  {
   "cell_type": "code",
   "execution_count": 86,
   "metadata": {},
   "outputs": [
    {
     "data": {
      "image/png": "[encoded data removed]",
      "text/plain": [
       "<Figure size 640x480 with 1 Axes>"
      ]
     },
     "metadata": {},
     "output_type": "display_data"
    }
   ],
   "source": [
    "from sklearn.discriminant_analysis import LinearDiscriminantAnalysis as LDA\n",
    "\n",
    "lda_fit_tic = LDA(n_components=2)\n",
    "lda_scores = lda_fit_tic.fit_transform(df_x_lipidoma,df_y_lipidoma)\n",
    "\n",
    "plt.scatter(lda_scores[:, 0], lda_scores[:, 1], c=colors)\n",
    "plt.xlabel('x')\n",
    "plt.ylabel('y')\n",
    "plt.legend(handles=[\n",
    "    plt.Line2D([0], [0], marker='o', color='w', label='LC', markerfacecolor='red', markersize=10),\n",
    "    plt.Line2D([0], [0], marker='o', color='w', label='MC', markerfacecolor='green', markersize=10),\n",
    "    plt.Line2D([0], [0], marker='o', color='w', label='HC', markerfacecolor='orange', markersize=10),\n",
    "    plt.Line2D([0], [0], marker='o', color='w', label='QC', markerfacecolor='purple', markersize=10),\n",
    "], title='Legend')\n",
    "plt.title('LDA View')\n",
    "plt.show()"
   ]
  },
  {
   "cell_type": "markdown",
   "metadata": {},
   "source": [
    "## Drop Outlier"
   ]
  },
  {
   "cell_type": "code",
   "execution_count": 87,
   "metadata": {},
   "outputs": [],
   "source": [
    "drop = []"
   ]
  },
  {
   "cell_type": "markdown",
   "metadata": {},
   "source": [
    "LC"
   ]
  },
  {
   "cell_type": "code",
   "execution_count": 88,
   "metadata": {},
   "outputs": [
    {
     "data": {
      "text/html": [
       "<div>\n",
       "<style scoped>\n",
       "    .dataframe tbody tr th:only-of-type {\n",
       "        vertical-align: middle;\n",
       "    }\n",
       "\n",
       "    .dataframe tbody tr th {\n",
       "        vertical-align: top;\n",
       "    }\n",
       "\n",
       "    .dataframe thead th {\n",
       "        text-align: right;\n",
       "    }\n",
       "</style>\n",
       "<table border=\"1\" class=\"dataframe\">\n",
       "  <thead>\n",
       "    <tr style=\"text-align: right;\">\n",
       "      <th></th>\n",
       "      <th>Sample</th>\n",
       "      <th>outlier</th>\n",
       "    </tr>\n",
       "  </thead>\n",
       "  <tbody>\n",
       "    <tr>\n",
       "      <th>51</th>\n",
       "      <td>LC 399_M</td>\n",
       "      <td>4.161864</td>\n",
       "    </tr>\n",
       "    <tr>\n",
       "      <th>39</th>\n",
       "      <td>LC 374_M</td>\n",
       "      <td>3.843582</td>\n",
       "    </tr>\n",
       "    <tr>\n",
       "      <th>13</th>\n",
       "      <td>LC307_M</td>\n",
       "      <td>2.726220</td>\n",
       "    </tr>\n",
       "    <tr>\n",
       "      <th>0</th>\n",
       "      <td>LC 203_M</td>\n",
       "      <td>2.563882</td>\n",
       "    </tr>\n",
       "    <tr>\n",
       "      <th>21</th>\n",
       "      <td>LC 327_M</td>\n",
       "      <td>2.329778</td>\n",
       "    </tr>\n",
       "    <tr>\n",
       "      <th>...</th>\n",
       "      <td>...</td>\n",
       "      <td>...</td>\n",
       "    </tr>\n",
       "    <tr>\n",
       "      <th>29</th>\n",
       "      <td>LC 351_M</td>\n",
       "      <td>0.388400</td>\n",
       "    </tr>\n",
       "    <tr>\n",
       "      <th>12</th>\n",
       "      <td>LC 306_M</td>\n",
       "      <td>0.349030</td>\n",
       "    </tr>\n",
       "    <tr>\n",
       "      <th>30</th>\n",
       "      <td>LC 354_M</td>\n",
       "      <td>0.343543</td>\n",
       "    </tr>\n",
       "    <tr>\n",
       "      <th>35</th>\n",
       "      <td>LC 366_M</td>\n",
       "      <td>0.330441</td>\n",
       "    </tr>\n",
       "    <tr>\n",
       "      <th>5</th>\n",
       "      <td>LC 242_M</td>\n",
       "      <td>0.250051</td>\n",
       "    </tr>\n",
       "  </tbody>\n",
       "</table>\n",
       "<p>69 rows × 2 columns</p>\n",
       "</div>"
      ],
      "text/plain": [
       "      Sample   outlier\n",
       "51  LC 399_M  4.161864\n",
       "39  LC 374_M  3.843582\n",
       "13   LC307_M  2.726220\n",
       "0   LC 203_M  2.563882\n",
       "21  LC 327_M  2.329778\n",
       "..       ...       ...\n",
       "29  LC 351_M  0.388400\n",
       "12  LC 306_M  0.349030\n",
       "30  LC 354_M  0.343543\n",
       "35  LC 366_M  0.330441\n",
       "5   LC 242_M  0.250051\n",
       "\n",
       "[69 rows x 2 columns]"
      ]
     },
     "execution_count": 88,
     "metadata": {},
     "output_type": "execute_result"
    }
   ],
   "source": [
    "## codice prova con la distanza di mahalonobis\n",
    "lc = scores_view[7:76,:]\n",
    "lc\n",
    "mean_lc = np.mean(lc,axis=0)\n",
    "cov_matrix = np.cov(lc,rowvar=False)\n",
    "\n",
    "mahalanobis_distance_lc = []\n",
    "\n",
    "for point in lc:\n",
    "    diff = point - mean_lc\n",
    "    distance = np.sqrt(np.dot(np.dot(diff, np.linalg.inv(cov_matrix)), diff))\n",
    "    mahalanobis_distance_lc.append(distance)\n",
    "    \n",
    "# print(mahalanobis_distance_lc)\n",
    "\n",
    "outlier_lc = pd.DataFrame({\"Sample\":df_x_lipidoma.index[7:76],\"outlier\":mahalanobis_distance_lc}).sort_values(by=\"outlier\",ascending=False)\n",
    "outlier_lc"
   ]
  },
  {
   "cell_type": "code",
   "execution_count": 89,
   "metadata": {},
   "outputs": [
    {
     "data": {
      "text/plain": [
       "5.991464547107979"
      ]
     },
     "execution_count": 89,
     "metadata": {},
     "output_type": "execute_result"
    }
   ],
   "source": [
    "from scipy.stats import chi2\n",
    "\n",
    "alpha = 0.05\n",
    "threshold_distance_mahalanobis = chi2.ppf(1 - alpha, df = 2)\n",
    "threshold_distance_mahalanobis"
   ]
  },
  {
   "cell_type": "code",
   "execution_count": 90,
   "metadata": {},
   "outputs": [
    {
     "data": {
      "text/plain": [
       "[]"
      ]
     },
     "execution_count": 90,
     "metadata": {},
     "output_type": "execute_result"
    }
   ],
   "source": [
    "mean_out_lc = outlier_lc[\"outlier\"].mean(axis=0)\n",
    "temp = []\n",
    "for sample,elem in outlier_lc.values:\n",
    "    if elem > threshold_distance_mahalanobis:\n",
    "        drop.append(sample)\n",
    "        temp.append(sample)\n",
    "\n",
    "outlier_lc = outlier_lc.drop(outlier_lc[outlier_lc[\"Sample\"].isin(temp)].index)\n",
    "\n",
    "drop"
   ]
  },
  {
   "cell_type": "markdown",
   "metadata": {},
   "source": [
    "MC"
   ]
  },
  {
   "cell_type": "code",
   "execution_count": 91,
   "metadata": {},
   "outputs": [
    {
     "data": {
      "text/html": [
       "<div>\n",
       "<style scoped>\n",
       "    .dataframe tbody tr th:only-of-type {\n",
       "        vertical-align: middle;\n",
       "    }\n",
       "\n",
       "    .dataframe tbody tr th {\n",
       "        vertical-align: top;\n",
       "    }\n",
       "\n",
       "    .dataframe thead th {\n",
       "        text-align: right;\n",
       "    }\n",
       "</style>\n",
       "<table border=\"1\" class=\"dataframe\">\n",
       "  <thead>\n",
       "    <tr style=\"text-align: right;\">\n",
       "      <th></th>\n",
       "      <th>Sample</th>\n",
       "      <th>outlier</th>\n",
       "    </tr>\n",
       "  </thead>\n",
       "  <tbody>\n",
       "    <tr>\n",
       "      <th>2</th>\n",
       "      <td>MC 09_M</td>\n",
       "      <td>2.533417</td>\n",
       "    </tr>\n",
       "    <tr>\n",
       "      <th>0</th>\n",
       "      <td>MC 04_M</td>\n",
       "      <td>2.034142</td>\n",
       "    </tr>\n",
       "    <tr>\n",
       "      <th>5</th>\n",
       "      <td>MC 13_M</td>\n",
       "      <td>1.401957</td>\n",
       "    </tr>\n",
       "    <tr>\n",
       "      <th>1</th>\n",
       "      <td>MC 05_M</td>\n",
       "      <td>1.196185</td>\n",
       "    </tr>\n",
       "    <tr>\n",
       "      <th>4</th>\n",
       "      <td>MC 11_M</td>\n",
       "      <td>1.077960</td>\n",
       "    </tr>\n",
       "    <tr>\n",
       "      <th>6</th>\n",
       "      <td>MC 14_M</td>\n",
       "      <td>1.067216</td>\n",
       "    </tr>\n",
       "    <tr>\n",
       "      <th>9</th>\n",
       "      <td>MC 18_M</td>\n",
       "      <td>0.939385</td>\n",
       "    </tr>\n",
       "    <tr>\n",
       "      <th>8</th>\n",
       "      <td>MC 17_M</td>\n",
       "      <td>0.548440</td>\n",
       "    </tr>\n",
       "    <tr>\n",
       "      <th>3</th>\n",
       "      <td>MC 10_M</td>\n",
       "      <td>0.540071</td>\n",
       "    </tr>\n",
       "    <tr>\n",
       "      <th>7</th>\n",
       "      <td>MC 15_M</td>\n",
       "      <td>0.521407</td>\n",
       "    </tr>\n",
       "  </tbody>\n",
       "</table>\n",
       "</div>"
      ],
      "text/plain": [
       "    Sample   outlier\n",
       "2  MC 09_M  2.533417\n",
       "0  MC 04_M  2.034142\n",
       "5  MC 13_M  1.401957\n",
       "1  MC 05_M  1.196185\n",
       "4  MC 11_M  1.077960\n",
       "6  MC 14_M  1.067216\n",
       "9  MC 18_M  0.939385\n",
       "8  MC 17_M  0.548440\n",
       "3  MC 10_M  0.540071\n",
       "7  MC 15_M  0.521407"
      ]
     },
     "execution_count": 91,
     "metadata": {},
     "output_type": "execute_result"
    }
   ],
   "source": [
    "mc = scores_view[76:86,:]\n",
    "\n",
    "mean_mc = np.mean(mc,axis=0)\n",
    "cov_matrix = np.cov(mc,rowvar=False)\n",
    "\n",
    "mahalanobis_distance_mc = []\n",
    "\n",
    "for point in mc:\n",
    "    diff = point - mean_mc\n",
    "    distance = np.sqrt(np.dot(np.dot(diff, np.linalg.inv(cov_matrix)), diff))\n",
    "    mahalanobis_distance_mc.append(distance)\n",
    "\n",
    "outlier_mc = pd.DataFrame({\"Sample\":df_x_lipidoma.index[76:86],\"outlier\":mahalanobis_distance_mc}).sort_values(by=\"outlier\",ascending=False)\n",
    "outlier_mc"
   ]
  },
  {
   "cell_type": "code",
   "execution_count": 92,
   "metadata": {},
   "outputs": [
    {
     "data": {
      "text/plain": [
       "[]"
      ]
     },
     "execution_count": 92,
     "metadata": {},
     "output_type": "execute_result"
    }
   ],
   "source": [
    "mean_out_mc = outlier_mc[\"outlier\"].mean(axis=0)\n",
    "temp = []\n",
    "for sample,elem in outlier_mc.values:\n",
    "    if elem > threshold_distance_mahalanobis:\n",
    "        drop.append(sample)\n",
    "        temp.append(sample)\n",
    "        \n",
    "outlier_mc = outlier_mc.drop(outlier_mc[outlier_mc[\"Sample\"].isin(temp)].index)\n",
    "\n",
    "drop"
   ]
  },
  {
   "cell_type": "markdown",
   "metadata": {},
   "source": [
    "HC"
   ]
  },
  {
   "cell_type": "code",
   "execution_count": 93,
   "metadata": {},
   "outputs": [
    {
     "data": {
      "text/html": [
       "<div>\n",
       "<style scoped>\n",
       "    .dataframe tbody tr th:only-of-type {\n",
       "        vertical-align: middle;\n",
       "    }\n",
       "\n",
       "    .dataframe tbody tr th {\n",
       "        vertical-align: top;\n",
       "    }\n",
       "\n",
       "    .dataframe thead th {\n",
       "        text-align: right;\n",
       "    }\n",
       "</style>\n",
       "<table border=\"1\" class=\"dataframe\">\n",
       "  <thead>\n",
       "    <tr style=\"text-align: right;\">\n",
       "      <th></th>\n",
       "      <th>Sample</th>\n",
       "      <th>outlier</th>\n",
       "    </tr>\n",
       "  </thead>\n",
       "  <tbody>\n",
       "    <tr>\n",
       "      <th>15</th>\n",
       "      <td>HC 16_M</td>\n",
       "      <td>2.508698</td>\n",
       "    </tr>\n",
       "    <tr>\n",
       "      <th>7</th>\n",
       "      <td>HC 08_M</td>\n",
       "      <td>2.080316</td>\n",
       "    </tr>\n",
       "    <tr>\n",
       "      <th>2</th>\n",
       "      <td>HC 03_M</td>\n",
       "      <td>1.746842</td>\n",
       "    </tr>\n",
       "    <tr>\n",
       "      <th>12</th>\n",
       "      <td>HC 13_M</td>\n",
       "      <td>1.738103</td>\n",
       "    </tr>\n",
       "    <tr>\n",
       "      <th>6</th>\n",
       "      <td>HC 07_M</td>\n",
       "      <td>1.670928</td>\n",
       "    </tr>\n",
       "    <tr>\n",
       "      <th>17</th>\n",
       "      <td>HC 18_M</td>\n",
       "      <td>1.650919</td>\n",
       "    </tr>\n",
       "    <tr>\n",
       "      <th>0</th>\n",
       "      <td>HC 01_M</td>\n",
       "      <td>1.537862</td>\n",
       "    </tr>\n",
       "    <tr>\n",
       "      <th>22</th>\n",
       "      <td>HC 23_M</td>\n",
       "      <td>1.453528</td>\n",
       "    </tr>\n",
       "    <tr>\n",
       "      <th>10</th>\n",
       "      <td>HC 11_M</td>\n",
       "      <td>1.371762</td>\n",
       "    </tr>\n",
       "    <tr>\n",
       "      <th>11</th>\n",
       "      <td>HC 12_M</td>\n",
       "      <td>1.348637</td>\n",
       "    </tr>\n",
       "    <tr>\n",
       "      <th>9</th>\n",
       "      <td>HC 10_M</td>\n",
       "      <td>1.348193</td>\n",
       "    </tr>\n",
       "    <tr>\n",
       "      <th>18</th>\n",
       "      <td>HC 19_M</td>\n",
       "      <td>1.309738</td>\n",
       "    </tr>\n",
       "    <tr>\n",
       "      <th>16</th>\n",
       "      <td>HC 17_M</td>\n",
       "      <td>1.257097</td>\n",
       "    </tr>\n",
       "    <tr>\n",
       "      <th>8</th>\n",
       "      <td>HC 09_M</td>\n",
       "      <td>1.118063</td>\n",
       "    </tr>\n",
       "    <tr>\n",
       "      <th>19</th>\n",
       "      <td>HC 21_M</td>\n",
       "      <td>1.079481</td>\n",
       "    </tr>\n",
       "    <tr>\n",
       "      <th>13</th>\n",
       "      <td>HC 14_M</td>\n",
       "      <td>1.076853</td>\n",
       "    </tr>\n",
       "    <tr>\n",
       "      <th>14</th>\n",
       "      <td>HC 15_M</td>\n",
       "      <td>0.996145</td>\n",
       "    </tr>\n",
       "    <tr>\n",
       "      <th>1</th>\n",
       "      <td>HC 02_M</td>\n",
       "      <td>0.933469</td>\n",
       "    </tr>\n",
       "    <tr>\n",
       "      <th>3</th>\n",
       "      <td>HC 04_M</td>\n",
       "      <td>0.924167</td>\n",
       "    </tr>\n",
       "    <tr>\n",
       "      <th>20</th>\n",
       "      <td>HC 22_M</td>\n",
       "      <td>0.851906</td>\n",
       "    </tr>\n",
       "    <tr>\n",
       "      <th>4</th>\n",
       "      <td>HC 05_M</td>\n",
       "      <td>0.822674</td>\n",
       "    </tr>\n",
       "    <tr>\n",
       "      <th>5</th>\n",
       "      <td>HC 06_M</td>\n",
       "      <td>0.730858</td>\n",
       "    </tr>\n",
       "    <tr>\n",
       "      <th>21</th>\n",
       "      <td>HC 20_M</td>\n",
       "      <td>0.517385</td>\n",
       "    </tr>\n",
       "  </tbody>\n",
       "</table>\n",
       "</div>"
      ],
      "text/plain": [
       "     Sample   outlier\n",
       "15  HC 16_M  2.508698\n",
       "7   HC 08_M  2.080316\n",
       "2   HC 03_M  1.746842\n",
       "12  HC 13_M  1.738103\n",
       "6   HC 07_M  1.670928\n",
       "17  HC 18_M  1.650919\n",
       "0   HC 01_M  1.537862\n",
       "22  HC 23_M  1.453528\n",
       "10  HC 11_M  1.371762\n",
       "11  HC 12_M  1.348637\n",
       "9   HC 10_M  1.348193\n",
       "18  HC 19_M  1.309738\n",
       "16  HC 17_M  1.257097\n",
       "8   HC 09_M  1.118063\n",
       "19  HC 21_M  1.079481\n",
       "13  HC 14_M  1.076853\n",
       "14  HC 15_M  0.996145\n",
       "1   HC 02_M  0.933469\n",
       "3   HC 04_M  0.924167\n",
       "20  HC 22_M  0.851906\n",
       "4   HC 05_M  0.822674\n",
       "5   HC 06_M  0.730858\n",
       "21  HC 20_M  0.517385"
      ]
     },
     "execution_count": 93,
     "metadata": {},
     "output_type": "execute_result"
    }
   ],
   "source": [
    "hc = scores_view[86:,:]\n",
    "\n",
    "mean_hc = np.mean(hc,axis=0)\n",
    "cov_matrix = np.cov(hc,rowvar=False)\n",
    "\n",
    "mahalanobis_distance_hc = []\n",
    "\n",
    "for point in hc:\n",
    "    diff = point - mean_hc\n",
    "    distance = np.sqrt(np.dot(np.dot(diff, np.linalg.inv(cov_matrix)), diff))\n",
    "    mahalanobis_distance_hc.append(distance)\n",
    "\n",
    "outlier_hc = pd.DataFrame({\"Sample\":df_x_lipidoma.index[86:],\"outlier\":mahalanobis_distance_hc}).sort_values(by=\"outlier\",ascending=False)\n",
    "outlier_hc"
   ]
  },
  {
   "cell_type": "code",
   "execution_count": 94,
   "metadata": {},
   "outputs": [
    {
     "data": {
      "text/plain": [
       "[]"
      ]
     },
     "execution_count": 94,
     "metadata": {},
     "output_type": "execute_result"
    }
   ],
   "source": [
    "mean_out_hc = outlier_hc[\"outlier\"].mean(axis=0)\n",
    "\n",
    "temp = []\n",
    "for sample,elem in outlier_hc.values:\n",
    "    if elem > threshold_distance_mahalanobis:\n",
    "        drop.append(sample)\n",
    "        temp.append(sample)\n",
    "\n",
    "outlier_hc = outlier_hc.drop(outlier_hc[outlier_hc[\"Sample\"].isin(temp)].index) \n",
    "drop"
   ]
  },
  {
   "cell_type": "code",
   "execution_count": 95,
   "metadata": {},
   "outputs": [
    {
     "data": {
      "image/png": "[encoded data removed]",
      "text/plain": [
       "<Figure size 640x480 with 1 Axes>"
      ]
     },
     "metadata": {},
     "output_type": "display_data"
    }
   ],
   "source": [
    "df_score_view = pd.DataFrame({\"Sample\":df_x_lipidoma.index,\"Score View X\":scores_view[:,0], \"Score View Y\":scores_view[:,1]})\n",
    "\n",
    "index_drop = df_score_view[df_score_view[\"Sample\"].isin(drop)].index\n",
    "colors_after_drop = np.delete(colors,index_drop)\n",
    "df_score_view = df_score_view.drop(index_drop)\n",
    "df_score_view\n",
    "\n",
    "plt.scatter(df_score_view[\"Score View X\"], df_score_view[\"Score View Y\"], c=colors_after_drop)\n",
    "plt.xlabel('x')\n",
    "plt.ylabel('y')\n",
    "plt.legend(handles=[\n",
    "    plt.Line2D([0], [0], marker='o', color='w', label='LC', markerfacecolor='red', markersize=10),\n",
    "    plt.Line2D([0], [0], marker='o', color='w', label='MC', markerfacecolor='green', markersize=10),\n",
    "    plt.Line2D([0], [0], marker='o', color='w', label='HC', markerfacecolor='orange', markersize=10),\n",
    "    plt.Line2D([0], [0], marker='o', color='w', label='QC', markerfacecolor='purple', markersize=10),\n",
    "], title='Legend')\n",
    "plt.title('PCA View')\n",
    "plt.show()"
   ]
  },
  {
   "cell_type": "markdown",
   "metadata": {},
   "source": [
    "## Split Train and Test"
   ]
  },
  {
   "cell_type": "code",
   "execution_count": 96,
   "metadata": {},
   "outputs": [
    {
     "name": "stdout",
     "output_type": "stream",
     "text": [
      "Label\n",
      "LC    69\n",
      "HC    23\n",
      "MC    10\n",
      "Name: count, dtype: int64\n",
      "Label\n",
      "LC    69\n",
      "HC    23\n",
      "MC    10\n",
      "Name: count, dtype: int64\n"
     ]
    },
    {
     "data": {
      "image/png": "[encoded data removed]",
      "text/plain": [
       "<Figure size 640x480 with 1 Axes>"
      ]
     },
     "metadata": {},
     "output_type": "display_data"
    }
   ],
   "source": [
    "df_x_lipidoma_noqc = df_x_lipidoma.iloc[7:]\n",
    "df_y_lipidoma_noqc = df_y_lipidoma.iloc[7:]\n",
    "\n",
    "print(df_y_lipidoma_noqc.value_counts())\n",
    "\n",
    "df_score_view_noqc = df_score_view.drop([0,1,2,3,4,5,6])\n",
    "\n",
    "x = df_x_lipidoma_noqc.copy()\n",
    "y = df_y_lipidoma_noqc.copy()\n",
    "\n",
    "x = x.drop(drop)\n",
    "y = y.drop(drop)\n",
    "print(y.value_counts())\n",
    "plt.plot(y.value_counts())\n",
    "plt.show()"
   ]
  },
  {
   "cell_type": "markdown",
   "metadata": {},
   "source": [
    "Split"
   ]
  },
  {
   "cell_type": "code",
   "execution_count": 97,
   "metadata": {},
   "outputs": [
    {
     "data": {
      "text/plain": [
       "LC 399_M    LC\n",
       "LC 374_M    LC\n",
       "LC307_M     LC\n",
       "LC 203_M    LC\n",
       "LC 327_M    LC\n",
       "            ..\n",
       "HC 19_M     HC\n",
       "HC 17_M     HC\n",
       "HC 09_M     HC\n",
       "HC 21_M     HC\n",
       "HC 14_M     HC\n",
       "Name: Label, Length: 71, dtype: object"
      ]
     },
     "execution_count": 97,
     "metadata": {},
     "output_type": "execute_result"
    }
   ],
   "source": [
    "train_size = 0.7\n",
    "\n",
    "train_size_lc = int(len(outlier_lc)*train_size)\n",
    "train_size_mc = int(len(outlier_mc)*train_size)\n",
    "train_size_hc = int(len(outlier_hc)*train_size)\n",
    "\n",
    "list_train_lc_x = x.loc[outlier_lc[\"Sample\"].iloc[0:train_size_lc]]\n",
    "list_train_lc_y = y.loc[outlier_lc[\"Sample\"].iloc[0:train_size_lc]]\n",
    "\n",
    "list_train_mc_x = x.loc[outlier_mc[\"Sample\"].iloc[0:train_size_mc]]\n",
    "list_train_mc_y = y.loc[outlier_mc[\"Sample\"].iloc[0:train_size_mc]]\n",
    "\n",
    "list_train_hc_x = x.loc[outlier_hc[\"Sample\"].iloc[0:train_size_hc]]\n",
    "list_train_hc_y = y.loc[outlier_hc[\"Sample\"].iloc[0:train_size_hc]]\n",
    "\n",
    "x_train = pd.concat([list_train_lc_x,list_train_mc_x,list_train_hc_x])\n",
    "y_train = pd.concat([list_train_lc_y,list_train_mc_y,list_train_hc_y])\n",
    "y_train"
   ]
  },
  {
   "cell_type": "code",
   "execution_count": 98,
   "metadata": {},
   "outputs": [
    {
     "data": {
      "text/plain": [
       "31"
      ]
     },
     "execution_count": 98,
     "metadata": {},
     "output_type": "execute_result"
    }
   ],
   "source": [
    "x_test = x.loc[~x.isin(x_train.to_dict(orient='list')).all(axis=1)]\n",
    "y_test = y[~y.index.isin(y_train.index)]\n",
    "len(y_test)"
   ]
  },
  {
   "cell_type": "code",
   "execution_count": 99,
   "metadata": {},
   "outputs": [],
   "source": [
    "name_sample_train = x_train.transpose().columns\n",
    "name_sample_test = x_test.transpose().columns"
   ]
  },
  {
   "cell_type": "markdown",
   "metadata": {},
   "source": [
    "## Save Mean and Std of training set"
   ]
  },
  {
   "cell_type": "code",
   "execution_count": 100,
   "metadata": {},
   "outputs": [],
   "source": [
    "mean= x_train.mean(axis=0)\n",
    "std = x_train.std(axis=0)"
   ]
  },
  {
   "cell_type": "markdown",
   "metadata": {},
   "source": [
    "## Try to classify with LDA models"
   ]
  },
  {
   "cell_type": "code",
   "execution_count": 101,
   "metadata": {},
   "outputs": [
    {
     "data": {
      "text/plain": [
       "0.8709677419354839"
      ]
     },
     "execution_count": 101,
     "metadata": {},
     "output_type": "execute_result"
    }
   ],
   "source": [
    "from sklearn.metrics import accuracy_score\n",
    "lda = LDA()\n",
    "model_lda = lda.fit(x_train, y_train)\n",
    "\n",
    "y_pred = model_lda.predict(x_test)\n",
    "\n",
    "accuracy = accuracy_score(y_test, y_pred)\n",
    "accuracy"
   ]
  },
  {
   "cell_type": "markdown",
   "metadata": {},
   "source": [
    "## PCA"
   ]
  },
  {
   "cell_type": "markdown",
   "metadata": {},
   "source": [
    "### Elbow Graph"
   ]
  },
  {
   "cell_type": "code",
   "execution_count": 102,
   "metadata": {},
   "outputs": [
    {
     "data": {
      "image/png": "[encoded data removed]",
      "text/plain": [
       "<Figure size 800x600 with 1 Axes>"
      ]
     },
     "metadata": {},
     "output_type": "display_data"
    }
   ],
   "source": [
    "from sklearn.decomposition import PCA\n",
    "\n",
    "varianza_spiegata = []\n",
    "n_componenti = np.arange(1, num_features)\n",
    "\n",
    "for n in n_componenti:\n",
    "    pca_elbow = PCA(n_components=n)\n",
    "    pca_elbow.fit(x_train)\n",
    "    varianza_spiegata.append(np.sum(pca_elbow.explained_variance_ratio_))\n",
    "\n",
    "plt.figure(figsize=(8, 6))\n",
    "plt.plot(n_componenti, varianza_spiegata, marker='o')\n",
    "plt.xlabel('# of principal components')\n",
    "plt.ylabel('Explained Variance')\n",
    "plt.title('Elbow Graph')\n",
    "plt.grid(True)\n",
    "plt.show()"
   ]
  },
  {
   "cell_type": "markdown",
   "metadata": {},
   "source": [
    "#### PCA"
   ]
  },
  {
   "cell_type": "code",
   "execution_count": 103,
   "metadata": {},
   "outputs": [
    {
     "data": {
      "text/plain": [
       "array([[ 4.37964713e+00, -6.96267705e-01, -1.67730104e-01,\n",
       "        -2.70316562e-02],\n",
       "       [ 5.60838136e-01,  3.17509382e-01,  2.21143123e-01,\n",
       "        -4.36892975e-03],\n",
       "       [ 3.09360611e+00, -3.12423016e-01, -5.46964842e-02,\n",
       "         2.60939371e-02],\n",
       "       [-4.81971865e-01,  1.46079382e-01,  2.27512548e-02,\n",
       "        -7.45466497e-03],\n",
       "       [-3.14599312e-01,  9.94781731e-02, -9.83244052e-02,\n",
       "        -2.03126847e-02],\n",
       "       [ 1.92136031e+00, -5.38232995e-01,  2.57002508e-01,\n",
       "        -9.17151081e-02],\n",
       "       [ 2.08360832e+00, -1.66768685e-01,  1.87222024e-01,\n",
       "         1.34722063e-02],\n",
       "       [ 2.32826167e+00, -4.08211708e-01, -8.62414947e-02,\n",
       "         4.79686635e-02],\n",
       "       [ 2.00578241e-01,  5.79447491e-02,  1.69235804e-01,\n",
       "         7.21124674e-04],\n",
       "       [ 1.57078481e+00, -5.33895921e-01,  1.99324886e-02,\n",
       "         1.34009713e-02],\n",
       "       [ 8.71408095e-01, -2.48203154e-02, -2.62659730e-01,\n",
       "        -1.96371587e-01],\n",
       "       [ 1.90684046e+00, -4.35975040e-01, -4.77225709e-01,\n",
       "        -5.47520066e-02],\n",
       "       [-1.77173671e+00,  3.48142505e-03, -8.32557555e-02,\n",
       "         8.23317878e-02],\n",
       "       [-6.58158319e-01, -1.25815765e-03,  1.48086671e-01,\n",
       "        -5.91505035e-02],\n",
       "       [-1.08839395e+00, -2.09826476e-02,  1.65473310e-01,\n",
       "        -1.08583080e-01],\n",
       "       [-1.76272849e+00, -3.86259771e-01, -5.76790484e-02,\n",
       "         1.67131080e-02],\n",
       "       [-1.93008858e+00, -3.55260776e-01, -7.24815389e-02,\n",
       "         1.81656168e-02],\n",
       "       [-1.62461249e+00, -3.98520711e-01, -5.02110716e-02,\n",
       "         1.98989418e-02],\n",
       "       [-1.93094146e+00, -3.35593217e-01, -9.72108187e-02,\n",
       "         1.56536306e-02],\n",
       "       [-1.84644634e+00, -3.51006898e-01, -6.05281187e-02,\n",
       "         1.21044143e-02],\n",
       "       [-1.81397722e+00, -3.41264916e-01, -1.04482476e-01,\n",
       "         1.87917445e-02],\n",
       "       [ 1.17484526e+00, -3.83267432e-01, -9.89745862e-02,\n",
       "         5.68741808e-02],\n",
       "       [-2.01479831e+00, -2.69373279e-01, -1.82611253e-01,\n",
       "         3.94653783e-02],\n",
       "       [-1.66785698e+00, -3.53063790e-01, -7.83322658e-02,\n",
       "        -2.56244152e-03],\n",
       "       [-1.62126659e+00, -3.57933617e-01, -4.76921342e-02,\n",
       "        -7.52355162e-03],\n",
       "       [ 6.12916984e-01, -4.34972179e-01,  2.61093421e-03,\n",
       "         5.27355404e-02],\n",
       "       [-2.83458754e-01, -4.50574305e-01,  5.89178421e-02,\n",
       "         2.09222119e-02],\n",
       "       [-1.61983549e+00, -3.36676612e-01, -5.73028052e-02,\n",
       "         3.09370733e-02],\n",
       "       [-1.57339913e+00, -3.37831472e-01, -1.33740672e-01,\n",
       "         1.79986476e-02],\n",
       "       [-1.59368259e+00, -3.27070146e-01, -3.72920422e-02,\n",
       "         1.82952315e-02],\n",
       "       [-1.72151297e+00, -1.87104127e-01,  1.02738226e-02,\n",
       "        -7.53321606e-03],\n",
       "       [ 2.10549284e-01, -1.23666408e-01,  1.94156456e-01,\n",
       "         1.08063967e-01],\n",
       "       [-5.71296604e-01, -9.66021074e-02,  1.03179395e-01,\n",
       "        -6.28857827e-02],\n",
       "       [ 4.95804528e-01, -4.04683447e-01, -1.02697237e-01,\n",
       "         3.42531113e-03],\n",
       "       [-9.81680736e-01, -3.82941909e-01,  4.75457657e-02,\n",
       "        -1.21419828e-02],\n",
       "       [-1.61613225e+00, -2.06229012e-01,  3.79664139e-02,\n",
       "         5.34475023e-02],\n",
       "       [-1.62532213e+00, -2.19280538e-01, -2.46007242e-02,\n",
       "        -6.23631168e-03],\n",
       "       [-1.45180721e+00, -1.75719148e-01, -3.82730052e-02,\n",
       "        -1.20754223e-02],\n",
       "       [-3.13229561e-01, -3.94720734e-01,  2.60518044e-01,\n",
       "        -3.14976018e-02],\n",
       "       [-1.41410799e+00, -2.76229936e-01,  4.59697197e-04,\n",
       "         2.51853886e-02],\n",
       "       [ 4.96348746e-01, -3.63014893e-01,  2.92333988e-02,\n",
       "         1.70545615e-02],\n",
       "       [ 5.55593625e-01, -2.14555220e-01,  2.15029587e-01,\n",
       "        -4.08223197e-02],\n",
       "       [-1.10670848e+00, -3.29976762e-01,  1.90075397e-01,\n",
       "        -1.24070380e-02],\n",
       "       [ 3.22078067e-01, -1.92756229e-01,  1.16958296e-01,\n",
       "        -9.68171466e-02],\n",
       "       [-1.47135381e-01, -1.56138570e-01, -8.45821079e-02,\n",
       "        -2.34818929e-02],\n",
       "       [ 5.71847041e-01, -3.03449044e-01, -1.44277922e-01,\n",
       "        -8.11774326e-02],\n",
       "       [-2.28185846e-01, -3.79540753e-01,  5.21339194e-02,\n",
       "        -3.03147582e-02],\n",
       "       [ 3.78684437e-01, -3.43605270e-01,  1.42540973e-01,\n",
       "        -4.55375617e-02],\n",
       "       [-1.50830884e+00,  9.81003931e-01, -2.42440026e-02,\n",
       "        -4.00178730e-02],\n",
       "       [-1.86622086e+00,  1.59768709e+00, -1.66640469e-01,\n",
       "         5.71485715e-02],\n",
       "       [-1.92985284e+00,  3.15883461e-01, -1.48824847e-01,\n",
       "         3.14951408e-02],\n",
       "       [-1.71402291e+00,  1.25372750e+00, -6.62505991e-02,\n",
       "        -1.73460253e-02],\n",
       "       [-1.98446329e+00,  5.32817040e-01, -1.69919831e-01,\n",
       "         5.57860935e-02],\n",
       "       [-1.90126736e+00,  1.18708018e+00, -2.16367150e-01,\n",
       "        -9.28816195e-02],\n",
       "       [-1.86519051e+00,  5.11013419e-01, -1.64719601e-01,\n",
       "         9.90798456e-03],\n",
       "       [ 4.63448954e+00, -1.88503443e-01, -2.85040420e-01,\n",
       "         3.36301486e-02],\n",
       "       [ 1.55349735e+00,  1.22915260e+00,  2.71059890e-01,\n",
       "         4.37137636e-02],\n",
       "       [-1.14782911e+00,  2.86199204e-02, -6.21535492e-02,\n",
       "         4.33993697e-02],\n",
       "       [ 3.54427286e+00, -5.11713339e-02, -8.78804845e-02,\n",
       "         6.57036438e-02],\n",
       "       [ 2.93976928e+00,  9.30485803e-01, -5.92381516e-02,\n",
       "         5.58693592e-03],\n",
       "       [ 2.64990983e+00, -2.25634071e-01, -1.38902482e-01,\n",
       "         2.68927605e-02],\n",
       "       [-8.17303122e-01,  5.38549894e-02,  4.32067457e-03,\n",
       "         9.15818950e-03],\n",
       "       [ 1.81346871e+00,  9.60765041e-01,  2.07674285e-01,\n",
       "        -5.10948280e-02],\n",
       "       [-7.62462532e-01,  2.72946550e-01,  5.43346238e-01,\n",
       "         1.99603134e-01],\n",
       "       [ 2.42664496e+00,  8.48551868e-01, -1.48539640e-01,\n",
       "         1.01336645e-03],\n",
       "       [ 3.28521464e+00,  1.66220057e-01,  6.19157841e-01,\n",
       "         4.34799398e-02],\n",
       "       [ 3.19718849e+00,  6.18129210e-01, -2.70758159e-01,\n",
       "         9.72910957e-02],\n",
       "       [-3.03662297e-02, -2.64586160e-02,  1.23917170e-01,\n",
       "         5.96066224e-03],\n",
       "       [ 4.32523534e-01,  7.42846491e-01,  2.31488605e-01,\n",
       "        -9.06414109e-02],\n",
       "       [-2.53214978e-01,  2.26932669e-01,  4.67771549e-01,\n",
       "        -1.22431819e-01],\n",
       "       [ 2.34299390e+00,  7.17275947e-01, -4.08600484e-01,\n",
       "        -2.32368443e-03]])"
      ]
     },
     "execution_count": 103,
     "metadata": {},
     "output_type": "execute_result"
    }
   ],
   "source": [
    "pca = PCA(n_components=4)\n",
    "x_train_pca = pca.fit(x_train).transform(x_train)\n",
    "x_train_pca"
   ]
  },
  {
   "cell_type": "markdown",
   "metadata": {},
   "source": [
    "### Prepare the training set for models "
   ]
  },
  {
   "cell_type": "markdown",
   "metadata": {},
   "source": [
    "Train"
   ]
  },
  {
   "cell_type": "code",
   "execution_count": 104,
   "metadata": {},
   "outputs": [],
   "source": [
    "X_w = pd.DataFrame(x_train_pca)\n",
    "Y_w = y_train\n",
    "\n",
    "X_w.columns = [f'PC{i+1}' for i in range(X_w.shape[1])]\n",
    "X_w = X_w.transpose()\n",
    "X_w.columns = name_sample_train\n",
    "X_w = X_w.transpose()\n",
    "\n",
    "all_performance = []"
   ]
  },
  {
   "cell_type": "markdown",
   "metadata": {},
   "source": [
    "Test"
   ]
  },
  {
   "cell_type": "code",
   "execution_count": 105,
   "metadata": {},
   "outputs": [],
   "source": [
    "# autoscaling on test set\n",
    "x_test_centered = (x_test.sub(mean,axis=1)).div(std,axis=1)\n",
    "x_test_centered_pca = pca.transform(x_test_centered)\n",
    "\n",
    "x_test_centered_pca = pd.DataFrame(x_test_centered_pca)\n",
    "x_test_centered_pca.columns = [f'PC{i+1}' for i in range(x_test_centered_pca.shape[1])]\n",
    "x_test_centered_pca = x_test_centered_pca.transpose()\n",
    "x_test_centered_pca.columns = name_sample_test\n",
    "x_test_centered_pca = x_test_centered_pca.transpose()"
   ]
  },
  {
   "cell_type": "markdown",
   "metadata": {},
   "source": [
    "### Logistic Regression"
   ]
  },
  {
   "cell_type": "code",
   "execution_count": 106,
   "metadata": {},
   "outputs": [
    {
     "name": "stderr",
     "output_type": "stream",
     "text": [
      "/Users/bvs/opt/anaconda3/envs/AI4Omics/lib/python3.9/site-packages/sklearn/metrics/_classification.py:2394: UserWarning: y_pred contains classes not in y_true\n",
      "  warnings.warn(\"y_pred contains classes not in y_true\")\n",
      "/Users/bvs/opt/anaconda3/envs/AI4Omics/lib/python3.9/site-packages/sklearn/metrics/_classification.py:2394: UserWarning: y_pred contains classes not in y_true\n",
      "  warnings.warn(\"y_pred contains classes not in y_true\")\n",
      "/Users/bvs/opt/anaconda3/envs/AI4Omics/lib/python3.9/site-packages/sklearn/metrics/_classification.py:2394: UserWarning: y_pred contains classes not in y_true\n",
      "  warnings.warn(\"y_pred contains classes not in y_true\")\n",
      "/Users/bvs/opt/anaconda3/envs/AI4Omics/lib/python3.9/site-packages/sklearn/metrics/_classification.py:2394: UserWarning: y_pred contains classes not in y_true\n",
      "  warnings.warn(\"y_pred contains classes not in y_true\")\n",
      "/Users/bvs/opt/anaconda3/envs/AI4Omics/lib/python3.9/site-packages/sklearn/metrics/_classification.py:2394: UserWarning: y_pred contains classes not in y_true\n",
      "  warnings.warn(\"y_pred contains classes not in y_true\")\n",
      "/Users/bvs/opt/anaconda3/envs/AI4Omics/lib/python3.9/site-packages/sklearn/metrics/_classification.py:2394: UserWarning: y_pred contains classes not in y_true\n",
      "  warnings.warn(\"y_pred contains classes not in y_true\")\n",
      "/Users/bvs/opt/anaconda3/envs/AI4Omics/lib/python3.9/site-packages/sklearn/metrics/_classification.py:2394: UserWarning: y_pred contains classes not in y_true\n",
      "  warnings.warn(\"y_pred contains classes not in y_true\")\n",
      "/Users/bvs/opt/anaconda3/envs/AI4Omics/lib/python3.9/site-packages/sklearn/metrics/_classification.py:2394: UserWarning: y_pred contains classes not in y_true\n",
      "  warnings.warn(\"y_pred contains classes not in y_true\")\n",
      "/Users/bvs/opt/anaconda3/envs/AI4Omics/lib/python3.9/site-packages/sklearn/metrics/_classification.py:2394: UserWarning: y_pred contains classes not in y_true\n",
      "  warnings.warn(\"y_pred contains classes not in y_true\")\n",
      "/Users/bvs/opt/anaconda3/envs/AI4Omics/lib/python3.9/site-packages/sklearn/metrics/_classification.py:2394: UserWarning: y_pred contains classes not in y_true\n",
      "  warnings.warn(\"y_pred contains classes not in y_true\")\n",
      "/Users/bvs/opt/anaconda3/envs/AI4Omics/lib/python3.9/site-packages/sklearn/metrics/_classification.py:2394: UserWarning: y_pred contains classes not in y_true\n",
      "  warnings.warn(\"y_pred contains classes not in y_true\")\n"
     ]
    },
    {
     "name": "stdout",
     "output_type": "stream",
     "text": [
      "L'accuracy è:  81.69014084507042 \n",
      "La balanced_accuracy è:  81.69014084507042\n"
     ]
    },
    {
     "name": "stderr",
     "output_type": "stream",
     "text": [
      "/Users/bvs/opt/anaconda3/envs/AI4Omics/lib/python3.9/site-packages/sklearn/metrics/_classification.py:2394: UserWarning: y_pred contains classes not in y_true\n",
      "  warnings.warn(\"y_pred contains classes not in y_true\")\n",
      "/Users/bvs/opt/anaconda3/envs/AI4Omics/lib/python3.9/site-packages/sklearn/metrics/_classification.py:2394: UserWarning: y_pred contains classes not in y_true\n",
      "  warnings.warn(\"y_pred contains classes not in y_true\")\n"
     ]
    }
   ],
   "source": [
    "from sklearn.model_selection import LeaveOneOut\n",
    "from sklearn.linear_model import LogisticRegression\n",
    "from sklearn import metrics as mt\n",
    "from imblearn.over_sampling import BorderlineSMOTE\n",
    "\n",
    "loo = LeaveOneOut()\n",
    "\n",
    "performance_scores = []\n",
    "performance_scores_balanced = []\n",
    "i = 0\n",
    "# Itera attraverso i fold\n",
    "for train_index, val_index in loo.split(X_w,Y_w):\n",
    "    i+=1\n",
    "    \n",
    "    train_x_temp, test_x_temp = X_w.iloc[train_index],X_w.iloc[val_index]\n",
    "    train_y_temp, test_y_temp = Y_w.iloc[train_index],Y_w.iloc[val_index]\n",
    "    \n",
    "    #ribilanciamento\n",
    "    bls = BorderlineSMOTE(random_state=99)\n",
    "    train_x_temp,train_y_temp = bls.fit_resample(train_x_temp,train_y_temp)\n",
    "\n",
    "    # normalizzazione\n",
    "    mean_temp= train_x_temp.mean(axis=0)\n",
    "    std_temp = train_x_temp.std(axis=0)\n",
    "    train_x_temp = (train_x_temp.sub(mean_temp,axis=1)).div(std_temp,axis=1)\n",
    "\n",
    "    test_x_temp = (test_x_temp.sub(mean_temp,axis=1)).div(std_temp,axis=1)\n",
    "    \n",
    "    lm = LogisticRegression(penalty='l2', C=0.9, class_weight='balanced', multi_class='auto',max_iter=1000000, n_jobs=4, solver='saga') # penalty{‘l1’, ‘l2’, ‘elasticnet’, None}; multi_class{‘auto’, ‘ovr’, ‘multinomial’}\n",
    "    \n",
    "    lm.fit(train_x_temp, train_y_temp)\n",
    "    \n",
    "    predicted_y_temp = lm.predict(test_x_temp)\n",
    "\n",
    "    # Calcola e memorizza la misura delle prestazioni (es. accuratezza)\n",
    "    accuracy_temp = np.round(mt.accuracy_score(test_y_temp.values,predicted_y_temp)*100,2)\n",
    "    performance_scores.append(accuracy_temp)\n",
    "    balanced_accuracy_temp = np.round(mt.balanced_accuracy_score(test_y_temp.values,predicted_y_temp)*100,2)\n",
    "    performance_scores_balanced.append(balanced_accuracy_temp)\n",
    "    \n",
    "mean_accuracy_temp = sum(performance_scores)/i\n",
    "mean_accuracy_balanced_temp = sum(performance_scores_balanced)/i\n",
    "\n",
    "print(\"L'accuracy è: \", mean_accuracy_temp, \"\\nLa balanced_accuracy è: \", mean_accuracy_balanced_temp)\n",
    "\n",
    "all_performance = [{\"Logistic Regression\":{\n",
    "    \"Validation\": {\n",
    "        \"BorderlineSMOTE\": mean_accuracy_balanced_temp\n",
    "    }\n",
    "}}]"
   ]
  },
  {
   "cell_type": "markdown",
   "metadata": {},
   "source": [
    "Try on Test Set"
   ]
  },
  {
   "cell_type": "code",
   "execution_count": 107,
   "metadata": {},
   "outputs": [
    {
     "data": {
      "text/plain": [
       "60.32"
      ]
     },
     "execution_count": 107,
     "metadata": {},
     "output_type": "execute_result"
    }
   ],
   "source": [
    "predicted_y_test = lm.predict(x_test_centered_pca)\n",
    "balanced_accuracy = np.round(mt.balanced_accuracy_score(y_test,predicted_y_test)*100,2)\n",
    "all_performance[0][\"Logistic Regression\"][\"Test\"]= {\"BorderlineSMOTE\":balanced_accuracy}\n",
    "balanced_accuracy"
   ]
  },
  {
   "cell_type": "markdown",
   "metadata": {},
   "source": [
    "Show the error in Logistic Regression"
   ]
  },
  {
   "cell_type": "code",
   "execution_count": 108,
   "metadata": {},
   "outputs": [
    {
     "name": "stdout",
     "output_type": "stream",
     "text": [
      "Gli errori vengono commessi sul campione:  [  9  14  37  42  80  82  83  84  93  99 100]\n"
     ]
    },
    {
     "data": {
      "image/png": "[encoded data removed]",
      "text/plain": [
       "<Figure size 640x480 with 1 Axes>"
      ]
     },
     "metadata": {},
     "output_type": "display_data"
    }
   ],
   "source": [
    "show_error_lr = pd.DataFrame({\"Predict\":predicted_y_test, \"Real\":y_test})\n",
    "errors_name = show_error_lr[show_error_lr[\"Predict\"] != show_error_lr[\"Real\"]].index\n",
    "errors_name\n",
    "\n",
    "error_index = (df_score_view_noqc[df_score_view_noqc[\"Sample\"].isin(errors_name)].index) - 7\n",
    "print(\"Gli errori vengono commessi sul campione: \",error_index.values)\n",
    "\n",
    "colors_with_error = colors_after_drop.copy()\n",
    "colors_with_error = np.delete(colors_with_error,[0,1,2,3,4,5,6])\n",
    "colors_with_error[error_index] = \"black\"\n",
    "\n",
    "plt.scatter(df_score_view_noqc[\"Score View X\"], df_score_view_noqc[\"Score View Y\"], c=colors_with_error)\n",
    "plt.xlabel('x')\n",
    "plt.ylabel('y')\n",
    "plt.legend(handles=[\n",
    "    plt.Line2D([0], [0], marker='o', color='w', label='LC', markerfacecolor='red', markersize=10),\n",
    "    plt.Line2D([0], [0], marker='o', color='w', label='MC', markerfacecolor='green', markersize=10),\n",
    "    plt.Line2D([0], [0], marker='o', color='w', label='HC', markerfacecolor='orange', markersize=10),\n",
    "], title='Legend')\n",
    "plt.title('PCA View')\n",
    "plt.show()"
   ]
  },
  {
   "cell_type": "markdown",
   "metadata": {},
   "source": [
    "### SVM"
   ]
  },
  {
   "cell_type": "code",
   "execution_count": 109,
   "metadata": {},
   "outputs": [
    {
     "name": "stderr",
     "output_type": "stream",
     "text": [
      "/Users/bvs/opt/anaconda3/envs/AI4Omics/lib/python3.9/site-packages/sklearn/metrics/_classification.py:2394: UserWarning: y_pred contains classes not in y_true\n",
      "  warnings.warn(\"y_pred contains classes not in y_true\")\n",
      "/Users/bvs/opt/anaconda3/envs/AI4Omics/lib/python3.9/site-packages/sklearn/metrics/_classification.py:2394: UserWarning: y_pred contains classes not in y_true\n",
      "  warnings.warn(\"y_pred contains classes not in y_true\")\n",
      "/Users/bvs/opt/anaconda3/envs/AI4Omics/lib/python3.9/site-packages/sklearn/metrics/_classification.py:2394: UserWarning: y_pred contains classes not in y_true\n",
      "  warnings.warn(\"y_pred contains classes not in y_true\")\n",
      "/Users/bvs/opt/anaconda3/envs/AI4Omics/lib/python3.9/site-packages/sklearn/metrics/_classification.py:2394: UserWarning: y_pred contains classes not in y_true\n",
      "  warnings.warn(\"y_pred contains classes not in y_true\")\n",
      "/Users/bvs/opt/anaconda3/envs/AI4Omics/lib/python3.9/site-packages/sklearn/metrics/_classification.py:2394: UserWarning: y_pred contains classes not in y_true\n",
      "  warnings.warn(\"y_pred contains classes not in y_true\")\n",
      "/Users/bvs/opt/anaconda3/envs/AI4Omics/lib/python3.9/site-packages/sklearn/metrics/_classification.py:2394: UserWarning: y_pred contains classes not in y_true\n",
      "  warnings.warn(\"y_pred contains classes not in y_true\")\n",
      "/Users/bvs/opt/anaconda3/envs/AI4Omics/lib/python3.9/site-packages/sklearn/metrics/_classification.py:2394: UserWarning: y_pred contains classes not in y_true\n",
      "  warnings.warn(\"y_pred contains classes not in y_true\")\n",
      "/Users/bvs/opt/anaconda3/envs/AI4Omics/lib/python3.9/site-packages/sklearn/metrics/_classification.py:2394: UserWarning: y_pred contains classes not in y_true\n",
      "  warnings.warn(\"y_pred contains classes not in y_true\")\n"
     ]
    },
    {
     "name": "stdout",
     "output_type": "stream",
     "text": [
      "L'accuracy è:  80.28169014084507 %\n",
      "La balanced_accuracy è:  80.28169014084507 %\n"
     ]
    },
    {
     "name": "stderr",
     "output_type": "stream",
     "text": [
      "/Users/bvs/opt/anaconda3/envs/AI4Omics/lib/python3.9/site-packages/sklearn/metrics/_classification.py:2394: UserWarning: y_pred contains classes not in y_true\n",
      "  warnings.warn(\"y_pred contains classes not in y_true\")\n",
      "/Users/bvs/opt/anaconda3/envs/AI4Omics/lib/python3.9/site-packages/sklearn/metrics/_classification.py:2394: UserWarning: y_pred contains classes not in y_true\n",
      "  warnings.warn(\"y_pred contains classes not in y_true\")\n",
      "/Users/bvs/opt/anaconda3/envs/AI4Omics/lib/python3.9/site-packages/sklearn/metrics/_classification.py:2394: UserWarning: y_pred contains classes not in y_true\n",
      "  warnings.warn(\"y_pred contains classes not in y_true\")\n",
      "/Users/bvs/opt/anaconda3/envs/AI4Omics/lib/python3.9/site-packages/sklearn/metrics/_classification.py:2394: UserWarning: y_pred contains classes not in y_true\n",
      "  warnings.warn(\"y_pred contains classes not in y_true\")\n",
      "/Users/bvs/opt/anaconda3/envs/AI4Omics/lib/python3.9/site-packages/sklearn/metrics/_classification.py:2394: UserWarning: y_pred contains classes not in y_true\n",
      "  warnings.warn(\"y_pred contains classes not in y_true\")\n",
      "/Users/bvs/opt/anaconda3/envs/AI4Omics/lib/python3.9/site-packages/sklearn/metrics/_classification.py:2394: UserWarning: y_pred contains classes not in y_true\n",
      "  warnings.warn(\"y_pred contains classes not in y_true\")\n"
     ]
    }
   ],
   "source": [
    "from sklearn.model_selection import LeaveOneOut\n",
    "from sklearn.svm import SVC\n",
    "from sklearn import metrics as mt\n",
    "from imblearn.over_sampling import BorderlineSMOTE\n",
    "\n",
    "loo = LeaveOneOut()\n",
    "\n",
    "performance_scores = []\n",
    "performance_scores_balanced = []\n",
    "i = 0\n",
    "# Itera attraverso i fold\n",
    "for train_index, val_index in loo.split(X_w):\n",
    "    i+=1\n",
    "    train_x_temp, test_x_temp = X_w.iloc[train_index],X_w.iloc[val_index]\n",
    "    train_y_temp, test_y_temp = Y_w.iloc[train_index],Y_w.iloc[val_index]\n",
    "    \n",
    "    # balancing\n",
    "    train_x_temp,train_y_temp = BorderlineSMOTE(random_state=99).fit_resample(train_x_temp,train_y_temp)\n",
    "    \n",
    "    # normalization\n",
    "    mean_temp= train_x_temp.mean(axis=0)\n",
    "    std_temp = train_x_temp.std(axis=0)\n",
    "    train_x_temp = (train_x_temp.sub(mean_temp,axis=1)).div(std_temp,axis=1)\n",
    "\n",
    "    test_x_temp = (test_x_temp.sub(mean_temp,axis=1)).div(std_temp,axis=1)\n",
    "    \n",
    "    model_svc = SVC(C=0.9,kernel=\"linear\")\n",
    "    model_svc.fit(train_x_temp,train_y_temp)\n",
    "    \n",
    "    predicted_y_temp = model_svc.predict(test_x_temp)\n",
    "    \n",
    "    accuracy_temp = np.round(mt.accuracy_score(test_y_temp,predicted_y_temp)*100,2)\n",
    "    performance_scores.append(accuracy_temp)\n",
    "    balanced_accuracy_temp = np.round(mt.balanced_accuracy_score(test_y_temp,predicted_y_temp)*100,2)\n",
    "    performance_scores_balanced.append(balanced_accuracy_temp)\n",
    "    \n",
    "mean_accuracy_temp = sum(performance_scores)/i\n",
    "mean_accuracy_balanced_temp = sum(performance_scores_balanced)/i\n",
    "\n",
    "print(\"L'accuracy è: \", mean_accuracy_temp, \"%\\nLa balanced_accuracy è: \", mean_accuracy_balanced_temp,\"%\")\n",
    "\n",
    "all_performance.append({\"SVM\":{\"Validation\": {\"BorderlineSMOTE\":mean_accuracy_balanced_temp}}})"
   ]
  },
  {
   "cell_type": "markdown",
   "metadata": {},
   "source": [
    "Try on Test"
   ]
  },
  {
   "cell_type": "code",
   "execution_count": 110,
   "metadata": {},
   "outputs": [
    {
     "data": {
      "text/plain": [
       "47.62"
      ]
     },
     "execution_count": 110,
     "metadata": {},
     "output_type": "execute_result"
    }
   ],
   "source": [
    "predicted_y_test = model_svc.predict(x_test_centered_pca)\n",
    "balanced_accuracy = np.round(mt.balanced_accuracy_score(y_test,predicted_y_test)*100,2)\n",
    "all_performance[1][\"SVM\"][\"Test\"]= {\"BorderlineSMOTE\":balanced_accuracy}\n",
    "balanced_accuracy"
   ]
  },
  {
   "cell_type": "markdown",
   "metadata": {},
   "source": [
    "Show Error in SVM"
   ]
  },
  {
   "cell_type": "code",
   "execution_count": 111,
   "metadata": {},
   "outputs": [
    {
     "name": "stdout",
     "output_type": "stream",
     "text": [
      "Gli errori vengono commessi sul campione:  [  3   7   9  14  15  22  26  29  37  42  48  49  80  82  83  84  93  99\n",
      " 100]\n"
     ]
    },
    {
     "data": {
      "image/png": "[encoded data removed]",
      "text/plain": [
       "<Figure size 640x480 with 1 Axes>"
      ]
     },
     "metadata": {},
     "output_type": "display_data"
    }
   ],
   "source": [
    "show_error_svm = pd.DataFrame({\"Predict\":predicted_y_test, \"Real\":y_test})\n",
    "errors_name = show_error_svm[show_error_svm[\"Predict\"] != show_error_svm[\"Real\"]].index\n",
    "errors_name\n",
    "\n",
    "error_index = (df_score_view_noqc[df_score_view_noqc[\"Sample\"].isin(errors_name)].index) - 7\n",
    "print(\"Gli errori vengono commessi sul campione: \",error_index.values)\n",
    "colors_with_error = colors_after_drop.copy()\n",
    "colors_with_error = np.delete(colors_with_error,[0,1,2,3,4,5,6])\n",
    "colors_with_error[error_index] = \"black\"\n",
    "\n",
    "plt.scatter(df_score_view_noqc[\"Score View X\"], df_score_view_noqc[\"Score View Y\"], c=colors_with_error)\n",
    "plt.xlabel('x')\n",
    "plt.ylabel('y')\n",
    "plt.legend(handles=[\n",
    "    plt.Line2D([0], [0], marker='o', color='w', label='LC', markerfacecolor='red', markersize=10),\n",
    "    plt.Line2D([0], [0], marker='o', color='w', label='MC', markerfacecolor='green', markersize=10),\n",
    "    plt.Line2D([0], [0], marker='o', color='w', label='HC', markerfacecolor='orange', markersize=10),\n",
    "], title='Legend')\n",
    "plt.title('PCA View')\n",
    "plt.show()"
   ]
  },
  {
   "cell_type": "markdown",
   "metadata": {},
   "source": [
    "### Random Forests"
   ]
  },
  {
   "cell_type": "code",
   "execution_count": 112,
   "metadata": {},
   "outputs": [
    {
     "name": "stderr",
     "output_type": "stream",
     "text": [
      "/Users/bvs/opt/anaconda3/envs/AI4Omics/lib/python3.9/site-packages/sklearn/metrics/_classification.py:2394: UserWarning: y_pred contains classes not in y_true\n",
      "  warnings.warn(\"y_pred contains classes not in y_true\")\n",
      "/Users/bvs/opt/anaconda3/envs/AI4Omics/lib/python3.9/site-packages/sklearn/metrics/_classification.py:2394: UserWarning: y_pred contains classes not in y_true\n",
      "  warnings.warn(\"y_pred contains classes not in y_true\")\n",
      "/Users/bvs/opt/anaconda3/envs/AI4Omics/lib/python3.9/site-packages/sklearn/metrics/_classification.py:2394: UserWarning: y_pred contains classes not in y_true\n",
      "  warnings.warn(\"y_pred contains classes not in y_true\")\n",
      "/Users/bvs/opt/anaconda3/envs/AI4Omics/lib/python3.9/site-packages/sklearn/metrics/_classification.py:2394: UserWarning: y_pred contains classes not in y_true\n",
      "  warnings.warn(\"y_pred contains classes not in y_true\")\n",
      "/Users/bvs/opt/anaconda3/envs/AI4Omics/lib/python3.9/site-packages/sklearn/metrics/_classification.py:2394: UserWarning: y_pred contains classes not in y_true\n",
      "  warnings.warn(\"y_pred contains classes not in y_true\")\n",
      "/Users/bvs/opt/anaconda3/envs/AI4Omics/lib/python3.9/site-packages/sklearn/metrics/_classification.py:2394: UserWarning: y_pred contains classes not in y_true\n",
      "  warnings.warn(\"y_pred contains classes not in y_true\")\n",
      "/Users/bvs/opt/anaconda3/envs/AI4Omics/lib/python3.9/site-packages/sklearn/metrics/_classification.py:2394: UserWarning: y_pred contains classes not in y_true\n",
      "  warnings.warn(\"y_pred contains classes not in y_true\")\n"
     ]
    },
    {
     "name": "stdout",
     "output_type": "stream",
     "text": [
      "L'accuracy è:  90.14084507042253 %\n",
      "La balanced_accuracy è:  90.14084507042253 %\n"
     ]
    }
   ],
   "source": [
    "from sklearn.ensemble import RandomForestClassifier\n",
    "from sklearn import metrics as mt\n",
    "from sklearn.model_selection import LeaveOneOut\n",
    "from imblearn.over_sampling import BorderlineSMOTE\n",
    "\n",
    "loo = LeaveOneOut()\n",
    "\n",
    "performance_scores = []\n",
    "performance_scores_balanced = []\n",
    "i = 0\n",
    "\n",
    "for train_index, val_index in loo.split(X_w):\n",
    "    i+=1\n",
    "    train_x_temp, test_x_temp = X_w.iloc[train_index],X_w.iloc[val_index]\n",
    "    train_y_temp, test_y_temp = Y_w.iloc[train_index],Y_w.iloc[val_index]\n",
    "    \n",
    "    train_x_temp,train_y_temp = BorderlineSMOTE(random_state=99).fit_resample(train_x_temp,train_y_temp)\n",
    "    \n",
    "    # normalizzazione\n",
    "    mean_temp = train_x_temp.mean(axis=0)\n",
    "    std_temp = train_x_temp.std(axis=0)\n",
    "    train_x_temp = (train_x_temp.sub(mean_temp,axis=1)).div(std_temp,axis=1)\n",
    "\n",
    "    test_x_temp = (test_x_temp.sub(mean_temp,axis=1)).div(std_temp,axis=1)\n",
    "    \n",
    "    rf_model = RandomForestClassifier(n_estimators=200, random_state=3, max_depth=22, n_jobs=4)\n",
    "    rf_model.fit(train_x_temp, train_y_temp)\n",
    "    predicted_y_temp = rf_model.predict(test_x_temp)\n",
    "    \n",
    "    accuracy_temp = np.round(mt.accuracy_score(test_y_temp,predicted_y_temp)*100,2)\n",
    "    performance_scores.append(accuracy_temp)\n",
    "    balanced_accuracy_temp = np.round(mt.balanced_accuracy_score(test_y_temp,predicted_y_temp)*100,2)\n",
    "    performance_scores_balanced.append(balanced_accuracy_temp)\n",
    "    \n",
    "mean_accuracy_temp = sum(performance_scores)/i\n",
    "mean_accuracy_balanced_temp = sum(performance_scores_balanced)/i\n",
    "\n",
    "print(\"L'accuracy è: \", mean_accuracy_temp, \"%\\nLa balanced_accuracy è: \", mean_accuracy_balanced_temp,\"%\")\n",
    "\n",
    "all_performance.append({\"Random Forests\":{\"Validation\": {\"BorderlineSMOTE\":mean_accuracy_balanced_temp}}})"
   ]
  },
  {
   "cell_type": "markdown",
   "metadata": {},
   "source": [
    "Try on Test"
   ]
  },
  {
   "cell_type": "code",
   "execution_count": 113,
   "metadata": {},
   "outputs": [
    {
     "data": {
      "text/plain": [
       "66.67"
      ]
     },
     "execution_count": 113,
     "metadata": {},
     "output_type": "execute_result"
    }
   ],
   "source": [
    "predicted_y_test = rf_model.predict(x_test_centered_pca)\n",
    "balanced_accuracy = np.round(mt.balanced_accuracy_score(y_test,predicted_y_test)*100,2)\n",
    "all_performance[2][\"Random Forests\"][\"Test\"]= {\"BorderlineSMOTE\":balanced_accuracy}\n",
    "balanced_accuracy"
   ]
  },
  {
   "cell_type": "markdown",
   "metadata": {},
   "source": [
    "Show Error in Random Forests"
   ]
  },
  {
   "cell_type": "code",
   "execution_count": 114,
   "metadata": {},
   "outputs": [
    {
     "name": "stdout",
     "output_type": "stream",
     "text": [
      "Gli errori vengono commessi sul campione:  [ 80  82  83  84  93  99 100]\n"
     ]
    },
    {
     "data": {
      "image/png": "[encoded data removed]",
      "text/plain": [
       "<Figure size 640x480 with 1 Axes>"
      ]
     },
     "metadata": {},
     "output_type": "display_data"
    }
   ],
   "source": [
    "show_error_rf = pd.DataFrame({\"Predict\":predicted_y_test, \"Real\":y_test})\n",
    "errors_name = show_error_rf[show_error_rf[\"Predict\"] != show_error_rf[\"Real\"]].index\n",
    "errors_name\n",
    "\n",
    "error_index = (df_score_view_noqc[df_score_view_noqc[\"Sample\"].isin(errors_name)].index) - 7\n",
    "print(\"Gli errori vengono commessi sul campione: \",error_index.values)\n",
    "colors_with_error = colors_after_drop.copy()\n",
    "colors_with_error = np.delete(colors_with_error,[0,1,2,3,4,5,6])\n",
    "colors_with_error[error_index] = \"black\"\n",
    "\n",
    "plt.scatter(df_score_view_noqc[\"Score View X\"], df_score_view_noqc[\"Score View Y\"], c=colors_with_error)\n",
    "plt.xlabel('x')\n",
    "plt.ylabel('y')\n",
    "plt.legend(handles=[\n",
    "    plt.Line2D([0], [0], marker='o', color='w', label='LC', markerfacecolor='red', markersize=10),\n",
    "    plt.Line2D([0], [0], marker='o', color='w', label='MC', markerfacecolor='green', markersize=10),\n",
    "    plt.Line2D([0], [0], marker='o', color='w', label='HC', markerfacecolor='orange', markersize=10),\n",
    "], title='Legend')\n",
    "plt.title('PCA View')\n",
    "plt.show()"
   ]
  },
  {
   "cell_type": "markdown",
   "metadata": {},
   "source": [
    "## Write on File"
   ]
  },
  {
   "cell_type": "code",
   "execution_count": 115,
   "metadata": {},
   "outputs": [],
   "source": [
    "import json\n",
    "file_path = \"output_lipidoma_models.txt\"\n",
    "with open(file_path, \"a\") as file:\n",
    "    json.dump(all_performance, file, indent=4)"
   ]
  }
 ],
 "metadata": {
  "kernelspec": {
   "display_name": "AI4Omics",
   "language": "python",
   "name": "python3"
  },
  "language_info": {
   "codemirror_mode": {
    "name": "ipython",
    "version": 3
   },
   "file_extension": ".py",
   "mimetype": "text/x-python",
   "name": "python",
   "nbconvert_exporter": "python",
   "pygments_lexer": "ipython3",
   "version": "3.9.18"
  }
 },
 "nbformat": 4,
 "nbformat_minor": 2
}
