{
 "cells": [
  {
   "cell_type": "markdown",
   "metadata": {},
   "source": [
    "# Project Work\n",
    "This project is composed from two dataset:\n",
    "- Lipidoma\n",
    "- Metaboloma\n",
    "\n",
    "The aim of this project is identify bio-markers that allow to distinguish the evolution of pathology (HCV). We have 3 several class of patient:\n",
    "- LC: Hepatocellular carcinoma\n",
    "- HC: Hepatitis C virus\n",
    "- MC: Mixed Cryoglobulinemia disease"
   ]
  },
  {
   "cell_type": "markdown",
   "metadata": {},
   "source": [
    "## Read data set \n",
    "On the raw we have the features, while on the column we have the samples.\n",
    "\n",
    "However, I set the features on the column and the samples on the raw."
   ]
  },
  {
   "cell_type": "code",
   "execution_count": 58,
   "metadata": {},
   "outputs": [
    {
     "data": {
      "text/html": [
       "<div>\n",
       "<style scoped>\n",
       "    .dataframe tbody tr th:only-of-type {\n",
       "        vertical-align: middle;\n",
       "    }\n",
       "\n",
       "    .dataframe tbody tr th {\n",
       "        vertical-align: top;\n",
       "    }\n",
       "\n",
       "    .dataframe thead th {\n",
       "        text-align: right;\n",
       "    }\n",
       "</style>\n",
       "<table border=\"1\" class=\"dataframe\">\n",
       "  <thead>\n",
       "    <tr style=\"text-align: right;\">\n",
       "      <th></th>\n",
       "      <th>CE 16:0</th>\n",
       "      <th>CE 16:1</th>\n",
       "      <th>CE 18:1</th>\n",
       "      <th>CE 18:2</th>\n",
       "      <th>CE 20:3</th>\n",
       "      <th>CE 20:4</th>\n",
       "      <th>CE 20:5</th>\n",
       "      <th>Cer 16:1;2O/22:0</th>\n",
       "      <th>Cer 18:1;2O/22:0</th>\n",
       "      <th>Cer 18:1;2O/23:0</th>\n",
       "      <th>...</th>\n",
       "      <th>TG 18:1_18:1_20:1</th>\n",
       "      <th>TG 18:1_18:1_20:4</th>\n",
       "      <th>TG 18:1_18:2_18:2</th>\n",
       "      <th>TG 18:1_18:2_20:4</th>\n",
       "      <th>TG 18:1_18:2_22:0</th>\n",
       "      <th>TG 18:1_18:2_24:0</th>\n",
       "      <th>TG 18:2_18:2_18:2</th>\n",
       "      <th>TG 18:2_18:2_20:0</th>\n",
       "      <th>TG 18:2_18:2_22:0</th>\n",
       "      <th>TG O-18:1_16:0_18:1</th>\n",
       "    </tr>\n",
       "  </thead>\n",
       "  <tbody>\n",
       "    <tr>\n",
       "      <th>150522_QC 2_POS_RD3_1_4915</th>\n",
       "      <td>0.330046</td>\n",
       "      <td>0.280519</td>\n",
       "      <td>2.540679</td>\n",
       "      <td>10.640863</td>\n",
       "      <td>0.560636</td>\n",
       "      <td>2.403751</td>\n",
       "      <td>0.157257</td>\n",
       "      <td>0.009157</td>\n",
       "      <td>0.049669</td>\n",
       "      <td>0.045704</td>\n",
       "      <td>...</td>\n",
       "      <td>0.048419</td>\n",
       "      <td>0.216057</td>\n",
       "      <td>0.374602</td>\n",
       "      <td>0.128683</td>\n",
       "      <td>0.006091</td>\n",
       "      <td>0.00187</td>\n",
       "      <td>0.11348</td>\n",
       "      <td>0.081128</td>\n",
       "      <td>0.0079</td>\n",
       "      <td>0.005323</td>\n",
       "    </tr>\n",
       "    <tr>\n",
       "      <th>150522_QC 2_POS_RD3_1_4916</th>\n",
       "      <td>NaN</td>\n",
       "      <td>0.451638</td>\n",
       "      <td>NaN</td>\n",
       "      <td>12.096138</td>\n",
       "      <td>0.600185</td>\n",
       "      <td>3.066643</td>\n",
       "      <td>0.16019</td>\n",
       "      <td>0.011156</td>\n",
       "      <td>0.052369</td>\n",
       "      <td>0.053336</td>\n",
       "      <td>...</td>\n",
       "      <td>0.048786</td>\n",
       "      <td>0.238226</td>\n",
       "      <td>0.371836</td>\n",
       "      <td>0.143209</td>\n",
       "      <td>0.006248</td>\n",
       "      <td>0.002391</td>\n",
       "      <td>0.113523</td>\n",
       "      <td>0.088165</td>\n",
       "      <td>0.007748</td>\n",
       "      <td>NaN</td>\n",
       "    </tr>\n",
       "    <tr>\n",
       "      <th>150522_QC_POS_BA2_1_4678</th>\n",
       "      <td>0.217226</td>\n",
       "      <td>0.660418</td>\n",
       "      <td>2.188865</td>\n",
       "      <td>19.737975</td>\n",
       "      <td>0.902996</td>\n",
       "      <td>5.096119</td>\n",
       "      <td>0.375479</td>\n",
       "      <td>0.008749</td>\n",
       "      <td>0.04877</td>\n",
       "      <td>0.041709</td>\n",
       "      <td>...</td>\n",
       "      <td>NaN</td>\n",
       "      <td>0.194203</td>\n",
       "      <td>0.425828</td>\n",
       "      <td>0.150387</td>\n",
       "      <td>0.00583</td>\n",
       "      <td>0.001822</td>\n",
       "      <td>0.129144</td>\n",
       "      <td>0.077688</td>\n",
       "      <td>0.004856</td>\n",
       "      <td>0.006641</td>\n",
       "    </tr>\n",
       "    <tr>\n",
       "      <th>150522_QC_POS_BA2_1_4679</th>\n",
       "      <td>0.24431</td>\n",
       "      <td>0.395862</td>\n",
       "      <td>2.374355</td>\n",
       "      <td>10.277491</td>\n",
       "      <td>0.48138</td>\n",
       "      <td>2.38088</td>\n",
       "      <td>0.174221</td>\n",
       "      <td>0.007789</td>\n",
       "      <td>0.043779</td>\n",
       "      <td>0.041169</td>\n",
       "      <td>...</td>\n",
       "      <td>0.052236</td>\n",
       "      <td>0.202469</td>\n",
       "      <td>0.413477</td>\n",
       "      <td>0.141975</td>\n",
       "      <td>0.006259</td>\n",
       "      <td>0.002188</td>\n",
       "      <td>0.123501</td>\n",
       "      <td>0.063008</td>\n",
       "      <td>0.005009</td>\n",
       "      <td>0.00864</td>\n",
       "    </tr>\n",
       "    <tr>\n",
       "      <th>150522_QC_POS_BA2_1_4680</th>\n",
       "      <td>0.259228</td>\n",
       "      <td>0.343388</td>\n",
       "      <td>2.191119</td>\n",
       "      <td>9.896434</td>\n",
       "      <td>0.421994</td>\n",
       "      <td>2.144002</td>\n",
       "      <td>0.084034</td>\n",
       "      <td>0.006702</td>\n",
       "      <td>0.038995</td>\n",
       "      <td>0.038542</td>\n",
       "      <td>...</td>\n",
       "      <td>0.051265</td>\n",
       "      <td>0.206049</td>\n",
       "      <td>0.424743</td>\n",
       "      <td>0.146191</td>\n",
       "      <td>0.006052</td>\n",
       "      <td>0.00197</td>\n",
       "      <td>0.12741</td>\n",
       "      <td>0.100133</td>\n",
       "      <td>0.004539</td>\n",
       "      <td>0.00772</td>\n",
       "    </tr>\n",
       "    <tr>\n",
       "      <th>...</th>\n",
       "      <td>...</td>\n",
       "      <td>...</td>\n",
       "      <td>...</td>\n",
       "      <td>...</td>\n",
       "      <td>...</td>\n",
       "      <td>...</td>\n",
       "      <td>...</td>\n",
       "      <td>...</td>\n",
       "      <td>...</td>\n",
       "      <td>...</td>\n",
       "      <td>...</td>\n",
       "      <td>...</td>\n",
       "      <td>...</td>\n",
       "      <td>...</td>\n",
       "      <td>...</td>\n",
       "      <td>...</td>\n",
       "      <td>...</td>\n",
       "      <td>...</td>\n",
       "      <td>...</td>\n",
       "      <td>...</td>\n",
       "      <td>...</td>\n",
       "    </tr>\n",
       "    <tr>\n",
       "      <th>HC 19_M</th>\n",
       "      <td>0.321473</td>\n",
       "      <td>0.369594</td>\n",
       "      <td>2.94805</td>\n",
       "      <td>24.193067</td>\n",
       "      <td>0.864314</td>\n",
       "      <td>5.183349</td>\n",
       "      <td>0.565892</td>\n",
       "      <td>0.023624</td>\n",
       "      <td>0.112769</td>\n",
       "      <td>0.097707</td>\n",
       "      <td>...</td>\n",
       "      <td>0.030067</td>\n",
       "      <td>0.232738</td>\n",
       "      <td>0.719923</td>\n",
       "      <td>0.154853</td>\n",
       "      <td>0.005753</td>\n",
       "      <td>0.00163</td>\n",
       "      <td>0.175301</td>\n",
       "      <td>0.055449</td>\n",
       "      <td>0.006507</td>\n",
       "      <td>0.007088</td>\n",
       "    </tr>\n",
       "    <tr>\n",
       "      <th>HC 21_M</th>\n",
       "      <td>0.261614</td>\n",
       "      <td>0.480679</td>\n",
       "      <td>2.599515</td>\n",
       "      <td>10.807497</td>\n",
       "      <td>0.660797</td>\n",
       "      <td>1.732404</td>\n",
       "      <td>0.084998</td>\n",
       "      <td>0.012143</td>\n",
       "      <td>0.041101</td>\n",
       "      <td>0.036411</td>\n",
       "      <td>...</td>\n",
       "      <td>0.050221</td>\n",
       "      <td>0.155939</td>\n",
       "      <td>0.292474</td>\n",
       "      <td>0.079288</td>\n",
       "      <td>0.007948</td>\n",
       "      <td>0.001621</td>\n",
       "      <td>0.080277</td>\n",
       "      <td>0.083346</td>\n",
       "      <td>0.004616</td>\n",
       "      <td>0.007494</td>\n",
       "    </tr>\n",
       "    <tr>\n",
       "      <th>HC 22_M</th>\n",
       "      <td>0.312295</td>\n",
       "      <td>0.505954</td>\n",
       "      <td>4.053028</td>\n",
       "      <td>17.093651</td>\n",
       "      <td>0.837622</td>\n",
       "      <td>3.822791</td>\n",
       "      <td>0.515278</td>\n",
       "      <td>0.013383</td>\n",
       "      <td>0.064994</td>\n",
       "      <td>0.068863</td>\n",
       "      <td>...</td>\n",
       "      <td>0.03194</td>\n",
       "      <td>0.171667</td>\n",
       "      <td>0.266106</td>\n",
       "      <td>0.175584</td>\n",
       "      <td>0.003274</td>\n",
       "      <td>0.001061</td>\n",
       "      <td>0.042257</td>\n",
       "      <td>0.049565</td>\n",
       "      <td>0.00582</td>\n",
       "      <td>0.003099</td>\n",
       "    </tr>\n",
       "    <tr>\n",
       "      <th>HC 20_M</th>\n",
       "      <td>0.317264</td>\n",
       "      <td>0.396458</td>\n",
       "      <td>2.96421</td>\n",
       "      <td>11.487462</td>\n",
       "      <td>0.614516</td>\n",
       "      <td>2.62753</td>\n",
       "      <td>0.117277</td>\n",
       "      <td>0.009959</td>\n",
       "      <td>0.057988</td>\n",
       "      <td>0.054172</td>\n",
       "      <td>...</td>\n",
       "      <td>0.036462</td>\n",
       "      <td>0.269189</td>\n",
       "      <td>0.609648</td>\n",
       "      <td>0.154819</td>\n",
       "      <td>0.00536</td>\n",
       "      <td>0.00192</td>\n",
       "      <td>0.17339</td>\n",
       "      <td>0.09585</td>\n",
       "      <td>0.004326</td>\n",
       "      <td>0.002696</td>\n",
       "    </tr>\n",
       "    <tr>\n",
       "      <th>HC 23_M</th>\n",
       "      <td>0.323352</td>\n",
       "      <td>0.297391</td>\n",
       "      <td>2.741365</td>\n",
       "      <td>13.345181</td>\n",
       "      <td>0.644761</td>\n",
       "      <td>3.709066</td>\n",
       "      <td>0.58215</td>\n",
       "      <td>0.015872</td>\n",
       "      <td>0.071321</td>\n",
       "      <td>0.085209</td>\n",
       "      <td>...</td>\n",
       "      <td>0.074729</td>\n",
       "      <td>0.443789</td>\n",
       "      <td>0.949301</td>\n",
       "      <td>0.291876</td>\n",
       "      <td>0.01041</td>\n",
       "      <td>0.002837</td>\n",
       "      <td>0.10714</td>\n",
       "      <td>0.118712</td>\n",
       "      <td>0.006411</td>\n",
       "      <td>0.027753</td>\n",
       "    </tr>\n",
       "  </tbody>\n",
       "</table>\n",
       "<p>109 rows × 226 columns</p>\n",
       "</div>"
      ],
      "text/plain": [
       "                             CE 16:0   CE 16:1   CE 18:1    CE 18:2   CE 20:3  \\\n",
       "150522_QC 2_POS_RD3_1_4915  0.330046  0.280519  2.540679  10.640863  0.560636   \n",
       "150522_QC 2_POS_RD3_1_4916       NaN  0.451638       NaN  12.096138  0.600185   \n",
       "150522_QC_POS_BA2_1_4678    0.217226  0.660418  2.188865  19.737975  0.902996   \n",
       "150522_QC_POS_BA2_1_4679     0.24431  0.395862  2.374355  10.277491   0.48138   \n",
       "150522_QC_POS_BA2_1_4680    0.259228  0.343388  2.191119   9.896434  0.421994   \n",
       "...                              ...       ...       ...        ...       ...   \n",
       "HC 19_M                     0.321473  0.369594   2.94805  24.193067  0.864314   \n",
       "HC 21_M                     0.261614  0.480679  2.599515  10.807497  0.660797   \n",
       "HC 22_M                     0.312295  0.505954  4.053028  17.093651  0.837622   \n",
       "HC 20_M                     0.317264  0.396458   2.96421  11.487462  0.614516   \n",
       "HC 23_M                     0.323352  0.297391  2.741365  13.345181  0.644761   \n",
       "\n",
       "                             CE 20:4   CE 20:5 Cer 16:1;2O/22:0  \\\n",
       "150522_QC 2_POS_RD3_1_4915  2.403751  0.157257         0.009157   \n",
       "150522_QC 2_POS_RD3_1_4916  3.066643   0.16019         0.011156   \n",
       "150522_QC_POS_BA2_1_4678    5.096119  0.375479         0.008749   \n",
       "150522_QC_POS_BA2_1_4679     2.38088  0.174221         0.007789   \n",
       "150522_QC_POS_BA2_1_4680    2.144002  0.084034         0.006702   \n",
       "...                              ...       ...              ...   \n",
       "HC 19_M                     5.183349  0.565892         0.023624   \n",
       "HC 21_M                     1.732404  0.084998         0.012143   \n",
       "HC 22_M                     3.822791  0.515278         0.013383   \n",
       "HC 20_M                      2.62753  0.117277         0.009959   \n",
       "HC 23_M                     3.709066   0.58215         0.015872   \n",
       "\n",
       "                           Cer 18:1;2O/22:0 Cer 18:1;2O/23:0  ...  \\\n",
       "150522_QC 2_POS_RD3_1_4915         0.049669         0.045704  ...   \n",
       "150522_QC 2_POS_RD3_1_4916         0.052369         0.053336  ...   \n",
       "150522_QC_POS_BA2_1_4678            0.04877         0.041709  ...   \n",
       "150522_QC_POS_BA2_1_4679           0.043779         0.041169  ...   \n",
       "150522_QC_POS_BA2_1_4680           0.038995         0.038542  ...   \n",
       "...                                     ...              ...  ...   \n",
       "HC 19_M                            0.112769         0.097707  ...   \n",
       "HC 21_M                            0.041101         0.036411  ...   \n",
       "HC 22_M                            0.064994         0.068863  ...   \n",
       "HC 20_M                            0.057988         0.054172  ...   \n",
       "HC 23_M                            0.071321         0.085209  ...   \n",
       "\n",
       "                           TG 18:1_18:1_20:1 TG 18:1_18:1_20:4  \\\n",
       "150522_QC 2_POS_RD3_1_4915          0.048419          0.216057   \n",
       "150522_QC 2_POS_RD3_1_4916          0.048786          0.238226   \n",
       "150522_QC_POS_BA2_1_4678                 NaN          0.194203   \n",
       "150522_QC_POS_BA2_1_4679            0.052236          0.202469   \n",
       "150522_QC_POS_BA2_1_4680            0.051265          0.206049   \n",
       "...                                      ...               ...   \n",
       "HC 19_M                             0.030067          0.232738   \n",
       "HC 21_M                             0.050221          0.155939   \n",
       "HC 22_M                              0.03194          0.171667   \n",
       "HC 20_M                             0.036462          0.269189   \n",
       "HC 23_M                             0.074729          0.443789   \n",
       "\n",
       "                           TG 18:1_18:2_18:2 TG 18:1_18:2_20:4  \\\n",
       "150522_QC 2_POS_RD3_1_4915          0.374602          0.128683   \n",
       "150522_QC 2_POS_RD3_1_4916          0.371836          0.143209   \n",
       "150522_QC_POS_BA2_1_4678            0.425828          0.150387   \n",
       "150522_QC_POS_BA2_1_4679            0.413477          0.141975   \n",
       "150522_QC_POS_BA2_1_4680            0.424743          0.146191   \n",
       "...                                      ...               ...   \n",
       "HC 19_M                             0.719923          0.154853   \n",
       "HC 21_M                             0.292474          0.079288   \n",
       "HC 22_M                             0.266106          0.175584   \n",
       "HC 20_M                             0.609648          0.154819   \n",
       "HC 23_M                             0.949301          0.291876   \n",
       "\n",
       "                           TG 18:1_18:2_22:0 TG 18:1_18:2_24:0  \\\n",
       "150522_QC 2_POS_RD3_1_4915          0.006091           0.00187   \n",
       "150522_QC 2_POS_RD3_1_4916          0.006248          0.002391   \n",
       "150522_QC_POS_BA2_1_4678             0.00583          0.001822   \n",
       "150522_QC_POS_BA2_1_4679            0.006259          0.002188   \n",
       "150522_QC_POS_BA2_1_4680            0.006052           0.00197   \n",
       "...                                      ...               ...   \n",
       "HC 19_M                             0.005753           0.00163   \n",
       "HC 21_M                             0.007948          0.001621   \n",
       "HC 22_M                             0.003274          0.001061   \n",
       "HC 20_M                              0.00536           0.00192   \n",
       "HC 23_M                              0.01041          0.002837   \n",
       "\n",
       "                           TG 18:2_18:2_18:2 TG 18:2_18:2_20:0  \\\n",
       "150522_QC 2_POS_RD3_1_4915           0.11348          0.081128   \n",
       "150522_QC 2_POS_RD3_1_4916          0.113523          0.088165   \n",
       "150522_QC_POS_BA2_1_4678            0.129144          0.077688   \n",
       "150522_QC_POS_BA2_1_4679            0.123501          0.063008   \n",
       "150522_QC_POS_BA2_1_4680             0.12741          0.100133   \n",
       "...                                      ...               ...   \n",
       "HC 19_M                             0.175301          0.055449   \n",
       "HC 21_M                             0.080277          0.083346   \n",
       "HC 22_M                             0.042257          0.049565   \n",
       "HC 20_M                              0.17339           0.09585   \n",
       "HC 23_M                              0.10714          0.118712   \n",
       "\n",
       "                           TG 18:2_18:2_22:0 TG O-18:1_16:0_18:1  \n",
       "150522_QC 2_POS_RD3_1_4915            0.0079            0.005323  \n",
       "150522_QC 2_POS_RD3_1_4916          0.007748                 NaN  \n",
       "150522_QC_POS_BA2_1_4678            0.004856            0.006641  \n",
       "150522_QC_POS_BA2_1_4679            0.005009             0.00864  \n",
       "150522_QC_POS_BA2_1_4680            0.004539             0.00772  \n",
       "...                                      ...                 ...  \n",
       "HC 19_M                             0.006507            0.007088  \n",
       "HC 21_M                             0.004616            0.007494  \n",
       "HC 22_M                              0.00582            0.003099  \n",
       "HC 20_M                             0.004326            0.002696  \n",
       "HC 23_M                             0.006411            0.027753  \n",
       "\n",
       "[109 rows x 226 columns]"
      ]
     },
     "execution_count": 58,
     "metadata": {},
     "output_type": "execute_result"
    }
   ],
   "source": [
    "import pandas as pd\n",
    "import numpy as np\n",
    "\n",
    "data_lipidoma_transpose = pd.read_excel(\"../DataSet PAscale/Lipidoma.xlsx\")\n",
    "\n",
    "data_lipidoma = data_lipidoma_transpose.T\n",
    "\n",
    "data_lipidoma.columns = data_lipidoma_transpose[\"Name\"]\n",
    "\n",
    "data_lipidoma = data_lipidoma.iloc[1:]\n",
    "\n",
    "data_lipidoma.columns = [\"Label\"] + list(data_lipidoma.columns[1:])\n",
    "\n",
    "df_y_lipidoma = data_lipidoma[\"Label\"].iloc[1:]\n",
    "\n",
    "df_y_qc_lipidoma = data_lipidoma[\"Label\"].iloc[1:8]\n",
    "\n",
    "mz_lipidoma = data_lipidoma.iloc[0:1,1:]\n",
    "\n",
    "df_x_lipidoma = data_lipidoma.iloc[1:,1:]\n",
    "\n",
    "df_qc_lipidoma = data_lipidoma.iloc[1:8,1:]\n",
    "\n",
    "name_samples_lipidoma = df_x_lipidoma.transpose().columns\n",
    "\n",
    "df_x_lipidoma"
   ]
  },
  {
   "cell_type": "markdown",
   "metadata": {},
   "source": [
    "Delete the features less important"
   ]
  },
  {
   "cell_type": "code",
   "execution_count": 59,
   "metadata": {},
   "outputs": [
    {
     "data": {
      "text/html": [
       "<div>\n",
       "<style scoped>\n",
       "    .dataframe tbody tr th:only-of-type {\n",
       "        vertical-align: middle;\n",
       "    }\n",
       "\n",
       "    .dataframe tbody tr th {\n",
       "        vertical-align: top;\n",
       "    }\n",
       "\n",
       "    .dataframe thead th {\n",
       "        text-align: right;\n",
       "    }\n",
       "</style>\n",
       "<table border=\"1\" class=\"dataframe\">\n",
       "  <thead>\n",
       "    <tr style=\"text-align: right;\">\n",
       "      <th></th>\n",
       "      <th>PC O-20:1</th>\n",
       "      <th>LPC 18:0</th>\n",
       "      <th>LPC 18:1_A</th>\n",
       "      <th>LPC 16:0</th>\n",
       "      <th>LPC 20:2</th>\n",
       "      <th>LPC 18:1_B</th>\n",
       "      <th>LPC 19:0</th>\n",
       "      <th>LPC 20:0</th>\n",
       "      <th>LPC 17:0</th>\n",
       "      <th>DG 16:0_18:1</th>\n",
       "      <th>LPC 17:1</th>\n",
       "      <th>LPC 16:1</th>\n",
       "      <th>LPC 15:0</th>\n",
       "    </tr>\n",
       "  </thead>\n",
       "  <tbody>\n",
       "    <tr>\n",
       "      <th>m/z meas.</th>\n",
       "      <td>550.3865</td>\n",
       "      <td>524.37124</td>\n",
       "      <td>522.3558</td>\n",
       "      <td>496.33988</td>\n",
       "      <td>548.37036</td>\n",
       "      <td>566.34631</td>\n",
       "      <td>538.38687</td>\n",
       "      <td>552.40238</td>\n",
       "      <td>510.35577</td>\n",
       "      <td>612.55579</td>\n",
       "      <td>508.33989</td>\n",
       "      <td>494.32466</td>\n",
       "      <td>482.32461</td>\n",
       "    </tr>\n",
       "  </tbody>\n",
       "</table>\n",
       "</div>"
      ],
      "text/plain": [
       "          PC O-20:1   LPC 18:0 LPC 18:1_A   LPC 16:0   LPC 20:2 LPC 18:1_B  \\\n",
       "m/z meas.  550.3865  524.37124   522.3558  496.33988  548.37036  566.34631   \n",
       "\n",
       "            LPC 19:0   LPC 20:0   LPC 17:0 DG 16:0_18:1   LPC 17:1   LPC 16:1  \\\n",
       "m/z meas.  538.38687  552.40238  510.35577    612.55579  508.33989  494.32466   \n",
       "\n",
       "            LPC 15:0  \n",
       "m/z meas.  482.32461  "
      ]
     },
     "execution_count": 59,
     "metadata": {},
     "output_type": "execute_result"
    }
   ],
   "source": [
    "most_important_features = (pd.read_excel(\"most_important_features.xlsx\")).drop(columns=\"Unnamed: 0\")\n",
    "\n",
    "df_x_lipidoma = df_x_lipidoma[most_important_features[\"Features\"]]\n",
    "\n",
    "mz_lipidoma = mz_lipidoma[most_important_features[\"Features\"]]\n",
    "mz_lipidoma"
   ]
  },
  {
   "cell_type": "code",
   "execution_count": 60,
   "metadata": {},
   "outputs": [],
   "source": [
    "# color mapping to use in plot\n",
    "color_mapping = {\n",
    "    'LC': 'red',\n",
    "    'MC': 'green',\n",
    "    'HC' : 'orange',\n",
    "    'QC' : 'purple'\n",
    "}\n",
    "\n",
    "colors = [color_mapping[label] for label in df_y_lipidoma]"
   ]
  },
  {
   "cell_type": "code",
   "execution_count": 61,
   "metadata": {},
   "outputs": [
    {
     "data": {
      "text/plain": [
       "13"
      ]
     },
     "execution_count": 61,
     "metadata": {},
     "output_type": "execute_result"
    }
   ],
   "source": [
    "num_features = len(mz_lipidoma.columns)\n",
    "num_features"
   ]
  },
  {
   "cell_type": "markdown",
   "metadata": {},
   "source": [
    "## View the data\n",
    "I made a scatter plot with M/Z on the x-axis and intensity on y-axis."
   ]
  },
  {
   "cell_type": "code",
   "execution_count": 62,
   "metadata": {},
   "outputs": [
    {
     "data": {
      "image/png": "[encoded data removed]",
      "text/plain": [
       "<Figure size 640x480 with 1 Axes>"
      ]
     },
     "metadata": {},
     "output_type": "display_data"
    },
    {
     "name": "stdout",
     "output_type": "stream",
     "text": [
      "HC 04_M    1.865309\n",
      "dtype: object\n"
     ]
    }
   ],
   "source": [
    "import matplotlib.pyplot as plt\n",
    "\n",
    "plt.scatter(mz_lipidoma, df_x_lipidoma.iloc[89:90])\n",
    "plt.xlabel(\"M/Z\")\n",
    "plt.ylabel(\"Intensity\")\n",
    "plt.title(\"Samlple HC 04_M\")\n",
    "plt.show()\n",
    "# axis=1 sono le righe; axis=0 sono le colonne\n",
    "print(df_x_lipidoma[89:90].max(axis=1))\n"
   ]
  },
  {
   "cell_type": "code",
   "execution_count": 63,
   "metadata": {},
   "outputs": [
    {
     "name": "stdout",
     "output_type": "stream",
     "text": [
      "PC O-20:1       0\n",
      "LPC 18:0        0\n",
      "LPC 18:1_A      0\n",
      "LPC 16:0        0\n",
      "LPC 20:2        0\n",
      "LPC 18:1_B      0\n",
      "LPC 19:0        0\n",
      "LPC 20:0        0\n",
      "LPC 17:0        0\n",
      "DG 16:0_18:1    0\n",
      "LPC 17:1        0\n",
      "LPC 16:1        0\n",
      "LPC 15:0        0\n",
      "dtype: int64\n"
     ]
    }
   ],
   "source": [
    "df_x_lipidoma_original = df_x_lipidoma.copy()\n",
    "for column in df_x_lipidoma.columns:\n",
    "    df_x_lipidoma.loc[:,column] = df_x_lipidoma[column].fillna((np.nanmin(df_x_lipidoma[column]))/5)\n",
    "print(df_x_lipidoma.isna().sum().sort_values(ascending=False))"
   ]
  },
  {
   "cell_type": "code",
   "execution_count": 64,
   "metadata": {},
   "outputs": [
    {
     "data": {
      "image/png": "[encoded data removed]",
      "text/plain": [
       "<Figure size 640x480 with 1 Axes>"
      ]
     },
     "metadata": {},
     "output_type": "display_data"
    }
   ],
   "source": [
    "from sklearn.decomposition import PCA\n",
    "pca_view = PCA(n_components=2)\n",
    "\n",
    "scores_view = pca_view.fit_transform(df_x_lipidoma,df_y_lipidoma)\n",
    "\n",
    "\n",
    "plt.scatter(scores_view[:, 0], scores_view[:, 1], c=colors)\n",
    "plt.xlabel('x')\n",
    "plt.ylabel('y')\n",
    "plt.legend(handles=[\n",
    "    plt.Line2D([0], [0], marker='o', color='w', label='LC', markerfacecolor='red', markersize=10),\n",
    "    plt.Line2D([0], [0], marker='o', color='w', label='MC', markerfacecolor='green', markersize=10),\n",
    "    plt.Line2D([0], [0], marker='o', color='w', label='HC', markerfacecolor='orange', markersize=10),\n",
    "    plt.Line2D([0], [0], marker='o', color='w', label='QC', markerfacecolor='purple', markersize=10),\n",
    "], title='Legend')\n",
    "plt.title('PCA View')\n",
    "plt.show()"
   ]
  },
  {
   "cell_type": "markdown",
   "metadata": {},
   "source": [
    "LDA"
   ]
  },
  {
   "cell_type": "code",
   "execution_count": 65,
   "metadata": {},
   "outputs": [
    {
     "data": {
      "image/png": "[encoded data removed]",
      "text/plain": [
       "<Figure size 640x480 with 1 Axes>"
      ]
     },
     "metadata": {},
     "output_type": "display_data"
    }
   ],
   "source": [
    "from sklearn.discriminant_analysis import LinearDiscriminantAnalysis as LDA\n",
    "\n",
    "lda_fit_tic = LDA(n_components=2)\n",
    "lda_scores = lda_fit_tic.fit_transform(df_x_lipidoma,df_y_lipidoma)\n",
    "\n",
    "plt.scatter(lda_scores[:, 0], lda_scores[:, 1], c=colors)\n",
    "plt.xlabel('x')\n",
    "plt.ylabel('y')\n",
    "plt.legend(handles=[\n",
    "    plt.Line2D([0], [0], marker='o', color='w', label='LC', markerfacecolor='red', markersize=10),\n",
    "    plt.Line2D([0], [0], marker='o', color='w', label='MC', markerfacecolor='green', markersize=10),\n",
    "    plt.Line2D([0], [0], marker='o', color='w', label='HC', markerfacecolor='orange', markersize=10),\n",
    "    plt.Line2D([0], [0], marker='o', color='w', label='QC', markerfacecolor='purple', markersize=10),\n",
    "], title='Legend')\n",
    "plt.title('LDA View')\n",
    "plt.show()"
   ]
  },
  {
   "cell_type": "markdown",
   "metadata": {},
   "source": [
    "## Drop Outlier"
   ]
  },
  {
   "cell_type": "code",
   "execution_count": 66,
   "metadata": {},
   "outputs": [],
   "source": [
    "drop = []"
   ]
  },
  {
   "cell_type": "markdown",
   "metadata": {},
   "source": [
    "LC"
   ]
  },
  {
   "cell_type": "code",
   "execution_count": 67,
   "metadata": {},
   "outputs": [
    {
     "data": {
      "text/html": [
       "<div>\n",
       "<style scoped>\n",
       "    .dataframe tbody tr th:only-of-type {\n",
       "        vertical-align: middle;\n",
       "    }\n",
       "\n",
       "    .dataframe tbody tr th {\n",
       "        vertical-align: top;\n",
       "    }\n",
       "\n",
       "    .dataframe thead th {\n",
       "        text-align: right;\n",
       "    }\n",
       "</style>\n",
       "<table border=\"1\" class=\"dataframe\">\n",
       "  <thead>\n",
       "    <tr style=\"text-align: right;\">\n",
       "      <th></th>\n",
       "      <th>Sample</th>\n",
       "      <th>outlier</th>\n",
       "    </tr>\n",
       "  </thead>\n",
       "  <tbody>\n",
       "    <tr>\n",
       "      <th>21</th>\n",
       "      <td>LC 327_M</td>\n",
       "      <td>3.463566</td>\n",
       "    </tr>\n",
       "    <tr>\n",
       "      <th>0</th>\n",
       "      <td>LC 203_M</td>\n",
       "      <td>2.911946</td>\n",
       "    </tr>\n",
       "    <tr>\n",
       "      <th>39</th>\n",
       "      <td>LC 374_M</td>\n",
       "      <td>2.526590</td>\n",
       "    </tr>\n",
       "    <tr>\n",
       "      <th>13</th>\n",
       "      <td>LC307_M</td>\n",
       "      <td>2.522621</td>\n",
       "    </tr>\n",
       "    <tr>\n",
       "      <th>44</th>\n",
       "      <td>LC 386_M</td>\n",
       "      <td>2.312828</td>\n",
       "    </tr>\n",
       "    <tr>\n",
       "      <th>...</th>\n",
       "      <td>...</td>\n",
       "      <td>...</td>\n",
       "    </tr>\n",
       "    <tr>\n",
       "      <th>9</th>\n",
       "      <td>LC 270_M</td>\n",
       "      <td>0.295676</td>\n",
       "    </tr>\n",
       "    <tr>\n",
       "      <th>14</th>\n",
       "      <td>LC 311_M</td>\n",
       "      <td>0.289679</td>\n",
       "    </tr>\n",
       "    <tr>\n",
       "      <th>50</th>\n",
       "      <td>LC 397_M</td>\n",
       "      <td>0.267595</td>\n",
       "    </tr>\n",
       "    <tr>\n",
       "      <th>25</th>\n",
       "      <td>LC 341_M</td>\n",
       "      <td>0.203639</td>\n",
       "    </tr>\n",
       "    <tr>\n",
       "      <th>42</th>\n",
       "      <td>LC 379_M</td>\n",
       "      <td>0.180217</td>\n",
       "    </tr>\n",
       "  </tbody>\n",
       "</table>\n",
       "<p>69 rows × 2 columns</p>\n",
       "</div>"
      ],
      "text/plain": [
       "      Sample   outlier\n",
       "21  LC 327_M  3.463566\n",
       "0   LC 203_M  2.911946\n",
       "39  LC 374_M  2.526590\n",
       "13   LC307_M  2.522621\n",
       "44  LC 386_M  2.312828\n",
       "..       ...       ...\n",
       "9   LC 270_M  0.295676\n",
       "14  LC 311_M  0.289679\n",
       "50  LC 397_M  0.267595\n",
       "25  LC 341_M  0.203639\n",
       "42  LC 379_M  0.180217\n",
       "\n",
       "[69 rows x 2 columns]"
      ]
     },
     "execution_count": 67,
     "metadata": {},
     "output_type": "execute_result"
    }
   ],
   "source": [
    "## codice prova con la distanza di mahalonobis\n",
    "lc = scores_view[7:76,:]\n",
    "lc\n",
    "mean_lc = np.mean(lc,axis=0)\n",
    "cov_matrix = np.cov(lc,rowvar=False)\n",
    "\n",
    "mahalanobis_distance_lc = []\n",
    "\n",
    "for point in lc:\n",
    "    diff = point - mean_lc\n",
    "    distance = np.sqrt(np.dot(np.dot(diff, np.linalg.inv(cov_matrix)), diff))\n",
    "    mahalanobis_distance_lc.append(distance)\n",
    "    \n",
    "# print(mahalanobis_distance_lc)\n",
    "\n",
    "outlier_lc = pd.DataFrame({\"Sample\":df_x_lipidoma.index[7:76],\"outlier\":mahalanobis_distance_lc}).sort_values(by=\"outlier\",ascending=False)\n",
    "outlier_lc"
   ]
  },
  {
   "cell_type": "code",
   "execution_count": 68,
   "metadata": {},
   "outputs": [
    {
     "data": {
      "text/plain": [
       "5.991464547107979"
      ]
     },
     "execution_count": 68,
     "metadata": {},
     "output_type": "execute_result"
    }
   ],
   "source": [
    "from scipy.stats import chi2\n",
    "\n",
    "alpha = 0.05\n",
    "threshold_distance_mahalanobis = chi2.ppf(1 - alpha, df = 2)\n",
    "threshold_distance_mahalanobis"
   ]
  },
  {
   "cell_type": "code",
   "execution_count": 69,
   "metadata": {},
   "outputs": [
    {
     "data": {
      "text/plain": [
       "[]"
      ]
     },
     "execution_count": 69,
     "metadata": {},
     "output_type": "execute_result"
    }
   ],
   "source": [
    "mean_out_lc = outlier_lc[\"outlier\"].mean(axis=0)\n",
    "temp = []\n",
    "for sample,elem in outlier_lc.values:\n",
    "    if elem > threshold_distance_mahalanobis:\n",
    "        drop.append(sample)\n",
    "        temp.append(sample)\n",
    "\n",
    "outlier_lc = outlier_lc.drop(outlier_lc[outlier_lc[\"Sample\"].isin(temp)].index)\n",
    "\n",
    "drop"
   ]
  },
  {
   "cell_type": "markdown",
   "metadata": {},
   "source": [
    "MC"
   ]
  },
  {
   "cell_type": "code",
   "execution_count": 70,
   "metadata": {},
   "outputs": [
    {
     "data": {
      "text/html": [
       "<div>\n",
       "<style scoped>\n",
       "    .dataframe tbody tr th:only-of-type {\n",
       "        vertical-align: middle;\n",
       "    }\n",
       "\n",
       "    .dataframe tbody tr th {\n",
       "        vertical-align: top;\n",
       "    }\n",
       "\n",
       "    .dataframe thead th {\n",
       "        text-align: right;\n",
       "    }\n",
       "</style>\n",
       "<table border=\"1\" class=\"dataframe\">\n",
       "  <thead>\n",
       "    <tr style=\"text-align: right;\">\n",
       "      <th></th>\n",
       "      <th>Sample</th>\n",
       "      <th>outlier</th>\n",
       "    </tr>\n",
       "  </thead>\n",
       "  <tbody>\n",
       "    <tr>\n",
       "      <th>8</th>\n",
       "      <td>MC 17_M</td>\n",
       "      <td>2.548096</td>\n",
       "    </tr>\n",
       "    <tr>\n",
       "      <th>6</th>\n",
       "      <td>MC 14_M</td>\n",
       "      <td>2.233797</td>\n",
       "    </tr>\n",
       "    <tr>\n",
       "      <th>7</th>\n",
       "      <td>MC 15_M</td>\n",
       "      <td>1.418369</td>\n",
       "    </tr>\n",
       "    <tr>\n",
       "      <th>2</th>\n",
       "      <td>MC 09_M</td>\n",
       "      <td>1.311422</td>\n",
       "    </tr>\n",
       "    <tr>\n",
       "      <th>0</th>\n",
       "      <td>MC 04_M</td>\n",
       "      <td>0.946819</td>\n",
       "    </tr>\n",
       "    <tr>\n",
       "      <th>5</th>\n",
       "      <td>MC 13_M</td>\n",
       "      <td>0.883417</td>\n",
       "    </tr>\n",
       "    <tr>\n",
       "      <th>9</th>\n",
       "      <td>MC 18_M</td>\n",
       "      <td>0.614600</td>\n",
       "    </tr>\n",
       "    <tr>\n",
       "      <th>1</th>\n",
       "      <td>MC 05_M</td>\n",
       "      <td>0.606431</td>\n",
       "    </tr>\n",
       "    <tr>\n",
       "      <th>4</th>\n",
       "      <td>MC 11_M</td>\n",
       "      <td>0.585771</td>\n",
       "    </tr>\n",
       "    <tr>\n",
       "      <th>3</th>\n",
       "      <td>MC 10_M</td>\n",
       "      <td>0.142287</td>\n",
       "    </tr>\n",
       "  </tbody>\n",
       "</table>\n",
       "</div>"
      ],
      "text/plain": [
       "    Sample   outlier\n",
       "8  MC 17_M  2.548096\n",
       "6  MC 14_M  2.233797\n",
       "7  MC 15_M  1.418369\n",
       "2  MC 09_M  1.311422\n",
       "0  MC 04_M  0.946819\n",
       "5  MC 13_M  0.883417\n",
       "9  MC 18_M  0.614600\n",
       "1  MC 05_M  0.606431\n",
       "4  MC 11_M  0.585771\n",
       "3  MC 10_M  0.142287"
      ]
     },
     "execution_count": 70,
     "metadata": {},
     "output_type": "execute_result"
    }
   ],
   "source": [
    "mc = scores_view[76:86,:]\n",
    "\n",
    "mean_mc = np.mean(mc,axis=0)\n",
    "cov_matrix = np.cov(mc,rowvar=False)\n",
    "\n",
    "mahalanobis_distance_mc = []\n",
    "\n",
    "for point in mc:\n",
    "    diff = point - mean_mc\n",
    "    distance = np.sqrt(np.dot(np.dot(diff, np.linalg.inv(cov_matrix)), diff))\n",
    "    mahalanobis_distance_mc.append(distance)\n",
    "\n",
    "outlier_mc = pd.DataFrame({\"Sample\":df_x_lipidoma.index[76:86],\"outlier\":mahalanobis_distance_mc}).sort_values(by=\"outlier\",ascending=False)\n",
    "outlier_mc"
   ]
  },
  {
   "cell_type": "code",
   "execution_count": 71,
   "metadata": {},
   "outputs": [
    {
     "data": {
      "text/plain": [
       "[]"
      ]
     },
     "execution_count": 71,
     "metadata": {},
     "output_type": "execute_result"
    }
   ],
   "source": [
    "mean_out_mc = outlier_mc[\"outlier\"].mean(axis=0)\n",
    "temp = []\n",
    "for sample,elem in outlier_mc.values:\n",
    "    if elem > threshold_distance_mahalanobis:\n",
    "        drop.append(sample)\n",
    "        temp.append(sample)\n",
    "        \n",
    "outlier_mc = outlier_mc.drop(outlier_mc[outlier_mc[\"Sample\"].isin(temp)].index)\n",
    "\n",
    "drop"
   ]
  },
  {
   "cell_type": "markdown",
   "metadata": {},
   "source": [
    "HC"
   ]
  },
  {
   "cell_type": "code",
   "execution_count": 72,
   "metadata": {},
   "outputs": [
    {
     "data": {
      "text/html": [
       "<div>\n",
       "<style scoped>\n",
       "    .dataframe tbody tr th:only-of-type {\n",
       "        vertical-align: middle;\n",
       "    }\n",
       "\n",
       "    .dataframe tbody tr th {\n",
       "        vertical-align: top;\n",
       "    }\n",
       "\n",
       "    .dataframe thead th {\n",
       "        text-align: right;\n",
       "    }\n",
       "</style>\n",
       "<table border=\"1\" class=\"dataframe\">\n",
       "  <thead>\n",
       "    <tr style=\"text-align: right;\">\n",
       "      <th></th>\n",
       "      <th>Sample</th>\n",
       "      <th>outlier</th>\n",
       "    </tr>\n",
       "  </thead>\n",
       "  <tbody>\n",
       "    <tr>\n",
       "      <th>10</th>\n",
       "      <td>HC 11_M</td>\n",
       "      <td>3.136639</td>\n",
       "    </tr>\n",
       "    <tr>\n",
       "      <th>6</th>\n",
       "      <td>HC 07_M</td>\n",
       "      <td>2.031303</td>\n",
       "    </tr>\n",
       "    <tr>\n",
       "      <th>14</th>\n",
       "      <td>HC 15_M</td>\n",
       "      <td>1.840572</td>\n",
       "    </tr>\n",
       "    <tr>\n",
       "      <th>2</th>\n",
       "      <td>HC 03_M</td>\n",
       "      <td>1.658405</td>\n",
       "    </tr>\n",
       "    <tr>\n",
       "      <th>22</th>\n",
       "      <td>HC 23_M</td>\n",
       "      <td>1.656445</td>\n",
       "    </tr>\n",
       "    <tr>\n",
       "      <th>20</th>\n",
       "      <td>HC 22_M</td>\n",
       "      <td>1.633344</td>\n",
       "    </tr>\n",
       "    <tr>\n",
       "      <th>16</th>\n",
       "      <td>HC 17_M</td>\n",
       "      <td>1.571860</td>\n",
       "    </tr>\n",
       "    <tr>\n",
       "      <th>0</th>\n",
       "      <td>HC 01_M</td>\n",
       "      <td>1.465945</td>\n",
       "    </tr>\n",
       "    <tr>\n",
       "      <th>7</th>\n",
       "      <td>HC 08_M</td>\n",
       "      <td>1.460202</td>\n",
       "    </tr>\n",
       "    <tr>\n",
       "      <th>1</th>\n",
       "      <td>HC 02_M</td>\n",
       "      <td>1.406626</td>\n",
       "    </tr>\n",
       "    <tr>\n",
       "      <th>3</th>\n",
       "      <td>HC 04_M</td>\n",
       "      <td>1.321188</td>\n",
       "    </tr>\n",
       "    <tr>\n",
       "      <th>12</th>\n",
       "      <td>HC 13_M</td>\n",
       "      <td>1.102465</td>\n",
       "    </tr>\n",
       "    <tr>\n",
       "      <th>15</th>\n",
       "      <td>HC 16_M</td>\n",
       "      <td>1.028530</td>\n",
       "    </tr>\n",
       "    <tr>\n",
       "      <th>13</th>\n",
       "      <td>HC 14_M</td>\n",
       "      <td>1.018454</td>\n",
       "    </tr>\n",
       "    <tr>\n",
       "      <th>11</th>\n",
       "      <td>HC 12_M</td>\n",
       "      <td>0.962204</td>\n",
       "    </tr>\n",
       "    <tr>\n",
       "      <th>21</th>\n",
       "      <td>HC 20_M</td>\n",
       "      <td>0.901706</td>\n",
       "    </tr>\n",
       "    <tr>\n",
       "      <th>19</th>\n",
       "      <td>HC 21_M</td>\n",
       "      <td>0.850120</td>\n",
       "    </tr>\n",
       "    <tr>\n",
       "      <th>4</th>\n",
       "      <td>HC 05_M</td>\n",
       "      <td>0.838750</td>\n",
       "    </tr>\n",
       "    <tr>\n",
       "      <th>5</th>\n",
       "      <td>HC 06_M</td>\n",
       "      <td>0.807192</td>\n",
       "    </tr>\n",
       "    <tr>\n",
       "      <th>17</th>\n",
       "      <td>HC 18_M</td>\n",
       "      <td>0.677030</td>\n",
       "    </tr>\n",
       "    <tr>\n",
       "      <th>18</th>\n",
       "      <td>HC 19_M</td>\n",
       "      <td>0.478055</td>\n",
       "    </tr>\n",
       "    <tr>\n",
       "      <th>9</th>\n",
       "      <td>HC 10_M</td>\n",
       "      <td>0.317391</td>\n",
       "    </tr>\n",
       "    <tr>\n",
       "      <th>8</th>\n",
       "      <td>HC 09_M</td>\n",
       "      <td>0.307794</td>\n",
       "    </tr>\n",
       "  </tbody>\n",
       "</table>\n",
       "</div>"
      ],
      "text/plain": [
       "     Sample   outlier\n",
       "10  HC 11_M  3.136639\n",
       "6   HC 07_M  2.031303\n",
       "14  HC 15_M  1.840572\n",
       "2   HC 03_M  1.658405\n",
       "22  HC 23_M  1.656445\n",
       "20  HC 22_M  1.633344\n",
       "16  HC 17_M  1.571860\n",
       "0   HC 01_M  1.465945\n",
       "7   HC 08_M  1.460202\n",
       "1   HC 02_M  1.406626\n",
       "3   HC 04_M  1.321188\n",
       "12  HC 13_M  1.102465\n",
       "15  HC 16_M  1.028530\n",
       "13  HC 14_M  1.018454\n",
       "11  HC 12_M  0.962204\n",
       "21  HC 20_M  0.901706\n",
       "19  HC 21_M  0.850120\n",
       "4   HC 05_M  0.838750\n",
       "5   HC 06_M  0.807192\n",
       "17  HC 18_M  0.677030\n",
       "18  HC 19_M  0.478055\n",
       "9   HC 10_M  0.317391\n",
       "8   HC 09_M  0.307794"
      ]
     },
     "execution_count": 72,
     "metadata": {},
     "output_type": "execute_result"
    }
   ],
   "source": [
    "hc = scores_view[86:,:]\n",
    "\n",
    "mean_hc = np.mean(hc,axis=0)\n",
    "cov_matrix = np.cov(hc,rowvar=False)\n",
    "\n",
    "mahalanobis_distance_hc = []\n",
    "\n",
    "for point in hc:\n",
    "    diff = point - mean_hc\n",
    "    distance = np.sqrt(np.dot(np.dot(diff, np.linalg.inv(cov_matrix)), diff))\n",
    "    mahalanobis_distance_hc.append(distance)\n",
    "\n",
    "outlier_hc = pd.DataFrame({\"Sample\":df_x_lipidoma.index[86:],\"outlier\":mahalanobis_distance_hc}).sort_values(by=\"outlier\",ascending=False)\n",
    "outlier_hc"
   ]
  },
  {
   "cell_type": "code",
   "execution_count": 73,
   "metadata": {},
   "outputs": [
    {
     "data": {
      "text/plain": [
       "[]"
      ]
     },
     "execution_count": 73,
     "metadata": {},
     "output_type": "execute_result"
    }
   ],
   "source": [
    "mean_out_hc = outlier_hc[\"outlier\"].mean(axis=0)\n",
    "\n",
    "temp = []\n",
    "for sample,elem in outlier_hc.values:\n",
    "    if elem > threshold_distance_mahalanobis:\n",
    "        drop.append(sample)\n",
    "        temp.append(sample)\n",
    "\n",
    "outlier_hc = outlier_hc.drop(outlier_hc[outlier_hc[\"Sample\"].isin(temp)].index) \n",
    "drop"
   ]
  },
  {
   "cell_type": "code",
   "execution_count": 74,
   "metadata": {},
   "outputs": [
    {
     "data": {
      "image/png": "[encoded data removed]",
      "text/plain": [
       "<Figure size 640x480 with 1 Axes>"
      ]
     },
     "metadata": {},
     "output_type": "display_data"
    }
   ],
   "source": [
    "df_score_view = pd.DataFrame({\"Sample\":df_x_lipidoma.index,\"Score View X\":scores_view[:,0], \"Score View Y\":scores_view[:,1]})\n",
    "\n",
    "index_drop = df_score_view[df_score_view[\"Sample\"].isin(drop)].index\n",
    "colors_after_drop = np.delete(colors,index_drop)\n",
    "df_score_view = df_score_view.drop(index_drop)\n",
    "df_score_view\n",
    "\n",
    "plt.scatter(df_score_view[\"Score View X\"], df_score_view[\"Score View Y\"], c=colors_after_drop)\n",
    "plt.xlabel('x')\n",
    "plt.ylabel('y')\n",
    "plt.legend(handles=[\n",
    "    plt.Line2D([0], [0], marker='o', color='w', label='LC', markerfacecolor='red', markersize=10),\n",
    "    plt.Line2D([0], [0], marker='o', color='w', label='MC', markerfacecolor='green', markersize=10),\n",
    "    plt.Line2D([0], [0], marker='o', color='w', label='HC', markerfacecolor='orange', markersize=10),\n",
    "    plt.Line2D([0], [0], marker='o', color='w', label='QC', markerfacecolor='purple', markersize=10),\n",
    "], title='Legend')\n",
    "plt.title('PCA View')\n",
    "plt.show()"
   ]
  },
  {
   "cell_type": "markdown",
   "metadata": {},
   "source": [
    "## Split Train and Test"
   ]
  },
  {
   "cell_type": "code",
   "execution_count": 75,
   "metadata": {},
   "outputs": [
    {
     "name": "stdout",
     "output_type": "stream",
     "text": [
      "Label\n",
      "LC    69\n",
      "HC    23\n",
      "MC    10\n",
      "Name: count, dtype: int64\n",
      "Label\n",
      "LC    69\n",
      "HC    23\n",
      "MC    10\n",
      "Name: count, dtype: int64\n"
     ]
    },
    {
     "data": {
      "image/png": "[encoded data removed]",
      "text/plain": [
       "<Figure size 640x480 with 1 Axes>"
      ]
     },
     "metadata": {},
     "output_type": "display_data"
    }
   ],
   "source": [
    "df_x_lipidoma_noqc = df_x_lipidoma.iloc[7:]\n",
    "df_y_lipidoma_noqc = df_y_lipidoma.iloc[7:]\n",
    "\n",
    "print(df_y_lipidoma_noqc.value_counts())\n",
    "\n",
    "df_score_view_noqc = df_score_view.drop([0,1,2,3,4,5,6])\n",
    "\n",
    "x = df_x_lipidoma_noqc.copy()\n",
    "y = df_y_lipidoma_noqc.copy()\n",
    "\n",
    "x = x.drop(drop)\n",
    "y = y.drop(drop)\n",
    "print(y.value_counts())\n",
    "plt.plot(y.value_counts())\n",
    "plt.show()"
   ]
  },
  {
   "cell_type": "markdown",
   "metadata": {},
   "source": [
    "Split"
   ]
  },
  {
   "cell_type": "code",
   "execution_count": 76,
   "metadata": {},
   "outputs": [
    {
     "data": {
      "text/plain": [
       "LC 327_M    LC\n",
       "LC 203_M    LC\n",
       "LC 374_M    LC\n",
       "LC307_M     LC\n",
       "LC 386_M    LC\n",
       "            ..\n",
       "HC 13_M     HC\n",
       "HC 16_M     HC\n",
       "HC 14_M     HC\n",
       "HC 12_M     HC\n",
       "HC 20_M     HC\n",
       "Name: Label, Length: 71, dtype: object"
      ]
     },
     "execution_count": 76,
     "metadata": {},
     "output_type": "execute_result"
    }
   ],
   "source": [
    "train_size = 0.7\n",
    "\n",
    "train_size_lc = int(len(outlier_lc)*train_size)\n",
    "train_size_mc = int(len(outlier_mc)*train_size)\n",
    "train_size_hc = int(len(outlier_hc)*train_size)\n",
    "\n",
    "list_train_lc_x = x.loc[outlier_lc[\"Sample\"].iloc[0:train_size_lc]]\n",
    "list_train_lc_y = y.loc[outlier_lc[\"Sample\"].iloc[0:train_size_lc]]\n",
    "\n",
    "list_train_mc_x = x.loc[outlier_mc[\"Sample\"].iloc[0:train_size_mc]]\n",
    "list_train_mc_y = y.loc[outlier_mc[\"Sample\"].iloc[0:train_size_mc]]\n",
    "\n",
    "list_train_hc_x = x.loc[outlier_hc[\"Sample\"].iloc[0:train_size_hc]]\n",
    "list_train_hc_y = y.loc[outlier_hc[\"Sample\"].iloc[0:train_size_hc]]\n",
    "\n",
    "x_train = pd.concat([list_train_lc_x,list_train_mc_x,list_train_hc_x])\n",
    "y_train = pd.concat([list_train_lc_y,list_train_mc_y,list_train_hc_y])\n",
    "y_train"
   ]
  },
  {
   "cell_type": "code",
   "execution_count": 77,
   "metadata": {},
   "outputs": [
    {
     "data": {
      "text/plain": [
       "31"
      ]
     },
     "execution_count": 77,
     "metadata": {},
     "output_type": "execute_result"
    }
   ],
   "source": [
    "x_test = x.loc[~x.isin(x_train.to_dict(orient='list')).all(axis=1)]\n",
    "y_test = y[~y.index.isin(y_train.index)]\n",
    "len(y_test)"
   ]
  },
  {
   "cell_type": "code",
   "execution_count": 78,
   "metadata": {},
   "outputs": [],
   "source": [
    "name_sample_train = x_train.transpose().columns\n",
    "name_sample_test = x_test.transpose().columns"
   ]
  },
  {
   "cell_type": "markdown",
   "metadata": {},
   "source": [
    "Save Mean and Std of training set"
   ]
  },
  {
   "cell_type": "code",
   "execution_count": 79,
   "metadata": {},
   "outputs": [],
   "source": [
    "mean= x_train.mean(axis=0)\n",
    "std = x_train.std(axis=0)"
   ]
  },
  {
   "cell_type": "markdown",
   "metadata": {},
   "source": [
    "View the split in Train and Test Set"
   ]
  },
  {
   "cell_type": "code",
   "execution_count": 80,
   "metadata": {},
   "outputs": [
    {
     "data": {
      "image/png": "[encoded data removed]",
      "text/plain": [
       "<Figure size 1500x500 with 3 Axes>"
      ]
     },
     "metadata": {},
     "output_type": "display_data"
    }
   ],
   "source": [
    "lc_2_dim = PCA(n_components=2).fit_transform(x.loc[outlier_lc[\"Sample\"]])\n",
    "mc_2_dim = PCA(n_components=2).fit_transform(x.loc[outlier_mc[\"Sample\"]])\n",
    "hc_2_dim = PCA(n_components=2).fit_transform(x.loc[outlier_hc[\"Sample\"]])\n",
    "\n",
    "lc_color = ['red'] * train_size_lc + ['black'] * (len(lc_2_dim) - train_size_lc)\n",
    "mc_color = ['red'] * train_size_mc + ['black'] * (len(mc_2_dim) - train_size_mc)\n",
    "hc_color = ['red'] * train_size_hc + ['black'] * (len(hc_2_dim) - train_size_hc)\n",
    "\n",
    "\n",
    "fig, axs = plt.subplots(1,3,figsize=(15,5))\n",
    "axs[0].scatter(lc_2_dim[:,0],lc_2_dim[:,1],c=lc_color)\n",
    "axs[0].legend(handles=[plt.Line2D([], [], color='red', marker='o', linestyle='None', label='Train'),\n",
    "                    plt.Line2D([], [], color='black', marker='o', linestyle='None', label='Test')])\n",
    "axs[0].set_title(\"LC\")\n",
    "\n",
    "axs[1].scatter(hc_2_dim[:,0],hc_2_dim[:,1],c=hc_color)\n",
    "axs[1].legend(handles=[plt.Line2D([], [], color='red', marker='o', linestyle='None', label='Train'),\n",
    "                    plt.Line2D([], [], color='black', marker='o', linestyle='None', label='Test')])\n",
    "axs[1].set_title(\"HC\")\n",
    "\n",
    "axs[2].scatter(mc_2_dim[:,0],mc_2_dim[:,1],c=mc_color)\n",
    "axs[2].legend(handles=[plt.Line2D([], [], color='red', marker='o', linestyle='None', label='Train'),\n",
    "                    plt.Line2D([], [], color='black', marker='o', linestyle='None', label='Test')])\n",
    "axs[2].set_title(\"MC\")\n",
    "\n",
    "plt.tight_layout()\n",
    "plt.show()"
   ]
  },
  {
   "cell_type": "markdown",
   "metadata": {},
   "source": [
    "### Prepare the training set for models\n",
    "No PCA"
   ]
  },
  {
   "cell_type": "markdown",
   "metadata": {},
   "source": [
    "Train"
   ]
  },
  {
   "cell_type": "code",
   "execution_count": 81,
   "metadata": {},
   "outputs": [],
   "source": [
    "X_w = x_train\n",
    "Y_w = y_train\n",
    "x_test_centered = (x_test.sub(mean,axis=1)).div(std,axis=1)\n",
    "\n",
    "all_performance = []"
   ]
  },
  {
   "cell_type": "markdown",
   "metadata": {},
   "source": [
    "### Logistic Regression"
   ]
  },
  {
   "cell_type": "code",
   "execution_count": 82,
   "metadata": {},
   "outputs": [
    {
     "name": "stderr",
     "output_type": "stream",
     "text": [
      "/Users/bvs/opt/anaconda3/envs/AI4Omics/lib/python3.9/site-packages/sklearn/metrics/_classification.py:2394: UserWarning: y_pred contains classes not in y_true\n",
      "  warnings.warn(\"y_pred contains classes not in y_true\")\n",
      "/Users/bvs/opt/anaconda3/envs/AI4Omics/lib/python3.9/site-packages/sklearn/metrics/_classification.py:2394: UserWarning: y_pred contains classes not in y_true\n",
      "  warnings.warn(\"y_pred contains classes not in y_true\")\n",
      "/Users/bvs/opt/anaconda3/envs/AI4Omics/lib/python3.9/site-packages/sklearn/metrics/_classification.py:2394: UserWarning: y_pred contains classes not in y_true\n",
      "  warnings.warn(\"y_pred contains classes not in y_true\")\n",
      "/Users/bvs/opt/anaconda3/envs/AI4Omics/lib/python3.9/site-packages/sklearn/metrics/_classification.py:2394: UserWarning: y_pred contains classes not in y_true\n",
      "  warnings.warn(\"y_pred contains classes not in y_true\")\n",
      "/Users/bvs/opt/anaconda3/envs/AI4Omics/lib/python3.9/site-packages/sklearn/metrics/_classification.py:2394: UserWarning: y_pred contains classes not in y_true\n",
      "  warnings.warn(\"y_pred contains classes not in y_true\")\n",
      "/Users/bvs/opt/anaconda3/envs/AI4Omics/lib/python3.9/site-packages/sklearn/metrics/_classification.py:2394: UserWarning: y_pred contains classes not in y_true\n",
      "  warnings.warn(\"y_pred contains classes not in y_true\")\n",
      "/Users/bvs/opt/anaconda3/envs/AI4Omics/lib/python3.9/site-packages/sklearn/metrics/_classification.py:2394: UserWarning: y_pred contains classes not in y_true\n",
      "  warnings.warn(\"y_pred contains classes not in y_true\")\n",
      "/Users/bvs/opt/anaconda3/envs/AI4Omics/lib/python3.9/site-packages/sklearn/metrics/_classification.py:2394: UserWarning: y_pred contains classes not in y_true\n",
      "  warnings.warn(\"y_pred contains classes not in y_true\")\n",
      "/Users/bvs/opt/anaconda3/envs/AI4Omics/lib/python3.9/site-packages/sklearn/metrics/_classification.py:2394: UserWarning: y_pred contains classes not in y_true\n",
      "  warnings.warn(\"y_pred contains classes not in y_true\")\n",
      "/Users/bvs/opt/anaconda3/envs/AI4Omics/lib/python3.9/site-packages/sklearn/metrics/_classification.py:2394: UserWarning: y_pred contains classes not in y_true\n",
      "  warnings.warn(\"y_pred contains classes not in y_true\")\n",
      "/Users/bvs/opt/anaconda3/envs/AI4Omics/lib/python3.9/site-packages/sklearn/metrics/_classification.py:2394: UserWarning: y_pred contains classes not in y_true\n",
      "  warnings.warn(\"y_pred contains classes not in y_true\")\n",
      "/Users/bvs/opt/anaconda3/envs/AI4Omics/lib/python3.9/site-packages/sklearn/metrics/_classification.py:2394: UserWarning: y_pred contains classes not in y_true\n",
      "  warnings.warn(\"y_pred contains classes not in y_true\")\n",
      "/Users/bvs/opt/anaconda3/envs/AI4Omics/lib/python3.9/site-packages/sklearn/metrics/_classification.py:2394: UserWarning: y_pred contains classes not in y_true\n",
      "  warnings.warn(\"y_pred contains classes not in y_true\")\n",
      "/Users/bvs/opt/anaconda3/envs/AI4Omics/lib/python3.9/site-packages/sklearn/metrics/_classification.py:2394: UserWarning: y_pred contains classes not in y_true\n",
      "  warnings.warn(\"y_pred contains classes not in y_true\")\n",
      "/Users/bvs/opt/anaconda3/envs/AI4Omics/lib/python3.9/site-packages/sklearn/metrics/_classification.py:2394: UserWarning: y_pred contains classes not in y_true\n",
      "  warnings.warn(\"y_pred contains classes not in y_true\")\n",
      "/Users/bvs/opt/anaconda3/envs/AI4Omics/lib/python3.9/site-packages/sklearn/metrics/_classification.py:2394: UserWarning: y_pred contains classes not in y_true\n",
      "  warnings.warn(\"y_pred contains classes not in y_true\")\n"
     ]
    },
    {
     "name": "stdout",
     "output_type": "stream",
     "text": [
      "L'accuracy è:  74.64788732394366 \n",
      "La balanced_accuracy è:  74.64788732394366\n"
     ]
    },
    {
     "name": "stderr",
     "output_type": "stream",
     "text": [
      "/Users/bvs/opt/anaconda3/envs/AI4Omics/lib/python3.9/site-packages/sklearn/metrics/_classification.py:2394: UserWarning: y_pred contains classes not in y_true\n",
      "  warnings.warn(\"y_pred contains classes not in y_true\")\n",
      "/Users/bvs/opt/anaconda3/envs/AI4Omics/lib/python3.9/site-packages/sklearn/metrics/_classification.py:2394: UserWarning: y_pred contains classes not in y_true\n",
      "  warnings.warn(\"y_pred contains classes not in y_true\")\n"
     ]
    }
   ],
   "source": [
    "from sklearn.model_selection import LeaveOneOut\n",
    "from sklearn.linear_model import LogisticRegression\n",
    "from sklearn import metrics as mt\n",
    "from imblearn.over_sampling import BorderlineSMOTE\n",
    "\n",
    "loo = LeaveOneOut()\n",
    "\n",
    "performance_scores = []\n",
    "performance_scores_balanced = []\n",
    "i = 0\n",
    "# Itera attraverso i fold\n",
    "for train_index, val_index in loo.split(X_w,Y_w):\n",
    "    i+=1\n",
    "    \n",
    "    train_x_temp, test_x_temp = X_w.iloc[train_index],X_w.iloc[val_index]\n",
    "    train_y_temp, test_y_temp = Y_w.iloc[train_index],Y_w.iloc[val_index]\n",
    "    \n",
    "    #ribilanciamento\n",
    "    bls = BorderlineSMOTE(random_state=99)\n",
    "    train_x_temp,train_y_temp = bls.fit_resample(train_x_temp,train_y_temp)\n",
    "\n",
    "    # normalizzazione\n",
    "    mean_temp= train_x_temp.mean(axis=0)\n",
    "    std_temp = train_x_temp.std(axis=0)\n",
    "    train_x_temp = (train_x_temp.sub(mean_temp,axis=1)).div(std_temp,axis=1)\n",
    "\n",
    "    test_x_temp = (test_x_temp.sub(mean_temp,axis=1)).div(std_temp,axis=1)\n",
    "    \n",
    "    lm = LogisticRegression(penalty=None,class_weight='balanced', multi_class='auto',max_iter=10000, n_jobs=4, solver='newton-cg') # penalty{‘l1’, ‘l2’, ‘elasticnet’, None}; multi_class{‘auto’, ‘ovr’, ‘multinomial’}\n",
    "    \n",
    "    lm.fit(train_x_temp, train_y_temp)\n",
    "    \n",
    "    predicted_y_temp = lm.predict(test_x_temp)\n",
    "\n",
    "    # Calcola e memorizza la misura delle prestazioni (es. accuratezza)\n",
    "    accuracy_temp = np.round(mt.accuracy_score(test_y_temp.values,predicted_y_temp)*100,2)\n",
    "    performance_scores.append(accuracy_temp)\n",
    "    balanced_accuracy_temp = np.round(mt.balanced_accuracy_score(test_y_temp.values,predicted_y_temp)*100,2)\n",
    "    performance_scores_balanced.append(balanced_accuracy_temp)\n",
    "    \n",
    "mean_accuracy_temp = sum(performance_scores)/i\n",
    "mean_accuracy_balanced_temp = sum(performance_scores_balanced)/i\n",
    "\n",
    "print(\"L'accuracy è: \", mean_accuracy_temp, \"\\nLa balanced_accuracy è: \", mean_accuracy_balanced_temp)\n",
    "\n",
    "all_performance = [{\"Logistic Regression\":{\n",
    "    \"Validation\": {\n",
    "        \"BorderlineSMOTE\": mean_accuracy_balanced_temp\n",
    "    }\n",
    "}}]"
   ]
  },
  {
   "cell_type": "markdown",
   "metadata": {},
   "source": [
    "Try on Test Set"
   ]
  },
  {
   "cell_type": "code",
   "execution_count": 83,
   "metadata": {},
   "outputs": [
    {
     "data": {
      "text/plain": [
       "82.54"
      ]
     },
     "execution_count": 83,
     "metadata": {},
     "output_type": "execute_result"
    }
   ],
   "source": [
    "predicted_y_test = lm.predict(x_test_centered)\n",
    "balanced_accuracy = np.round(mt.balanced_accuracy_score(y_test,predicted_y_test)*100,2)\n",
    "all_performance[0][\"Logistic Regression\"][\"Test\"]= {\"BorderlineSMOTE\":balanced_accuracy}\n",
    "balanced_accuracy"
   ]
  },
  {
   "cell_type": "markdown",
   "metadata": {},
   "source": [
    "Show the error in Logistic Regression"
   ]
  },
  {
   "cell_type": "code",
   "execution_count": 84,
   "metadata": {},
   "outputs": [
    {
     "name": "stdout",
     "output_type": "stream",
     "text": [
      "Gli errori vengono commessi sul campione:  [23 60 84 88 97]\n"
     ]
    },
    {
     "data": {
      "image/png": "[encoded data removed]",
      "text/plain": [
       "<Figure size 640x480 with 1 Axes>"
      ]
     },
     "metadata": {},
     "output_type": "display_data"
    }
   ],
   "source": [
    "show_error_lr = pd.DataFrame({\"Predict\":predicted_y_test, \"Real\":y_test})\n",
    "errors_name = show_error_lr[show_error_lr[\"Predict\"] != show_error_lr[\"Real\"]].index\n",
    "errors_name\n",
    "\n",
    "error_index = (df_score_view_noqc[df_score_view_noqc[\"Sample\"].isin(errors_name)].index) - 7\n",
    "print(\"Gli errori vengono commessi sul campione: \",error_index.values)\n",
    "\n",
    "colors_with_error = colors_after_drop.copy()\n",
    "colors_with_error = np.delete(colors_with_error,[0,1,2,3,4,5,6])\n",
    "colors_with_error[error_index] = \"black\"\n",
    "\n",
    "plt.scatter(df_score_view_noqc[\"Score View X\"], df_score_view_noqc[\"Score View Y\"], c=colors_with_error)\n",
    "plt.xlabel('x')\n",
    "plt.ylabel('y')\n",
    "plt.legend(handles=[\n",
    "    plt.Line2D([0], [0], marker='o', color='w', label='LC', markerfacecolor='red', markersize=10),\n",
    "    plt.Line2D([0], [0], marker='o', color='w', label='MC', markerfacecolor='green', markersize=10),\n",
    "    plt.Line2D([0], [0], marker='o', color='w', label='HC', markerfacecolor='orange', markersize=10),\n",
    "], title='Legend')\n",
    "plt.title('Logistic Regression Error')\n",
    "plt.show()"
   ]
  },
  {
   "cell_type": "markdown",
   "metadata": {},
   "source": [
    "### SVM"
   ]
  },
  {
   "cell_type": "code",
   "execution_count": 85,
   "metadata": {},
   "outputs": [
    {
     "name": "stderr",
     "output_type": "stream",
     "text": [
      "/Users/bvs/opt/anaconda3/envs/AI4Omics/lib/python3.9/site-packages/sklearn/metrics/_classification.py:2394: UserWarning: y_pred contains classes not in y_true\n",
      "  warnings.warn(\"y_pred contains classes not in y_true\")\n",
      "/Users/bvs/opt/anaconda3/envs/AI4Omics/lib/python3.9/site-packages/sklearn/metrics/_classification.py:2394: UserWarning: y_pred contains classes not in y_true\n",
      "  warnings.warn(\"y_pred contains classes not in y_true\")\n",
      "/Users/bvs/opt/anaconda3/envs/AI4Omics/lib/python3.9/site-packages/sklearn/metrics/_classification.py:2394: UserWarning: y_pred contains classes not in y_true\n",
      "  warnings.warn(\"y_pred contains classes not in y_true\")\n",
      "/Users/bvs/opt/anaconda3/envs/AI4Omics/lib/python3.9/site-packages/sklearn/metrics/_classification.py:2394: UserWarning: y_pred contains classes not in y_true\n",
      "  warnings.warn(\"y_pred contains classes not in y_true\")\n",
      "/Users/bvs/opt/anaconda3/envs/AI4Omics/lib/python3.9/site-packages/sklearn/metrics/_classification.py:2394: UserWarning: y_pred contains classes not in y_true\n",
      "  warnings.warn(\"y_pred contains classes not in y_true\")\n",
      "/Users/bvs/opt/anaconda3/envs/AI4Omics/lib/python3.9/site-packages/sklearn/metrics/_classification.py:2394: UserWarning: y_pred contains classes not in y_true\n",
      "  warnings.warn(\"y_pred contains classes not in y_true\")\n",
      "/Users/bvs/opt/anaconda3/envs/AI4Omics/lib/python3.9/site-packages/sklearn/metrics/_classification.py:2394: UserWarning: y_pred contains classes not in y_true\n",
      "  warnings.warn(\"y_pred contains classes not in y_true\")\n",
      "/Users/bvs/opt/anaconda3/envs/AI4Omics/lib/python3.9/site-packages/sklearn/metrics/_classification.py:2394: UserWarning: y_pred contains classes not in y_true\n",
      "  warnings.warn(\"y_pred contains classes not in y_true\")\n",
      "/Users/bvs/opt/anaconda3/envs/AI4Omics/lib/python3.9/site-packages/sklearn/metrics/_classification.py:2394: UserWarning: y_pred contains classes not in y_true\n",
      "  warnings.warn(\"y_pred contains classes not in y_true\")\n",
      "/Users/bvs/opt/anaconda3/envs/AI4Omics/lib/python3.9/site-packages/sklearn/metrics/_classification.py:2394: UserWarning: y_pred contains classes not in y_true\n",
      "  warnings.warn(\"y_pred contains classes not in y_true\")\n",
      "/Users/bvs/opt/anaconda3/envs/AI4Omics/lib/python3.9/site-packages/sklearn/metrics/_classification.py:2394: UserWarning: y_pred contains classes not in y_true\n",
      "  warnings.warn(\"y_pred contains classes not in y_true\")\n",
      "/Users/bvs/opt/anaconda3/envs/AI4Omics/lib/python3.9/site-packages/sklearn/metrics/_classification.py:2394: UserWarning: y_pred contains classes not in y_true\n",
      "  warnings.warn(\"y_pred contains classes not in y_true\")\n",
      "/Users/bvs/opt/anaconda3/envs/AI4Omics/lib/python3.9/site-packages/sklearn/metrics/_classification.py:2394: UserWarning: y_pred contains classes not in y_true\n",
      "  warnings.warn(\"y_pred contains classes not in y_true\")\n",
      "/Users/bvs/opt/anaconda3/envs/AI4Omics/lib/python3.9/site-packages/sklearn/metrics/_classification.py:2394: UserWarning: y_pred contains classes not in y_true\n",
      "  warnings.warn(\"y_pred contains classes not in y_true\")\n",
      "/Users/bvs/opt/anaconda3/envs/AI4Omics/lib/python3.9/site-packages/sklearn/metrics/_classification.py:2394: UserWarning: y_pred contains classes not in y_true\n",
      "  warnings.warn(\"y_pred contains classes not in y_true\")\n",
      "/Users/bvs/opt/anaconda3/envs/AI4Omics/lib/python3.9/site-packages/sklearn/metrics/_classification.py:2394: UserWarning: y_pred contains classes not in y_true\n",
      "  warnings.warn(\"y_pred contains classes not in y_true\")\n",
      "/Users/bvs/opt/anaconda3/envs/AI4Omics/lib/python3.9/site-packages/sklearn/metrics/_classification.py:2394: UserWarning: y_pred contains classes not in y_true\n",
      "  warnings.warn(\"y_pred contains classes not in y_true\")\n"
     ]
    },
    {
     "name": "stdout",
     "output_type": "stream",
     "text": [
      "L'accuracy è:  74.64788732394366 %\n",
      "La balanced_accuracy è:  74.64788732394366 %\n"
     ]
    },
    {
     "name": "stderr",
     "output_type": "stream",
     "text": [
      "/Users/bvs/opt/anaconda3/envs/AI4Omics/lib/python3.9/site-packages/sklearn/metrics/_classification.py:2394: UserWarning: y_pred contains classes not in y_true\n",
      "  warnings.warn(\"y_pred contains classes not in y_true\")\n"
     ]
    }
   ],
   "source": [
    "from sklearn.model_selection import LeaveOneOut\n",
    "from sklearn.svm import SVC\n",
    "from sklearn import metrics as mt\n",
    "from imblearn.over_sampling import BorderlineSMOTE\n",
    "\n",
    "loo = LeaveOneOut()\n",
    "\n",
    "performance_scores = []\n",
    "performance_scores_balanced = []\n",
    "i = 0\n",
    "# Itera attraverso i fold\n",
    "for train_index, val_index in loo.split(X_w):\n",
    "    i+=1\n",
    "    train_x_temp, test_x_temp = X_w.iloc[train_index],X_w.iloc[val_index]\n",
    "    train_y_temp, test_y_temp = Y_w.iloc[train_index],Y_w.iloc[val_index]\n",
    "    \n",
    "    # balancing\n",
    "    train_x_temp,train_y_temp = BorderlineSMOTE(random_state=99).fit_resample(train_x_temp,train_y_temp)\n",
    "    \n",
    "    # normalization\n",
    "    mean_temp= train_x_temp.mean(axis=0)\n",
    "    std_temp = train_x_temp.std(axis=0)\n",
    "    train_x_temp = (train_x_temp.sub(mean_temp,axis=1)).div(std_temp,axis=1)\n",
    "\n",
    "    test_x_temp = (test_x_temp.sub(mean_temp,axis=1)).div(std_temp,axis=1)\n",
    "    \n",
    "    model_svc = SVC(C=1.0,kernel=\"linear\", gamma=\"scale\")\n",
    "    model_svc.fit(train_x_temp,train_y_temp)\n",
    "    \n",
    "    predicted_y_temp = model_svc.predict(test_x_temp)\n",
    "    \n",
    "    accuracy_temp = np.round(mt.accuracy_score(test_y_temp,predicted_y_temp)*100,2)\n",
    "    performance_scores.append(accuracy_temp)\n",
    "    balanced_accuracy_temp = np.round(mt.balanced_accuracy_score(test_y_temp,predicted_y_temp)*100,2)\n",
    "    performance_scores_balanced.append(balanced_accuracy_temp)\n",
    "    \n",
    "mean_accuracy_temp = sum(performance_scores)/i\n",
    "mean_accuracy_balanced_temp = sum(performance_scores_balanced)/i\n",
    "\n",
    "print(\"L'accuracy è: \", mean_accuracy_temp, \"%\\nLa balanced_accuracy è: \", mean_accuracy_balanced_temp,\"%\")\n",
    "\n",
    "all_performance.append({\"SVM\":{\"Validation\": {\"BorderlineSMOTE\":mean_accuracy_balanced_temp}}})"
   ]
  },
  {
   "cell_type": "markdown",
   "metadata": {},
   "source": [
    "Try on Test"
   ]
  },
  {
   "cell_type": "code",
   "execution_count": 86,
   "metadata": {},
   "outputs": [
    {
     "data": {
      "text/plain": [
       "66.67"
      ]
     },
     "execution_count": 86,
     "metadata": {},
     "output_type": "execute_result"
    }
   ],
   "source": [
    "predicted_y_test = model_svc.predict(x_test_centered)\n",
    "balanced_accuracy = np.round(mt.balanced_accuracy_score(y_test,predicted_y_test)*100,2)\n",
    "all_performance[1][\"SVM\"][\"Test\"]= {\"BorderlineSMOTE\":balanced_accuracy}\n",
    "balanced_accuracy"
   ]
  },
  {
   "cell_type": "markdown",
   "metadata": {},
   "source": [
    "Show Error in SVM"
   ]
  },
  {
   "cell_type": "code",
   "execution_count": 87,
   "metadata": {},
   "outputs": [
    {
     "name": "stdout",
     "output_type": "stream",
     "text": [
      "Gli errori vengono commessi sul campione:  [ 4  7  9 12 14 23 24 25 30 33 37 40 42 47 52 59 60 61 97]\n"
     ]
    },
    {
     "data": {
      "image/png": "[encoded data removed]",
      "text/plain": [
       "<Figure size 640x480 with 1 Axes>"
      ]
     },
     "metadata": {},
     "output_type": "display_data"
    }
   ],
   "source": [
    "show_error_svm = pd.DataFrame({\"Predict\":predicted_y_test, \"Real\":y_test})\n",
    "errors_name = show_error_svm[show_error_svm[\"Predict\"] != show_error_svm[\"Real\"]].index\n",
    "errors_name\n",
    "\n",
    "error_index = (df_score_view_noqc[df_score_view_noqc[\"Sample\"].isin(errors_name)].index) - 7\n",
    "print(\"Gli errori vengono commessi sul campione: \",error_index.values)\n",
    "colors_with_error = colors_after_drop.copy()\n",
    "colors_with_error = np.delete(colors_with_error,[0,1,2,3,4,5,6])\n",
    "colors_with_error[error_index] = \"black\"\n",
    "\n",
    "plt.scatter(df_score_view_noqc[\"Score View X\"], df_score_view_noqc[\"Score View Y\"], c=colors_with_error)\n",
    "plt.xlabel('x')\n",
    "plt.ylabel('y')\n",
    "plt.legend(handles=[\n",
    "    plt.Line2D([0], [0], marker='o', color='w', label='LC', markerfacecolor='red', markersize=10),\n",
    "    plt.Line2D([0], [0], marker='o', color='w', label='MC', markerfacecolor='green', markersize=10),\n",
    "    plt.Line2D([0], [0], marker='o', color='w', label='HC', markerfacecolor='orange', markersize=10),\n",
    "], title='Legend')\n",
    "plt.title('SVM Error')\n",
    "plt.show()"
   ]
  },
  {
   "cell_type": "markdown",
   "metadata": {},
   "source": [
    "### Random Forests"
   ]
  },
  {
   "cell_type": "code",
   "execution_count": 88,
   "metadata": {},
   "outputs": [
    {
     "name": "stderr",
     "output_type": "stream",
     "text": [
      "/Users/bvs/opt/anaconda3/envs/AI4Omics/lib/python3.9/site-packages/sklearn/metrics/_classification.py:2394: UserWarning: y_pred contains classes not in y_true\n",
      "  warnings.warn(\"y_pred contains classes not in y_true\")\n",
      "/Users/bvs/opt/anaconda3/envs/AI4Omics/lib/python3.9/site-packages/sklearn/metrics/_classification.py:2394: UserWarning: y_pred contains classes not in y_true\n",
      "  warnings.warn(\"y_pred contains classes not in y_true\")\n",
      "/Users/bvs/opt/anaconda3/envs/AI4Omics/lib/python3.9/site-packages/sklearn/metrics/_classification.py:2394: UserWarning: y_pred contains classes not in y_true\n",
      "  warnings.warn(\"y_pred contains classes not in y_true\")\n",
      "/Users/bvs/opt/anaconda3/envs/AI4Omics/lib/python3.9/site-packages/sklearn/metrics/_classification.py:2394: UserWarning: y_pred contains classes not in y_true\n",
      "  warnings.warn(\"y_pred contains classes not in y_true\")\n",
      "/Users/bvs/opt/anaconda3/envs/AI4Omics/lib/python3.9/site-packages/sklearn/metrics/_classification.py:2394: UserWarning: y_pred contains classes not in y_true\n",
      "  warnings.warn(\"y_pred contains classes not in y_true\")\n",
      "/Users/bvs/opt/anaconda3/envs/AI4Omics/lib/python3.9/site-packages/sklearn/metrics/_classification.py:2394: UserWarning: y_pred contains classes not in y_true\n",
      "  warnings.warn(\"y_pred contains classes not in y_true\")\n",
      "/Users/bvs/opt/anaconda3/envs/AI4Omics/lib/python3.9/site-packages/sklearn/metrics/_classification.py:2394: UserWarning: y_pred contains classes not in y_true\n",
      "  warnings.warn(\"y_pred contains classes not in y_true\")\n",
      "/Users/bvs/opt/anaconda3/envs/AI4Omics/lib/python3.9/site-packages/sklearn/metrics/_classification.py:2394: UserWarning: y_pred contains classes not in y_true\n",
      "  warnings.warn(\"y_pred contains classes not in y_true\")\n",
      "/Users/bvs/opt/anaconda3/envs/AI4Omics/lib/python3.9/site-packages/sklearn/metrics/_classification.py:2394: UserWarning: y_pred contains classes not in y_true\n",
      "  warnings.warn(\"y_pred contains classes not in y_true\")\n",
      "/Users/bvs/opt/anaconda3/envs/AI4Omics/lib/python3.9/site-packages/sklearn/metrics/_classification.py:2394: UserWarning: y_pred contains classes not in y_true\n",
      "  warnings.warn(\"y_pred contains classes not in y_true\")\n"
     ]
    },
    {
     "name": "stdout",
     "output_type": "stream",
     "text": [
      "L'accuracy è:  85.91549295774648 %\n",
      "La balanced_accuracy è:  85.91549295774648 %\n"
     ]
    }
   ],
   "source": [
    "from sklearn.ensemble import RandomForestClassifier\n",
    "from sklearn import metrics as mt\n",
    "from sklearn.model_selection import LeaveOneOut\n",
    "from imblearn.over_sampling import BorderlineSMOTE\n",
    "\n",
    "loo = LeaveOneOut()\n",
    "\n",
    "performance_scores = []\n",
    "performance_scores_balanced = []\n",
    "i = 0\n",
    "\n",
    "for train_index, val_index in loo.split(X_w):\n",
    "    i+=1\n",
    "    train_x_temp, test_x_temp = X_w.iloc[train_index],X_w.iloc[val_index]\n",
    "    train_y_temp, test_y_temp = Y_w.iloc[train_index],Y_w.iloc[val_index]\n",
    "    \n",
    "    train_x_temp,train_y_temp = BorderlineSMOTE(random_state=99).fit_resample(train_x_temp,train_y_temp)\n",
    "    \n",
    "    # normalizzazione\n",
    "    mean_temp = train_x_temp.mean(axis=0)\n",
    "    std_temp = train_x_temp.std(axis=0)\n",
    "    train_x_temp = (train_x_temp.sub(mean_temp,axis=1)).div(std_temp,axis=1)\n",
    "\n",
    "    test_x_temp = (test_x_temp.sub(mean_temp,axis=1)).div(std_temp,axis=1)\n",
    "    \n",
    "    rf_model = RandomForestClassifier(n_estimators=200, random_state=3, max_depth=22, n_jobs=4)\n",
    "    rf_model.fit(train_x_temp, train_y_temp)\n",
    "    predicted_y_temp = rf_model.predict(test_x_temp)\n",
    "    \n",
    "    accuracy_temp = np.round(mt.accuracy_score(test_y_temp,predicted_y_temp)*100,2)\n",
    "    performance_scores.append(accuracy_temp)\n",
    "    balanced_accuracy_temp = np.round(mt.balanced_accuracy_score(test_y_temp,predicted_y_temp)*100,2)\n",
    "    performance_scores_balanced.append(balanced_accuracy_temp)\n",
    "    \n",
    "mean_accuracy_temp = sum(performance_scores)/i\n",
    "mean_accuracy_balanced_temp = sum(performance_scores_balanced)/i\n",
    "\n",
    "print(\"L'accuracy è: \", mean_accuracy_temp, \"%\\nLa balanced_accuracy è: \", mean_accuracy_balanced_temp,\"%\")\n",
    "\n",
    "all_performance.append({\"Random Forests\":{\"Validation\": {\"BorderlineSMOTE\":mean_accuracy_balanced_temp}}})"
   ]
  },
  {
   "cell_type": "markdown",
   "metadata": {},
   "source": [
    "Try on Test"
   ]
  },
  {
   "cell_type": "code",
   "execution_count": 89,
   "metadata": {},
   "outputs": [
    {
     "data": {
      "text/plain": [
       "74.6"
      ]
     },
     "execution_count": 89,
     "metadata": {},
     "output_type": "execute_result"
    }
   ],
   "source": [
    "predicted_y_test = rf_model.predict(x_test_centered)\n",
    "balanced_accuracy = np.round(mt.balanced_accuracy_score(y_test,predicted_y_test)*100,2)\n",
    "all_performance[2][\"Random Forests\"][\"Test\"]= {\"BorderlineSMOTE\":balanced_accuracy}\n",
    "balanced_accuracy"
   ]
  },
  {
   "cell_type": "markdown",
   "metadata": {},
   "source": [
    "Show Error in Random Forests"
   ]
  },
  {
   "cell_type": "code",
   "execution_count": 90,
   "metadata": {},
   "outputs": [
    {
     "name": "stdout",
     "output_type": "stream",
     "text": [
      "Gli errori vengono commessi sul campione:  [ 7  9 14 23 24 25 30 33 37 40 42 47 52 59 60 61]\n"
     ]
    },
    {
     "data": {
      "image/png": "[encoded data removed]",
      "text/plain": [
       "<Figure size 640x480 with 1 Axes>"
      ]
     },
     "metadata": {},
     "output_type": "display_data"
    }
   ],
   "source": [
    "show_error_rf = pd.DataFrame({\"Predict\":predicted_y_test, \"Real\":y_test})\n",
    "errors_name = show_error_rf[show_error_rf[\"Predict\"] != show_error_rf[\"Real\"]].index\n",
    "errors_name\n",
    "\n",
    "error_index = (df_score_view_noqc[df_score_view_noqc[\"Sample\"].isin(errors_name)].index) - 7\n",
    "print(\"Gli errori vengono commessi sul campione: \",error_index.values)\n",
    "colors_with_error = colors_after_drop.copy()\n",
    "colors_with_error = np.delete(colors_with_error,[0,1,2,3,4,5,6])\n",
    "colors_with_error[error_index] = \"black\"\n",
    "\n",
    "plt.scatter(df_score_view_noqc[\"Score View X\"], df_score_view_noqc[\"Score View Y\"], c=colors_with_error)\n",
    "plt.xlabel('x')\n",
    "plt.ylabel('y')\n",
    "plt.legend(handles=[\n",
    "    plt.Line2D([0], [0], marker='o', color='w', label='LC', markerfacecolor='red', markersize=10),\n",
    "    plt.Line2D([0], [0], marker='o', color='w', label='MC', markerfacecolor='green', markersize=10),\n",
    "    plt.Line2D([0], [0], marker='o', color='w', label='HC', markerfacecolor='orange', markersize=10),\n",
    "], title='Legend')\n",
    "plt.title('Random Forest Error')\n",
    "plt.show()"
   ]
  },
  {
   "cell_type": "markdown",
   "metadata": {},
   "source": [
    "## Write on File"
   ]
  },
  {
   "cell_type": "code",
   "execution_count": 91,
   "metadata": {},
   "outputs": [],
   "source": [
    "import json\n",
    "file_path = \"output_lipidoma_models.txt\"\n",
    "with open(file_path, \"a\") as file:\n",
    "    json.dump(all_performance, file, indent=4)"
   ]
  }
 ],
 "metadata": {
  "kernelspec": {
   "display_name": "AI4Omics",
   "language": "python",
   "name": "python3"
  },
  "language_info": {
   "codemirror_mode": {
    "name": "ipython",
    "version": 3
   },
   "file_extension": ".py",
   "mimetype": "text/x-python",
   "name": "python",
   "nbconvert_exporter": "python",
   "pygments_lexer": "ipython3",
   "version": "3.9.18"
  }
 },
 "nbformat": 4,
 "nbformat_minor": 2
}
