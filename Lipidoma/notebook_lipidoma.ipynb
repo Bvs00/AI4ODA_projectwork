{
 "cells": [
  {
   "cell_type": "markdown",
   "metadata": {},
   "source": [
    "# Project Work\n",
    "This project is composed from two dataset:\n",
    "- Lipidoma\n",
    "- Metaboloma\n",
    "\n",
    "The aim of this project is identify bio-markers that allow to distinguish the evolution of pathology (HCV). We have 3 several class of patient:\n",
    "- LC: Hepatocellular carcinoma\n",
    "- HC: Hepatitis C virus\n",
    "- MC: Mixed Cryoglobulinemia disease"
   ]
  },
  {
   "cell_type": "markdown",
   "metadata": {},
   "source": [
    "## Read data set \n",
    "On the raw we have the features, while on the column we have the samples.\n",
    "\n",
    "However, I set the features on the column and the samples on the raw."
   ]
  },
  {
   "cell_type": "code",
   "execution_count": 255,
   "metadata": {},
   "outputs": [
    {
     "data": {
      "text/html": [
       "<div>\n",
       "<style scoped>\n",
       "    .dataframe tbody tr th:only-of-type {\n",
       "        vertical-align: middle;\n",
       "    }\n",
       "\n",
       "    .dataframe tbody tr th {\n",
       "        vertical-align: top;\n",
       "    }\n",
       "\n",
       "    .dataframe thead th {\n",
       "        text-align: right;\n",
       "    }\n",
       "</style>\n",
       "<table border=\"1\" class=\"dataframe\">\n",
       "  <thead>\n",
       "    <tr style=\"text-align: right;\">\n",
       "      <th></th>\n",
       "      <th>CE 16:0</th>\n",
       "      <th>CE 16:1</th>\n",
       "      <th>CE 18:1</th>\n",
       "      <th>CE 18:2</th>\n",
       "      <th>CE 20:3</th>\n",
       "      <th>CE 20:4</th>\n",
       "      <th>CE 20:5</th>\n",
       "      <th>Cer 16:1;2O/22:0</th>\n",
       "      <th>Cer 18:1;2O/22:0</th>\n",
       "      <th>Cer 18:1;2O/23:0</th>\n",
       "      <th>...</th>\n",
       "      <th>TG 18:1_18:1_20:1</th>\n",
       "      <th>TG 18:1_18:1_20:4</th>\n",
       "      <th>TG 18:1_18:2_18:2</th>\n",
       "      <th>TG 18:1_18:2_20:4</th>\n",
       "      <th>TG 18:1_18:2_22:0</th>\n",
       "      <th>TG 18:1_18:2_24:0</th>\n",
       "      <th>TG 18:2_18:2_18:2</th>\n",
       "      <th>TG 18:2_18:2_20:0</th>\n",
       "      <th>TG 18:2_18:2_22:0</th>\n",
       "      <th>TG O-18:1_16:0_18:1</th>\n",
       "    </tr>\n",
       "  </thead>\n",
       "  <tbody>\n",
       "    <tr>\n",
       "      <th>150522_QC 2_POS_RD3_1_4915</th>\n",
       "      <td>0.330046</td>\n",
       "      <td>0.280519</td>\n",
       "      <td>2.540679</td>\n",
       "      <td>10.640863</td>\n",
       "      <td>0.560636</td>\n",
       "      <td>2.403751</td>\n",
       "      <td>0.157257</td>\n",
       "      <td>0.009157</td>\n",
       "      <td>0.049669</td>\n",
       "      <td>0.045704</td>\n",
       "      <td>...</td>\n",
       "      <td>0.048419</td>\n",
       "      <td>0.216057</td>\n",
       "      <td>0.374602</td>\n",
       "      <td>0.128683</td>\n",
       "      <td>0.006091</td>\n",
       "      <td>0.00187</td>\n",
       "      <td>0.11348</td>\n",
       "      <td>0.081128</td>\n",
       "      <td>0.0079</td>\n",
       "      <td>0.005323</td>\n",
       "    </tr>\n",
       "    <tr>\n",
       "      <th>150522_QC 2_POS_RD3_1_4916</th>\n",
       "      <td>NaN</td>\n",
       "      <td>0.451638</td>\n",
       "      <td>NaN</td>\n",
       "      <td>12.096138</td>\n",
       "      <td>0.600185</td>\n",
       "      <td>3.066643</td>\n",
       "      <td>0.16019</td>\n",
       "      <td>0.011156</td>\n",
       "      <td>0.052369</td>\n",
       "      <td>0.053336</td>\n",
       "      <td>...</td>\n",
       "      <td>0.048786</td>\n",
       "      <td>0.238226</td>\n",
       "      <td>0.371836</td>\n",
       "      <td>0.143209</td>\n",
       "      <td>0.006248</td>\n",
       "      <td>0.002391</td>\n",
       "      <td>0.113523</td>\n",
       "      <td>0.088165</td>\n",
       "      <td>0.007748</td>\n",
       "      <td>NaN</td>\n",
       "    </tr>\n",
       "    <tr>\n",
       "      <th>150522_QC_POS_BA2_1_4678</th>\n",
       "      <td>0.217226</td>\n",
       "      <td>0.660418</td>\n",
       "      <td>2.188865</td>\n",
       "      <td>19.737975</td>\n",
       "      <td>0.902996</td>\n",
       "      <td>5.096119</td>\n",
       "      <td>0.375479</td>\n",
       "      <td>0.008749</td>\n",
       "      <td>0.04877</td>\n",
       "      <td>0.041709</td>\n",
       "      <td>...</td>\n",
       "      <td>NaN</td>\n",
       "      <td>0.194203</td>\n",
       "      <td>0.425828</td>\n",
       "      <td>0.150387</td>\n",
       "      <td>0.00583</td>\n",
       "      <td>0.001822</td>\n",
       "      <td>0.129144</td>\n",
       "      <td>0.077688</td>\n",
       "      <td>0.004856</td>\n",
       "      <td>0.006641</td>\n",
       "    </tr>\n",
       "    <tr>\n",
       "      <th>150522_QC_POS_BA2_1_4679</th>\n",
       "      <td>0.24431</td>\n",
       "      <td>0.395862</td>\n",
       "      <td>2.374355</td>\n",
       "      <td>10.277491</td>\n",
       "      <td>0.48138</td>\n",
       "      <td>2.38088</td>\n",
       "      <td>0.174221</td>\n",
       "      <td>0.007789</td>\n",
       "      <td>0.043779</td>\n",
       "      <td>0.041169</td>\n",
       "      <td>...</td>\n",
       "      <td>0.052236</td>\n",
       "      <td>0.202469</td>\n",
       "      <td>0.413477</td>\n",
       "      <td>0.141975</td>\n",
       "      <td>0.006259</td>\n",
       "      <td>0.002188</td>\n",
       "      <td>0.123501</td>\n",
       "      <td>0.063008</td>\n",
       "      <td>0.005009</td>\n",
       "      <td>0.00864</td>\n",
       "    </tr>\n",
       "    <tr>\n",
       "      <th>150522_QC_POS_BA2_1_4680</th>\n",
       "      <td>0.259228</td>\n",
       "      <td>0.343388</td>\n",
       "      <td>2.191119</td>\n",
       "      <td>9.896434</td>\n",
       "      <td>0.421994</td>\n",
       "      <td>2.144002</td>\n",
       "      <td>0.084034</td>\n",
       "      <td>0.006702</td>\n",
       "      <td>0.038995</td>\n",
       "      <td>0.038542</td>\n",
       "      <td>...</td>\n",
       "      <td>0.051265</td>\n",
       "      <td>0.206049</td>\n",
       "      <td>0.424743</td>\n",
       "      <td>0.146191</td>\n",
       "      <td>0.006052</td>\n",
       "      <td>0.00197</td>\n",
       "      <td>0.12741</td>\n",
       "      <td>0.100133</td>\n",
       "      <td>0.004539</td>\n",
       "      <td>0.00772</td>\n",
       "    </tr>\n",
       "    <tr>\n",
       "      <th>...</th>\n",
       "      <td>...</td>\n",
       "      <td>...</td>\n",
       "      <td>...</td>\n",
       "      <td>...</td>\n",
       "      <td>...</td>\n",
       "      <td>...</td>\n",
       "      <td>...</td>\n",
       "      <td>...</td>\n",
       "      <td>...</td>\n",
       "      <td>...</td>\n",
       "      <td>...</td>\n",
       "      <td>...</td>\n",
       "      <td>...</td>\n",
       "      <td>...</td>\n",
       "      <td>...</td>\n",
       "      <td>...</td>\n",
       "      <td>...</td>\n",
       "      <td>...</td>\n",
       "      <td>...</td>\n",
       "      <td>...</td>\n",
       "      <td>...</td>\n",
       "    </tr>\n",
       "    <tr>\n",
       "      <th>HC 19_M</th>\n",
       "      <td>0.321473</td>\n",
       "      <td>0.369594</td>\n",
       "      <td>2.94805</td>\n",
       "      <td>24.193067</td>\n",
       "      <td>0.864314</td>\n",
       "      <td>5.183349</td>\n",
       "      <td>0.565892</td>\n",
       "      <td>0.023624</td>\n",
       "      <td>0.112769</td>\n",
       "      <td>0.097707</td>\n",
       "      <td>...</td>\n",
       "      <td>0.030067</td>\n",
       "      <td>0.232738</td>\n",
       "      <td>0.719923</td>\n",
       "      <td>0.154853</td>\n",
       "      <td>0.005753</td>\n",
       "      <td>0.00163</td>\n",
       "      <td>0.175301</td>\n",
       "      <td>0.055449</td>\n",
       "      <td>0.006507</td>\n",
       "      <td>0.007088</td>\n",
       "    </tr>\n",
       "    <tr>\n",
       "      <th>HC 21_M</th>\n",
       "      <td>0.261614</td>\n",
       "      <td>0.480679</td>\n",
       "      <td>2.599515</td>\n",
       "      <td>10.807497</td>\n",
       "      <td>0.660797</td>\n",
       "      <td>1.732404</td>\n",
       "      <td>0.084998</td>\n",
       "      <td>0.012143</td>\n",
       "      <td>0.041101</td>\n",
       "      <td>0.036411</td>\n",
       "      <td>...</td>\n",
       "      <td>0.050221</td>\n",
       "      <td>0.155939</td>\n",
       "      <td>0.292474</td>\n",
       "      <td>0.079288</td>\n",
       "      <td>0.007948</td>\n",
       "      <td>0.001621</td>\n",
       "      <td>0.080277</td>\n",
       "      <td>0.083346</td>\n",
       "      <td>0.004616</td>\n",
       "      <td>0.007494</td>\n",
       "    </tr>\n",
       "    <tr>\n",
       "      <th>HC 22_M</th>\n",
       "      <td>0.312295</td>\n",
       "      <td>0.505954</td>\n",
       "      <td>4.053028</td>\n",
       "      <td>17.093651</td>\n",
       "      <td>0.837622</td>\n",
       "      <td>3.822791</td>\n",
       "      <td>0.515278</td>\n",
       "      <td>0.013383</td>\n",
       "      <td>0.064994</td>\n",
       "      <td>0.068863</td>\n",
       "      <td>...</td>\n",
       "      <td>0.03194</td>\n",
       "      <td>0.171667</td>\n",
       "      <td>0.266106</td>\n",
       "      <td>0.175584</td>\n",
       "      <td>0.003274</td>\n",
       "      <td>0.001061</td>\n",
       "      <td>0.042257</td>\n",
       "      <td>0.049565</td>\n",
       "      <td>0.00582</td>\n",
       "      <td>0.003099</td>\n",
       "    </tr>\n",
       "    <tr>\n",
       "      <th>HC 20_M</th>\n",
       "      <td>0.317264</td>\n",
       "      <td>0.396458</td>\n",
       "      <td>2.96421</td>\n",
       "      <td>11.487462</td>\n",
       "      <td>0.614516</td>\n",
       "      <td>2.62753</td>\n",
       "      <td>0.117277</td>\n",
       "      <td>0.009959</td>\n",
       "      <td>0.057988</td>\n",
       "      <td>0.054172</td>\n",
       "      <td>...</td>\n",
       "      <td>0.036462</td>\n",
       "      <td>0.269189</td>\n",
       "      <td>0.609648</td>\n",
       "      <td>0.154819</td>\n",
       "      <td>0.00536</td>\n",
       "      <td>0.00192</td>\n",
       "      <td>0.17339</td>\n",
       "      <td>0.09585</td>\n",
       "      <td>0.004326</td>\n",
       "      <td>0.002696</td>\n",
       "    </tr>\n",
       "    <tr>\n",
       "      <th>HC 23_M</th>\n",
       "      <td>0.323352</td>\n",
       "      <td>0.297391</td>\n",
       "      <td>2.741365</td>\n",
       "      <td>13.345181</td>\n",
       "      <td>0.644761</td>\n",
       "      <td>3.709066</td>\n",
       "      <td>0.58215</td>\n",
       "      <td>0.015872</td>\n",
       "      <td>0.071321</td>\n",
       "      <td>0.085209</td>\n",
       "      <td>...</td>\n",
       "      <td>0.074729</td>\n",
       "      <td>0.443789</td>\n",
       "      <td>0.949301</td>\n",
       "      <td>0.291876</td>\n",
       "      <td>0.01041</td>\n",
       "      <td>0.002837</td>\n",
       "      <td>0.10714</td>\n",
       "      <td>0.118712</td>\n",
       "      <td>0.006411</td>\n",
       "      <td>0.027753</td>\n",
       "    </tr>\n",
       "  </tbody>\n",
       "</table>\n",
       "<p>109 rows × 226 columns</p>\n",
       "</div>"
      ],
      "text/plain": [
       "                             CE 16:0   CE 16:1   CE 18:1    CE 18:2   CE 20:3  \\\n",
       "150522_QC 2_POS_RD3_1_4915  0.330046  0.280519  2.540679  10.640863  0.560636   \n",
       "150522_QC 2_POS_RD3_1_4916       NaN  0.451638       NaN  12.096138  0.600185   \n",
       "150522_QC_POS_BA2_1_4678    0.217226  0.660418  2.188865  19.737975  0.902996   \n",
       "150522_QC_POS_BA2_1_4679     0.24431  0.395862  2.374355  10.277491   0.48138   \n",
       "150522_QC_POS_BA2_1_4680    0.259228  0.343388  2.191119   9.896434  0.421994   \n",
       "...                              ...       ...       ...        ...       ...   \n",
       "HC 19_M                     0.321473  0.369594   2.94805  24.193067  0.864314   \n",
       "HC 21_M                     0.261614  0.480679  2.599515  10.807497  0.660797   \n",
       "HC 22_M                     0.312295  0.505954  4.053028  17.093651  0.837622   \n",
       "HC 20_M                     0.317264  0.396458   2.96421  11.487462  0.614516   \n",
       "HC 23_M                     0.323352  0.297391  2.741365  13.345181  0.644761   \n",
       "\n",
       "                             CE 20:4   CE 20:5 Cer 16:1;2O/22:0  \\\n",
       "150522_QC 2_POS_RD3_1_4915  2.403751  0.157257         0.009157   \n",
       "150522_QC 2_POS_RD3_1_4916  3.066643   0.16019         0.011156   \n",
       "150522_QC_POS_BA2_1_4678    5.096119  0.375479         0.008749   \n",
       "150522_QC_POS_BA2_1_4679     2.38088  0.174221         0.007789   \n",
       "150522_QC_POS_BA2_1_4680    2.144002  0.084034         0.006702   \n",
       "...                              ...       ...              ...   \n",
       "HC 19_M                     5.183349  0.565892         0.023624   \n",
       "HC 21_M                     1.732404  0.084998         0.012143   \n",
       "HC 22_M                     3.822791  0.515278         0.013383   \n",
       "HC 20_M                      2.62753  0.117277         0.009959   \n",
       "HC 23_M                     3.709066   0.58215         0.015872   \n",
       "\n",
       "                           Cer 18:1;2O/22:0 Cer 18:1;2O/23:0  ...  \\\n",
       "150522_QC 2_POS_RD3_1_4915         0.049669         0.045704  ...   \n",
       "150522_QC 2_POS_RD3_1_4916         0.052369         0.053336  ...   \n",
       "150522_QC_POS_BA2_1_4678            0.04877         0.041709  ...   \n",
       "150522_QC_POS_BA2_1_4679           0.043779         0.041169  ...   \n",
       "150522_QC_POS_BA2_1_4680           0.038995         0.038542  ...   \n",
       "...                                     ...              ...  ...   \n",
       "HC 19_M                            0.112769         0.097707  ...   \n",
       "HC 21_M                            0.041101         0.036411  ...   \n",
       "HC 22_M                            0.064994         0.068863  ...   \n",
       "HC 20_M                            0.057988         0.054172  ...   \n",
       "HC 23_M                            0.071321         0.085209  ...   \n",
       "\n",
       "                           TG 18:1_18:1_20:1 TG 18:1_18:1_20:4  \\\n",
       "150522_QC 2_POS_RD3_1_4915          0.048419          0.216057   \n",
       "150522_QC 2_POS_RD3_1_4916          0.048786          0.238226   \n",
       "150522_QC_POS_BA2_1_4678                 NaN          0.194203   \n",
       "150522_QC_POS_BA2_1_4679            0.052236          0.202469   \n",
       "150522_QC_POS_BA2_1_4680            0.051265          0.206049   \n",
       "...                                      ...               ...   \n",
       "HC 19_M                             0.030067          0.232738   \n",
       "HC 21_M                             0.050221          0.155939   \n",
       "HC 22_M                              0.03194          0.171667   \n",
       "HC 20_M                             0.036462          0.269189   \n",
       "HC 23_M                             0.074729          0.443789   \n",
       "\n",
       "                           TG 18:1_18:2_18:2 TG 18:1_18:2_20:4  \\\n",
       "150522_QC 2_POS_RD3_1_4915          0.374602          0.128683   \n",
       "150522_QC 2_POS_RD3_1_4916          0.371836          0.143209   \n",
       "150522_QC_POS_BA2_1_4678            0.425828          0.150387   \n",
       "150522_QC_POS_BA2_1_4679            0.413477          0.141975   \n",
       "150522_QC_POS_BA2_1_4680            0.424743          0.146191   \n",
       "...                                      ...               ...   \n",
       "HC 19_M                             0.719923          0.154853   \n",
       "HC 21_M                             0.292474          0.079288   \n",
       "HC 22_M                             0.266106          0.175584   \n",
       "HC 20_M                             0.609648          0.154819   \n",
       "HC 23_M                             0.949301          0.291876   \n",
       "\n",
       "                           TG 18:1_18:2_22:0 TG 18:1_18:2_24:0  \\\n",
       "150522_QC 2_POS_RD3_1_4915          0.006091           0.00187   \n",
       "150522_QC 2_POS_RD3_1_4916          0.006248          0.002391   \n",
       "150522_QC_POS_BA2_1_4678             0.00583          0.001822   \n",
       "150522_QC_POS_BA2_1_4679            0.006259          0.002188   \n",
       "150522_QC_POS_BA2_1_4680            0.006052           0.00197   \n",
       "...                                      ...               ...   \n",
       "HC 19_M                             0.005753           0.00163   \n",
       "HC 21_M                             0.007948          0.001621   \n",
       "HC 22_M                             0.003274          0.001061   \n",
       "HC 20_M                              0.00536           0.00192   \n",
       "HC 23_M                              0.01041          0.002837   \n",
       "\n",
       "                           TG 18:2_18:2_18:2 TG 18:2_18:2_20:0  \\\n",
       "150522_QC 2_POS_RD3_1_4915           0.11348          0.081128   \n",
       "150522_QC 2_POS_RD3_1_4916          0.113523          0.088165   \n",
       "150522_QC_POS_BA2_1_4678            0.129144          0.077688   \n",
       "150522_QC_POS_BA2_1_4679            0.123501          0.063008   \n",
       "150522_QC_POS_BA2_1_4680             0.12741          0.100133   \n",
       "...                                      ...               ...   \n",
       "HC 19_M                             0.175301          0.055449   \n",
       "HC 21_M                             0.080277          0.083346   \n",
       "HC 22_M                             0.042257          0.049565   \n",
       "HC 20_M                              0.17339           0.09585   \n",
       "HC 23_M                              0.10714          0.118712   \n",
       "\n",
       "                           TG 18:2_18:2_22:0 TG O-18:1_16:0_18:1  \n",
       "150522_QC 2_POS_RD3_1_4915            0.0079            0.005323  \n",
       "150522_QC 2_POS_RD3_1_4916          0.007748                 NaN  \n",
       "150522_QC_POS_BA2_1_4678            0.004856            0.006641  \n",
       "150522_QC_POS_BA2_1_4679            0.005009             0.00864  \n",
       "150522_QC_POS_BA2_1_4680            0.004539             0.00772  \n",
       "...                                      ...                 ...  \n",
       "HC 19_M                             0.006507            0.007088  \n",
       "HC 21_M                             0.004616            0.007494  \n",
       "HC 22_M                              0.00582            0.003099  \n",
       "HC 20_M                             0.004326            0.002696  \n",
       "HC 23_M                             0.006411            0.027753  \n",
       "\n",
       "[109 rows x 226 columns]"
      ]
     },
     "execution_count": 255,
     "metadata": {},
     "output_type": "execute_result"
    }
   ],
   "source": [
    "import pandas as pd\n",
    "import numpy as np\n",
    "\n",
    "data_lipidoma_transpose = pd.read_excel(\"../DataSet PAscale/Lipidoma.xlsx\")\n",
    "\n",
    "data_lipidoma = data_lipidoma_transpose.T\n",
    "\n",
    "data_lipidoma.columns = data_lipidoma_transpose[\"Name\"]\n",
    "\n",
    "data_lipidoma = data_lipidoma.iloc[1:]\n",
    "\n",
    "data_lipidoma.columns = [\"Label\"] + list(data_lipidoma.columns[1:])\n",
    "\n",
    "df_y_lipidoma = data_lipidoma[\"Label\"].iloc[1:]\n",
    "\n",
    "df_y_qc_lipidoma = data_lipidoma[\"Label\"].iloc[1:8]\n",
    "\n",
    "mz_lipidoma = data_lipidoma.iloc[0:1,1:]\n",
    "\n",
    "df_x_lipidoma = data_lipidoma.iloc[1:,1:]\n",
    "\n",
    "df_qc_lipidoma = data_lipidoma.iloc[1:8,1:]\n",
    "\n",
    "name_samples_lipidoma = df_x_lipidoma.transpose().columns\n",
    "\n",
    "df_x_lipidoma"
   ]
  },
  {
   "cell_type": "code",
   "execution_count": 256,
   "metadata": {},
   "outputs": [],
   "source": [
    "# color mapping to use in plot\n",
    "color_mapping = {\n",
    "    'LC': 'red',\n",
    "    'MC': 'green',\n",
    "    'HC' : 'orange',\n",
    "    'QC' : 'purple'\n",
    "}\n",
    "\n",
    "colors = [color_mapping[label] for label in df_y_lipidoma]"
   ]
  },
  {
   "cell_type": "markdown",
   "metadata": {},
   "source": [
    "## View the data\n",
    "I made a scatter plot with M/Z on the x-axis and intensity on y-axis."
   ]
  },
  {
   "cell_type": "code",
   "execution_count": 257,
   "metadata": {},
   "outputs": [
    {
     "data": {
      "image/png": "[encoded data removed]",
      "text/plain": [
       "<Figure size 640x480 with 1 Axes>"
      ]
     },
     "metadata": {},
     "output_type": "display_data"
    },
    {
     "name": "stdout",
     "output_type": "stream",
     "text": [
      "HC 04_M    34.537804\n",
      "dtype: object\n"
     ]
    }
   ],
   "source": [
    "import matplotlib.pyplot as plt\n",
    "\n",
    "plt.scatter(mz_lipidoma, df_x_lipidoma.iloc[89:90])\n",
    "plt.xlabel(\"M/Z\")\n",
    "plt.ylabel(\"Intensity\")\n",
    "plt.title(\"Samlple HC 04_M\")\n",
    "plt.show()\n",
    "# axis=1 sono le righe; axis=0 sono le colonne\n",
    "print(df_x_lipidoma[89:90].max(axis=1))\n"
   ]
  },
  {
   "cell_type": "code",
   "execution_count": 258,
   "metadata": {},
   "outputs": [
    {
     "name": "stdout",
     "output_type": "stream",
     "text": [
      "CE 16:0                0\n",
      "SM 18:2;2O/16:0        0\n",
      "PE 18:0_18:1           0\n",
      "PE 18:0_18:2           0\n",
      "PE 18:2_18:0           0\n",
      "                      ..\n",
      "PC 16:1_18:2_B         0\n",
      "PC 17:0_16:2           0\n",
      "PC 17:0_17:0           0\n",
      "PC 17:0_18:1           0\n",
      "TG O-18:1_16:0_18:1    0\n",
      "Length: 226, dtype: int64\n"
     ]
    }
   ],
   "source": [
    "df_x_lipidoma_original = df_x_lipidoma.copy()\n",
    "for column in df_x_lipidoma.columns:\n",
    "    df_x_lipidoma.loc[:,column] = df_x_lipidoma[column].fillna((np.nanmin(df_x_lipidoma[column]))/5)\n",
    "print(df_x_lipidoma.isna().sum().sort_values(ascending=False))"
   ]
  },
  {
   "cell_type": "code",
   "execution_count": 259,
   "metadata": {},
   "outputs": [
    {
     "data": {
      "image/png": "[encoded data removed]",
      "text/plain": [
       "<Figure size 640x480 with 1 Axes>"
      ]
     },
     "metadata": {},
     "output_type": "display_data"
    }
   ],
   "source": [
    "from sklearn.decomposition import PCA\n",
    "pca_view = PCA(n_components=2)\n",
    "\n",
    "scores_view = pca_view.fit_transform(df_x_lipidoma,df_y_lipidoma)\n",
    "\n",
    "\n",
    "plt.scatter(scores_view[:, 0], scores_view[:, 1], c=colors)\n",
    "plt.xlabel('x')\n",
    "plt.ylabel('y')\n",
    "plt.legend(handles=[\n",
    "    plt.Line2D([0], [0], marker='o', color='w', label='LC', markerfacecolor='red', markersize=10),\n",
    "    plt.Line2D([0], [0], marker='o', color='w', label='MC', markerfacecolor='green', markersize=10),\n",
    "    plt.Line2D([0], [0], marker='o', color='w', label='HC', markerfacecolor='orange', markersize=10),\n",
    "    plt.Line2D([0], [0], marker='o', color='w', label='QC', markerfacecolor='purple', markersize=10),\n",
    "], title='Legend')\n",
    "plt.title('PCA View')\n",
    "plt.show()"
   ]
  },
  {
   "cell_type": "markdown",
   "metadata": {},
   "source": [
    "LDA"
   ]
  },
  {
   "cell_type": "code",
   "execution_count": 260,
   "metadata": {},
   "outputs": [
    {
     "data": {
      "image/png": "[encoded data removed]",
      "text/plain": [
       "<Figure size 640x480 with 1 Axes>"
      ]
     },
     "metadata": {},
     "output_type": "display_data"
    }
   ],
   "source": [
    "from sklearn.discriminant_analysis import LinearDiscriminantAnalysis as LDA\n",
    "\n",
    "lda_fit_tic = LDA(n_components=2)\n",
    "lda_scores = lda_fit_tic.fit_transform(df_x_lipidoma,df_y_lipidoma)\n",
    "\n",
    "plt.scatter(lda_scores[:, 0], lda_scores[:, 1], c=colors)\n",
    "plt.xlabel('x')\n",
    "plt.ylabel('y')\n",
    "plt.legend(handles=[\n",
    "    plt.Line2D([0], [0], marker='o', color='w', label='LC', markerfacecolor='red', markersize=10),\n",
    "    plt.Line2D([0], [0], marker='o', color='w', label='MC', markerfacecolor='green', markersize=10),\n",
    "    plt.Line2D([0], [0], marker='o', color='w', label='HC', markerfacecolor='orange', markersize=10),\n",
    "    plt.Line2D([0], [0], marker='o', color='w', label='QC', markerfacecolor='purple', markersize=10),\n",
    "], title='Legend')\n",
    "plt.title('LDA View')\n",
    "plt.show()"
   ]
  },
  {
   "cell_type": "markdown",
   "metadata": {},
   "source": [
    "## Drop Outlier"
   ]
  },
  {
   "cell_type": "code",
   "execution_count": 261,
   "metadata": {},
   "outputs": [],
   "source": [
    "drop = []"
   ]
  },
  {
   "cell_type": "markdown",
   "metadata": {},
   "source": [
    "LC"
   ]
  },
  {
   "cell_type": "code",
   "execution_count": 262,
   "metadata": {},
   "outputs": [
    {
     "data": {
      "text/html": [
       "<div>\n",
       "<style scoped>\n",
       "    .dataframe tbody tr th:only-of-type {\n",
       "        vertical-align: middle;\n",
       "    }\n",
       "\n",
       "    .dataframe tbody tr th {\n",
       "        vertical-align: top;\n",
       "    }\n",
       "\n",
       "    .dataframe thead th {\n",
       "        text-align: right;\n",
       "    }\n",
       "</style>\n",
       "<table border=\"1\" class=\"dataframe\">\n",
       "  <thead>\n",
       "    <tr style=\"text-align: right;\">\n",
       "      <th></th>\n",
       "      <th>Sample</th>\n",
       "      <th>outlier</th>\n",
       "    </tr>\n",
       "  </thead>\n",
       "  <tbody>\n",
       "    <tr>\n",
       "      <th>19</th>\n",
       "      <td>LC 323_M</td>\n",
       "      <td>3.042468</td>\n",
       "    </tr>\n",
       "    <tr>\n",
       "      <th>51</th>\n",
       "      <td>LC 399_M</td>\n",
       "      <td>3.033468</td>\n",
       "    </tr>\n",
       "    <tr>\n",
       "      <th>13</th>\n",
       "      <td>LC307_M</td>\n",
       "      <td>2.680860</td>\n",
       "    </tr>\n",
       "    <tr>\n",
       "      <th>4</th>\n",
       "      <td>LC 241a_M</td>\n",
       "      <td>2.503711</td>\n",
       "    </tr>\n",
       "    <tr>\n",
       "      <th>1</th>\n",
       "      <td>LC 235a_M</td>\n",
       "      <td>2.483392</td>\n",
       "    </tr>\n",
       "    <tr>\n",
       "      <th>...</th>\n",
       "      <td>...</td>\n",
       "      <td>...</td>\n",
       "    </tr>\n",
       "    <tr>\n",
       "      <th>9</th>\n",
       "      <td>LC 270_M</td>\n",
       "      <td>0.237452</td>\n",
       "    </tr>\n",
       "    <tr>\n",
       "      <th>28</th>\n",
       "      <td>LC 350_M</td>\n",
       "      <td>0.210871</td>\n",
       "    </tr>\n",
       "    <tr>\n",
       "      <th>17</th>\n",
       "      <td>LC 320_M</td>\n",
       "      <td>0.208930</td>\n",
       "    </tr>\n",
       "    <tr>\n",
       "      <th>15</th>\n",
       "      <td>LC 315_M</td>\n",
       "      <td>0.116350</td>\n",
       "    </tr>\n",
       "    <tr>\n",
       "      <th>24</th>\n",
       "      <td>LC 339_M</td>\n",
       "      <td>0.090163</td>\n",
       "    </tr>\n",
       "  </tbody>\n",
       "</table>\n",
       "<p>69 rows × 2 columns</p>\n",
       "</div>"
      ],
      "text/plain": [
       "       Sample   outlier\n",
       "19   LC 323_M  3.042468\n",
       "51   LC 399_M  3.033468\n",
       "13    LC307_M  2.680860\n",
       "4   LC 241a_M  2.503711\n",
       "1   LC 235a_M  2.483392\n",
       "..        ...       ...\n",
       "9    LC 270_M  0.237452\n",
       "28   LC 350_M  0.210871\n",
       "17   LC 320_M  0.208930\n",
       "15   LC 315_M  0.116350\n",
       "24   LC 339_M  0.090163\n",
       "\n",
       "[69 rows x 2 columns]"
      ]
     },
     "execution_count": 262,
     "metadata": {},
     "output_type": "execute_result"
    }
   ],
   "source": [
    "## codice prova con la distanza di mahalonobis\n",
    "lc = scores_view[7:76,:]\n",
    "lc\n",
    "mean_lc = np.mean(lc,axis=0)\n",
    "cov_matrix = np.cov(lc,rowvar=False)\n",
    "\n",
    "mahalanobis_distance_lc = []\n",
    "\n",
    "for point in lc:\n",
    "    diff = point - mean_lc\n",
    "    distance = np.sqrt(np.dot(np.dot(diff, np.linalg.inv(cov_matrix)), diff))\n",
    "    mahalanobis_distance_lc.append(distance)\n",
    "    \n",
    "# print(mahalanobis_distance_lc)\n",
    "\n",
    "outlier_lc = pd.DataFrame({\"Sample\":df_x_lipidoma.index[7:76],\"outlier\":mahalanobis_distance_lc}).sort_values(by=\"outlier\",ascending=False)\n",
    "outlier_lc"
   ]
  },
  {
   "cell_type": "code",
   "execution_count": 263,
   "metadata": {},
   "outputs": [
    {
     "data": {
      "text/plain": [
       "[]"
      ]
     },
     "execution_count": 263,
     "metadata": {},
     "output_type": "execute_result"
    }
   ],
   "source": [
    "mean_out_lc = outlier_lc[\"outlier\"].mean(axis=0)\n",
    "temp = []\n",
    "for sample,elem in outlier_lc.values:\n",
    "    if elem > (mean_out_lc*3):\n",
    "        drop.append(sample)\n",
    "        temp.append(sample)\n",
    "\n",
    "outlier_lc = outlier_lc.drop(outlier_lc[outlier_lc[\"Sample\"].isin(temp)].index)\n",
    "\n",
    "drop"
   ]
  },
  {
   "cell_type": "markdown",
   "metadata": {},
   "source": [
    "MC"
   ]
  },
  {
   "cell_type": "code",
   "execution_count": 264,
   "metadata": {},
   "outputs": [
    {
     "data": {
      "text/html": [
       "<div>\n",
       "<style scoped>\n",
       "    .dataframe tbody tr th:only-of-type {\n",
       "        vertical-align: middle;\n",
       "    }\n",
       "\n",
       "    .dataframe tbody tr th {\n",
       "        vertical-align: top;\n",
       "    }\n",
       "\n",
       "    .dataframe thead th {\n",
       "        text-align: right;\n",
       "    }\n",
       "</style>\n",
       "<table border=\"1\" class=\"dataframe\">\n",
       "  <thead>\n",
       "    <tr style=\"text-align: right;\">\n",
       "      <th></th>\n",
       "      <th>Sample</th>\n",
       "      <th>outlier</th>\n",
       "    </tr>\n",
       "  </thead>\n",
       "  <tbody>\n",
       "    <tr>\n",
       "      <th>7</th>\n",
       "      <td>MC 15_M</td>\n",
       "      <td>2.655762</td>\n",
       "    </tr>\n",
       "    <tr>\n",
       "      <th>2</th>\n",
       "      <td>MC 09_M</td>\n",
       "      <td>2.288592</td>\n",
       "    </tr>\n",
       "    <tr>\n",
       "      <th>4</th>\n",
       "      <td>MC 11_M</td>\n",
       "      <td>1.323139</td>\n",
       "    </tr>\n",
       "    <tr>\n",
       "      <th>0</th>\n",
       "      <td>MC 04_M</td>\n",
       "      <td>1.089465</td>\n",
       "    </tr>\n",
       "    <tr>\n",
       "      <th>5</th>\n",
       "      <td>MC 13_M</td>\n",
       "      <td>0.994129</td>\n",
       "    </tr>\n",
       "    <tr>\n",
       "      <th>6</th>\n",
       "      <td>MC 14_M</td>\n",
       "      <td>0.728807</td>\n",
       "    </tr>\n",
       "    <tr>\n",
       "      <th>8</th>\n",
       "      <td>MC 17_M</td>\n",
       "      <td>0.640775</td>\n",
       "    </tr>\n",
       "    <tr>\n",
       "      <th>3</th>\n",
       "      <td>MC 10_M</td>\n",
       "      <td>0.630791</td>\n",
       "    </tr>\n",
       "    <tr>\n",
       "      <th>9</th>\n",
       "      <td>MC 18_M</td>\n",
       "      <td>0.582218</td>\n",
       "    </tr>\n",
       "    <tr>\n",
       "      <th>1</th>\n",
       "      <td>MC 05_M</td>\n",
       "      <td>0.323616</td>\n",
       "    </tr>\n",
       "  </tbody>\n",
       "</table>\n",
       "</div>"
      ],
      "text/plain": [
       "    Sample   outlier\n",
       "7  MC 15_M  2.655762\n",
       "2  MC 09_M  2.288592\n",
       "4  MC 11_M  1.323139\n",
       "0  MC 04_M  1.089465\n",
       "5  MC 13_M  0.994129\n",
       "6  MC 14_M  0.728807\n",
       "8  MC 17_M  0.640775\n",
       "3  MC 10_M  0.630791\n",
       "9  MC 18_M  0.582218\n",
       "1  MC 05_M  0.323616"
      ]
     },
     "execution_count": 264,
     "metadata": {},
     "output_type": "execute_result"
    }
   ],
   "source": [
    "mc = scores_view[76:86,:]\n",
    "\n",
    "mean_mc = np.mean(mc,axis=0)\n",
    "cov_matrix = np.cov(mc,rowvar=False)\n",
    "\n",
    "mahalanobis_distance_mc = []\n",
    "\n",
    "for point in mc:\n",
    "    diff = point - mean_mc\n",
    "    distance = np.sqrt(np.dot(np.dot(diff, np.linalg.inv(cov_matrix)), diff))\n",
    "    mahalanobis_distance_mc.append(distance)\n",
    "\n",
    "outlier_mc = pd.DataFrame({\"Sample\":df_x_lipidoma.index[76:86],\"outlier\":mahalanobis_distance_mc}).sort_values(by=\"outlier\",ascending=False)\n",
    "outlier_mc"
   ]
  },
  {
   "cell_type": "code",
   "execution_count": 265,
   "metadata": {},
   "outputs": [
    {
     "data": {
      "text/plain": [
       "[]"
      ]
     },
     "execution_count": 265,
     "metadata": {},
     "output_type": "execute_result"
    }
   ],
   "source": [
    "mean_out_mc = outlier_mc[\"outlier\"].mean(axis=0)\n",
    "temp = []\n",
    "for sample,elem in outlier_mc.values:\n",
    "    if elem > (mean_out_mc*3):\n",
    "        drop.append(sample)\n",
    "        temp.append(sample)\n",
    "        \n",
    "outlier_mc = outlier_mc.drop(outlier_mc[outlier_mc[\"Sample\"].isin(temp)].index)\n",
    "\n",
    "drop"
   ]
  },
  {
   "cell_type": "markdown",
   "metadata": {},
   "source": [
    "HC"
   ]
  },
  {
   "cell_type": "code",
   "execution_count": 266,
   "metadata": {},
   "outputs": [
    {
     "data": {
      "text/html": [
       "<div>\n",
       "<style scoped>\n",
       "    .dataframe tbody tr th:only-of-type {\n",
       "        vertical-align: middle;\n",
       "    }\n",
       "\n",
       "    .dataframe tbody tr th {\n",
       "        vertical-align: top;\n",
       "    }\n",
       "\n",
       "    .dataframe thead th {\n",
       "        text-align: right;\n",
       "    }\n",
       "</style>\n",
       "<table border=\"1\" class=\"dataframe\">\n",
       "  <thead>\n",
       "    <tr style=\"text-align: right;\">\n",
       "      <th></th>\n",
       "      <th>Sample</th>\n",
       "      <th>outlier</th>\n",
       "    </tr>\n",
       "  </thead>\n",
       "  <tbody>\n",
       "    <tr>\n",
       "      <th>9</th>\n",
       "      <td>HC 10_M</td>\n",
       "      <td>2.629989</td>\n",
       "    </tr>\n",
       "    <tr>\n",
       "      <th>12</th>\n",
       "      <td>HC 13_M</td>\n",
       "      <td>2.060246</td>\n",
       "    </tr>\n",
       "    <tr>\n",
       "      <th>14</th>\n",
       "      <td>HC 15_M</td>\n",
       "      <td>2.016726</td>\n",
       "    </tr>\n",
       "    <tr>\n",
       "      <th>0</th>\n",
       "      <td>HC 01_M</td>\n",
       "      <td>1.808608</td>\n",
       "    </tr>\n",
       "    <tr>\n",
       "      <th>2</th>\n",
       "      <td>HC 03_M</td>\n",
       "      <td>1.778554</td>\n",
       "    </tr>\n",
       "    <tr>\n",
       "      <th>16</th>\n",
       "      <td>HC 17_M</td>\n",
       "      <td>1.736347</td>\n",
       "    </tr>\n",
       "    <tr>\n",
       "      <th>10</th>\n",
       "      <td>HC 11_M</td>\n",
       "      <td>1.710193</td>\n",
       "    </tr>\n",
       "    <tr>\n",
       "      <th>11</th>\n",
       "      <td>HC 12_M</td>\n",
       "      <td>1.708444</td>\n",
       "    </tr>\n",
       "    <tr>\n",
       "      <th>18</th>\n",
       "      <td>HC 19_M</td>\n",
       "      <td>1.436505</td>\n",
       "    </tr>\n",
       "    <tr>\n",
       "      <th>7</th>\n",
       "      <td>HC 08_M</td>\n",
       "      <td>1.384980</td>\n",
       "    </tr>\n",
       "    <tr>\n",
       "      <th>1</th>\n",
       "      <td>HC 02_M</td>\n",
       "      <td>1.299462</td>\n",
       "    </tr>\n",
       "    <tr>\n",
       "      <th>13</th>\n",
       "      <td>HC 14_M</td>\n",
       "      <td>1.207599</td>\n",
       "    </tr>\n",
       "    <tr>\n",
       "      <th>3</th>\n",
       "      <td>HC 04_M</td>\n",
       "      <td>1.200089</td>\n",
       "    </tr>\n",
       "    <tr>\n",
       "      <th>17</th>\n",
       "      <td>HC 18_M</td>\n",
       "      <td>1.041696</td>\n",
       "    </tr>\n",
       "    <tr>\n",
       "      <th>15</th>\n",
       "      <td>HC 16_M</td>\n",
       "      <td>0.911222</td>\n",
       "    </tr>\n",
       "    <tr>\n",
       "      <th>21</th>\n",
       "      <td>HC 20_M</td>\n",
       "      <td>0.775932</td>\n",
       "    </tr>\n",
       "    <tr>\n",
       "      <th>4</th>\n",
       "      <td>HC 05_M</td>\n",
       "      <td>0.765052</td>\n",
       "    </tr>\n",
       "    <tr>\n",
       "      <th>19</th>\n",
       "      <td>HC 21_M</td>\n",
       "      <td>0.699039</td>\n",
       "    </tr>\n",
       "    <tr>\n",
       "      <th>8</th>\n",
       "      <td>HC 09_M</td>\n",
       "      <td>0.664627</td>\n",
       "    </tr>\n",
       "    <tr>\n",
       "      <th>20</th>\n",
       "      <td>HC 22_M</td>\n",
       "      <td>0.593721</td>\n",
       "    </tr>\n",
       "    <tr>\n",
       "      <th>5</th>\n",
       "      <td>HC 06_M</td>\n",
       "      <td>0.471086</td>\n",
       "    </tr>\n",
       "    <tr>\n",
       "      <th>6</th>\n",
       "      <td>HC 07_M</td>\n",
       "      <td>0.461245</td>\n",
       "    </tr>\n",
       "    <tr>\n",
       "      <th>22</th>\n",
       "      <td>HC 23_M</td>\n",
       "      <td>0.298980</td>\n",
       "    </tr>\n",
       "  </tbody>\n",
       "</table>\n",
       "</div>"
      ],
      "text/plain": [
       "     Sample   outlier\n",
       "9   HC 10_M  2.629989\n",
       "12  HC 13_M  2.060246\n",
       "14  HC 15_M  2.016726\n",
       "0   HC 01_M  1.808608\n",
       "2   HC 03_M  1.778554\n",
       "16  HC 17_M  1.736347\n",
       "10  HC 11_M  1.710193\n",
       "11  HC 12_M  1.708444\n",
       "18  HC 19_M  1.436505\n",
       "7   HC 08_M  1.384980\n",
       "1   HC 02_M  1.299462\n",
       "13  HC 14_M  1.207599\n",
       "3   HC 04_M  1.200089\n",
       "17  HC 18_M  1.041696\n",
       "15  HC 16_M  0.911222\n",
       "21  HC 20_M  0.775932\n",
       "4   HC 05_M  0.765052\n",
       "19  HC 21_M  0.699039\n",
       "8   HC 09_M  0.664627\n",
       "20  HC 22_M  0.593721\n",
       "5   HC 06_M  0.471086\n",
       "6   HC 07_M  0.461245\n",
       "22  HC 23_M  0.298980"
      ]
     },
     "execution_count": 266,
     "metadata": {},
     "output_type": "execute_result"
    }
   ],
   "source": [
    "hc = scores_view[86:,:]\n",
    "\n",
    "mean_hc = np.mean(hc,axis=0)\n",
    "cov_matrix = np.cov(hc,rowvar=False)\n",
    "\n",
    "mahalanobis_distance_hc = []\n",
    "\n",
    "for point in hc:\n",
    "    diff = point - mean_hc\n",
    "    distance = np.sqrt(np.dot(np.dot(diff, np.linalg.inv(cov_matrix)), diff))\n",
    "    mahalanobis_distance_hc.append(distance)\n",
    "\n",
    "outlier_hc = pd.DataFrame({\"Sample\":df_x_lipidoma.index[86:],\"outlier\":mahalanobis_distance_hc}).sort_values(by=\"outlier\",ascending=False)\n",
    "outlier_hc"
   ]
  },
  {
   "cell_type": "code",
   "execution_count": 267,
   "metadata": {},
   "outputs": [
    {
     "data": {
      "text/plain": [
       "[]"
      ]
     },
     "execution_count": 267,
     "metadata": {},
     "output_type": "execute_result"
    }
   ],
   "source": [
    "mean_out_hc = outlier_hc[\"outlier\"].mean(axis=0)\n",
    "\n",
    "temp = []\n",
    "for sample,elem in outlier_hc.values:\n",
    "    if elem > (mean_out_hc*3):\n",
    "        drop.append(sample)\n",
    "        temp.append(sample)\n",
    "\n",
    "outlier_hc = outlier_hc.drop(outlier_hc[outlier_hc[\"Sample\"].isin(temp)].index) \n",
    "drop"
   ]
  },
  {
   "cell_type": "code",
   "execution_count": 268,
   "metadata": {},
   "outputs": [
    {
     "data": {
      "image/png": "[encoded data removed]",
      "text/plain": [
       "<Figure size 640x480 with 1 Axes>"
      ]
     },
     "metadata": {},
     "output_type": "display_data"
    }
   ],
   "source": [
    "df_score_view = pd.DataFrame({\"Sample\":df_x_lipidoma.index,\"Score View X\":scores_view[:,0], \"Score View Y\":scores_view[:,1]})\n",
    "\n",
    "index_drop = df_score_view[df_score_view[\"Sample\"].isin(drop)].index\n",
    "colors_after_drop = np.delete(colors,index_drop)\n",
    "df_score_view = df_score_view.drop(index_drop)\n",
    "df_score_view\n",
    "\n",
    "plt.scatter(df_score_view[\"Score View X\"], df_score_view[\"Score View Y\"], c=colors_after_drop)\n",
    "plt.xlabel('x')\n",
    "plt.ylabel('y')\n",
    "plt.legend(handles=[\n",
    "    plt.Line2D([0], [0], marker='o', color='w', label='LC', markerfacecolor='red', markersize=10),\n",
    "    plt.Line2D([0], [0], marker='o', color='w', label='MC', markerfacecolor='green', markersize=10),\n",
    "    plt.Line2D([0], [0], marker='o', color='w', label='HC', markerfacecolor='orange', markersize=10),\n",
    "    plt.Line2D([0], [0], marker='o', color='w', label='QC', markerfacecolor='purple', markersize=10),\n",
    "], title='Legend')\n",
    "plt.title('PCA View')\n",
    "plt.show()"
   ]
  },
  {
   "cell_type": "markdown",
   "metadata": {},
   "source": [
    "## Split Train and Test"
   ]
  },
  {
   "cell_type": "code",
   "execution_count": 269,
   "metadata": {},
   "outputs": [
    {
     "name": "stdout",
     "output_type": "stream",
     "text": [
      "Label\n",
      "LC    69\n",
      "HC    23\n",
      "MC    10\n",
      "Name: count, dtype: int64\n",
      "Label\n",
      "LC    69\n",
      "HC    23\n",
      "MC    10\n",
      "Name: count, dtype: int64\n"
     ]
    },
    {
     "data": {
      "image/png": "[encoded data removed]",
      "text/plain": [
       "<Figure size 640x480 with 1 Axes>"
      ]
     },
     "metadata": {},
     "output_type": "display_data"
    }
   ],
   "source": [
    "df_x_lipidoma_noqc = df_x_lipidoma.iloc[7:]\n",
    "df_y_lipidoma_noqc = df_y_lipidoma.iloc[7:]\n",
    "\n",
    "print(df_y_lipidoma_noqc.value_counts())\n",
    "\n",
    "df_score_view_noqc = df_score_view.drop([0,1,2,3,4,5,6])\n",
    "\n",
    "x = df_x_lipidoma_noqc.copy()\n",
    "y = df_y_lipidoma_noqc.copy()\n",
    "\n",
    "x = x.drop(drop)\n",
    "y = y.drop(drop)\n",
    "print(y.value_counts())\n",
    "plt.plot(y.value_counts())\n",
    "plt.show()"
   ]
  },
  {
   "cell_type": "markdown",
   "metadata": {},
   "source": [
    "Split"
   ]
  },
  {
   "cell_type": "code",
   "execution_count": 270,
   "metadata": {},
   "outputs": [
    {
     "data": {
      "text/plain": [
       "LC 323_M     LC\n",
       "LC 399_M     LC\n",
       "LC307_M      LC\n",
       "LC 241a_M    LC\n",
       "LC 235a_M    LC\n",
       "             ..\n",
       "HC 14_M      HC\n",
       "HC 04_M      HC\n",
       "HC 18_M      HC\n",
       "HC 16_M      HC\n",
       "HC 20_M      HC\n",
       "Name: Label, Length: 71, dtype: object"
      ]
     },
     "execution_count": 270,
     "metadata": {},
     "output_type": "execute_result"
    }
   ],
   "source": [
    "train_size = 0.7\n",
    "\n",
    "train_size_lc = int(len(outlier_lc)*train_size)\n",
    "train_size_mc = int(len(outlier_mc)*train_size)\n",
    "train_size_hc = int(len(outlier_hc)*train_size)\n",
    "\n",
    "list_train_lc_x = x.loc[outlier_lc[\"Sample\"].iloc[0:train_size_lc]]\n",
    "list_train_lc_y = y.loc[outlier_lc[\"Sample\"].iloc[0:train_size_lc]]\n",
    "\n",
    "list_train_mc_x = x.loc[outlier_mc[\"Sample\"].iloc[0:train_size_mc]]\n",
    "list_train_mc_y = y.loc[outlier_mc[\"Sample\"].iloc[0:train_size_mc]]\n",
    "\n",
    "list_train_hc_x = x.loc[outlier_hc[\"Sample\"].iloc[0:train_size_hc]]\n",
    "list_train_hc_y = y.loc[outlier_hc[\"Sample\"].iloc[0:train_size_hc]]\n",
    "\n",
    "x_train = pd.concat([list_train_lc_x,list_train_mc_x,list_train_hc_x])\n",
    "y_train = pd.concat([list_train_lc_y,list_train_mc_y,list_train_hc_y])\n",
    "y_train"
   ]
  },
  {
   "cell_type": "code",
   "execution_count": 271,
   "metadata": {},
   "outputs": [
    {
     "data": {
      "text/plain": [
       "31"
      ]
     },
     "execution_count": 271,
     "metadata": {},
     "output_type": "execute_result"
    }
   ],
   "source": [
    "x_test = x.loc[~x.isin(x_train.to_dict(orient='list')).all(axis=1)]\n",
    "y_test = y[~y.index.isin(y_train.index)]\n",
    "len(y_test)"
   ]
  },
  {
   "cell_type": "code",
   "execution_count": 272,
   "metadata": {},
   "outputs": [],
   "source": [
    "name_sample_train = x_train.transpose().columns\n",
    "name_sample_test = x_test.transpose().columns"
   ]
  },
  {
   "cell_type": "markdown",
   "metadata": {},
   "source": [
    "## Save Mean and Std of training set"
   ]
  },
  {
   "cell_type": "code",
   "execution_count": 273,
   "metadata": {},
   "outputs": [],
   "source": [
    "mean= x_train.mean(axis=0)\n",
    "std = x_train.std(axis=0)"
   ]
  },
  {
   "cell_type": "markdown",
   "metadata": {},
   "source": [
    "## Try to classify with LDA models"
   ]
  },
  {
   "cell_type": "code",
   "execution_count": 274,
   "metadata": {},
   "outputs": [
    {
     "data": {
      "text/plain": [
       "0.967741935483871"
      ]
     },
     "execution_count": 274,
     "metadata": {},
     "output_type": "execute_result"
    }
   ],
   "source": [
    "from sklearn.metrics import accuracy_score\n",
    "lda = LDA()\n",
    "model_lda = lda.fit(x_train, y_train)\n",
    "\n",
    "y_pred = model_lda.predict(x_test)\n",
    "\n",
    "accuracy = accuracy_score(y_test, y_pred)\n",
    "accuracy"
   ]
  },
  {
   "cell_type": "markdown",
   "metadata": {},
   "source": [
    "## PCA"
   ]
  },
  {
   "cell_type": "markdown",
   "metadata": {},
   "source": [
    "### Elbow Graph"
   ]
  },
  {
   "cell_type": "code",
   "execution_count": 275,
   "metadata": {},
   "outputs": [
    {
     "data": {
      "image/png": "[encoded data removed]",
      "text/plain": [
       "<Figure size 800x600 with 1 Axes>"
      ]
     },
     "metadata": {},
     "output_type": "display_data"
    }
   ],
   "source": [
    "from sklearn.decomposition import PCA\n",
    "\n",
    "varianza_spiegata = []\n",
    "n_componenti = np.arange(1, 53)\n",
    "\n",
    "for n in n_componenti:\n",
    "    pca_elbow = PCA(n_components=n)\n",
    "    pca_elbow.fit(x_train)\n",
    "    varianza_spiegata.append(np.sum(pca_elbow.explained_variance_ratio_))\n",
    "\n",
    "plt.figure(figsize=(8, 6))\n",
    "plt.plot(n_componenti, varianza_spiegata, marker='o')\n",
    "plt.xlabel('# of principal components')\n",
    "plt.ylabel('Explained Variance')\n",
    "plt.title('Elbow Graph')\n",
    "plt.grid(True)\n",
    "plt.show()"
   ]
  },
  {
   "cell_type": "markdown",
   "metadata": {},
   "source": [
    "#### PCA"
   ]
  },
  {
   "cell_type": "code",
   "execution_count": 276,
   "metadata": {},
   "outputs": [
    {
     "data": {
      "text/plain": [
       "array([[ 6.50573822e-01,  8.05792084e+00, -7.35012430e+00,\n",
       "        -2.00979938e+00, -2.72371752e-01,  2.39160346e+00,\n",
       "        -3.46716504e-02, -9.93839929e-02, -8.13556625e-01,\n",
       "        -2.80657688e-02],\n",
       "       [ 3.81586554e+01, -4.09729743e+00, -3.66427287e+00,\n",
       "        -1.99957316e-01, -1.51430862e+00, -1.38458949e+00,\n",
       "         4.43775528e-01,  5.49977796e-01,  7.97225517e-01,\n",
       "         3.05179500e-01],\n",
       "       [ 1.67811038e+01,  6.41176109e+00, -4.63827753e+00,\n",
       "         2.79298625e-01,  4.91605254e-01, -1.37086291e+00,\n",
       "         9.31237252e-01, -1.35998003e+00,  9.80072281e-03,\n",
       "        -1.23108646e+00],\n",
       "       [ 3.10586967e+01, -3.58937894e+00, -3.61966997e+00,\n",
       "        -8.50301000e-02,  5.73672182e-01,  1.55957754e-01,\n",
       "        -3.45842784e-01, -4.83779969e-01,  4.35292118e-01,\n",
       "        -1.00215241e-01],\n",
       "       [ 2.82689553e+01,  3.42122095e+00, -3.28638096e+00,\n",
       "         1.04260918e+00,  3.28713430e+00, -4.27358858e-01,\n",
       "        -1.08401875e+00,  4.69722114e-01, -8.64945012e-01,\n",
       "        -3.54291742e-01],\n",
       "       [ 2.03484401e+01, -5.16538854e+00, -1.58651085e+00,\n",
       "        -7.73877273e-01, -1.50335175e+00, -1.58687108e+00,\n",
       "         4.52095294e-01,  9.59861030e-01,  4.67877428e-01,\n",
       "        -6.05100925e-01],\n",
       "       [ 1.22275219e+01, -5.83966390e+00,  1.25434324e+00,\n",
       "         2.38592018e-01,  1.60332248e+00,  5.53189647e-02,\n",
       "        -2.12556336e-01, -4.02130499e-02,  1.69658477e-02,\n",
       "         2.62654757e-01],\n",
       "       [-3.05681394e+01, -3.30968437e+00, -7.00791079e-01,\n",
       "        -1.76624053e+00, -1.00488238e+00,  1.84252901e-01,\n",
       "        -6.16903576e-01,  6.34433195e-01, -1.89998440e-01,\n",
       "         2.02665109e-01],\n",
       "       [-1.18439730e+01,  5.35750848e+00,  1.57255936e+00,\n",
       "        -9.80055109e-01,  1.47246853e+00,  6.14642591e-01,\n",
       "         1.07232692e+00, -4.33863570e-02, -4.84417903e-01,\n",
       "         5.49157358e-01],\n",
       "       [-3.08170558e+01, -1.76281452e+00,  6.83562739e-02,\n",
       "        -1.31019102e+00, -3.52098769e-01, -3.47556743e-01,\n",
       "        -1.58632898e-01, -6.65325462e-02, -3.84003688e-02,\n",
       "         1.52744186e-01],\n",
       "       [ 6.80193084e+00,  5.54877348e+00,  1.88889842e+00,\n",
       "        -4.55076070e-01,  1.87415374e-01,  2.42705844e+00,\n",
       "         2.30192402e+00,  4.89478946e-01,  3.13082324e+00,\n",
       "        -1.88432170e-01],\n",
       "       [ 1.07749318e+01, -5.67433054e+00,  1.57083423e+00,\n",
       "        -2.31598818e-01, -1.49313912e-01,  3.84975169e-02,\n",
       "         1.14318116e+00, -3.62664838e-01, -1.81448950e-01,\n",
       "        -1.85532139e-01],\n",
       "       [-3.56519261e+00,  4.64184619e+00, -3.48619583e+00,\n",
       "        -1.30832820e+00, -5.99894021e-01, -5.40654383e-01,\n",
       "         3.13647457e-01, -6.27044538e-01,  5.14192867e-01,\n",
       "        -9.45647367e-01],\n",
       "       [ 2.24461771e+00, -6.51761376e+00, -3.78311298e-01,\n",
       "        -7.05596588e-01, -3.71778566e-01, -7.56498567e-01,\n",
       "        -4.10160165e-01,  8.80175379e-01,  4.65844370e-01,\n",
       "         1.81355371e-02],\n",
       "       [ 1.80156142e+01, -3.02075184e+00,  2.77887953e+00,\n",
       "         1.22293265e-01,  1.22153272e+00, -6.78455270e-02,\n",
       "         6.12618567e-02, -3.66347500e-01,  5.46556835e-01,\n",
       "         1.82883962e-01],\n",
       "       [-2.78169861e+01, -5.23022811e-01,  7.13536476e-01,\n",
       "        -9.29812509e-01,  4.46239300e-01, -6.75378949e-01,\n",
       "         4.00544687e-01, -3.67629208e-01, -1.63598731e-01,\n",
       "         1.01893288e-01],\n",
       "       [-2.54354600e+00,  4.25543910e+00, -2.78935191e+00,\n",
       "        -7.86349115e-01,  3.99169391e-01,  1.59534268e-03,\n",
       "         3.00547300e-01, -9.63647788e-01,  2.46402686e-01,\n",
       "        -1.03795716e+00],\n",
       "       [-1.39606762e+01,  3.59995712e+00, -1.69196738e+00,\n",
       "        -1.72739615e+00,  4.32045054e-01, -1.77990700e-02,\n",
       "        -2.50249273e-01, -1.89424654e-01,  5.21608393e-01,\n",
       "        -1.08319467e-02],\n",
       "       [-2.42771357e+01, -3.50888490e+00,  6.89974559e-01,\n",
       "        -1.49936292e+00, -3.57863852e-01,  1.24094058e-01,\n",
       "        -2.43110731e-01,  1.79306150e-01, -2.78177779e-01,\n",
       "         1.07526211e-01],\n",
       "       [ 6.47403919e+00,  4.11827351e+00, -6.28748311e-01,\n",
       "        -1.33850680e+00,  1.81861863e+00, -3.38923823e-01,\n",
       "        -8.76934876e-02,  2.01043070e+00, -1.13886946e+00,\n",
       "         8.09178158e-01],\n",
       "       [-1.51165933e+01, -5.32484684e+00,  1.04839337e+00,\n",
       "        -1.17397242e+00, -3.54946394e-01,  3.45044790e-01,\n",
       "        -1.50698125e-01, -1.99343525e-01, -4.10002405e-01,\n",
       "        -3.70581186e-01],\n",
       "       [-2.53904228e+01, -5.83730629e-01,  9.07950979e-01,\n",
       "        -1.60072794e+00, -1.68115119e-02, -1.88920946e-01,\n",
       "         3.91186846e-01, -3.26164897e-02, -1.04143112e-01,\n",
       "        -2.82147555e-01],\n",
       "       [ 1.76180893e+01, -1.33226512e+00,  5.27717209e+00,\n",
       "         8.90388767e-01,  2.23351490e+00, -3.96875585e-01,\n",
       "         2.85917354e+00,  3.56750377e-01, -7.93671354e-01,\n",
       "         4.51009087e-02],\n",
       "       [-2.51688871e+01, -1.43428203e+00,  2.99678073e+00,\n",
       "        -1.31009611e+00,  2.81483294e-01, -4.04988606e-01,\n",
       "         6.37691196e-01, -4.12442109e-01, -1.68031462e-01,\n",
       "         1.40132383e-01],\n",
       "       [-2.27450861e+01, -3.26582899e+00,  8.12783312e-01,\n",
       "        -9.25474775e-01, -8.78109812e-02, -1.91319664e-01,\n",
       "         3.12389820e-01, -3.98071177e-01, -1.29550309e-01,\n",
       "         1.61217372e-01],\n",
       "       [ 1.96815630e+00,  4.14728545e+00,  1.49219171e-01,\n",
       "        -3.15917297e-01, -2.99640549e-01, -1.13811973e+00,\n",
       "         6.28166374e-01,  1.19409456e+00, -2.11991512e-01,\n",
       "        -3.00096400e-01],\n",
       "       [-2.01286497e+01, -3.84158219e+00,  1.85444078e+00,\n",
       "        -1.25311354e+00,  3.82519854e-01,  1.19170746e-01,\n",
       "        -1.63500958e-01, -3.50333817e-01, -2.51699103e-01,\n",
       "        -6.05024767e-02],\n",
       "       [ 1.37243098e+01,  1.89712382e+00,  5.21929890e-01,\n",
       "         1.01710858e+00,  3.62150545e+00,  3.20617834e-01,\n",
       "        -6.54184837e-01, -2.85979857e-01, -4.23085317e-03,\n",
       "        -7.11235647e-01],\n",
       "       [ 1.19897395e+01, -3.09199732e+00,  8.76719010e-01,\n",
       "        -7.04919778e-02,  2.68619219e+00,  2.38164812e-01,\n",
       "        -1.34056932e+00,  1.95314443e-01,  2.29588704e-01,\n",
       "         9.83816762e-01],\n",
       "       [-2.23717552e+01, -1.39357091e+00,  1.31783719e+00,\n",
       "        -1.41215930e+00, -7.70500049e-01,  4.37139157e-01,\n",
       "        -3.16170482e-01,  2.34963201e-01, -1.47816941e-01,\n",
       "        -1.28333026e-01],\n",
       "       [-1.09502182e+01, -5.27764063e+00, -1.41189129e+00,\n",
       "        -7.93331601e-01, -5.09834492e-01,  1.53655138e-01,\n",
       "        -6.07853286e-01,  6.40686402e-02, -7.92909260e-02,\n",
       "        -1.07301045e-01],\n",
       "       [ 9.55654787e+00, -4.14975393e+00, -1.78306104e+00,\n",
       "        -6.21926667e-01, -6.88220251e-02, -1.16390604e+00,\n",
       "        -1.58034287e+00, -6.98202363e-01,  1.00048781e+00,\n",
       "         1.00735345e+00],\n",
       "       [-1.06702241e+01, -4.62693275e+00,  2.59806471e-01,\n",
       "        -1.01180763e+00, -4.36880338e-01,  6.77671498e-01,\n",
       "        -2.61680349e-02, -1.51556404e-01, -2.65953037e-01,\n",
       "        -3.55843742e-03],\n",
       "       [-6.24893327e+00,  3.12549707e+00,  7.24100502e-01,\n",
       "         1.23245317e+00,  1.21609017e+00, -8.32049285e-01,\n",
       "         6.93042271e-02, -5.38710487e-01, -1.37507942e-01,\n",
       "        -4.40603448e-01],\n",
       "       [-1.32087069e+01, -4.32795956e+00, -8.71172908e-01,\n",
       "        -7.08662093e-01, -5.39510324e-02,  6.54930063e-01,\n",
       "        -5.46173792e-01, -3.82738158e-01,  1.95577090e-02,\n",
       "        -2.94243623e-01],\n",
       "       [-1.64126888e+01, -3.23816010e+00,  4.89623299e-01,\n",
       "        -1.73301068e+00, -8.49742858e-01,  4.56682377e-01,\n",
       "        -9.40763824e-02,  9.65157333e-01, -1.40397736e-01,\n",
       "        -5.85057417e-02],\n",
       "       [-1.86738045e+01, -1.93062202e+00,  1.54705732e+00,\n",
       "        -6.86657970e-01,  2.14016494e-01,  8.42013579e-02,\n",
       "        -2.64421001e-02, -2.29318880e-01, -9.69664335e-02,\n",
       "         2.98043769e-01],\n",
       "       [-1.67699243e+01, -2.82271703e+00,  1.22486957e+00,\n",
       "        -7.52373926e-01,  3.62716383e-01,  8.75153130e-02,\n",
       "         4.94513098e-01, -5.69122772e-01, -2.30702529e-01,\n",
       "         6.97902031e-01],\n",
       "       [-1.75317653e+01, -2.38220445e+00,  1.81140820e+00,\n",
       "        -7.31598227e-01,  4.51764108e-01, -8.83870608e-02,\n",
       "         5.51526988e-01, -8.68685096e-01, -2.51419209e-01,\n",
       "        -1.61177803e-02],\n",
       "       [ 6.34341868e+00, -3.62080789e+00, -7.28221312e-01,\n",
       "         1.85540073e-01,  8.38179808e-01,  1.03924453e+00,\n",
       "        -3.37546726e-01,  1.74019368e+00,  2.33451854e+00,\n",
       "         5.70547927e-01],\n",
       "       [-1.09445804e+01, -3.95094553e+00,  5.62387273e-01,\n",
       "        -6.57075947e-01,  4.97028745e-01,  4.21993130e-01,\n",
       "        -5.74026407e-01,  2.57736161e-02, -2.63722449e-01,\n",
       "         2.49647286e-01],\n",
       "       [ 1.13034633e+01,  4.51126893e-01, -1.13841327e+00,\n",
       "         3.43400730e-02,  6.52511104e-01,  1.61474139e+00,\n",
       "         3.36209828e-01, -1.14307948e+00,  1.28496580e-01,\n",
       "        -7.00427440e-01],\n",
       "       [-2.68308756e+00,  2.54702972e+00, -1.17653565e+00,\n",
       "        -1.52864978e+00, -4.48204831e-01, -1.05805654e-01,\n",
       "         1.07589357e+00,  9.61882245e-01, -7.63169746e-02,\n",
       "         4.71691277e-01],\n",
       "       [ 9.97158478e+00, -2.25484374e+00, -9.38968660e-01,\n",
       "        -1.84155999e-01, -1.78976583e-01, -1.28854022e+00,\n",
       "         1.59261920e+00, -9.28915324e-01, -3.80823668e-01,\n",
       "         1.79628421e-01],\n",
       "       [-1.50371629e+01,  4.85644596e-01,  8.91570798e-01,\n",
       "        -6.92266619e-01,  1.25717034e+00,  1.26160677e-01,\n",
       "        -2.59243396e-01, -1.03379070e-01, -3.80971744e-01,\n",
       "        -1.29643156e-01],\n",
       "       [ 3.52954151e+00,  1.91709993e+00, -1.93832495e-01,\n",
       "         4.45984040e-01,  9.15648515e-01, -1.36622005e+00,\n",
       "         5.43287309e-01,  7.70960716e-01, -2.94530684e-01,\n",
       "        -1.17197927e+00],\n",
       "       [-7.46169311e+00,  2.69968171e+00,  5.10848014e+00,\n",
       "        -1.01329446e+00,  1.85896029e+00, -2.61570018e-01,\n",
       "        -4.84608098e-01, -5.38143500e-01,  6.56166483e-01,\n",
       "         1.06472743e+00],\n",
       "       [-1.47868954e+01, -3.38373990e-01, -5.89720174e-01,\n",
       "        -1.56620640e+00, -3.57754052e-01, -5.71370351e-01,\n",
       "         1.55907416e-01,  1.31308963e-01,  3.60587037e-02,\n",
       "         4.36857325e-02],\n",
       "       [ 2.00813564e+00, -4.31092083e+00,  4.68787793e+00,\n",
       "         4.03289394e+00, -3.75466947e-01,  8.11147850e-01,\n",
       "         4.43789942e-01,  6.62756444e-01, -7.93284566e-01,\n",
       "         5.45124041e-01],\n",
       "       [-1.54274911e+01,  1.30515669e+01,  1.80402051e+00,\n",
       "         2.42808135e+00,  1.39185984e+00,  4.81936581e-01,\n",
       "        -5.81689234e-01,  1.15611520e+00,  3.59582429e-01,\n",
       "        -1.82379839e-01],\n",
       "       [-2.76864679e+01, -2.74960417e-01,  1.51772292e+00,\n",
       "         3.61896449e+00, -1.48172966e+00, -2.18562603e-01,\n",
       "        -4.32458174e-01, -1.17546305e-01,  3.54748861e-01,\n",
       "        -2.09059819e-03],\n",
       "       [-2.81518885e+01,  1.57224831e+00,  6.16768563e-01,\n",
       "         4.66649467e+00, -2.21589056e+00,  2.86498059e-01,\n",
       "        -5.39933529e-01,  1.56174135e-01,  3.40635337e-02,\n",
       "         1.70237506e-01],\n",
       "       [-1.95914424e+01, -1.62607563e+00,  1.32339103e+00,\n",
       "         3.44607787e+00, -1.08247950e+00,  6.95175087e-02,\n",
       "        -1.00938611e+00, -3.53470506e-01,  6.37235655e-01,\n",
       "        -1.46906219e-01],\n",
       "       [-2.61190880e+01,  2.96121501e+00,  1.10037849e+00,\n",
       "         6.59415735e+00, -1.28448835e+00, -2.28632244e-01,\n",
       "         1.00765751e+00, -5.36049539e-01, -7.50744332e-01,\n",
       "         6.99183557e-01],\n",
       "       [-2.20077650e+01,  6.40953917e+00,  2.22847619e+00,\n",
       "         6.17137923e+00,  2.09722216e-01, -7.19209278e-01,\n",
       "        -7.41396897e-02,  6.02203491e-01,  5.90028240e-01,\n",
       "        -4.16718577e-01],\n",
       "       [ 5.31263033e+01, -9.96399222e+00,  1.32718377e+00,\n",
       "         1.31519670e+00, -1.53763347e+00, -1.64943997e+00,\n",
       "         8.23892469e-01,  1.24772373e-01, -2.57679639e-01,\n",
       "         9.57589859e-01],\n",
       "       [ 3.74343029e+01,  1.00312949e+01, -3.11143927e+00,\n",
       "        -1.11762414e+00, -1.52612187e+00,  7.39370240e-01,\n",
       "         2.77265711e-01,  2.21488509e-01, -1.07298593e+00,\n",
       "         1.38513218e+00],\n",
       "       [ 3.82550269e+01, -9.83692283e+00, -2.29687359e+00,\n",
       "         2.75375855e+00, -2.23221156e-01,  1.82217595e+00,\n",
       "        -3.13302445e-01, -1.19076123e+00, -2.76755618e-01,\n",
       "        -4.45537095e-01],\n",
       "       [-3.50638716e+00, -3.67509799e+00, -1.35256178e+00,\n",
       "         1.66425909e-01,  1.57446984e-01,  4.21843023e-01,\n",
       "        -4.89410308e-01,  1.21016236e-01, -4.79192555e-01,\n",
       "        -2.98932097e-01],\n",
       "       [ 1.24109687e+01, -7.58803003e+00,  2.32347186e+00,\n",
       "         3.09376389e-01,  7.76028465e-02,  1.46337396e+00,\n",
       "        -3.33138498e-01, -1.06305997e+00,  1.41963261e-02,\n",
       "        -6.25829535e-01],\n",
       "       [-7.82123218e+00, -2.71762534e-01, -2.66999945e+00,\n",
       "        -5.18166571e-01, -9.80305679e-02, -9.67753666e-01,\n",
       "        -6.86690848e-01,  7.79318047e-01, -2.17576806e-01,\n",
       "        -4.10045820e-01],\n",
       "       [ 4.28513768e+01,  1.02453084e+01,  2.99740138e+01,\n",
       "        -2.75417122e+00, -2.79421939e+00,  1.51028388e-01,\n",
       "        -1.22534217e+00, -1.56641333e-01, -2.31840918e-01,\n",
       "        -7.46783563e-01],\n",
       "       [-1.89436306e-01,  1.11487962e+01, -1.66159090e+00,\n",
       "         1.04665812e-01, -3.84927880e-01, -2.91993980e-01,\n",
       "        -8.98753951e-02, -1.44782635e+00, -1.66974337e-01,\n",
       "         1.13387063e+00],\n",
       "       [ 1.64422552e+01,  9.10283846e+00, -1.01271752e+01,\n",
       "        -4.60454135e-01, -1.73486208e+00,  5.82208362e-01,\n",
       "        -7.55962721e-01,  8.92182027e-01, -8.17228071e-01,\n",
       "        -6.96085533e-01],\n",
       "       [ 3.80371423e+01, -3.77813361e+00, -6.91190176e-01,\n",
       "         1.79087881e+00,  1.67142435e-01,  2.64600401e-01,\n",
       "        -1.38884916e+00,  1.73439934e-01, -8.00187504e-01,\n",
       "        -5.31687055e-01],\n",
       "       [-3.20805869e-01, -5.21325323e-01, -2.06337285e+00,\n",
       "        -9.32394194e-01, -1.83966373e+00,  5.22292567e-01,\n",
       "         9.22669238e-01,  6.95677044e-01, -4.22708506e-01,\n",
       "        -3.23855630e-01],\n",
       "       [ 2.89553689e+01,  6.34648808e+00, -4.62102087e+00,\n",
       "         2.65951595e-01, -1.33064230e+00,  1.81412411e+00,\n",
       "        -1.75682577e-02, -7.81958317e-01, -1.76806389e-01,\n",
       "         1.35474299e+00],\n",
       "       [ 3.18513173e-01, -2.37713257e-01, -4.79606464e+00,\n",
       "        -1.34754782e-01, -1.15022929e+00,  4.93452365e-01,\n",
       "        -5.69191943e-01,  9.27997816e-01, -3.02283957e-01,\n",
       "        -7.68889668e-01],\n",
       "       [ 9.86008311e+00,  8.29981119e+00, -2.31425623e-01,\n",
       "        -2.25761389e-01,  9.05063905e-01, -2.28424268e+00,\n",
       "        -1.20596087e+00, -6.02241359e-01,  8.64273719e-01,\n",
       "         5.00324518e-01],\n",
       "       [ 6.78218136e+00,  5.16979499e+00, -8.50600591e+00,\n",
       "        -1.33298474e+00, -2.35958956e+00, -1.36734056e+00,\n",
       "        -5.28354272e-01, -1.19118348e+00,  9.70434499e-01,\n",
       "         8.98362762e-02],\n",
       "       [ 2.42241980e+01, -2.73925973e+00, -1.04207783e+00,\n",
       "         1.17354997e+00, -3.32427470e-01,  5.46064396e-01,\n",
       "         3.03012358e-01,  9.14417032e-01,  3.57374968e-01,\n",
       "        -3.83375984e-01]])"
      ]
     },
     "execution_count": 276,
     "metadata": {},
     "output_type": "execute_result"
    }
   ],
   "source": [
    "pca = PCA(n_components=10)\n",
    "x_train_pca = pca.fit(x_train).transform(x_train)\n",
    "x_train_pca"
   ]
  },
  {
   "cell_type": "markdown",
   "metadata": {},
   "source": [
    "### Prepare the training set for models "
   ]
  },
  {
   "cell_type": "markdown",
   "metadata": {},
   "source": [
    "Train"
   ]
  },
  {
   "cell_type": "code",
   "execution_count": 277,
   "metadata": {},
   "outputs": [],
   "source": [
    "X_w = pd.DataFrame(x_train_pca)\n",
    "Y_w = y_train\n",
    "\n",
    "X_w.columns = [f'PC{i+1}' for i in range(X_w.shape[1])]\n",
    "X_w = X_w.transpose()\n",
    "X_w.columns = name_sample_train\n",
    "X_w = X_w.transpose()\n",
    "\n",
    "all_performance = []"
   ]
  },
  {
   "cell_type": "markdown",
   "metadata": {},
   "source": [
    "Test"
   ]
  },
  {
   "cell_type": "code",
   "execution_count": 278,
   "metadata": {},
   "outputs": [],
   "source": [
    "# autoscaling on test set\n",
    "x_test_centered = (x_test.sub(mean,axis=1)).div(std,axis=1)\n",
    "x_test_centered_pca = pca.transform(x_test_centered)\n",
    "\n",
    "x_test_centered_pca = pd.DataFrame(x_test_centered_pca)\n",
    "x_test_centered_pca.columns = [f'PC{i+1}' for i in range(x_test_centered_pca.shape[1])]\n",
    "x_test_centered_pca = x_test_centered_pca.transpose()\n",
    "x_test_centered_pca.columns = name_sample_test\n",
    "x_test_centered_pca = x_test_centered_pca.transpose()"
   ]
  },
  {
   "cell_type": "markdown",
   "metadata": {},
   "source": [
    "### Logistic Regression"
   ]
  },
  {
   "cell_type": "code",
   "execution_count": 279,
   "metadata": {},
   "outputs": [
    {
     "name": "stderr",
     "output_type": "stream",
     "text": [
      "/Users/bvs/opt/anaconda3/envs/AI4Omics/lib/python3.9/site-packages/sklearn/metrics/_classification.py:2394: UserWarning: y_pred contains classes not in y_true\n",
      "  warnings.warn(\"y_pred contains classes not in y_true\")\n",
      "/Users/bvs/opt/anaconda3/envs/AI4Omics/lib/python3.9/site-packages/sklearn/metrics/_classification.py:2394: UserWarning: y_pred contains classes not in y_true\n",
      "  warnings.warn(\"y_pred contains classes not in y_true\")\n",
      "/Users/bvs/opt/anaconda3/envs/AI4Omics/lib/python3.9/site-packages/sklearn/metrics/_classification.py:2394: UserWarning: y_pred contains classes not in y_true\n",
      "  warnings.warn(\"y_pred contains classes not in y_true\")\n",
      "/Users/bvs/opt/anaconda3/envs/AI4Omics/lib/python3.9/site-packages/sklearn/metrics/_classification.py:2394: UserWarning: y_pred contains classes not in y_true\n",
      "  warnings.warn(\"y_pred contains classes not in y_true\")\n",
      "/Users/bvs/opt/anaconda3/envs/AI4Omics/lib/python3.9/site-packages/sklearn/metrics/_classification.py:2394: UserWarning: y_pred contains classes not in y_true\n",
      "  warnings.warn(\"y_pred contains classes not in y_true\")\n",
      "/Users/bvs/opt/anaconda3/envs/AI4Omics/lib/python3.9/site-packages/sklearn/metrics/_classification.py:2394: UserWarning: y_pred contains classes not in y_true\n",
      "  warnings.warn(\"y_pred contains classes not in y_true\")\n",
      "/Users/bvs/opt/anaconda3/envs/AI4Omics/lib/python3.9/site-packages/sklearn/metrics/_classification.py:2394: UserWarning: y_pred contains classes not in y_true\n",
      "  warnings.warn(\"y_pred contains classes not in y_true\")\n",
      "/Users/bvs/opt/anaconda3/envs/AI4Omics/lib/python3.9/site-packages/sklearn/metrics/_classification.py:2394: UserWarning: y_pred contains classes not in y_true\n",
      "  warnings.warn(\"y_pred contains classes not in y_true\")\n",
      "/Users/bvs/opt/anaconda3/envs/AI4Omics/lib/python3.9/site-packages/sklearn/metrics/_classification.py:2394: UserWarning: y_pred contains classes not in y_true\n",
      "  warnings.warn(\"y_pred contains classes not in y_true\")\n",
      "/Users/bvs/opt/anaconda3/envs/AI4Omics/lib/python3.9/site-packages/sklearn/metrics/_classification.py:2394: UserWarning: y_pred contains classes not in y_true\n",
      "  warnings.warn(\"y_pred contains classes not in y_true\")\n"
     ]
    },
    {
     "name": "stdout",
     "output_type": "stream",
     "text": [
      "L'accuracy è:  83.09859154929578 \n",
      "La balanced_accuracy è:  83.09859154929578\n"
     ]
    },
    {
     "name": "stderr",
     "output_type": "stream",
     "text": [
      "/Users/bvs/opt/anaconda3/envs/AI4Omics/lib/python3.9/site-packages/sklearn/metrics/_classification.py:2394: UserWarning: y_pred contains classes not in y_true\n",
      "  warnings.warn(\"y_pred contains classes not in y_true\")\n",
      "/Users/bvs/opt/anaconda3/envs/AI4Omics/lib/python3.9/site-packages/sklearn/metrics/_classification.py:2394: UserWarning: y_pred contains classes not in y_true\n",
      "  warnings.warn(\"y_pred contains classes not in y_true\")\n"
     ]
    }
   ],
   "source": [
    "from sklearn.model_selection import LeaveOneOut\n",
    "from sklearn.linear_model import LogisticRegression\n",
    "from sklearn import metrics as mt\n",
    "from imblearn.over_sampling import BorderlineSMOTE\n",
    "\n",
    "loo = LeaveOneOut()\n",
    "\n",
    "performance_scores = []\n",
    "performance_scores_balanced = []\n",
    "i = 0\n",
    "# Itera attraverso i fold\n",
    "for train_index, val_index in loo.split(X_w,Y_w):\n",
    "    i+=1\n",
    "    \n",
    "    train_x_temp, test_x_temp = X_w.iloc[train_index],X_w.iloc[val_index]\n",
    "    train_y_temp, test_y_temp = Y_w.iloc[train_index],Y_w.iloc[val_index]\n",
    "    \n",
    "    #ribilanciamento\n",
    "    bls = BorderlineSMOTE(random_state=99)\n",
    "    train_x_temp,train_y_temp = bls.fit_resample(train_x_temp,train_y_temp)\n",
    "\n",
    "    # normalizzazione\n",
    "    mean_temp= train_x_temp.mean(axis=0)\n",
    "    std_temp = train_x_temp.std(axis=0)\n",
    "    train_x_temp = (train_x_temp.sub(mean_temp,axis=1)).div(std_temp,axis=1)\n",
    "\n",
    "    test_x_temp = (test_x_temp.sub(mean_temp,axis=1)).div(std_temp,axis=1)\n",
    "    \n",
    "    lm = LogisticRegression(penalty='l2', C=0.9, class_weight='balanced', multi_class='auto',max_iter=1000000, n_jobs=4, solver='saga') # penalty{‘l1’, ‘l2’, ‘elasticnet’, None}; multi_class{‘auto’, ‘ovr’, ‘multinomial’}\n",
    "    \n",
    "    lm.fit(train_x_temp, train_y_temp)\n",
    "    \n",
    "    predicted_y_temp = lm.predict(test_x_temp)\n",
    "\n",
    "    # Calcola e memorizza la misura delle prestazioni (es. accuratezza)\n",
    "    accuracy_temp = np.round(mt.accuracy_score(test_y_temp.values,predicted_y_temp)*100,2)\n",
    "    performance_scores.append(accuracy_temp)\n",
    "    balanced_accuracy_temp = np.round(mt.balanced_accuracy_score(test_y_temp.values,predicted_y_temp)*100,2)\n",
    "    performance_scores_balanced.append(balanced_accuracy_temp)\n",
    "    \n",
    "mean_accuracy_temp = sum(performance_scores)/i\n",
    "mean_accuracy_balanced_temp = sum(performance_scores_balanced)/i\n",
    "\n",
    "print(\"L'accuracy è: \", mean_accuracy_temp, \"\\nLa balanced_accuracy è: \", mean_accuracy_balanced_temp)\n",
    "\n",
    "all_performance = [{\"Logistic Regression\":{\n",
    "    \"Validation\": {\n",
    "        \"BorderlineSMOTE\": mean_accuracy_balanced_temp\n",
    "    }\n",
    "}}]"
   ]
  },
  {
   "cell_type": "markdown",
   "metadata": {},
   "source": [
    "Try on Test Set"
   ]
  },
  {
   "cell_type": "code",
   "execution_count": 280,
   "metadata": {},
   "outputs": [
    {
     "data": {
      "text/plain": [
       "39.68"
      ]
     },
     "execution_count": 280,
     "metadata": {},
     "output_type": "execute_result"
    }
   ],
   "source": [
    "predicted_y_test = lm.predict(x_test_centered_pca)\n",
    "balanced_accuracy = np.round(mt.balanced_accuracy_score(y_test,predicted_y_test)*100,2)\n",
    "all_performance[0][\"Logistic Regression\"][\"Test\"]= {\"BorderlineSMOTE\":balanced_accuracy}\n",
    "balanced_accuracy"
   ]
  },
  {
   "cell_type": "markdown",
   "metadata": {},
   "source": [
    "Show the error in Logistic Regression"
   ]
  },
  {
   "cell_type": "code",
   "execution_count": 281,
   "metadata": {},
   "outputs": [
    {
     "name": "stdout",
     "output_type": "stream",
     "text": [
      "Gli errori vengono commessi sul campione:  [  7   9  10  12  15  17  20  22  24  28  29  38  42  44  45  46  48  83\n",
      "  84  85  87  98  99 101]\n"
     ]
    },
    {
     "data": {
      "image/png": "[encoded data removed]",
      "text/plain": [
       "<Figure size 640x480 with 1 Axes>"
      ]
     },
     "metadata": {},
     "output_type": "display_data"
    }
   ],
   "source": [
    "show_error_lr = pd.DataFrame({\"Predict\":predicted_y_test, \"Real\":y_test})\n",
    "errors_name = show_error_lr[show_error_lr[\"Predict\"] != show_error_lr[\"Real\"]].index\n",
    "errors_name\n",
    "\n",
    "error_index = (df_score_view_noqc[df_score_view_noqc[\"Sample\"].isin(errors_name)].index) - 7\n",
    "print(\"Gli errori vengono commessi sul campione: \",error_index.values)\n",
    "\n",
    "colors_with_error = colors_after_drop.copy()\n",
    "colors_with_error = np.delete(colors_with_error,[0,1,2,3,4,5,6])\n",
    "colors_with_error[error_index] = \"black\"\n",
    "\n",
    "plt.scatter(df_score_view_noqc[\"Score View X\"], df_score_view_noqc[\"Score View Y\"], c=colors_with_error)\n",
    "plt.xlabel('x')\n",
    "plt.ylabel('y')\n",
    "plt.legend(handles=[\n",
    "    plt.Line2D([0], [0], marker='o', color='w', label='LC', markerfacecolor='red', markersize=10),\n",
    "    plt.Line2D([0], [0], marker='o', color='w', label='MC', markerfacecolor='green', markersize=10),\n",
    "    plt.Line2D([0], [0], marker='o', color='w', label='HC', markerfacecolor='orange', markersize=10),\n",
    "], title='Legend')\n",
    "plt.title('PCA View')\n",
    "plt.show()"
   ]
  },
  {
   "cell_type": "markdown",
   "metadata": {},
   "source": [
    "### SVM"
   ]
  },
  {
   "cell_type": "code",
   "execution_count": 282,
   "metadata": {},
   "outputs": [
    {
     "name": "stderr",
     "output_type": "stream",
     "text": [
      "/Users/bvs/opt/anaconda3/envs/AI4Omics/lib/python3.9/site-packages/sklearn/metrics/_classification.py:2394: UserWarning: y_pred contains classes not in y_true\n",
      "  warnings.warn(\"y_pred contains classes not in y_true\")\n",
      "/Users/bvs/opt/anaconda3/envs/AI4Omics/lib/python3.9/site-packages/sklearn/metrics/_classification.py:2394: UserWarning: y_pred contains classes not in y_true\n",
      "  warnings.warn(\"y_pred contains classes not in y_true\")\n",
      "/Users/bvs/opt/anaconda3/envs/AI4Omics/lib/python3.9/site-packages/sklearn/metrics/_classification.py:2394: UserWarning: y_pred contains classes not in y_true\n",
      "  warnings.warn(\"y_pred contains classes not in y_true\")\n",
      "/Users/bvs/opt/anaconda3/envs/AI4Omics/lib/python3.9/site-packages/sklearn/metrics/_classification.py:2394: UserWarning: y_pred contains classes not in y_true\n",
      "  warnings.warn(\"y_pred contains classes not in y_true\")\n",
      "/Users/bvs/opt/anaconda3/envs/AI4Omics/lib/python3.9/site-packages/sklearn/metrics/_classification.py:2394: UserWarning: y_pred contains classes not in y_true\n",
      "  warnings.warn(\"y_pred contains classes not in y_true\")\n",
      "/Users/bvs/opt/anaconda3/envs/AI4Omics/lib/python3.9/site-packages/sklearn/metrics/_classification.py:2394: UserWarning: y_pred contains classes not in y_true\n",
      "  warnings.warn(\"y_pred contains classes not in y_true\")\n",
      "/Users/bvs/opt/anaconda3/envs/AI4Omics/lib/python3.9/site-packages/sklearn/metrics/_classification.py:2394: UserWarning: y_pred contains classes not in y_true\n",
      "  warnings.warn(\"y_pred contains classes not in y_true\")\n",
      "/Users/bvs/opt/anaconda3/envs/AI4Omics/lib/python3.9/site-packages/sklearn/metrics/_classification.py:2394: UserWarning: y_pred contains classes not in y_true\n",
      "  warnings.warn(\"y_pred contains classes not in y_true\")\n",
      "/Users/bvs/opt/anaconda3/envs/AI4Omics/lib/python3.9/site-packages/sklearn/metrics/_classification.py:2394: UserWarning: y_pred contains classes not in y_true\n",
      "  warnings.warn(\"y_pred contains classes not in y_true\")\n",
      "/Users/bvs/opt/anaconda3/envs/AI4Omics/lib/python3.9/site-packages/sklearn/metrics/_classification.py:2394: UserWarning: y_pred contains classes not in y_true\n",
      "  warnings.warn(\"y_pred contains classes not in y_true\")\n",
      "/Users/bvs/opt/anaconda3/envs/AI4Omics/lib/python3.9/site-packages/sklearn/metrics/_classification.py:2394: UserWarning: y_pred contains classes not in y_true\n",
      "  warnings.warn(\"y_pred contains classes not in y_true\")\n",
      "/Users/bvs/opt/anaconda3/envs/AI4Omics/lib/python3.9/site-packages/sklearn/metrics/_classification.py:2394: UserWarning: y_pred contains classes not in y_true\n",
      "  warnings.warn(\"y_pred contains classes not in y_true\")\n"
     ]
    },
    {
     "name": "stdout",
     "output_type": "stream",
     "text": [
      "L'accuracy è:  78.87323943661971 %\n",
      "La balanced_accuracy è:  78.87323943661971 %\n"
     ]
    },
    {
     "name": "stderr",
     "output_type": "stream",
     "text": [
      "/Users/bvs/opt/anaconda3/envs/AI4Omics/lib/python3.9/site-packages/sklearn/metrics/_classification.py:2394: UserWarning: y_pred contains classes not in y_true\n",
      "  warnings.warn(\"y_pred contains classes not in y_true\")\n",
      "/Users/bvs/opt/anaconda3/envs/AI4Omics/lib/python3.9/site-packages/sklearn/metrics/_classification.py:2394: UserWarning: y_pred contains classes not in y_true\n",
      "  warnings.warn(\"y_pred contains classes not in y_true\")\n",
      "/Users/bvs/opt/anaconda3/envs/AI4Omics/lib/python3.9/site-packages/sklearn/metrics/_classification.py:2394: UserWarning: y_pred contains classes not in y_true\n",
      "  warnings.warn(\"y_pred contains classes not in y_true\")\n"
     ]
    }
   ],
   "source": [
    "from sklearn.model_selection import LeaveOneOut\n",
    "from sklearn.svm import SVC\n",
    "from sklearn import metrics as mt\n",
    "from imblearn.over_sampling import BorderlineSMOTE\n",
    "\n",
    "loo = LeaveOneOut()\n",
    "\n",
    "performance_scores = []\n",
    "performance_scores_balanced = []\n",
    "i = 0\n",
    "# Itera attraverso i fold\n",
    "for train_index, val_index in loo.split(X_w):\n",
    "    i+=1\n",
    "    train_x_temp, test_x_temp = X_w.iloc[train_index],X_w.iloc[val_index]\n",
    "    train_y_temp, test_y_temp = Y_w.iloc[train_index],Y_w.iloc[val_index]\n",
    "    \n",
    "    # balancing\n",
    "    train_x_temp,train_y_temp = BorderlineSMOTE(random_state=99).fit_resample(train_x_temp,train_y_temp)\n",
    "    \n",
    "    # normalization\n",
    "    mean_temp= train_x_temp.mean(axis=0)\n",
    "    std_temp = train_x_temp.std(axis=0)\n",
    "    train_x_temp = (train_x_temp.sub(mean_temp,axis=1)).div(std_temp,axis=1)\n",
    "\n",
    "    test_x_temp = (test_x_temp.sub(mean_temp,axis=1)).div(std_temp,axis=1)\n",
    "    \n",
    "    model_svc = SVC(C=0.9,kernel=\"linear\")\n",
    "    model_svc.fit(train_x_temp,train_y_temp)\n",
    "    \n",
    "    predicted_y_temp = model_svc.predict(test_x_temp)\n",
    "    \n",
    "    accuracy_temp = np.round(mt.accuracy_score(test_y_temp,predicted_y_temp)*100,2)\n",
    "    performance_scores.append(accuracy_temp)\n",
    "    balanced_accuracy_temp = np.round(mt.balanced_accuracy_score(test_y_temp,predicted_y_temp)*100,2)\n",
    "    performance_scores_balanced.append(balanced_accuracy_temp)\n",
    "    \n",
    "mean_accuracy_temp = sum(performance_scores)/i\n",
    "mean_accuracy_balanced_temp = sum(performance_scores_balanced)/i\n",
    "\n",
    "print(\"L'accuracy è: \", mean_accuracy_temp, \"%\\nLa balanced_accuracy è: \", mean_accuracy_balanced_temp,\"%\")\n",
    "\n",
    "all_performance.append({\"SVM\":{\"Validation\": {\"BorderlineSMOTE\":mean_accuracy_balanced_temp}}})"
   ]
  },
  {
   "cell_type": "markdown",
   "metadata": {},
   "source": [
    "Try on Test"
   ]
  },
  {
   "cell_type": "code",
   "execution_count": 283,
   "metadata": {},
   "outputs": [
    {
     "data": {
      "text/plain": [
       "65.08"
      ]
     },
     "execution_count": 283,
     "metadata": {},
     "output_type": "execute_result"
    }
   ],
   "source": [
    "predicted_y_test = model_svc.predict(x_test_centered_pca)\n",
    "balanced_accuracy = np.round(mt.balanced_accuracy_score(y_test,predicted_y_test)*100,2)\n",
    "all_performance[1][\"SVM\"][\"Test\"]= {\"BorderlineSMOTE\":balanced_accuracy}\n",
    "balanced_accuracy"
   ]
  },
  {
   "cell_type": "markdown",
   "metadata": {},
   "source": [
    "Show Error in SVM"
   ]
  },
  {
   "cell_type": "code",
   "execution_count": 284,
   "metadata": {},
   "outputs": [
    {
     "name": "stdout",
     "output_type": "stream",
     "text": [
      "Gli errori vengono commessi sul campione:  [ 17  83  84  85  87  98  99 101]\n"
     ]
    },
    {
     "data": {
      "image/png": "[encoded data removed]",
      "text/plain": [
       "<Figure size 640x480 with 1 Axes>"
      ]
     },
     "metadata": {},
     "output_type": "display_data"
    }
   ],
   "source": [
    "show_error_svm = pd.DataFrame({\"Predict\":predicted_y_test, \"Real\":y_test})\n",
    "errors_name = show_error_svm[show_error_svm[\"Predict\"] != show_error_svm[\"Real\"]].index\n",
    "errors_name\n",
    "\n",
    "error_index = (df_score_view_noqc[df_score_view_noqc[\"Sample\"].isin(errors_name)].index) - 7\n",
    "print(\"Gli errori vengono commessi sul campione: \",error_index.values)\n",
    "colors_with_error = colors_after_drop.copy()\n",
    "colors_with_error = np.delete(colors_with_error,[0,1,2,3,4,5,6])\n",
    "colors_with_error[error_index] = \"black\"\n",
    "\n",
    "plt.scatter(df_score_view_noqc[\"Score View X\"], df_score_view_noqc[\"Score View Y\"], c=colors_with_error)\n",
    "plt.xlabel('x')\n",
    "plt.ylabel('y')\n",
    "plt.legend(handles=[\n",
    "    plt.Line2D([0], [0], marker='o', color='w', label='LC', markerfacecolor='red', markersize=10),\n",
    "    plt.Line2D([0], [0], marker='o', color='w', label='MC', markerfacecolor='green', markersize=10),\n",
    "    plt.Line2D([0], [0], marker='o', color='w', label='HC', markerfacecolor='orange', markersize=10),\n",
    "], title='Legend')\n",
    "plt.title('PCA View')\n",
    "plt.show()"
   ]
  },
  {
   "cell_type": "markdown",
   "metadata": {},
   "source": [
    "## Random Forests"
   ]
  },
  {
   "cell_type": "code",
   "execution_count": 285,
   "metadata": {},
   "outputs": [
    {
     "name": "stderr",
     "output_type": "stream",
     "text": [
      "/Users/bvs/opt/anaconda3/envs/AI4Omics/lib/python3.9/site-packages/sklearn/metrics/_classification.py:2394: UserWarning: y_pred contains classes not in y_true\n",
      "  warnings.warn(\"y_pred contains classes not in y_true\")\n",
      "/Users/bvs/opt/anaconda3/envs/AI4Omics/lib/python3.9/site-packages/sklearn/metrics/_classification.py:2394: UserWarning: y_pred contains classes not in y_true\n",
      "  warnings.warn(\"y_pred contains classes not in y_true\")\n",
      "/Users/bvs/opt/anaconda3/envs/AI4Omics/lib/python3.9/site-packages/sklearn/metrics/_classification.py:2394: UserWarning: y_pred contains classes not in y_true\n",
      "  warnings.warn(\"y_pred contains classes not in y_true\")\n",
      "/Users/bvs/opt/anaconda3/envs/AI4Omics/lib/python3.9/site-packages/sklearn/metrics/_classification.py:2394: UserWarning: y_pred contains classes not in y_true\n",
      "  warnings.warn(\"y_pred contains classes not in y_true\")\n",
      "/Users/bvs/opt/anaconda3/envs/AI4Omics/lib/python3.9/site-packages/sklearn/metrics/_classification.py:2394: UserWarning: y_pred contains classes not in y_true\n",
      "  warnings.warn(\"y_pred contains classes not in y_true\")\n",
      "/Users/bvs/opt/anaconda3/envs/AI4Omics/lib/python3.9/site-packages/sklearn/metrics/_classification.py:2394: UserWarning: y_pred contains classes not in y_true\n",
      "  warnings.warn(\"y_pred contains classes not in y_true\")\n",
      "/Users/bvs/opt/anaconda3/envs/AI4Omics/lib/python3.9/site-packages/sklearn/metrics/_classification.py:2394: UserWarning: y_pred contains classes not in y_true\n",
      "  warnings.warn(\"y_pred contains classes not in y_true\")\n",
      "/Users/bvs/opt/anaconda3/envs/AI4Omics/lib/python3.9/site-packages/sklearn/metrics/_classification.py:2394: UserWarning: y_pred contains classes not in y_true\n",
      "  warnings.warn(\"y_pred contains classes not in y_true\")\n",
      "/Users/bvs/opt/anaconda3/envs/AI4Omics/lib/python3.9/site-packages/sklearn/metrics/_classification.py:2394: UserWarning: y_pred contains classes not in y_true\n",
      "  warnings.warn(\"y_pred contains classes not in y_true\")\n",
      "/Users/bvs/opt/anaconda3/envs/AI4Omics/lib/python3.9/site-packages/sklearn/metrics/_classification.py:2394: UserWarning: y_pred contains classes not in y_true\n",
      "  warnings.warn(\"y_pred contains classes not in y_true\")\n",
      "/Users/bvs/opt/anaconda3/envs/AI4Omics/lib/python3.9/site-packages/sklearn/metrics/_classification.py:2394: UserWarning: y_pred contains classes not in y_true\n",
      "  warnings.warn(\"y_pred contains classes not in y_true\")\n",
      "/Users/bvs/opt/anaconda3/envs/AI4Omics/lib/python3.9/site-packages/sklearn/metrics/_classification.py:2394: UserWarning: y_pred contains classes not in y_true\n",
      "  warnings.warn(\"y_pred contains classes not in y_true\")\n",
      "/Users/bvs/opt/anaconda3/envs/AI4Omics/lib/python3.9/site-packages/sklearn/metrics/_classification.py:2394: UserWarning: y_pred contains classes not in y_true\n",
      "  warnings.warn(\"y_pred contains classes not in y_true\")\n",
      "/Users/bvs/opt/anaconda3/envs/AI4Omics/lib/python3.9/site-packages/sklearn/metrics/_classification.py:2394: UserWarning: y_pred contains classes not in y_true\n",
      "  warnings.warn(\"y_pred contains classes not in y_true\")\n"
     ]
    },
    {
     "name": "stdout",
     "output_type": "stream",
     "text": [
      "L'accuracy è:  78.87323943661971 %\n",
      "La balanced_accuracy è:  78.87323943661971 %\n"
     ]
    },
    {
     "name": "stderr",
     "output_type": "stream",
     "text": [
      "/Users/bvs/opt/anaconda3/envs/AI4Omics/lib/python3.9/site-packages/sklearn/metrics/_classification.py:2394: UserWarning: y_pred contains classes not in y_true\n",
      "  warnings.warn(\"y_pred contains classes not in y_true\")\n"
     ]
    }
   ],
   "source": [
    "from sklearn.ensemble import RandomForestClassifier\n",
    "from sklearn import metrics as mt\n",
    "from sklearn.model_selection import LeaveOneOut\n",
    "from imblearn.over_sampling import BorderlineSMOTE\n",
    "\n",
    "loo = LeaveOneOut()\n",
    "\n",
    "performance_scores = []\n",
    "performance_scores_balanced = []\n",
    "i = 0\n",
    "\n",
    "for train_index, val_index in loo.split(X_w):\n",
    "    i+=1\n",
    "    train_x_temp, test_x_temp = X_w.iloc[train_index],X_w.iloc[val_index]\n",
    "    train_y_temp, test_y_temp = Y_w.iloc[train_index],Y_w.iloc[val_index]\n",
    "    \n",
    "    train_x_temp,train_y_temp = BorderlineSMOTE(random_state=99).fit_resample(train_x_temp,train_y_temp)\n",
    "    \n",
    "    # normalizzazione\n",
    "    mean_temp = train_x_temp.mean(axis=0)\n",
    "    std_temp = train_x_temp.std(axis=0)\n",
    "    train_x_temp = (train_x_temp.sub(mean_temp,axis=1)).div(std_temp,axis=1)\n",
    "\n",
    "    test_x_temp = (test_x_temp.sub(mean_temp,axis=1)).div(std_temp,axis=1)\n",
    "    \n",
    "    rf_model = RandomForestClassifier(n_estimators=200, random_state=3, max_depth=22, n_jobs=4)\n",
    "    rf_model.fit(train_x_temp, train_y_temp)\n",
    "    predicted_y_temp = rf_model.predict(test_x_temp)\n",
    "    \n",
    "    accuracy_temp = np.round(mt.accuracy_score(test_y_temp,predicted_y_temp)*100,2)\n",
    "    performance_scores.append(accuracy_temp)\n",
    "    balanced_accuracy_temp = np.round(mt.balanced_accuracy_score(test_y_temp,predicted_y_temp)*100,2)\n",
    "    performance_scores_balanced.append(balanced_accuracy_temp)\n",
    "    \n",
    "mean_accuracy_temp = sum(performance_scores)/i\n",
    "mean_accuracy_balanced_temp = sum(performance_scores_balanced)/i\n",
    "\n",
    "print(\"L'accuracy è: \", mean_accuracy_temp, \"%\\nLa balanced_accuracy è: \", mean_accuracy_balanced_temp,\"%\")\n",
    "\n",
    "all_performance.append({\"Random Forests\":{\"Validation\": {\"BorderlineSMOTE\":mean_accuracy_balanced_temp}}})"
   ]
  },
  {
   "cell_type": "markdown",
   "metadata": {},
   "source": [
    "Try on Test"
   ]
  },
  {
   "cell_type": "code",
   "execution_count": 286,
   "metadata": {},
   "outputs": [
    {
     "data": {
      "text/plain": [
       "66.67"
      ]
     },
     "execution_count": 286,
     "metadata": {},
     "output_type": "execute_result"
    }
   ],
   "source": [
    "predicted_y_test = rf_model.predict(x_test_centered_pca)\n",
    "balanced_accuracy = np.round(mt.balanced_accuracy_score(y_test,predicted_y_test)*100,2)\n",
    "all_performance[2][\"Random Forests\"][\"Test\"]= {\"BorderlineSMOTE\":balanced_accuracy}\n",
    "balanced_accuracy"
   ]
  },
  {
   "cell_type": "markdown",
   "metadata": {},
   "source": [
    "Show Error in Random Forests"
   ]
  },
  {
   "cell_type": "code",
   "execution_count": 287,
   "metadata": {},
   "outputs": [
    {
     "name": "stdout",
     "output_type": "stream",
     "text": [
      "Gli errori vengono commessi sul campione:  [ 83  84  85  87  98  99 101]\n"
     ]
    },
    {
     "data": {
      "image/png": "[encoded data removed]",
      "text/plain": [
       "<Figure size 640x480 with 1 Axes>"
      ]
     },
     "metadata": {},
     "output_type": "display_data"
    }
   ],
   "source": [
    "show_error_rf = pd.DataFrame({\"Predict\":predicted_y_test, \"Real\":y_test})\n",
    "errors_name = show_error_rf[show_error_rf[\"Predict\"] != show_error_rf[\"Real\"]].index\n",
    "errors_name\n",
    "\n",
    "error_index = (df_score_view_noqc[df_score_view_noqc[\"Sample\"].isin(errors_name)].index) - 7\n",
    "print(\"Gli errori vengono commessi sul campione: \",error_index.values)\n",
    "colors_with_error = colors_after_drop.copy()\n",
    "colors_with_error = np.delete(colors_with_error,[0,1,2,3,4,5,6])\n",
    "colors_with_error[error_index] = \"black\"\n",
    "\n",
    "plt.scatter(df_score_view_noqc[\"Score View X\"], df_score_view_noqc[\"Score View Y\"], c=colors_with_error)\n",
    "plt.xlabel('x')\n",
    "plt.ylabel('y')\n",
    "plt.legend(handles=[\n",
    "    plt.Line2D([0], [0], marker='o', color='w', label='LC', markerfacecolor='red', markersize=10),\n",
    "    plt.Line2D([0], [0], marker='o', color='w', label='MC', markerfacecolor='green', markersize=10),\n",
    "    plt.Line2D([0], [0], marker='o', color='w', label='HC', markerfacecolor='orange', markersize=10),\n",
    "], title='Legend')\n",
    "plt.title('PCA View')\n",
    "plt.show()"
   ]
  },
  {
   "cell_type": "markdown",
   "metadata": {},
   "source": [
    "## Write on File"
   ]
  },
  {
   "cell_type": "code",
   "execution_count": 288,
   "metadata": {},
   "outputs": [],
   "source": [
    "import json\n",
    "file_path = \"output_lipidoma_models.txt\"\n",
    "with open(file_path, \"a\") as file:\n",
    "    json.dump(all_performance, file, indent=4)"
   ]
  }
 ],
 "metadata": {
  "kernelspec": {
   "display_name": "AI4Omics",
   "language": "python",
   "name": "python3"
  },
  "language_info": {
   "codemirror_mode": {
    "name": "ipython",
    "version": 3
   },
   "file_extension": ".py",
   "mimetype": "text/x-python",
   "name": "python",
   "nbconvert_exporter": "python",
   "pygments_lexer": "ipython3",
   "version": "3.9.18"
  }
 },
 "nbformat": 4,
 "nbformat_minor": 2
}
